{
 "cells": [
  {
   "cell_type": "code",
   "execution_count": 1,
   "metadata": {},
   "outputs": [],
   "source": [
    "%load_ext autoreload\n",
    "%autoreload 2\n",
    "%matplotlib inline\n",
    "import scipy.io as sio\n",
    "from dataclasses import dataclass\n",
    "from typing import List, Tuple\n",
    "import os\n",
    "from dotenv import load_dotenv\n",
    "load_dotenv()\n",
    "import tidy3d as td\n",
    "from tidy3d import web\n",
    "import numpy as np\n",
    "from pathlib import Path\n",
    "import matplotlib.pyplot as plt\n",
    "from scipy.optimize import curve_fit\n",
    "from natsort import natsorted\n",
    "import numpy as np\n",
    "import matplotlib.animation as animation\n",
    "import xarray as xr\n",
    "import imageio\n",
    "import matplotlib\n",
    "import gc\n",
    "import sys\n",
    "\n",
    "# Assuming /AutomationModule is in the root directory of your project\n",
    "sys.path.append(os.path.abspath(rf'H:\\phd stuff\\tidy3d'))\n",
    "\n",
    "from AutomationModule import * \n",
    "\n",
    "import AutomationModule as AM\n",
    "\n",
    "tidy3dAPI = os.environ[\"API_TIDY3D_KEY\"]"
   ]
  },
  {
   "cell_type": "code",
   "execution_count": 2,
   "metadata": {},
   "outputs": [],
   "source": [
    "a=1"
   ]
  },
  {
   "cell_type": "code",
   "execution_count": 3,
   "metadata": {},
   "outputs": [
    {
     "name": "stdout",
     "output_type": "stream",
     "text": [
      "Configured successfully.\n",
      "Folder F:\\2D SHU Chi Statistics\\data\\10_04_2024 Beam Spreading Tight Bandwidth Periodic Conditions L=12/movies/chi_0.35_N_10000_posics Beam Spreading 0.28 - 0.31 - Sample_4 50.0ps L=12a.txt/linPics created successfully.\n"
     ]
    }
   ],
   "source": [
    "# folder = rf\"H:\\phd stuff\\tidy3d\\data\\10_07_2024 Beam Spreading Broad Bandwidth Periodic Conditions Freq Domain\"\n",
    "folder = rf\"H:\\phd stuff\\tidy3d\\data\\10_04_2024 Beam Spreading Tight Bandwidth Periodic Conditions L=12\"\n",
    "       \n",
    "data = []\n",
    "files_to_download = []\n",
    "for item in os.listdir(folder):\n",
    "    chi_path = os.path.join(folder, item)\n",
    "    for i,item2 in enumerate(natsorted(os.listdir(chi_path))):\n",
    "        chi_freq_folder=os.path.join(chi_path, item2)\n",
    "        for j,item3 in enumerate(natsorted(os.listdir(chi_freq_folder))):\n",
    "            file=os.path.join(chi_freq_folder, item3)\n",
    "            if item3 in [\"chi_0.35_N_10000_posics Beam Spreading 0.28 - 0.31 - Sample_4 50.0ps L=12a.txt\"]:\n",
    "                sim_result=AM.loadFromFile(key=tidy3dAPI, file_path=file, save_path=rf\"F:\\2D SHU Chi Statistics\", only_download=False, get_ref=False).sim_data\n",
    "                AM.create_movie(sim_result, monitor_lambdas = np.array([0.14 - 0.18]),name='Spreading',type='t',log=False,path=rf\"F:\\2D SHU Chi Statistics\\data\\10_04_2024 Beam Spreading Tight Bandwidth Periodic Conditions L=12/movies/{item3}\",frames_per_second=10,rem_frames=False, normalize=True, a=1)\n",
    "\n",
    "            # sim_result = (AM.loadFromFile(key = tidy3dAPI, file_path=file, save_path=rf\"F:\\2D SHU Chi Statistics\",only_download=True))\n",
    "            # data += [{\"data\":sim_result, \"filename\":item3}]\n",
    "\n",
    "# def download_file(file):\n",
    "#     try:\n",
    "#         AM.loadFromFile(key=tidy3dAPI, file_path=file, save_path=rf\"F:\\2D SHU Chi Statistics\", only_download=False, get_ref=False).sim_data\n",
    "#     except:\n",
    "#         print(file)\n",
    "#     return False"
   ]
  },
  {
   "cell_type": "code",
   "execution_count": 4,
   "metadata": {},
   "outputs": [],
   "source": [
    "# from concurrent.futures import ThreadPoolExecutor, as_completed\n",
    "\n",
    "# # Execute the download in parallel using ThreadPoolExecutor\n",
    "# with ThreadPoolExecutor() as executor:\n",
    "#     # Submit all file download tasks to the executor\n",
    "#     future_to_file = [executor.submit(download_file, file) for file in files_to_download]\n"
   ]
  },
  {
   "cell_type": "code",
   "execution_count": null,
   "metadata": {},
   "outputs": [],
   "source": []
  }
 ],
 "metadata": {
  "kernelspec": {
   "display_name": "Python 3",
   "language": "python",
   "name": "python3"
  },
  "language_info": {
   "codemirror_mode": {
    "name": "ipython",
    "version": 3
   },
   "file_extension": ".py",
   "mimetype": "text/x-python",
   "name": "python",
   "nbconvert_exporter": "python",
   "pygments_lexer": "ipython3",
   "version": "3.12.4"
  }
 },
 "nbformat": 4,
 "nbformat_minor": 2
}
