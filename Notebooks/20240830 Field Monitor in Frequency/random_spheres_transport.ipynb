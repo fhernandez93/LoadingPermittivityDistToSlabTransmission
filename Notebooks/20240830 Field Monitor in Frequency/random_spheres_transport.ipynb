{
 "cells": [
  {
   "cell_type": "code",
   "execution_count": 1,
   "metadata": {},
   "outputs": [],
   "source": [
    "%load_ext autoreload\n",
    "%autoreload 2\n",
    "%matplotlib inline\n",
    "import scipy.io as sio\n",
    "from dataclasses import dataclass\n",
    "from typing import List, Tuple\n",
    "import os\n",
    "from dotenv import load_dotenv\n",
    "load_dotenv()\n",
    "import tidy3d as td\n",
    "from tidy3d import web\n",
    "import numpy as np\n",
    "from pathlib import Path\n",
    "from stl import mesh\n",
    "import matplotlib.pyplot as plt"
   ]
  },
  {
   "cell_type": "code",
   "execution_count": 2,
   "metadata": {},
   "outputs": [],
   "source": [
    "import sys\n",
    "import os\n",
    "\n",
    "# Assuming /AutomationModule is in the root directory of your project\n",
    "sys.path.append(os.path.abspath(r'H:\\phd stuff\\tidy3d'))\n",
    "\n",
    "from AutomationModule import * \n",
    "\n",
    "import AutomationModule as AM\n",
    "tidy3dAPI = os.environ[\"API_TIDY3D_KEY\"]"
   ]
  },
  {
   "cell_type": "code",
   "execution_count": 3,
   "metadata": {},
   "outputs": [],
   "source": [
    "run=True\n",
    "project_name = \"09_05_2024 Freq Monitors Analysis Divergence\"\n",
    "sim_name = \"PEC Spheres L=18 r=5_3 Tidy Example\""
   ]
  },
  {
   "cell_type": "code",
   "execution_count": 4,
   "metadata": {},
   "outputs": [],
   "source": [
    "a=5/3\n",
    "lambdas = a/np.array([0.35,0.5]) "
   ]
  },
  {
   "cell_type": "code",
   "execution_count": 5,
   "metadata": {},
   "outputs": [
    {
     "name": "stdout",
     "output_type": "stream",
     "text": [
      "Configured successfully.\n"
     ]
    }
   ],
   "source": [
    "structure_1 = AM.loadAndRunStructure(key = tidy3dAPI, file_path=rf\"H:\\phd stuff\\tidy3d\\structures\\08_13_2024 Luis H5 18.01a\\sample 2\"\n",
    "                                            ,direction=\"z\", lambda_range=lambdas,\n",
    "                                            box_size=18*a,runtime_ps=1e-12,min_steps_per_lambda=30, permittivity=11,\n",
    "                                           scaling=1,shuoff_condtion=1e-15, verbose=True, \n",
    "                                           monitors=[\"flux\"], freqs=25, \n",
    "                                           cut_condition=1.0, source=\"planewave\", absorbers=120, use_permittivity=False,\n",
    "                                           ref_only=True\n",
    "                                           )"
   ]
  },
  {
   "cell_type": "code",
   "execution_count": 6,
   "metadata": {},
   "outputs": [],
   "source": [
    "# parameters that are constant for all the simulations\n",
    "wavelength = 3.54\n",
    "freq0 = structure_1.freq0\n",
    "grids_pw = 15\n",
    "npml = 2 * grids_pw\n",
    "random_seed = 1\n",
    "\n",
    "# Define grid spec\n",
    "dl = wavelength / grids_pw\n",
    "grid_spec = td.GridSpec.auto(min_steps_per_wvl=grids_pw)\n",
    "    \n",
    "# Define PML layers, for this we have no PML in x, y but `npml` cells in z\n",
    "periodic_bc = td.Boundary(plus=td.Periodic(), minus=td.Periodic())\n",
    "pml = td.Boundary(plus=td.Absorber(num_layers=npml), minus=td.Absorber(num_layers=npml))\n",
    "boundary_spec = td.BoundarySpec(x=periodic_bc, y=periodic_bc, z=pml)"
   ]
  },
  {
   "cell_type": "code",
   "execution_count": 7,
   "metadata": {},
   "outputs": [],
   "source": [
    "@dataclass\n",
    "class SimulationParameters:\n",
    "    \"\"\"Stores parameters for a given simulation.\"\"\"\n",
    "    f0a : any            # Array of frequencies to scan via FFT (in units of freq0)\n",
    "    Lx : float                   # Length of slab in x\n",
    "    Ly : float                   # Length of slab in y\n",
    "    Lz : float                   # Length of slab in z\n",
    "    space : float                # Space between PML and slab\n",
    "    fwidth : float               # Bandwidth of the excitation pulse in Hz\n",
    "    offset : float               # Gaussian source offset; the source peak is at time t = offset/fwidth\n",
    "    run_time : float             # Run time of simulation (sec)\n",
    "    ff0 : float                  # Nominal volume filling fraction, actual filling fraction is lower due to overlap between spheres\n",
    "    radius : float               # Radius of spheres (um)\n",
    "    material : str               # type of material to use for spheres. \"dielectric\" or \"PEC\"\n",
    "    subpixel : td.SubpixelSpec   # subpixel smoothening spec to be used\n",
    "    sim_mode : str               # Mode of simulation (\"transmission\" or \"beam_spreading\")\n",
    "    task_name : str              # Name of the task in tidy3d\n",
    "    ref_ind : float = None       # Refractive index of the spheres, needed if material == 'dielectric'    \n",
    "    Nt: int = 1                  # Number of snapshots in the field time dependence monitor"
   ]
  },
  {
   "cell_type": "code",
   "execution_count": 8,
   "metadata": {},
   "outputs": [],
   "source": [
    "def get_mediums(sim_params: SimulationParameters) -> Tuple[td.Medium, td.Medium]:\n",
    "    \"\"\"Get the mediums corresponding to the spheres and the background, respectively.\"\"\"\n",
    "\n",
    "    if sim_params.material == \"dielectric\":\n",
    "        if sim_params.ref_ind is None:\n",
    "            raise ValueError(\"must specify SimulationParameters.ref_ind\")            \n",
    "        ff_appx = 1 - np.exp(-sim_params.ff0)\n",
    "        medium_spheres = td.Medium(permittivity=sim_params.ref_ind**2)\n",
    "        medium_out = td.Medium(permittivity=1 + (sim_params.ref_ind**2 - 1) * ff_appx)\n",
    "    \n",
    "    elif sim_params.material == \"PEC\":\n",
    "        medium_spheres = td.PEC\n",
    "        medium_out = td.Medium(permittivity=1)  \n",
    "\n",
    "    else:\n",
    "        raise ValueError(f\"unrecognized 'material' of {sim_params.material}\")\n",
    "\n",
    "    return medium_spheres, medium_out"
   ]
  },
  {
   "cell_type": "code",
   "execution_count": 9,
   "metadata": {},
   "outputs": [],
   "source": [
    "sim_params = SimulationParameters(\n",
    "    Lx = 18*a,\n",
    "    Ly = 18*a,\n",
    "    Lz = 18*a,\n",
    "    space = 2 * wavelength,\n",
    "    radius = (5/3)/2,\n",
    "    # ff0 = 0.35,\n",
    "    ff0 = 0.8,\n",
    "    fwidth = structure_1.freqw,\n",
    "    offset = 0,\n",
    "    run_time = 30e-12,\n",
    "    f0a =structure_1.monitor_freqs,\n",
    "    # material = \"dielectric\",\n",
    "    material = \"PEC\",\n",
    "    ref_ind =None,\n",
    "    # ref_ind = np.sqrt(13),\n",
    "    subpixel = td.SubpixelSpec(),\n",
    "    sim_mode = \"transmission\",\n",
    "    task_name = \"PEC_transmission\",\n",
    "    # task_name = \"dielectric_transmission\",\n",
    ")"
   ]
  },
  {
   "cell_type": "code",
   "execution_count": 10,
   "metadata": {},
   "outputs": [],
   "source": [
    "# # 2. Transmittance simulation (PEC spheres)\n",
    "# sim_params = SimulationParameters(\n",
    "#     Lx = 6 * wavelength,\n",
    "#     Ly = 6 * wavelength,\n",
    "#     Lz = 2 * wavelength,\n",
    "#     space = 2 * wavelength,\n",
    "#     radius = 0.05,\n",
    "#     ff0 = 0.80,\n",
    "#     fwidth = freq0 / 7.0,\n",
    "#     offset = 10.0,\n",
    "#     run_time = 10e-12,\n",
    "#     f0a = np.linspace(0.8, 1.2, 201).tolist(),\n",
    "#     material = \"PEC\",\n",
    "#     ref_ind = None,\n",
    "#     subpixel = td.SubpixelSpec(),\n",
    "#     sim_mode = \"transmission\",\n",
    "#     task_name = \"PEC_transmission\",\n",
    "# )"
   ]
  },
  {
   "cell_type": "code",
   "execution_count": 11,
   "metadata": {},
   "outputs": [
    {
     "name": "stdout",
     "output_type": "stream",
     "text": [
      "inserting 1.047900e+04 spheres\n"
     ]
    },
    {
     "data": {
      "text/html": [
       "<pre style=\"white-space:pre;overflow-x:auto;line-height:normal;font-family:Menlo,'DejaVu Sans Mono',consolas,'Courier New',monospace\"><span style=\"color: #7fbfbf; text-decoration-color: #7fbfbf\">10:11:48 W. Europe Daylight Time </span><span style=\"color: #800000; text-decoration-color: #800000\">WARNING: The monitor </span><span style=\"color: #008000; text-decoration-color: #008000\">'interval'</span><span style=\"color: #800000; text-decoration-color: #800000\"> field was left </span>\n",
       "<span style=\"color: #7fbfbf; text-decoration-color: #7fbfbf\">                                 </span><span style=\"color: #800000; text-decoration-color: #800000\">as its default value, which will set it to </span><span style=\"color: #008080; text-decoration-color: #008080; font-weight: bold\">1</span><span style=\"color: #800000; text-decoration-color: #800000\">   </span>\n",
       "<span style=\"color: #7fbfbf; text-decoration-color: #7fbfbf\">                                 </span><span style=\"color: #800000; text-decoration-color: #800000\">internally. A value of </span><span style=\"color: #008080; text-decoration-color: #008080; font-weight: bold\">1</span><span style=\"color: #800000; text-decoration-color: #800000\"> means that the data   </span>\n",
       "<span style=\"color: #7fbfbf; text-decoration-color: #7fbfbf\">                                 </span><span style=\"color: #800000; text-decoration-color: #800000\">will be sampled at every time step, which may  </span>\n",
       "<span style=\"color: #7fbfbf; text-decoration-color: #7fbfbf\">                                 </span><span style=\"color: #800000; text-decoration-color: #800000\">potentially produce more data than desired,    </span>\n",
       "<span style=\"color: #7fbfbf; text-decoration-color: #7fbfbf\">                                 </span><span style=\"color: #800000; text-decoration-color: #800000\">depending on the use case. To reduce data      </span>\n",
       "<span style=\"color: #7fbfbf; text-decoration-color: #7fbfbf\">                                 </span><span style=\"color: #800000; text-decoration-color: #800000\">storage, one may downsample the data by setting</span>\n",
       "<span style=\"color: #7fbfbf; text-decoration-color: #7fbfbf\">                                 </span><span style=\"color: #008000; text-decoration-color: #008000\">'interval &gt; 1'</span><span style=\"color: #800000; text-decoration-color: #800000\"> or by choosing alternative      </span>\n",
       "<span style=\"color: #7fbfbf; text-decoration-color: #7fbfbf\">                                 </span><span style=\"color: #008000; text-decoration-color: #008000\">'start'</span><span style=\"color: #800000; text-decoration-color: #800000\"> and </span><span style=\"color: #008000; text-decoration-color: #008000\">'stop'</span><span style=\"color: #800000; text-decoration-color: #800000\"> values for the time         </span>\n",
       "<span style=\"color: #7fbfbf; text-decoration-color: #7fbfbf\">                                 </span><span style=\"color: #800000; text-decoration-color: #800000\">sampling. If you intended to use the highest   </span>\n",
       "<span style=\"color: #7fbfbf; text-decoration-color: #7fbfbf\">                                 </span><span style=\"color: #800000; text-decoration-color: #800000\">resolution time sampling, you may suppress this</span>\n",
       "<span style=\"color: #7fbfbf; text-decoration-color: #7fbfbf\">                                 </span><span style=\"color: #800000; text-decoration-color: #800000\">warning by explicitly setting </span><span style=\"color: #008000; text-decoration-color: #008000\">'interval=1'</span><span style=\"color: #800000; text-decoration-color: #800000\"> in  </span>\n",
       "<span style=\"color: #7fbfbf; text-decoration-color: #7fbfbf\">                                 </span><span style=\"color: #800000; text-decoration-color: #800000\">the monitor.                                   </span>\n",
       "</pre>\n"
      ],
      "text/plain": [
       "\u001b[2;36m10:11:48 W. Europe Daylight Time\u001b[0m\u001b[2;36m \u001b[0m\u001b[31mWARNING: The monitor \u001b[0m\u001b[32m'interval'\u001b[0m\u001b[31m field was left \u001b[0m\n",
       "\u001b[2;36m                                 \u001b[0m\u001b[31mas its default value, which will set it to \u001b[0m\u001b[1;36m1\u001b[0m\u001b[31m   \u001b[0m\n",
       "\u001b[2;36m                                 \u001b[0m\u001b[31minternally. A value of \u001b[0m\u001b[1;36m1\u001b[0m\u001b[31m means that the data   \u001b[0m\n",
       "\u001b[2;36m                                 \u001b[0m\u001b[31mwill be sampled at every time step, which may  \u001b[0m\n",
       "\u001b[2;36m                                 \u001b[0m\u001b[31mpotentially produce more data than desired,    \u001b[0m\n",
       "\u001b[2;36m                                 \u001b[0m\u001b[31mdepending on the use case. To reduce data      \u001b[0m\n",
       "\u001b[2;36m                                 \u001b[0m\u001b[31mstorage, one may downsample the data by setting\u001b[0m\n",
       "\u001b[2;36m                                 \u001b[0m\u001b[32m'interval > 1'\u001b[0m\u001b[31m or by choosing alternative      \u001b[0m\n",
       "\u001b[2;36m                                 \u001b[0m\u001b[32m'start'\u001b[0m\u001b[31m and \u001b[0m\u001b[32m'stop'\u001b[0m\u001b[31m values for the time         \u001b[0m\n",
       "\u001b[2;36m                                 \u001b[0m\u001b[31msampling. If you intended to use the highest   \u001b[0m\n",
       "\u001b[2;36m                                 \u001b[0m\u001b[31mresolution time sampling, you may suppress this\u001b[0m\n",
       "\u001b[2;36m                                 \u001b[0m\u001b[31mwarning by explicitly setting \u001b[0m\u001b[32m'\u001b[0m\u001b[32minterval\u001b[0m\u001b[32m=\u001b[0m\u001b[32m1\u001b[0m\u001b[32m'\u001b[0m\u001b[31m in  \u001b[0m\n",
       "\u001b[2;36m                                 \u001b[0m\u001b[31mthe monitor.                                   \u001b[0m\n"
      ]
     },
     "metadata": {},
     "output_type": "display_data"
    }
   ],
   "source": [
    "medium_spheres, medium_out = get_mediums(sim_params)\n",
    "\n",
    "Lx = sim_params.Lx\n",
    "Ly = sim_params.Ly\n",
    "Lz = sim_params.Lz\n",
    "radius = sim_params.radius\n",
    "space = sim_params.space\n",
    "run_time = sim_params.run_time\n",
    "Lz_tot = 2 * space + Lz\n",
    "sim_size = [Lx, Ly, Lz_tot]\n",
    "# number of spheres to place = slab volume * nominal_density\n",
    "expanded_volume = (Lx + 2 * radius) * (Ly + 2 * radius) * (Lz + 2 * radius)\n",
    "nominal_density = sim_params.ff0 / (4 * np.pi / 3 * radius**3)\n",
    "num_spheres = int(expanded_volume * nominal_density)\n",
    "# Randomly position spheres\n",
    "np.random.seed(random_seed)\n",
    "sphere_geometries = []\n",
    "print(f\"inserting {num_spheres:2e} spheres\")\n",
    "for i in range(num_spheres):\n",
    "    position_x = np.random.uniform(-Lx / 2 - radius, Lx / 2 + radius)\n",
    "    position_y = np.random.uniform(-Ly / 2 - radius, Ly / 2 + radius)\n",
    "    position_z = np.random.uniform(-Lz / 2 - radius, Lz / 2 + radius)\n",
    "    sphere_i = td.Sphere(\n",
    "        center=[position_x, position_y, position_z],\n",
    "        radius=radius\n",
    "    )\n",
    "    sphere_geometries.append(sphere_i)\n",
    "\n",
    "spheres = td.Structure(\n",
    "    geometry=td.GeometryGroup(geometries=sphere_geometries),\n",
    "    medium=medium_spheres\n",
    ")\n",
    "# Define effective medium around the slab\n",
    "box_in = td.Box(center=[0, 0, -Lz / 2 - space], size=[td.inf, td.inf, 2 * space])\n",
    "box_out = td.Box(center=[0, 0, Lz / 2 + space], size=[td.inf, td.inf, 2 * space])\n",
    "struct_in = td.Structure(geometry=box_in, medium=medium_out)\n",
    "struct_out = td.Structure(geometry=box_out, medium=medium_out)\n",
    "structures = [spheres, struct_in, struct_out]\n",
    "# Define incident plane wave\n",
    "gaussian = td.GaussianPulse(\n",
    "    freq0=freq0,\n",
    "    fwidth=sim_params.fwidth,\n",
    ")\n",
    "\n",
    "if sim_params.sim_mode == \"transmission\":\n",
    "    source_size = (td.inf, td.inf, 0)\n",
    "elif sim_params.sim_mode == \"beam_spreading\":\n",
    "    source_size = (0.25, 0.25, 0.0)\n",
    "else:\n",
    "    raise ValueError(f\"sim_mode of {sim_params.sim_mode} not recognized.\")\n",
    "# angle of polarization w.r.t. to the x axis (x-polarized)\n",
    "source = td.PlaneWave(\n",
    "    size=source_size,\n",
    "    center=(0, 0, -Lz_tot / 2.0 + 0.1),\n",
    "    source_time=gaussian,\n",
    "    direction=\"+\",\n",
    "    pol_angle=0,\n",
    ")\n",
    "freqs_fft = (np.array(sim_params.f0a)).tolist()\n",
    "# Records CW (via FFT) transmitted flux through the slab\n",
    "freq_monitorT = td.FluxMonitor(\n",
    "    center=[0.0, 0.0, Lz / 2.0 + space / 2.0],\n",
    "    size=[td.inf, td.inf, 0],\n",
    "    freqs=freqs_fft,\n",
    "    name=\"freq_monitorT\",\n",
    ")\n",
    "# Records time-dependent transmitted flux through the slab\n",
    "time_monitorT = td.FluxTimeMonitor(\n",
    "    center=[0.0, 0.0, Lz / 2.0 + space / 2.0],\n",
    "    size=[td.inf, td.inf, 0],\n",
    "    name=\"time_monitorT\",\n",
    ")\n",
    "\n",
    "\n",
    "freq_monitorField = td.FieldMonitor(\n",
    "                center = (0,0,0),\n",
    "                size = (\n",
    "                    Lx,Ly,Lz\n",
    "                    ),\n",
    "                    fields=[\"Ex\",\"Ey\",\"Ez\"],\n",
    "                    freqs =freqs_fft,\n",
    "                    name=\"freq_monitorField\",\n",
    "                    \n",
    "                )\n",
    "  \n",
    "\n",
    "N_run_time = int(sim_params.run_time / (0.99 * wavelength / (grids_pw * td.C_0 * np.sqrt(3))))\n",
    "# Records E-fields at the output surface at Nt equally spaced times from 0 to run_time\n",
    "spread_monitor = td.FieldTimeMonitor(\n",
    "    center=[0.0, 0.0, Lz / 2.0 + 2 * wavelength / grids_pw],\n",
    "    size=[td.inf, td.inf, 0.0],\n",
    "    start=0.4 * run_time,\n",
    "    stop=0.9 * run_time,\n",
    "    interval=int(N_run_time / sim_params.Nt),\n",
    "    fields=[\"Ex\", \"Ey\", \"Ez\"],\n",
    "    name=\"spread_monitor\",\n",
    ")\n",
    "\n",
    "# Records permittivity throughout simulation volume\n",
    "eps_monitor = td.PermittivityMonitor(\n",
    "    center=[0.0, 0.0, 0.0],\n",
    "    size=[td.inf, td.inf, Lz + wavelength],\n",
    "    freqs=[freq0],\n",
    "    name=\"eps_monitor\",\n",
    ")\n",
    "monitors = [freq_monitorT, time_monitorT,freq_monitorField]\n",
    "\n",
    "\n",
    "# Define simulation parameters     \n",
    "sim = td.Simulation(\n",
    "    size=sim_size,\n",
    "    grid_spec=grid_spec,\n",
    "    structures=structures,\n",
    "    sources=[source],\n",
    "    monitors=monitors,\n",
    "    run_time=run_time,\n",
    "    boundary_spec=boundary_spec,\n",
    "    shutoff=1e-15,\n",
    "    subpixel=sim_params.subpixel,\n",
    ")"
   ]
  },
  {
   "cell_type": "code",
   "execution_count": 12,
   "metadata": {},
   "outputs": [
    {
     "data": {
      "text/html": [
       "<pre style=\"white-space:pre;overflow-x:auto;line-height:normal;font-family:Menlo,'DejaVu Sans Mono',consolas,'Courier New',monospace\"><span style=\"color: #7fbfbf; text-decoration-color: #7fbfbf\">10:11:50 W. Europe Daylight Time </span>Created task <span style=\"color: #008000; text-decoration-color: #008000\">'PEC Spheres L=18 r=5_3 Tidy </span>     \n",
       "<span style=\"color: #7fbfbf; text-decoration-color: #7fbfbf\">                                 </span><span style=\"color: #008000; text-decoration-color: #008000\">Example'</span> with task_id                          \n",
       "<span style=\"color: #7fbfbf; text-decoration-color: #7fbfbf\">                                 </span><span style=\"color: #008000; text-decoration-color: #008000\">'fdve-df21814f-f6f8-44d0-b2b1-2bd380c9c89c'</span> and\n",
       "<span style=\"color: #7fbfbf; text-decoration-color: #7fbfbf\">                                 </span>task_type <span style=\"color: #008000; text-decoration-color: #008000\">'FDTD'</span>.                              \n",
       "</pre>\n"
      ],
      "text/plain": [
       "\u001b[2;36m10:11:50 W. Europe Daylight Time\u001b[0m\u001b[2;36m \u001b[0mCreated task \u001b[32m'PEC Spheres \u001b[0m\u001b[32mL\u001b[0m\u001b[32m=\u001b[0m\u001b[32m18\u001b[0m\u001b[32m \u001b[0m\u001b[32mr\u001b[0m\u001b[32m=\u001b[0m\u001b[32m5_3\u001b[0m\u001b[32m Tidy \u001b[0m     \n",
       "\u001b[2;36m                                 \u001b[0m\u001b[32mExample'\u001b[0m with task_id                          \n",
       "\u001b[2;36m                                 \u001b[0m\u001b[32m'fdve-df21814f-f6f8-44d0-b2b1-2bd380c9c89c'\u001b[0m and\n",
       "\u001b[2;36m                                 \u001b[0mtask_type \u001b[32m'FDTD'\u001b[0m.                              \n"
      ]
     },
     "metadata": {},
     "output_type": "display_data"
    },
    {
     "data": {
      "text/html": [
       "<pre style=\"white-space:pre;overflow-x:auto;line-height:normal;font-family:Menlo,'DejaVu Sans Mono',consolas,'Courier New',monospace\"><span style=\"color: #7fbfbf; text-decoration-color: #7fbfbf\">                                 </span>View task using web UI at                      \n",
       "<span style=\"color: #7fbfbf; text-decoration-color: #7fbfbf\">                                 </span><a href=\"https://tidy3d.simulation.cloud/workbench?taskId=fdve-df21814f-f6f8-44d0-b2b1-2bd380c9c89c\" target=\"_blank\"><span style=\"color: #008000; text-decoration-color: #008000\">'https://tidy3d.simulation.cloud/workbench?task</span></a>\n",
       "<span style=\"color: #7fbfbf; text-decoration-color: #7fbfbf\">                                 </span><a href=\"https://tidy3d.simulation.cloud/workbench?taskId=fdve-df21814f-f6f8-44d0-b2b1-2bd380c9c89c\" target=\"_blank\"><span style=\"color: #008000; text-decoration-color: #008000\">Id=fdve-df21814f-f6f8-44d0-b2b1-2bd380c9c89c'</span></a>. \n",
       "</pre>\n"
      ],
      "text/plain": [
       "\u001b[2;36m                                \u001b[0m\u001b[2;36m \u001b[0mView task using web UI at                      \n",
       "\u001b[2;36m                                 \u001b[0m\u001b]8;id=820669;https://tidy3d.simulation.cloud/workbench?taskId=fdve-df21814f-f6f8-44d0-b2b1-2bd380c9c89c\u001b\\\u001b[32m'https://tidy3d.simulation.cloud/workbench?\u001b[0m\u001b]8;;\u001b\\\u001b]8;id=393125;https://tidy3d.simulation.cloud/workbench?taskId=fdve-df21814f-f6f8-44d0-b2b1-2bd380c9c89c\u001b\\\u001b[32mtask\u001b[0m\u001b]8;;\u001b\\\n",
       "\u001b[2;36m                                 \u001b[0m\u001b]8;id=393125;https://tidy3d.simulation.cloud/workbench?taskId=fdve-df21814f-f6f8-44d0-b2b1-2bd380c9c89c\u001b\\\u001b[32mId\u001b[0m\u001b]8;;\u001b\\\u001b]8;id=820669;https://tidy3d.simulation.cloud/workbench?taskId=fdve-df21814f-f6f8-44d0-b2b1-2bd380c9c89c\u001b\\\u001b[32m=\u001b[0m\u001b]8;;\u001b\\\u001b]8;id=395044;https://tidy3d.simulation.cloud/workbench?taskId=fdve-df21814f-f6f8-44d0-b2b1-2bd380c9c89c\u001b\\\u001b[32mfdve\u001b[0m\u001b]8;;\u001b\\\u001b]8;id=820669;https://tidy3d.simulation.cloud/workbench?taskId=fdve-df21814f-f6f8-44d0-b2b1-2bd380c9c89c\u001b\\\u001b[32m-df21814f-f6f8-44d0-b2b1-2bd380c9c89c'\u001b[0m\u001b]8;;\u001b\\. \n"
      ]
     },
     "metadata": {},
     "output_type": "display_data"
    },
    {
     "data": {
      "application/vnd.jupyter.widget-view+json": {
       "model_id": "ce4c2eaeec1649b4a304f3d6c828d449",
       "version_major": 2,
       "version_minor": 0
      },
      "text/plain": [
       "Output()"
      ]
     },
     "metadata": {},
     "output_type": "display_data"
    },
    {
     "data": {
      "text/html": [
       "<pre style=\"white-space:pre;overflow-x:auto;line-height:normal;font-family:Menlo,'DejaVu Sans Mono',consolas,'Courier New',monospace\"></pre>\n"
      ],
      "text/plain": []
     },
     "metadata": {},
     "output_type": "display_data"
    },
    {
     "data": {
      "text/html": [
       "<pre style=\"white-space:pre;overflow-x:auto;line-height:normal;font-family:Menlo,'DejaVu Sans Mono',consolas,'Courier New',monospace\">\n",
       "</pre>\n"
      ],
      "text/plain": [
       "\n"
      ]
     },
     "metadata": {},
     "output_type": "display_data"
    },
    {
     "data": {
      "text/html": [
       "<pre style=\"white-space:pre;overflow-x:auto;line-height:normal;font-family:Menlo,'DejaVu Sans Mono',consolas,'Courier New',monospace\"><span style=\"color: #7fbfbf; text-decoration-color: #7fbfbf\">10:11:54 W. Europe Daylight Time </span>status = queued                                \n",
       "</pre>\n"
      ],
      "text/plain": [
       "\u001b[2;36m10:11:54 W. Europe Daylight Time\u001b[0m\u001b[2;36m \u001b[0mstatus = queued                                \n"
      ]
     },
     "metadata": {},
     "output_type": "display_data"
    },
    {
     "data": {
      "text/html": [
       "<pre style=\"white-space:pre;overflow-x:auto;line-height:normal;font-family:Menlo,'DejaVu Sans Mono',consolas,'Courier New',monospace\"><span style=\"color: #7fbfbf; text-decoration-color: #7fbfbf\">                                 </span>To cancel the simulation, use                  \n",
       "<span style=\"color: #7fbfbf; text-decoration-color: #7fbfbf\">                                 </span><span style=\"color: #008000; text-decoration-color: #008000\">'web.abort(task_id)'</span> or <span style=\"color: #008000; text-decoration-color: #008000\">'web.delete(task_id)'</span>  \n",
       "<span style=\"color: #7fbfbf; text-decoration-color: #7fbfbf\">                                 </span>or abort/delete the task in the web UI.        \n",
       "<span style=\"color: #7fbfbf; text-decoration-color: #7fbfbf\">                                 </span>Terminating the Python script will not stop the\n",
       "<span style=\"color: #7fbfbf; text-decoration-color: #7fbfbf\">                                 </span>job running on the cloud.                      \n",
       "</pre>\n"
      ],
      "text/plain": [
       "\u001b[2;36m                                \u001b[0m\u001b[2;36m \u001b[0mTo cancel the simulation, use                  \n",
       "\u001b[2;36m                                 \u001b[0m\u001b[32m'web.abort\u001b[0m\u001b[32m(\u001b[0m\u001b[32mtask_id\u001b[0m\u001b[32m)\u001b[0m\u001b[32m'\u001b[0m or \u001b[32m'web.delete\u001b[0m\u001b[32m(\u001b[0m\u001b[32mtask_id\u001b[0m\u001b[32m)\u001b[0m\u001b[32m'\u001b[0m  \n",
       "\u001b[2;36m                                 \u001b[0mor abort/delete the task in the web UI.        \n",
       "\u001b[2;36m                                 \u001b[0mTerminating the Python script will not stop the\n",
       "\u001b[2;36m                                 \u001b[0mjob running on the cloud.                      \n"
      ]
     },
     "metadata": {},
     "output_type": "display_data"
    },
    {
     "data": {
      "application/vnd.jupyter.widget-view+json": {
       "model_id": "0ddcefda4866441b9716d761f8c95841",
       "version_major": 2,
       "version_minor": 0
      },
      "text/plain": [
       "Output()"
      ]
     },
     "metadata": {},
     "output_type": "display_data"
    },
    {
     "data": {
      "text/html": [
       "<pre style=\"white-space:pre;overflow-x:auto;line-height:normal;font-family:Menlo,'DejaVu Sans Mono',consolas,'Courier New',monospace\"><span style=\"color: #7fbfbf; text-decoration-color: #7fbfbf\">10:12:08 W. Europe Daylight Time </span>status = preprocess                            \n",
       "</pre>\n"
      ],
      "text/plain": [
       "\u001b[2;36m10:12:08 W. Europe Daylight Time\u001b[0m\u001b[2;36m \u001b[0mstatus = preprocess                            \n"
      ]
     },
     "metadata": {},
     "output_type": "display_data"
    },
    {
     "data": {
      "text/html": [
       "<pre style=\"white-space:pre;overflow-x:auto;line-height:normal;font-family:Menlo,'DejaVu Sans Mono',consolas,'Courier New',monospace\"></pre>\n"
      ],
      "text/plain": []
     },
     "metadata": {},
     "output_type": "display_data"
    },
    {
     "data": {
      "text/html": [
       "<pre style=\"white-space:pre;overflow-x:auto;line-height:normal;font-family:Menlo,'DejaVu Sans Mono',consolas,'Courier New',monospace\"><span style=\"color: #7fbfbf; text-decoration-color: #7fbfbf\">10:12:11 W. Europe Daylight Time </span>Maximum FlexCredit cost: <span style=\"color: #008080; text-decoration-color: #008080; font-weight: bold\">0.210</span>. Use            \n",
       "<span style=\"color: #7fbfbf; text-decoration-color: #7fbfbf\">                                 </span><span style=\"color: #008000; text-decoration-color: #008000\">'web.real_cost(task_id)'</span> to get the billed     \n",
       "<span style=\"color: #7fbfbf; text-decoration-color: #7fbfbf\">                                 </span>FlexCredit cost after a simulation run.        \n",
       "</pre>\n"
      ],
      "text/plain": [
       "\u001b[2;36m10:12:11 W. Europe Daylight Time\u001b[0m\u001b[2;36m \u001b[0mMaximum FlexCredit cost: \u001b[1;36m0.210\u001b[0m. Use            \n",
       "\u001b[2;36m                                 \u001b[0m\u001b[32m'web.real_cost\u001b[0m\u001b[32m(\u001b[0m\u001b[32mtask_id\u001b[0m\u001b[32m)\u001b[0m\u001b[32m'\u001b[0m to get the billed     \n",
       "\u001b[2;36m                                 \u001b[0mFlexCredit cost after a simulation run.        \n"
      ]
     },
     "metadata": {},
     "output_type": "display_data"
    },
    {
     "data": {
      "text/html": [
       "<pre style=\"white-space:pre;overflow-x:auto;line-height:normal;font-family:Menlo,'DejaVu Sans Mono',consolas,'Courier New',monospace\"><span style=\"color: #7fbfbf; text-decoration-color: #7fbfbf\">                                 </span>starting up solver                             \n",
       "</pre>\n"
      ],
      "text/plain": [
       "\u001b[2;36m                                \u001b[0m\u001b[2;36m \u001b[0mstarting up solver                             \n"
      ]
     },
     "metadata": {},
     "output_type": "display_data"
    },
    {
     "data": {
      "text/html": [
       "<pre style=\"white-space:pre;overflow-x:auto;line-height:normal;font-family:Menlo,'DejaVu Sans Mono',consolas,'Courier New',monospace\"><span style=\"color: #7fbfbf; text-decoration-color: #7fbfbf\">                                 </span>running solver                                 \n",
       "</pre>\n"
      ],
      "text/plain": [
       "\u001b[2;36m                                \u001b[0m\u001b[2;36m \u001b[0mrunning solver                                 \n"
      ]
     },
     "metadata": {},
     "output_type": "display_data"
    },
    {
     "data": {
      "application/vnd.jupyter.widget-view+json": {
       "model_id": "68aa7532f898401aa04d443b9ab08615",
       "version_major": 2,
       "version_minor": 0
      },
      "text/plain": [
       "Output()"
      ]
     },
     "metadata": {},
     "output_type": "display_data"
    },
    {
     "data": {
      "text/html": [
       "<pre style=\"white-space:pre;overflow-x:auto;line-height:normal;font-family:Menlo,'DejaVu Sans Mono',consolas,'Courier New',monospace\"></pre>\n"
      ],
      "text/plain": []
     },
     "metadata": {},
     "output_type": "display_data"
    },
    {
     "data": {
      "text/html": [
       "<pre style=\"white-space:pre;overflow-x:auto;line-height:normal;font-family:Menlo,'DejaVu Sans Mono',consolas,'Courier New',monospace\">\n",
       "</pre>\n"
      ],
      "text/plain": [
       "\n"
      ]
     },
     "metadata": {},
     "output_type": "display_data"
    },
    {
     "data": {
      "application/vnd.jupyter.widget-view+json": {
       "model_id": "df358c1425a84a94a0b2d42c9f0613fc",
       "version_major": 2,
       "version_minor": 0
      },
      "text/plain": [
       "Output()"
      ]
     },
     "metadata": {},
     "output_type": "display_data"
    },
    {
     "data": {
      "text/html": [
       "<pre style=\"white-space:pre;overflow-x:auto;line-height:normal;font-family:Menlo,'DejaVu Sans Mono',consolas,'Courier New',monospace\"><span style=\"color: #7fbfbf; text-decoration-color: #7fbfbf\">10:12:45 W. Europe Daylight Time </span>status = postprocess                           \n",
       "</pre>\n"
      ],
      "text/plain": [
       "\u001b[2;36m10:12:45 W. Europe Daylight Time\u001b[0m\u001b[2;36m \u001b[0mstatus = postprocess                           \n"
      ]
     },
     "metadata": {},
     "output_type": "display_data"
    },
    {
     "data": {
      "text/html": [
       "<pre style=\"white-space:pre;overflow-x:auto;line-height:normal;font-family:Menlo,'DejaVu Sans Mono',consolas,'Courier New',monospace\"><span style=\"color: #7fbfbf; text-decoration-color: #7fbfbf\">10:13:01 W. Europe Daylight Time </span>status = success                               \n",
       "</pre>\n"
      ],
      "text/plain": [
       "\u001b[2;36m10:13:01 W. Europe Daylight Time\u001b[0m\u001b[2;36m \u001b[0mstatus = success                               \n"
      ]
     },
     "metadata": {},
     "output_type": "display_data"
    },
    {
     "data": {
      "text/html": [
       "<pre style=\"white-space:pre;overflow-x:auto;line-height:normal;font-family:Menlo,'DejaVu Sans Mono',consolas,'Courier New',monospace\"></pre>\n"
      ],
      "text/plain": []
     },
     "metadata": {},
     "output_type": "display_data"
    },
    {
     "data": {
      "text/html": [
       "<pre style=\"white-space:pre;overflow-x:auto;line-height:normal;font-family:Menlo,'DejaVu Sans Mono',consolas,'Courier New',monospace\"><span style=\"color: #7fbfbf; text-decoration-color: #7fbfbf\">10:13:02 W. Europe Daylight Time </span>View simulation result at                      \n",
       "<span style=\"color: #7fbfbf; text-decoration-color: #7fbfbf\">                                 </span><a href=\"https://tidy3d.simulation.cloud/workbench?taskId=fdve-df21814f-f6f8-44d0-b2b1-2bd380c9c89c\" target=\"_blank\"><span style=\"color: #000080; text-decoration-color: #000080; text-decoration: underline\">'https://tidy3d.simulation.cloud/workbench?task</span></a>\n",
       "<span style=\"color: #7fbfbf; text-decoration-color: #7fbfbf\">                                 </span><a href=\"https://tidy3d.simulation.cloud/workbench?taskId=fdve-df21814f-f6f8-44d0-b2b1-2bd380c9c89c\" target=\"_blank\"><span style=\"color: #000080; text-decoration-color: #000080; text-decoration: underline\">Id=fdve-df21814f-f6f8-44d0-b2b1-2bd380c9c89c'</span></a><span style=\"color: #000080; text-decoration-color: #000080; text-decoration: underline\">.</span> \n",
       "</pre>\n"
      ],
      "text/plain": [
       "\u001b[2;36m10:13:02 W. Europe Daylight Time\u001b[0m\u001b[2;36m \u001b[0mView simulation result at                      \n",
       "\u001b[2;36m                                 \u001b[0m\u001b]8;id=907828;https://tidy3d.simulation.cloud/workbench?taskId=fdve-df21814f-f6f8-44d0-b2b1-2bd380c9c89c\u001b\\\u001b[4;34m'https://tidy3d.simulation.cloud/workbench?\u001b[0m\u001b]8;;\u001b\\\u001b]8;id=230746;https://tidy3d.simulation.cloud/workbench?taskId=fdve-df21814f-f6f8-44d0-b2b1-2bd380c9c89c\u001b\\\u001b[4;34mtask\u001b[0m\u001b]8;;\u001b\\\n",
       "\u001b[2;36m                                 \u001b[0m\u001b]8;id=230746;https://tidy3d.simulation.cloud/workbench?taskId=fdve-df21814f-f6f8-44d0-b2b1-2bd380c9c89c\u001b\\\u001b[4;34mId\u001b[0m\u001b]8;;\u001b\\\u001b]8;id=907828;https://tidy3d.simulation.cloud/workbench?taskId=fdve-df21814f-f6f8-44d0-b2b1-2bd380c9c89c\u001b\\\u001b[4;34m=\u001b[0m\u001b]8;;\u001b\\\u001b]8;id=345133;https://tidy3d.simulation.cloud/workbench?taskId=fdve-df21814f-f6f8-44d0-b2b1-2bd380c9c89c\u001b\\\u001b[4;34mfdve\u001b[0m\u001b]8;;\u001b\\\u001b]8;id=907828;https://tidy3d.simulation.cloud/workbench?taskId=fdve-df21814f-f6f8-44d0-b2b1-2bd380c9c89c\u001b\\\u001b[4;34m-df21814f-f6f8-44d0-b2b1-2bd380c9c89c'\u001b[0m\u001b]8;;\u001b\\\u001b[4;34m.\u001b[0m \n"
      ]
     },
     "metadata": {},
     "output_type": "display_data"
    },
    {
     "name": "stdout",
     "output_type": "stream",
     "text": [
      "Folder '09_05_2024 Freq Monitors Analysis Divergence/z_incidence' created successfully.\n"
     ]
    }
   ],
   "source": [
    "if run:\n",
    "        id0 = \"\"\n",
    "        if False:\n",
    "            print(\"running ref...\")\n",
    "            id0 = web.upload(sim.copy(update={\"structures\":[],\"medium\":medium_eff}), folder_name=project_name,task_name=sim_name+'_0', verbose=True)\n",
    "            web.start(task_id = id0)\n",
    "            web.monitor(task_id=id0,verbose=True)\n",
    "            add_ref=False\n",
    "\n",
    "        id =web.upload(sim, folder_name=project_name,task_name=sim_name, verbose=True)\n",
    "        web.start(task_id = id)\n",
    "        web.monitor(task_id=id,verbose=True)\n",
    "    \n",
    "        ids = (id0 if id0 else '') +'\\n' + id\n",
    "        incidence_folder = \"z_incidence\"\n",
    "        file_path = rf\"H:\\phd stuff\\tidy3d\\data/{project_name}/{incidence_folder}/{sim_name}.txt\"\n",
    "        # Check if the folder exists\n",
    "        if not os.path.exists( rf\"H:\\phd stuff\\tidy3d\\data/{project_name}/{incidence_folder}\"):\n",
    "            os.makedirs(rf\"H:\\phd stuff\\tidy3d\\data/{project_name}/{incidence_folder}\")\n",
    "            print(f\"Folder '{project_name}/{incidence_folder}' created successfully.\")\n",
    "\n",
    "        # Open file in write mode\n",
    "        with open(file_path, \"w\") as file:\n",
    "            # Write the string to the file\n",
    "            file.write(ids)\n"
   ]
  }
 ],
 "metadata": {
  "kernelspec": {
   "display_name": "Python 3",
   "language": "python",
   "name": "python3"
  },
  "language_info": {
   "codemirror_mode": {
    "name": "ipython",
    "version": 3
   },
   "file_extension": ".py",
   "mimetype": "text/x-python",
   "name": "python",
   "nbconvert_exporter": "python",
   "pygments_lexer": "ipython3",
   "version": "3.12.4"
  }
 },
 "nbformat": 4,
 "nbformat_minor": 2
}
