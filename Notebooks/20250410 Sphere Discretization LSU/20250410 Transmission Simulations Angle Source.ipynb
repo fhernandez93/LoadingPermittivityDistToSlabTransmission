{
 "cells": [
  {
   "cell_type": "code",
   "execution_count": null,
   "metadata": {},
   "outputs": [],
   "source": [
    "%load_ext autoreload\n",
    "%autoreload 2\n",
    "%matplotlib inline\n",
    "import scipy.io as sio\n",
    "from dataclasses import dataclass\n",
    "from typing import List, Tuple\n",
    "import os\n",
    "from dotenv import load_dotenv\n",
    "load_dotenv()\n",
    "import tidy3d as td\n",
    "from tidy3d import web\n",
    "import numpy as np\n",
    "from pathlib import Path\n",
    "from stl import mesh\n",
    "import matplotlib.pyplot as plt"
   ]
  },
  {
   "cell_type": "code",
   "execution_count": null,
   "metadata": {},
   "outputs": [],
   "source": [
    "import sys\n",
    "import os\n",
    "\n",
    "# Assuming /AutomationModule is in the root directory of your project\n",
    "sys.path.append(os.path.abspath(fr'H:\\phd stuff\\tidy3d'))\n",
    "\n",
    "from AutomationModule import * \n",
    "\n",
    "import AutomationModule as AM"
   ]
  },
  {
   "cell_type": "code",
   "execution_count": null,
   "metadata": {},
   "outputs": [],
   "source": [
    "tidy3dAPI = os.environ[\"API_TIDY3D_KEY\"]\n"
   ]
  },
  {
   "cell_type": "code",
   "execution_count": null,
   "metadata": {},
   "outputs": [],
   "source": [
    "def get_sphere(n):\n",
    "    \"\"\"get_sphere(n) discretized a sphere using a Fibonacci lattice with midpoint intertion (and poles added by hand)\n",
    "       input parameters:\n",
    "       n (int) number of points in the discretization (including poles)\n",
    "       returns:       \n",
    "       sphere <class 'scipy.spatial._qhull.ConvexHull'> with points and triangulation according to convex hull\n",
    "              (check https://docs.scipy.org/doc/scipy/reference/generated/scipy.spatial.ConvexHull.html)\n",
    "       phi (numpy array, len=n) array with phi angles \n",
    "       theta (numpy array, len=n) array with theta angles        \n",
    "       \n",
    "       more info in \"Measurement of Areas on a Sphere Using Fibonacci and Latitude–Longitude Lattices\" by\n",
    "        Alvaro Gonzalez, Math Geosci (2010) 42: 49–64, DOI 10.1007/s11004-009-9257-x. \n",
    "        Check also https://extremelearning.com.au/how-to-evenly-distribute-points-on-a-sphere-more-effectively-than-the-canonical-fibonacci-lattice/\n",
    "    \"\"\"\n",
    "    import numpy as np\n",
    "    import scipy.spatial as sp\n",
    "    #Golden ratio\n",
    "    gr=(1.+np.sqrt(5.))/2.\n",
    "    #ng=number of points by Fibonacci lattice with midpoint insertion\n",
    "    ng=n-2\n",
    "    i=np.arange(ng,dtype=int)\n",
    "    phi=np.zeros(n)\n",
    "    theta=np.zeros(n)\n",
    "    phi[1:ng+1]=2*np.pi*i/gr\n",
    "    theta[1:ng+1]=np.arccos(1.-2*(i+0.5)/ng)\n",
    "    #adding poles by hand\n",
    "    phi[0]=0.\n",
    "    theta[0]=0.\n",
    "    phi[n-1]=0.\n",
    "    theta[n-1]=np.pi\n",
    "    #getting Cartesian coordinates\n",
    "    points=np.zeros((n,3))    \n",
    "    sin_arr=np.sin(theta)\n",
    "    points[:,0]=np.cos(phi)*sin_arr\n",
    "    points[:,1]=np.sin(phi)*sin_arr\n",
    "    points[:,2]=np.cos(theta)\n",
    "    #getting convex hull\n",
    "    sphere=sp.ConvexHull(points)\n",
    "    \n",
    "    \n",
    "    return sphere,phi,theta\n"
   ]
  },
  {
   "cell_type": "code",
   "execution_count": null,
   "metadata": {},
   "outputs": [],
   "source": [
    "sphere,phi,theta=get_sphere(1000)"
   ]
  },
  {
   "cell_type": "code",
   "execution_count": null,
   "metadata": {},
   "outputs": [],
   "source": [
    "a = 3.4\n",
    "lambdas = np.array([8,3.5])/0.8\n",
    "# radial distance away from the origin at which to project fields\n",
    "r_proj =  1e6\n",
    "\n",
    "# theta and phi angles at which to observe fields - part of the half-space to the right\n",
    "# theta_proj = np.linspace(0, np.pi/2, 280)\n",
    "# phi_proj = np.linspace(0,2*np.pi, 280)\n",
    "theta_proj=theta\n",
    "phi_proj=phi\n",
    "\n"
   ]
  },
  {
   "cell_type": "code",
   "execution_count": null,
   "metadata": {},
   "outputs": [],
   "source": [
    "folder_path = rf\"H:\\phd stuff\\tidy3d\\structures\\LSU H5\\20250116\"\n",
    "# folder_path = rf\"H:\\phd stuff\\tidy3d\\structures\\LSU H5\\20241208\"\n",
    "project_name = \"20250410 Far Field Transmission LSU 29_ff_5x_size\"\n",
    "runtime_ps = 25e-12\n",
    "min_steps_per_lambda = 20\n",
    "ref = True\n",
    "cuts = [1]\n",
    "h5_bg = None\n",
    "for direction in [\"z\"]: \n",
    "    for f,filename in enumerate(os.listdir(folder_path)):\n",
    "     if filename not in [\"ak4_1000_eps_9p0_phih5_0p30_phiL_0p29.h5\"]:\n",
    "        continue\n",
    "     for cut in cuts:\n",
    "        if not (Path(filename).suffix==\".h5\" or Path(filename).suffix==\".stl\"):\n",
    "            continue \n",
    "        if os.path.isfile(os.path.join(folder_path, filename)):\n",
    "            file=os.path.join(folder_path, filename)\n",
    "            structure_1 = AM.loadAndRunStructure(key = tidy3dAPI, file_path=file\n",
    "                                            ,direction=direction, lambda_range=lambdas,\n",
    "                                            box_size=14.3,runtime_ps=runtime_ps,min_steps_per_lambda=min_steps_per_lambda,\n",
    "                                           scaling=1,shuoff_condtion=1e-20, verbose=True, multiplicate_size=True,multiplication_factor=5,\n",
    "                                           monitors=[\"flux\", \"far_field\"], flux_monitor_position=12.5,cell_size_manual=35,\n",
    "                                           freqs=400, far_field_settings={\"r\":r_proj, \"theta\":theta_proj,\"phi\":phi_proj, \"window_size\":0.25},\n",
    "                                           cut_condition=cut, source=\"gaussian\", gaussian_params={\"waist_radius\":14,\"waist_distance\":-16,\"theta\":22.5*np.pi/180,\"phi\":0, \"position_x\":-19, \"size\":28}, \n",
    "                                           absorbers=130, boundaries= \"absorbers\",\n",
    "                                            use_permittivity=False,sim_name=rf\"{Path(filename).stem}_size_{cut}\" + (rf\"_bg_{h5_bg}\" if h5_bg else \"\"),h5_bg=h5_bg#, ref_only=True\n",
    "                                           )\n",
    "        \n",
    "        file_desc = rf\"H:\\phd stuff\\tidy3d\\data\\{project_name}_perm_{structure_1.permittivity_value}\\z_incidence\\{structure_1.sim_name}.txt\"\n",
    "        if os.path.exists(file_desc):\n",
    "            print(\"Exist!\")\n",
    "        else:\n",
    "           print(\"Creating...\")\n",
    "           structure_1.run_sim(run_free=False,load=False,add_ref=ref,folder_description=rf\"{project_name}_perm_{structure_1.permittivity_value}\",monitor=True)\n",
    "           if ref:\n",
    "              ref = False\n",
    "\n",
    "        del structure_1\n",
    "\n",
    "\n",
    "        # structure_1.estimate_cost()\n",
    "        # structure_1.sim.plot_3d()\n",
    "        # raise Exception\n"
   ]
  },
  {
   "cell_type": "code",
   "execution_count": 8,
   "metadata": {},
   "outputs": [
    {
     "data": {
      "text/plain": [
       "21.029411764705884"
      ]
     },
     "execution_count": 8,
     "metadata": {},
     "output_type": "execute_result"
    }
   ],
   "source": [
    "14.3*5/a"
   ]
  },
  {
   "cell_type": "code",
   "execution_count": null,
   "metadata": {},
   "outputs": [],
   "source": []
  }
 ],
 "metadata": {
  "kernelspec": {
   "display_name": "Python 3",
   "language": "python",
   "name": "python3"
  },
  "language_info": {
   "codemirror_mode": {
    "name": "ipython",
    "version": 3
   },
   "file_extension": ".py",
   "mimetype": "text/x-python",
   "name": "python",
   "nbconvert_exporter": "python",
   "pygments_lexer": "ipython3",
   "version": "3.12.4"
  }
 },
 "nbformat": 4,
 "nbformat_minor": 2
}
