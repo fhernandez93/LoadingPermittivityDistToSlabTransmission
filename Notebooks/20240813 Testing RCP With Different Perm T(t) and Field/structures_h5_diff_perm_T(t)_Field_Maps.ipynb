{
 "cells": [
  {
   "cell_type": "code",
   "execution_count": null,
   "metadata": {},
   "outputs": [],
   "source": [
    "%load_ext autoreload\n",
    "%autoreload 2\n",
    "%matplotlib inline\n",
    "import scipy.io as sio\n",
    "from dataclasses import dataclass\n",
    "from typing import List, Tuple\n",
    "import os\n",
    "from dotenv import load_dotenv\n",
    "load_dotenv()\n",
    "import tidy3d as td\n",
    "from tidy3d import web\n",
    "import numpy as np\n",
    "from pathlib import Path\n",
    "import matplotlib.pyplot as plt"
   ]
  },
  {
   "cell_type": "code",
   "execution_count": null,
   "metadata": {},
   "outputs": [],
   "source": [
    "import sys\n",
    "import os\n",
    "\n",
    "# Assuming /AutomationModule is in the root directory of your project\n",
    "sys.path.append(os.path.abspath(r'H:\\phd stuff\\tidy3d'))\n",
    "\n",
    "from AutomationModule import * \n",
    "\n",
    "import AutomationModule as AM"
   ]
  },
  {
   "cell_type": "code",
   "execution_count": null,
   "metadata": {},
   "outputs": [],
   "source": [
    "tidy3dAPI = os.environ[\"API_TIDY3D_KEY\"]"
   ]
  },
  {
   "cell_type": "code",
   "execution_count": null,
   "metadata": {},
   "outputs": [],
   "source": [
    "a = 5/3"
   ]
  },
  {
   "cell_type": "code",
   "execution_count": null,
   "metadata": {},
   "outputs": [],
   "source": [
    "# lambdas = a/np.array([0.39,0.43])\n",
    "lambdas = a/np.array([0.08,0.10]) \n",
    "# folder_path =r\"H:\\phd stuff\\tidy3d\\structures\\08_13_2024 STL Tests\"\n",
    "folder_path = r\"H:\\phd stuff\\tidy3d\\structures\\08_13_2024 Luis H5 18.01a\\sample 2\"\n",
    "project_name = \"08_16_2024 STL RCP Sample Test Transmission Time\"\n",
    "postprocess_results = []\n",
    "runtime_ps = 65e-12\n",
    "min_steps_per_lambda = 15\n",
    "for direction in [\"z\"]: \n",
    "    sim_name = f\"RCP  {a/lambdas[0]} - {a/lambdas[1]}\"\n",
    "    for filename in os.listdir(folder_path):\n",
    "     for perm in [40]:\n",
    "        print(filename)\n",
    "        if not (Path(filename).suffix==\".h5\" or Path(filename).suffix==\".stl\"):\n",
    "            continue \n",
    "        if os.path.isfile(os.path.join(folder_path, filename)):\n",
    "            file=os.path.join(folder_path, filename)\n",
    "            structure_1 = AM.loadAndRunStructure(key = tidy3dAPI, file_path=file\n",
    "                                            ,direction=direction, lambda_range=lambdas,\n",
    "                                            box_size=18*a,runtime_ps=runtime_ps,min_steps_per_lambda=min_steps_per_lambda, permittivity=perm,use_permittivity=True,\n",
    "                                           scaling=1,shuoff_condtion=1e-20, verbose=True, \n",
    "                                           monitors=[\"flux\",\"time_monitor\",\"time_monitorFieldLateral\"], freqs=200, \n",
    "                                           cut_condition=1.0, source=\"planewave\", absorbers=150, width=0.2, sim_name=sim_name\n",
    "                                           \n",
    "                                           \n",
    "                                           )\n",
    "           \n",
    "            print(structure_1.__str__())\n",
    "            structure_1.plot_sim_layout()\n",
    "            results = structure_1.run_sim(folder_description=project_name,load=False,run_free=False, run=True,add_ref=True)\n",
    "            # print(structure_1.estimate_cost())\n",
    "\n",
    "\n",
    "\n",
    "            \n"
   ]
  },
  {
   "cell_type": "code",
   "execution_count": null,
   "metadata": {},
   "outputs": [],
   "source": []
  }
 ],
 "metadata": {
  "kernelspec": {
   "display_name": "Python 3",
   "language": "python",
   "name": "python3"
  },
  "language_info": {
   "codemirror_mode": {
    "name": "ipython",
    "version": 3
   },
   "file_extension": ".py",
   "mimetype": "text/x-python",
   "name": "python",
   "nbconvert_exporter": "python",
   "pygments_lexer": "ipython3",
   "version": "3.12.4"
  }
 },
 "nbformat": 4,
 "nbformat_minor": 2
}
