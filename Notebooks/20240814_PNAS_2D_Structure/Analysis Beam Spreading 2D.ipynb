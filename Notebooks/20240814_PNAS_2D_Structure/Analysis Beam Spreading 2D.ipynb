{
 "cells": [
  {
   "cell_type": "code",
   "execution_count": null,
   "metadata": {},
   "outputs": [],
   "source": [
    "%load_ext autoreload\n",
    "%autoreload 2\n",
    "%matplotlib inline\n",
    "import scipy.io as sio\n",
    "from dataclasses import dataclass\n",
    "from typing import List, Tuple\n",
    "import os\n",
    "from dotenv import load_dotenv\n",
    "load_dotenv()\n",
    "import tidy3d as td\n",
    "from tidy3d import web\n",
    "import numpy as np\n",
    "from pathlib import Path\n",
    "import matplotlib.pyplot as plt\n",
    "from scipy.optimize import curve_fit\n",
    "from natsort import natsorted\n",
    "import numpy as np\n",
    "import matplotlib.animation as animation\n",
    "import xarray as xr\n",
    "import imageio\n",
    "import matplotlib\n",
    "import gc\n",
    "import sys\n",
    "\n",
    "# Assuming /AutomationModule is in the root directory of your project\n",
    "sys.path.append(os.path.abspath(r'H:\\phd stuff\\tidy3d'))\n",
    "\n",
    "from AutomationModule import * \n",
    "\n",
    "import AutomationModule as AM\n",
    "\n",
    "tidy3dAPI = os.environ[\"API_TIDY3D_KEY\"]"
   ]
  },
  {
   "cell_type": "code",
   "execution_count": null,
   "metadata": {},
   "outputs": [],
   "source": [
    "a=1"
   ]
  },
  {
   "cell_type": "code",
   "execution_count": null,
   "metadata": {},
   "outputs": [],
   "source": [
    "# folder_path = r\"H:\\phd stuff\\tidy3d\\data\\08_23_2024 chi 0.3 N1000 Sample Beam Spreading\\z_incidence\"\n",
    "folder_path = r\"H:\\phd stuff\\tidy3d\\data\\08_14_2024 chi 0.3 N1000 Sample Beam Spreading\\z_incidence\"\n",
    "# folder_path = r\"H:\\phd stuff\\tidy3d\\data\\08_21_2024 chi 0.3 N1000 Sample Beam Spreading\\z_incidence\"\n",
    "# file = \"Beam Spreading 0.12 - 0.15 - Sample_2 20ps.txt\"\n",
    "file = \"Beam Spreading 0.28 - 0.31 - Sample_2 50ps.txt\"\n",
    "data = []\n",
    "for i,filename in enumerate(natsorted(os.listdir(folder_path))):\n",
    "    # if filename == file:\n",
    "        file=os.path.join(folder_path, filename)\n",
    "        sim_result = (AM.loadFromFile(key = tidy3dAPI, file_path=file))\n",
    "        lambdas = 1/sim_result.monitor_lambdas\n",
    "        data += [{\"data\":sim_result,\"lambdas\":lambdas}]"
   ]
  },
  {
   "cell_type": "code",
   "execution_count": null,
   "metadata": {},
   "outputs": [],
   "source": [
    "lambdas"
   ]
  },
  {
   "cell_type": "code",
   "execution_count": null,
   "metadata": {},
   "outputs": [],
   "source": [
    "def create_movie(field_time_out, monitor_lambdas,name='',type='t',log=False,path=\"\",frames_per_second=1,rem_frames=False, normalize=True, a=5/3):\n",
    "    frames = []\n",
    "\n",
    "    max_values = field_time_out.max(axis=(0,1,2)) if normalize else 1\n",
    "\n",
    "    field_time_out = field_time_out/max_values\n",
    "    field_time_out['x'] = field_time_out['x']/a\n",
    "    field_time_out['y'] = field_time_out['y']/a\n",
    "    field_time_out['z'] = field_time_out['z']/a\n",
    "\n",
    "\n",
    "    if log:\n",
    "        field_log = np.log10((field_time_out))\n",
    "        folder_pics = \"logPics\"\n",
    "        \n",
    "    else:\n",
    "        field_log = ((field_time_out))\n",
    "        folder_pics = \"linPics\"\n",
    "\n",
    "    if not os.path.exists(f'{path}/{folder_pics}'):\n",
    "            os.makedirs(f'{path}/{folder_pics}')\n",
    "            print(f\"Folder {path}/{folder_pics} created successfully.\")\n",
    "\n",
    "    for i, time in enumerate(field_time_out.t):\n",
    "        if os.path.isfile(f'{path}/{folder_pics}/frame_{i}.png'):\n",
    "            frames.append(f'{path}/{folder_pics}/frame_{i}.png')\n",
    "            continue\n",
    "        try:\n",
    "            fig, ax = plt.subplots(figsize=(14/2, 18/2))\n",
    "            #fig, ax = plt.subplots(figsize=(12, 6))\n",
    "            if type==\"t\":\n",
    "                pcolormesh = (field_log).isel(t=i).squeeze().plot.pcolormesh(ax=ax,cmap=\"jet\")\n",
    "            else:\n",
    "                pcolormesh = (field_log).isel(f=i).squeeze().plot.pcolormesh(ax=ax,cmap=\"jet\")\n",
    "\n",
    "            ax.set_aspect('auto', adjustable='box')\n",
    "            #plt.ylim(-50,50)\n",
    "            try:\n",
    "                plt.title(f'Time: {str(np.array(field_time_out['t'][()][i])*1e12)} ps')\n",
    "            except:\n",
    "                plt.title(f'$\\\\nu$: {(1/np.array(td.C_0/field_time_out['f'][()][i])):.4g}')\n",
    "\n",
    "\n",
    "            # Save the frame\n",
    "            plt.savefig(f'{path}/{folder_pics}/frame_{i}.png')\n",
    "            plt.close(fig)\n",
    "            frames.append(f'{path}/{folder_pics}/frame_{i}.png')\n",
    "        except:\n",
    "            break\n",
    "        \n",
    "\n",
    "    name_movie = f'{path}/{name}.mp4' if name else f'output/anderson/d(t) analysis/Diameter d(t) at output of the structure Range - {monitor_lambdas[0]:.3g} - {monitor_lambdas[-1]:.3g}.mp4'\n",
    "    with imageio.get_writer(name_movie, fps=frames_per_second) as writer:\n",
    "        for frame in frames:\n",
    "            image = imageio.imread(frame)\n",
    "            writer.append_data(image)\n",
    "\n",
    "    # Optionally, remove the individual frames if no longer needed\n",
    "    if rem_frames:\n",
    "        for frame in frames:\n",
    "            os.remove(frame)\n",
    "    \n",
    "    return False"
   ]
  },
  {
   "cell_type": "code",
   "execution_count": null,
   "metadata": {},
   "outputs": [],
   "source": [
    "for item in data:\n",
    "    item[\"field_time_out\"]=item[\"data\"].sim_data.get_intensity(\"time_monitorFieldOut\")\n",
    "    item[\"field\"] = item[\"field_time_out\"][:,np.where(np.bool_(item[\"field_time_out\"][\"y\"]>=-5) & np.bool_(item[\"field_time_out\"][\"y\"]<=5))[0],:,:]"
   ]
  },
  {
   "cell_type": "code",
   "execution_count": null,
   "metadata": {},
   "outputs": [],
   "source": [
    "# font = {\n",
    "#         'weight' : 'bold',\n",
    "#         'size'   : 6}\n",
    "\n",
    "# matplotlib.rc('font', **font)\n",
    "# create_movie(field_time_out,a/lambdas,name=f\"timemonitor {lambdas[0]:.3g} - {lambdas[-1]:.3g}\",type=\"t\",log=False,path=r\"H:\\phd stuff\\tidy3d\\output/2D SHU/Beam Spreading Chi 0.3 N10000\",frames_per_second=10,normalize=False,a=a)"
   ]
  },
  {
   "cell_type": "code",
   "execution_count": null,
   "metadata": {},
   "outputs": [],
   "source": [
    "# create_movie(field_time_out,a/lambdas,name=f\"timemonitor {lambdas[0]:.3g} - {lambdas[-1]:.3g}\",type=\"t\",log=True,path=r\"H:\\phd stuff\\tidy3d\\output/2D SHU/Beam Spreading Chi 0.3 N10000\",frames_per_second=10,normalize=False,a=a)\n"
   ]
  },
  {
   "cell_type": "code",
   "execution_count": null,
   "metadata": {},
   "outputs": [],
   "source": [
    "# fig, ax = plt.subplots(figsize=(5, 10))\n",
    "# pcolormesh = (field).isel(t=33).squeeze().plot.pcolormesh(ax=ax,cmap=\"jet\")\n",
    "# plt.title(f'Time: {str(np.array(field['t'][()][33])*1e12)} ps')\n",
    "# plt.show()"
   ]
  },
  {
   "cell_type": "code",
   "execution_count": null,
   "metadata": {},
   "outputs": [],
   "source": [
    "import scipy.integrate\n",
    "\n",
    "\n",
    "def PR(intensity_array):\n",
    "    x,y = intensity_array['x'],intensity_array['y']\n",
    "    intensity = intensity_array.values\n",
    "    integral_1 = scipy.integrate.trapezoid(scipy.integrate.trapezoid(intensity, x=y, axis=1), x=x, axis=0)**2\n",
    "    integral_2 = scipy.integrate.trapezoid(scipy.integrate.trapezoid(intensity**2, x=y, axis=1), x=x, axis=0)\n",
    "\n",
    "    return ((integral_1/integral_2))"
   ]
  },
  {
   "cell_type": "code",
   "execution_count": null,
   "metadata": {},
   "outputs": [],
   "source": [
    "def calculate_sigma(intensity_array):\n",
    "    x1,y1 = intensity_array['x'],intensity_array['y']\n",
    "    x,y = np.meshgrid(x1,y1)\n",
    "    rho_squared = x**2 + y**2\n",
    "    sigma_squared=[]\n",
    "    for t in range(np.shape(intensity_array)[2]):\n",
    "        denominator = scipy.integrate.trapezoid(scipy.integrate.trapezoid(intensity_array[:,:,t], x=y1, axis=1), x=x1, axis=0)\n",
    "        numerator = scipy.integrate.trapezoid(scipy.integrate.trapezoid(rho_squared.T*intensity_array[:,:,t], x=y1, axis=1), x=x1, axis=0)\n",
    "        sigma_squared += [numerator / denominator]\n",
    "    \n",
    "    return sigma_squared"
   ]
  },
  {
   "cell_type": "code",
   "execution_count": null,
   "metadata": {},
   "outputs": [],
   "source": [
    "for item in data:\n",
    "\n",
    "    item[\"PR_t\"]= (PR(item[\"field\"]).squeeze())"
   ]
  },
  {
   "cell_type": "code",
   "execution_count": null,
   "metadata": {},
   "outputs": [],
   "source": [
    "for item in data:\n",
    "    item[\"sigma\"] = (calculate_sigma(item[\"field\"][:,:,0,:]))"
   ]
  },
  {
   "cell_type": "code",
   "execution_count": null,
   "metadata": {},
   "outputs": [],
   "source": [
    "def moving_average(x, w=3):\n",
    "    return np.convolve(x, np.ones(w), 'valid') / w"
   ]
  },
  {
   "cell_type": "code",
   "execution_count": null,
   "metadata": {},
   "outputs": [],
   "source": [
    "plt.figure(figsize=(15, 10))\n",
    "\n",
    "for item in data:\n",
    "    # plt.plot((item[\"field_time_out\"][\"t\"]*1e12)[2:],moving_average(item[\"PR_t\"],3), label=rf\"$\\nu$ = {item[\"lambdas\"][0]:.2g} - {item[\"lambdas\"][1]:.2g}\")\n",
    "    plt.plot((item[\"field_time_out\"][\"t\"]*1e12),(item[\"PR_t\"]), label=rf\"$\\nu$ = {item[\"lambdas\"][0]:.2g} - {item[\"lambdas\"][1]:.2g}\")\n",
    "\n",
    "\n",
    "plt.ylabel(\"PR(t)\")\n",
    "plt.xlabel(\"Time[ps]\")\n",
    "plt.title(\"PR(t) at Diffusive and Localized Regimes\")\n",
    "# plt.ylim(0,150)\n",
    "plt.legend()\n",
    "plt.grid()\n",
    "plt.show()"
   ]
  },
  {
   "cell_type": "code",
   "execution_count": null,
   "metadata": {},
   "outputs": [],
   "source": [
    "plt.figure(figsize=(15, 10))\n",
    "\n",
    "for item in data:\n",
    "    plt.plot(item[\"field_time_out\"][\"t\"]*1e12,item[\"sigma\"])\n",
    "plt.show()"
   ]
  },
  {
   "cell_type": "code",
   "execution_count": null,
   "metadata": {},
   "outputs": [],
   "source": []
  }
 ],
 "metadata": {
  "kernelspec": {
   "display_name": "Python 3",
   "language": "python",
   "name": "python3"
  },
  "language_info": {
   "codemirror_mode": {
    "name": "ipython",
    "version": 3
   },
   "file_extension": ".py",
   "mimetype": "text/x-python",
   "name": "python",
   "nbconvert_exporter": "python",
   "pygments_lexer": "ipython3",
   "version": "3.12.4"
  }
 },
 "nbformat": 4,
 "nbformat_minor": 2
}
