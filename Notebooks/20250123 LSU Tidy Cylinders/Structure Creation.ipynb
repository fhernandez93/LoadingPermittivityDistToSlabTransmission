{
 "cells": [
  {
   "cell_type": "code",
   "execution_count": 1,
   "metadata": {},
   "outputs": [],
   "source": [
    "%load_ext autoreload\n",
    "%autoreload 2\n",
    "%matplotlib inline\n",
    "import scipy.io as sio\n",
    "from dataclasses import dataclass\n",
    "from typing import List, Tuple\n",
    "import os\n",
    "from dotenv import load_dotenv\n",
    "load_dotenv()\n",
    "import tidy3d as td\n",
    "from tidy3d import web\n",
    "import numpy as np\n",
    "from pathlib import Path\n",
    "from stl import mesh\n",
    "import matplotlib.pyplot as plt"
   ]
  },
  {
   "cell_type": "code",
   "execution_count": 2,
   "metadata": {},
   "outputs": [],
   "source": [
    "import sys\n",
    "import os\n",
    "\n",
    "# Assuming /AutomationModule is in the root directory of your project\n",
    "sys.path.append(os.path.abspath(r'H:\\phd stuff\\tidy3d'))\n",
    "\n",
    "from AutomationModule import * \n",
    "\n",
    "import AutomationModule as AM"
   ]
  },
  {
   "cell_type": "code",
   "execution_count": 3,
   "metadata": {},
   "outputs": [],
   "source": [
    "def get_coords(multiplication_factor,t_slab_x,t_slab_y,t_slab_z):\n",
    "    x_size,y_size,z_size = t_slab_x/multiplication_factor,t_slab_y/multiplication_factor,t_slab_z\n",
    "    coordinates_slabs=[]\n",
    "    for i in range(multiplication_factor):\n",
    "        for j in range(multiplication_factor):\n",
    "            center_x = (i - ( multiplication_factor/ 2) + 0.5) * x_size\n",
    "            center_y = (j - ( multiplication_factor/ 2) + 0.5) * y_size\n",
    "            center_z = 0  # All cubes are centered on the z=0 plane\n",
    "            coord_item = {\n",
    "                    \"X\": (center_x - x_size/2, center_x + x_size/2),\n",
    "                    \"Y\": (center_y - y_size/2, center_y + y_size/2),\n",
    "                    \"Z\": (-z_size/2, z_size/2),\n",
    "                    \"center\": (center_x, center_y, center_z)\n",
    "                    }\n",
    "            \n",
    "            coordinates_slabs+=[coord_item]\n",
    "\n",
    "    return coordinates_slabs"
   ]
  },
  {
   "cell_type": "code",
   "execution_count": 4,
   "metadata": {},
   "outputs": [],
   "source": [
    "# Function to create a solid cylinder with specified center coordinates\n",
    "def create_cylinder_from_ends(top_center, bottom_center, radius):\n",
    "    # Calculate height of the cylinder\n",
    "    height = np.linalg.norm(np.array(top_center) - np.array(bottom_center))\n",
    "    bottom_center=bottom_center\n",
    "\n",
    "    # Calculate the vector direction of the cylinder\n",
    "    axis_direction = np.array(top_center) - np.array(bottom_center)\n",
    "    axis_direction /= np.linalg.norm(axis_direction) #Unitary vector to calculate rotation angle \n",
    "\n",
    "    # Calculate the rotation matrix to align cylinder with the given axis direction\n",
    "    z_axis = np.array([0, 0, 1])\n",
    "    rotation_axis = np.cross(z_axis, axis_direction)\n",
    "    rotation_angle = np.arccos(np.dot(z_axis, axis_direction))\n",
    "    rotation_matrix = mesh.Mesh.rotation_matrix(rotation_axis, rotation_angle)\n",
    "    # Create a 4x4 identity matrix\n",
    "    matrix_4x4 = np.eye(4)\n",
    "\n",
    "    # Insert the 3x3 matrix into the top-left corner of the new matrix\n",
    "    matrix_4x4[:3, :3] = np.copy(rotation_matrix)\n",
    "\n",
    "    # Set the fourth column and fourth row for homogeneous transformation\n",
    "    # The typical homogeneous transformation uses [0, 0, 0, 1] for the last row and column\n",
    "    matrix_4x4[3, :3] = [0, 0, 0]  # Fourth row\n",
    "    matrix_4x4[:3, 3] = [0, 0, 0]  # Fourth column\n",
    "    matrix_4x4[3, 3] = 1           # Bottom-right corner remains 1\n",
    "\n",
    "    \n",
    "   \n",
    "    cylinder_center = tuple((np.array(top_center) + np.array(bottom_center))/2)\n",
    "    trans = td.Transformed.translation(cylinder_center[0],cylinder_center[1],cylinder_center[2])\n",
    "    transformed = td.Transformed(geometry=td.Cylinder(center=(0,0,0), radius=radius, length=height),transform=trans@matrix_4x4)\n",
    "\n",
    "    return transformed"
   ]
  },
  {
   "cell_type": "code",
   "execution_count": 5,
   "metadata": {},
   "outputs": [],
   "source": [
    "tidy3dAPI = os.environ[\"API_TIDY3D_KEY\"]"
   ]
  },
  {
   "cell_type": "code",
   "execution_count": 6,
   "metadata": {},
   "outputs": [],
   "source": [
    "a = 3.4\n",
    "lambdas = a/np.array([0.275,0.8])\n"
   ]
  },
  {
   "cell_type": "code",
   "execution_count": 7,
   "metadata": {},
   "outputs": [
    {
     "data": {
      "text/plain": [
       "array([12.36363636,  4.25      ])"
      ]
     },
     "execution_count": 7,
     "metadata": {},
     "output_type": "execute_result"
    }
   ],
   "source": [
    "lambdas"
   ]
  },
  {
   "cell_type": "code",
   "execution_count": 8,
   "metadata": {},
   "outputs": [
    {
     "name": "stdout",
     "output_type": "stream",
     "text": [
      "02_Sample_600_res_L18.01_28ff_eps.h5\n",
      "Configured successfully.\n"
     ]
    }
   ],
   "source": [
    "folder_path = rf\"H:\\phd stuff\\tidy3d\\structures\\08_13_2024 Luis H5 18.01a\\sample 2\"\n",
    "project_name = \"02_06_2025 LSU Beam Spreading\"\n",
    "postprocess_results = []\n",
    "runtime_ps = 35e-12\n",
    "min_steps_per_lambda = 20\n",
    "multiplication_factor = 6\n",
    "for direction in [\"z\"]: \n",
    "    for filename in os.listdir(folder_path):\n",
    "     for perm in [9]:\n",
    "        print(filename)\n",
    "        if not (Path(filename).suffix==\".h5\" or Path(filename).suffix==\".stl\"):\n",
    "            continue \n",
    "        if os.path.isfile(os.path.join(folder_path, filename)):\n",
    "            file=os.path.join(folder_path, filename)\n",
    "            structure_1 = AM.loadAndRunStructure(key = tidy3dAPI, file_path=file\n",
    "                                            ,direction=direction, lambda_range=lambdas,\n",
    "                                            box_size=14.3,runtime_ps=runtime_ps,min_steps_per_lambda=min_steps_per_lambda, permittivity=perm,\n",
    "                                           scaling=1,shuoff_condtion=1e-20, verbose=True, \n",
    "                                           monitors=[\"flux\"], freqs=280, \n",
    "                                           cut_condition=1, source=\"Tight\", absorbers=200, use_permittivity=False, source_size=7,\n",
    "                                           ref_only=True, multiplicate_size=True,multiplication_factor=multiplication_factor,width=0.4\n",
    "                                           )\n",
    "            \n",
    "           \n",
    "            # print(structure_1.__str__())\n",
    "            # structure_1.plot_sim_layout()\n",
    "\n",
    "            \n"
   ]
  },
  {
   "cell_type": "code",
   "execution_count": 9,
   "metadata": {},
   "outputs": [],
   "source": [
    "file_path =  r\"H:\\phd stuff\\tidy3d\\structures\\End2EndFiles\\Florescu Uncut\\ak4_1000_ends.dat\"\n",
    "data = []\n",
    "with open(file_path, 'r') as file:\n",
    "    for line in file: \n",
    "        row = [float(value) for value in line.split()]\n",
    "        data += [np.array(row)]\n",
    "\n",
    "data = np.array(data)\n",
    "\n",
    "tops_centered = (data[:,:3])\n",
    "bottoms_centered = (data[:,3:])\n",
    "\n",
    "radius = 0.38\n",
    "\n",
    "\n",
    "cyl_group = []\n",
    "\n",
    "\n",
    "\n",
    "coords = get_coords(structure_1.multiplication_factor,structure_1.t_slab_x,structure_1.t_slab_y,structure_1.t_slab_z)\n",
    "\n",
    "\n",
    "for k,coord in enumerate(coords):\n",
    "    tops = np.copy(tops_centered)\n",
    "    bottoms = np.copy(bottoms_centered)\n",
    "    tops[:,0]+=coord[\"center\"][0]\n",
    "    tops[:,1]+=coord[\"center\"][1]\n",
    "    tops[:,2]+=coord[\"center\"][2]\n",
    "    bottoms[:,0]+=coord[\"center\"][0]\n",
    "    bottoms[:,1]+=coord[\"center\"][1]\n",
    "    bottoms[:,2]+=coord[\"center\"][2]\n",
    "    for cil,item in enumerate(tops):\n",
    "         cyl_group.append(create_cylinder_from_ends(tops[cil], bottoms[cil], radius))\n",
    "\n",
    "    \n",
    "   \n"
   ]
  },
  {
   "cell_type": "code",
   "execution_count": 10,
   "metadata": {},
   "outputs": [],
   "source": [
    "sim = structure_1.sim\n"
   ]
  },
  {
   "cell_type": "code",
   "execution_count": 11,
   "metadata": {},
   "outputs": [
    {
     "data": {
      "text/plain": [
       "9"
      ]
     },
     "execution_count": 11,
     "metadata": {},
     "output_type": "execute_result"
    }
   ],
   "source": [
    "structure_1.permittivity_value"
   ]
  },
  {
   "cell_type": "code",
   "execution_count": 12,
   "metadata": {},
   "outputs": [],
   "source": [
    "medium=td.Medium(permittivity=structure_1.permittivity_value)\n",
    "structure = td.Structure(geometry=td.GeometryGroup(geometries=cyl_group),  medium=medium)\n",
    "cube = td.Structure(geometry= td.Box(\n",
    "                        center=(0,  0 ,0),\n",
    "                        size=(\n",
    "                                structure_1.t_slab_x, \n",
    "                                structure_1.t_slab_y, \n",
    "                                structure_1.t_slab_z\n",
    "                              ),\n",
    "                    ),medium=td.Medium(permittivity=1))\n",
    "\n"
   ]
  },
  {
   "cell_type": "code",
   "execution_count": 13,
   "metadata": {},
   "outputs": [],
   "source": [
    "\n",
    "Lx, Ly, Lz =structure_1.Lx,structure_1.Ly,structure_1.Lz+10\n",
    "\n",
    "\n",
    "time_monitorFieldLateral = td.FieldTimeMonitor(\n",
    "                center = (0,0,0),\n",
    "                size = (0,Ly,Lz),\n",
    "                    start=0,\n",
    "                    stop=structure_1.t_stop,\n",
    "                    interval=200,\n",
    "                    fields=[\"Ex\", \"Ey\", \"Ez\"],\n",
    "                    name=\"time_monitorFieldLateral\",\n",
    "                )\n",
    "\n",
    "\n",
    "time_monitorT = td.FluxTimeMonitor(\n",
    "                    center=[\n",
    "                        (structure_1.Lx - structure_1.spacing)*0.5 if structure_1.direction == \"x\" else 0, \n",
    "                        (structure_1.Ly - structure_1.spacing)*0.5 if structure_1.direction == \"y\" else 0, \n",
    "                        (structure_1.Lz - structure_1.spacing)*0.5 if structure_1.direction == \"z\" else 0\n",
    "\n",
    "\n",
    "                        ],\n",
    "                    size=[\n",
    "                        td.inf,td.inf,0\n",
    "                        ],\n",
    "                    interval = 200,\n",
    "                    name=\"time_monitorT\",\n",
    "\n",
    "                )\n",
    "\n",
    "\n",
    "#Monitor Flux#################\n",
    "\n",
    "monitor_1 = td.FluxMonitor(\n",
    "                center = (\n",
    "                            (structure_1.Lx - structure_1.spacing)*0.5 if structure_1.direction == \"x\" else 0, \n",
    "                            (structure_1.Ly - structure_1.spacing)*0.5 if structure_1.direction == \"y\" else 0, \n",
    "                            (structure_1.Lz - structure_1.spacing)*0.5 if structure_1.direction == \"z\" else 0\n",
    "                            ),\n",
    "                size = (\n",
    "                    0 if structure_1.direction == \"x\" else td.inf, \n",
    "                    0 if structure_1.direction == \"y\" else td.inf, \n",
    "                    0 if structure_1.direction == \"z\" else td.inf, \n",
    "                    ),\n",
    "                freqs = structure_1.monitor_freqs,\n",
    "                name='flux1' #To the right \n",
    "            )\n",
    "  \n",
    "\n",
    "monitor_2 = td.FluxMonitor(\n",
    "                center = (\n",
    "                        (-structure_1.Lx+structure_1.spacing)*0.5 if structure_1.direction ==\"x\" else 0, \n",
    "                        (-structure_1.Ly+structure_1.spacing)*0.5 if structure_1.direction ==\"y\" else 0, \n",
    "                        (-structure_1.Lz+structure_1.spacing)*0.5 +1 if structure_1.direction ==\"z\" else 0\n",
    "                        ),\n",
    "                size = (\n",
    "                    0 if structure_1.direction == \"x\" else td.inf, \n",
    "                    0 if structure_1.direction == \"y\" else td.inf, \n",
    "                    0 if structure_1.direction == \"z\" else td.inf\n",
    "                    ),\n",
    "                freqs = structure_1.monitor_freqs,\n",
    "                name='flux2'#To the left\n",
    "            )\n",
    "  \n",
    "\n",
    "monitor_1_small = td.FluxMonitor(\n",
    "                center = (\n",
    "                            (structure_1.Lx - structure_1.spacing)*0.5 if structure_1.direction == \"x\" else 0, \n",
    "                            (structure_1.Ly - structure_1.spacing)*0.5 if structure_1.direction == \"y\" else 0, \n",
    "                            (structure_1.Lz - structure_1.spacing)*0.5 if structure_1.direction == \"z\" else 0\n",
    "                            ),\n",
    "                size = (\n",
    "                    lambdas[0]/3,\n",
    "                    lambdas[0]/3,\n",
    "                    0\n",
    "                    ),\n",
    "                freqs = structure_1.monitor_freqs,\n",
    "                name='flux1_small' #To the right \n",
    "            )\n",
    "  \n",
    "\n",
    "monitor_2_small = td.FluxMonitor(\n",
    "                center = (\n",
    "                        (-structure_1.Lx+structure_1.spacing)*0.5 if structure_1.direction ==\"x\" else 0, \n",
    "                        (-structure_1.Ly+structure_1.spacing)*0.5 if structure_1.direction ==\"y\" else 0, \n",
    "                        (-structure_1.Lz+structure_1.spacing)*0.5 + 1 if structure_1.direction ==\"z\" else 0\n",
    "                        ),\n",
    "                size = (\n",
    "                    lambdas[0]/3,\n",
    "                    lambdas[0]/3,\n",
    "                    0\n",
    "                    ),\n",
    "                freqs = structure_1.monitor_freqs,\n",
    "                name='flux2_small'#To the left\n",
    "            )\n",
    "\n",
    "\n",
    "freq_monitorFieldOut = td.FieldMonitor(\n",
    "                        center = (0,0,0),\n",
    "                        size = (0,Ly,Lz),\n",
    "                           freqs =structure_1.monitor_freqs,\n",
    "                            fields=[\"Ex\", \"Ey\", \"Ez\"],\n",
    "                            name=\"freq_monitorFieldOut\",\n",
    "\n",
    "                        )\n",
    "\n",
    "\n",
    "##############################################\n"
   ]
  },
  {
   "cell_type": "code",
   "execution_count": 14,
   "metadata": {},
   "outputs": [],
   "source": [
    "medium_eff=td.Medium(permittivity=1)\n",
    "box_in = td.Box(center=[0, 0,-(Lz/2+structure_1.t_slab_z/2)/2], size=[td.inf, td.inf, 2+ Lz / 2-structure_1.t_slab_z/2])\n",
    "box_out = td.Box(center=[0, 0,(Lz/2+structure_1.t_slab_z/2)/2], size=[td.inf, td.inf, 2+Lz / 2-structure_1.t_slab_z/2])\n",
    "box_up = td.Box(center=[0,(Ly/2+structure_1.t_slab_y/2)/2,0], size=[td.inf, Ly / 2-structure_1.t_slab_y/2 ,td.inf])\n",
    "box_down = td.Box(center=[0, -(Ly/2+structure_1.t_slab_y/2)/2 ,0], size=[td.inf, Ly / 2-structure_1.t_slab_y/2, td.inf ])\n",
    "struct_in = td.Structure(geometry=box_in, medium=medium_eff)\n",
    "struct_out = td.Structure(geometry=box_out, medium=medium_eff)\n",
    "struct_up = td.Structure(geometry=box_up, medium=medium_eff)\n",
    "struct_down = td.Structure(geometry=box_down, medium=medium_eff)"
   ]
  },
  {
   "cell_type": "code",
   "execution_count": 15,
   "metadata": {},
   "outputs": [],
   "source": [
    "sim = sim.copy(update={\"structures\":[structure, struct_in, struct_out], \"monitors\":[monitor_1, monitor_2,freq_monitorFieldOut]})\n"
   ]
  },
  {
   "cell_type": "code",
   "execution_count": 16,
   "metadata": {},
   "outputs": [],
   "source": [
    "# sim.plot_3d()\n"
   ]
  },
  {
   "cell_type": "code",
   "execution_count": 17,
   "metadata": {},
   "outputs": [],
   "source": [
    "# fig, ax = plt.subplots(1, tight_layout=True, figsize=(16, 8))\n",
    "# freqs_plot = (structure_1.freq_range[0], structure_1.freq_range[1])\n",
    "# sim.plot_eps(x=0, freq=freqs_plot[0], ax=ax)\n",
    "# plt.show()"
   ]
  },
  {
   "cell_type": "code",
   "execution_count": 18,
   "metadata": {},
   "outputs": [],
   "source": [
    "sim_name = f\"LSU perm {perm} runtime {runtime_ps}ps nu {(a/lambdas[0]):.3g} - {(a/lambdas[1]):.3g} Size - {14.3*structure_1.multiplication_factor:.2g}x{14.3*structure_1.multiplication_factor:.2g}x{10.3:.2g} Focused\"\n",
    "\n",
    "# id =web.upload(sim,task_name=sim_name, verbose=False)\n",
    "# web.estimate_cost(task_id = id)"
   ]
  },
  {
   "cell_type": "code",
   "execution_count": 19,
   "metadata": {},
   "outputs": [],
   "source": [
    "run = True"
   ]
  },
  {
   "cell_type": "code",
   "execution_count": 20,
   "metadata": {},
   "outputs": [
    {
     "name": "stdout",
     "output_type": "stream",
     "text": [
      "running ref...\n"
     ]
    },
    {
     "data": {
      "text/html": [
       "<pre style=\"white-space:pre;overflow-x:auto;line-height:normal;font-family:Menlo,'DejaVu Sans Mono',consolas,'Courier New',monospace\"><span style=\"color: #7fbfbf; text-decoration-color: #7fbfbf\">13:55:11 W. Europe Standard Time </span>Created task <span style=\"color: #008000; text-decoration-color: #008000\">'LSU perm 9 runtime 3.5e-11ps nu </span> \n",
       "<span style=\"color: #7fbfbf; text-decoration-color: #7fbfbf\">                                 </span><span style=\"color: #008000; text-decoration-color: #008000\">0.275 - 0.8 Size - 86x86x10 Focused_0'</span> with    \n",
       "<span style=\"color: #7fbfbf; text-decoration-color: #7fbfbf\">                                 </span>task_id                                        \n",
       "<span style=\"color: #7fbfbf; text-decoration-color: #7fbfbf\">                                 </span><span style=\"color: #008000; text-decoration-color: #008000\">'fdve-04c85e03-d631-49b5-85af-a0cb05c30fdc'</span> and\n",
       "<span style=\"color: #7fbfbf; text-decoration-color: #7fbfbf\">                                 </span>task_type <span style=\"color: #008000; text-decoration-color: #008000\">'FDTD'</span>.                              \n",
       "</pre>\n"
      ],
      "text/plain": [
       "\u001b[2;36m13:55:11 W. Europe Standard Time\u001b[0m\u001b[2;36m \u001b[0mCreated task \u001b[32m'LSU perm 9 runtime 3.5e-11ps nu \u001b[0m \n",
       "\u001b[2;36m                                 \u001b[0m\u001b[32m0.275 - 0.8 Size - 86x86x10 Focused_0'\u001b[0m with    \n",
       "\u001b[2;36m                                 \u001b[0mtask_id                                        \n",
       "\u001b[2;36m                                 \u001b[0m\u001b[32m'fdve-04c85e03-d631-49b5-85af-a0cb05c30fdc'\u001b[0m and\n",
       "\u001b[2;36m                                 \u001b[0mtask_type \u001b[32m'FDTD'\u001b[0m.                              \n"
      ]
     },
     "metadata": {},
     "output_type": "display_data"
    },
    {
     "data": {
      "text/html": [
       "<pre style=\"white-space:pre;overflow-x:auto;line-height:normal;font-family:Menlo,'DejaVu Sans Mono',consolas,'Courier New',monospace\"><span style=\"color: #7fbfbf; text-decoration-color: #7fbfbf\">                                 </span>View task using web UI at                      \n",
       "<span style=\"color: #7fbfbf; text-decoration-color: #7fbfbf\">                                 </span><a href=\"https://tidy3d.simulation.cloud/workbench?taskId=fdve-04c85e03-d631-49b5-85af-a0cb05c30fdc\" target=\"_blank\"><span style=\"color: #008000; text-decoration-color: #008000\">'https://tidy3d.simulation.cloud/workbench?task</span></a>\n",
       "<span style=\"color: #7fbfbf; text-decoration-color: #7fbfbf\">                                 </span><a href=\"https://tidy3d.simulation.cloud/workbench?taskId=fdve-04c85e03-d631-49b5-85af-a0cb05c30fdc\" target=\"_blank\"><span style=\"color: #008000; text-decoration-color: #008000\">Id=fdve-04c85e03-d631-49b5-85af-a0cb05c30fdc'</span></a>. \n",
       "</pre>\n"
      ],
      "text/plain": [
       "\u001b[2;36m                                \u001b[0m\u001b[2;36m \u001b[0mView task using web UI at                      \n",
       "\u001b[2;36m                                 \u001b[0m\u001b]8;id=252509;https://tidy3d.simulation.cloud/workbench?taskId=fdve-04c85e03-d631-49b5-85af-a0cb05c30fdc\u001b\\\u001b[32m'https://tidy3d.simulation.cloud/workbench?\u001b[0m\u001b]8;;\u001b\\\u001b]8;id=588212;https://tidy3d.simulation.cloud/workbench?taskId=fdve-04c85e03-d631-49b5-85af-a0cb05c30fdc\u001b\\\u001b[32mtask\u001b[0m\u001b]8;;\u001b\\\n",
       "\u001b[2;36m                                 \u001b[0m\u001b]8;id=588212;https://tidy3d.simulation.cloud/workbench?taskId=fdve-04c85e03-d631-49b5-85af-a0cb05c30fdc\u001b\\\u001b[32mId\u001b[0m\u001b]8;;\u001b\\\u001b]8;id=252509;https://tidy3d.simulation.cloud/workbench?taskId=fdve-04c85e03-d631-49b5-85af-a0cb05c30fdc\u001b\\\u001b[32m=\u001b[0m\u001b]8;;\u001b\\\u001b]8;id=827068;https://tidy3d.simulation.cloud/workbench?taskId=fdve-04c85e03-d631-49b5-85af-a0cb05c30fdc\u001b\\\u001b[32mfdve\u001b[0m\u001b]8;;\u001b\\\u001b]8;id=252509;https://tidy3d.simulation.cloud/workbench?taskId=fdve-04c85e03-d631-49b5-85af-a0cb05c30fdc\u001b\\\u001b[32m-04c85e03-d631-49b5-85af-a0cb05c30fdc'\u001b[0m\u001b]8;;\u001b\\. \n"
      ]
     },
     "metadata": {},
     "output_type": "display_data"
    },
    {
     "data": {
      "application/vnd.jupyter.widget-view+json": {
       "model_id": "82ff7a882e6646edb27205aaf9643837",
       "version_major": 2,
       "version_minor": 0
      },
      "text/plain": [
       "Output()"
      ]
     },
     "metadata": {},
     "output_type": "display_data"
    },
    {
     "data": {
      "text/html": [
       "<pre style=\"white-space:pre;overflow-x:auto;line-height:normal;font-family:Menlo,'DejaVu Sans Mono',consolas,'Courier New',monospace\"></pre>\n"
      ],
      "text/plain": []
     },
     "metadata": {},
     "output_type": "display_data"
    },
    {
     "data": {
      "text/html": [
       "<pre style=\"white-space:pre;overflow-x:auto;line-height:normal;font-family:Menlo,'DejaVu Sans Mono',consolas,'Courier New',monospace\">\n",
       "</pre>\n"
      ],
      "text/plain": [
       "\n"
      ]
     },
     "metadata": {},
     "output_type": "display_data"
    },
    {
     "data": {
      "text/html": [
       "<pre style=\"white-space:pre;overflow-x:auto;line-height:normal;font-family:Menlo,'DejaVu Sans Mono',consolas,'Courier New',monospace\"><span style=\"color: #7fbfbf; text-decoration-color: #7fbfbf\">13:55:21 W. Europe Standard Time </span>status = queued                                \n",
       "</pre>\n"
      ],
      "text/plain": [
       "\u001b[2;36m13:55:21 W. Europe Standard Time\u001b[0m\u001b[2;36m \u001b[0mstatus = queued                                \n"
      ]
     },
     "metadata": {},
     "output_type": "display_data"
    },
    {
     "data": {
      "text/html": [
       "<pre style=\"white-space:pre;overflow-x:auto;line-height:normal;font-family:Menlo,'DejaVu Sans Mono',consolas,'Courier New',monospace\"><span style=\"color: #7fbfbf; text-decoration-color: #7fbfbf\">                                 </span>To cancel the simulation, use                  \n",
       "<span style=\"color: #7fbfbf; text-decoration-color: #7fbfbf\">                                 </span><span style=\"color: #008000; text-decoration-color: #008000\">'web.abort(task_id)'</span> or <span style=\"color: #008000; text-decoration-color: #008000\">'web.delete(task_id)'</span>  \n",
       "<span style=\"color: #7fbfbf; text-decoration-color: #7fbfbf\">                                 </span>or abort/delete the task in the web UI.        \n",
       "<span style=\"color: #7fbfbf; text-decoration-color: #7fbfbf\">                                 </span>Terminating the Python script will not stop the\n",
       "<span style=\"color: #7fbfbf; text-decoration-color: #7fbfbf\">                                 </span>job running on the cloud.                      \n",
       "</pre>\n"
      ],
      "text/plain": [
       "\u001b[2;36m                                \u001b[0m\u001b[2;36m \u001b[0mTo cancel the simulation, use                  \n",
       "\u001b[2;36m                                 \u001b[0m\u001b[32m'web.abort\u001b[0m\u001b[32m(\u001b[0m\u001b[32mtask_id\u001b[0m\u001b[32m)\u001b[0m\u001b[32m'\u001b[0m or \u001b[32m'web.delete\u001b[0m\u001b[32m(\u001b[0m\u001b[32mtask_id\u001b[0m\u001b[32m)\u001b[0m\u001b[32m'\u001b[0m  \n",
       "\u001b[2;36m                                 \u001b[0mor abort/delete the task in the web UI.        \n",
       "\u001b[2;36m                                 \u001b[0mTerminating the Python script will not stop the\n",
       "\u001b[2;36m                                 \u001b[0mjob running on the cloud.                      \n"
      ]
     },
     "metadata": {},
     "output_type": "display_data"
    },
    {
     "data": {
      "application/vnd.jupyter.widget-view+json": {
       "model_id": "cbc73b70b52d44069797ea30219d3180",
       "version_major": 2,
       "version_minor": 0
      },
      "text/plain": [
       "Output()"
      ]
     },
     "metadata": {},
     "output_type": "display_data"
    },
    {
     "data": {
      "text/html": [
       "<pre style=\"white-space:pre;overflow-x:auto;line-height:normal;font-family:Menlo,'DejaVu Sans Mono',consolas,'Courier New',monospace\"><span style=\"color: #7fbfbf; text-decoration-color: #7fbfbf\">13:55:26 W. Europe Standard Time </span>status = preprocess                            \n",
       "</pre>\n"
      ],
      "text/plain": [
       "\u001b[2;36m13:55:26 W. Europe Standard Time\u001b[0m\u001b[2;36m \u001b[0mstatus = preprocess                            \n"
      ]
     },
     "metadata": {},
     "output_type": "display_data"
    },
    {
     "data": {
      "text/html": [
       "<pre style=\"white-space:pre;overflow-x:auto;line-height:normal;font-family:Menlo,'DejaVu Sans Mono',consolas,'Courier New',monospace\"></pre>\n"
      ],
      "text/plain": []
     },
     "metadata": {},
     "output_type": "display_data"
    },
    {
     "data": {
      "text/html": [
       "<pre style=\"white-space:pre;overflow-x:auto;line-height:normal;font-family:Menlo,'DejaVu Sans Mono',consolas,'Courier New',monospace\"><span style=\"color: #7fbfbf; text-decoration-color: #7fbfbf\">13:55:27 W. Europe Standard Time </span>Maximum FlexCredit cost: <span style=\"color: #008080; text-decoration-color: #008080; font-weight: bold\">0.910</span>. Use            \n",
       "<span style=\"color: #7fbfbf; text-decoration-color: #7fbfbf\">                                 </span><span style=\"color: #008000; text-decoration-color: #008000\">'web.real_cost(task_id)'</span> to get the billed     \n",
       "<span style=\"color: #7fbfbf; text-decoration-color: #7fbfbf\">                                 </span>FlexCredit cost after a simulation run.        \n",
       "</pre>\n"
      ],
      "text/plain": [
       "\u001b[2;36m13:55:27 W. Europe Standard Time\u001b[0m\u001b[2;36m \u001b[0mMaximum FlexCredit cost: \u001b[1;36m0.910\u001b[0m. Use            \n",
       "\u001b[2;36m                                 \u001b[0m\u001b[32m'web.real_cost\u001b[0m\u001b[32m(\u001b[0m\u001b[32mtask_id\u001b[0m\u001b[32m)\u001b[0m\u001b[32m'\u001b[0m to get the billed     \n",
       "\u001b[2;36m                                 \u001b[0mFlexCredit cost after a simulation run.        \n"
      ]
     },
     "metadata": {},
     "output_type": "display_data"
    },
    {
     "data": {
      "text/html": [
       "<pre style=\"white-space:pre;overflow-x:auto;line-height:normal;font-family:Menlo,'DejaVu Sans Mono',consolas,'Courier New',monospace\"><span style=\"color: #7fbfbf; text-decoration-color: #7fbfbf\">                                 </span>starting up solver                             \n",
       "</pre>\n"
      ],
      "text/plain": [
       "\u001b[2;36m                                \u001b[0m\u001b[2;36m \u001b[0mstarting up solver                             \n"
      ]
     },
     "metadata": {},
     "output_type": "display_data"
    },
    {
     "data": {
      "text/html": [
       "<pre style=\"white-space:pre;overflow-x:auto;line-height:normal;font-family:Menlo,'DejaVu Sans Mono',consolas,'Courier New',monospace\"><span style=\"color: #7fbfbf; text-decoration-color: #7fbfbf\">13:55:28 W. Europe Standard Time </span>running solver                                 \n",
       "</pre>\n"
      ],
      "text/plain": [
       "\u001b[2;36m13:55:28 W. Europe Standard Time\u001b[0m\u001b[2;36m \u001b[0mrunning solver                                 \n"
      ]
     },
     "metadata": {},
     "output_type": "display_data"
    },
    {
     "data": {
      "application/vnd.jupyter.widget-view+json": {
       "model_id": "dfb272b4b4a34038847eea1576e1babc",
       "version_major": 2,
       "version_minor": 0
      },
      "text/plain": [
       "Output()"
      ]
     },
     "metadata": {},
     "output_type": "display_data"
    },
    {
     "data": {
      "text/html": [
       "<pre style=\"white-space:pre;overflow-x:auto;line-height:normal;font-family:Menlo,'DejaVu Sans Mono',consolas,'Courier New',monospace\"></pre>\n"
      ],
      "text/plain": []
     },
     "metadata": {},
     "output_type": "display_data"
    },
    {
     "data": {
      "text/html": [
       "<pre style=\"white-space:pre;overflow-x:auto;line-height:normal;font-family:Menlo,'DejaVu Sans Mono',consolas,'Courier New',monospace\">\n",
       "</pre>\n"
      ],
      "text/plain": [
       "\n"
      ]
     },
     "metadata": {},
     "output_type": "display_data"
    },
    {
     "data": {
      "text/html": [
       "<pre style=\"white-space:pre;overflow-x:auto;line-height:normal;font-family:Menlo,'DejaVu Sans Mono',consolas,'Courier New',monospace\"><span style=\"color: #7fbfbf; text-decoration-color: #7fbfbf\">13:57:24 W. Europe Standard Time </span>status = postprocess                           \n",
       "</pre>\n"
      ],
      "text/plain": [
       "\u001b[2;36m13:57:24 W. Europe Standard Time\u001b[0m\u001b[2;36m \u001b[0mstatus = postprocess                           \n"
      ]
     },
     "metadata": {},
     "output_type": "display_data"
    },
    {
     "data": {
      "application/vnd.jupyter.widget-view+json": {
       "model_id": "22250daec7bb403fb6ad4f099ffd6615",
       "version_major": 2,
       "version_minor": 0
      },
      "text/plain": [
       "Output()"
      ]
     },
     "metadata": {},
     "output_type": "display_data"
    },
    {
     "data": {
      "text/html": [
       "<pre style=\"white-space:pre;overflow-x:auto;line-height:normal;font-family:Menlo,'DejaVu Sans Mono',consolas,'Courier New',monospace\"><span style=\"color: #7fbfbf; text-decoration-color: #7fbfbf\">13:57:33 W. Europe Standard Time </span>status = success                               \n",
       "</pre>\n"
      ],
      "text/plain": [
       "\u001b[2;36m13:57:33 W. Europe Standard Time\u001b[0m\u001b[2;36m \u001b[0mstatus = success                               \n"
      ]
     },
     "metadata": {},
     "output_type": "display_data"
    },
    {
     "data": {
      "text/html": [
       "<pre style=\"white-space:pre;overflow-x:auto;line-height:normal;font-family:Menlo,'DejaVu Sans Mono',consolas,'Courier New',monospace\"></pre>\n"
      ],
      "text/plain": []
     },
     "metadata": {},
     "output_type": "display_data"
    },
    {
     "data": {
      "text/html": [
       "<pre style=\"white-space:pre;overflow-x:auto;line-height:normal;font-family:Menlo,'DejaVu Sans Mono',consolas,'Courier New',monospace\"><span style=\"color: #7fbfbf; text-decoration-color: #7fbfbf\">                                 </span>View simulation result at                      \n",
       "<span style=\"color: #7fbfbf; text-decoration-color: #7fbfbf\">                                 </span><a href=\"https://tidy3d.simulation.cloud/workbench?taskId=fdve-04c85e03-d631-49b5-85af-a0cb05c30fdc\" target=\"_blank\"><span style=\"color: #000080; text-decoration-color: #000080; text-decoration: underline\">'https://tidy3d.simulation.cloud/workbench?task</span></a>\n",
       "<span style=\"color: #7fbfbf; text-decoration-color: #7fbfbf\">                                 </span><a href=\"https://tidy3d.simulation.cloud/workbench?taskId=fdve-04c85e03-d631-49b5-85af-a0cb05c30fdc\" target=\"_blank\"><span style=\"color: #000080; text-decoration-color: #000080; text-decoration: underline\">Id=fdve-04c85e03-d631-49b5-85af-a0cb05c30fdc'</span></a><span style=\"color: #000080; text-decoration-color: #000080; text-decoration: underline\">.</span> \n",
       "</pre>\n"
      ],
      "text/plain": [
       "\u001b[2;36m                                \u001b[0m\u001b[2;36m \u001b[0mView simulation result at                      \n",
       "\u001b[2;36m                                 \u001b[0m\u001b]8;id=482400;https://tidy3d.simulation.cloud/workbench?taskId=fdve-04c85e03-d631-49b5-85af-a0cb05c30fdc\u001b\\\u001b[4;34m'https://tidy3d.simulation.cloud/workbench?\u001b[0m\u001b]8;;\u001b\\\u001b]8;id=123214;https://tidy3d.simulation.cloud/workbench?taskId=fdve-04c85e03-d631-49b5-85af-a0cb05c30fdc\u001b\\\u001b[4;34mtask\u001b[0m\u001b]8;;\u001b\\\n",
       "\u001b[2;36m                                 \u001b[0m\u001b]8;id=123214;https://tidy3d.simulation.cloud/workbench?taskId=fdve-04c85e03-d631-49b5-85af-a0cb05c30fdc\u001b\\\u001b[4;34mId\u001b[0m\u001b]8;;\u001b\\\u001b]8;id=482400;https://tidy3d.simulation.cloud/workbench?taskId=fdve-04c85e03-d631-49b5-85af-a0cb05c30fdc\u001b\\\u001b[4;34m=\u001b[0m\u001b]8;;\u001b\\\u001b]8;id=693160;https://tidy3d.simulation.cloud/workbench?taskId=fdve-04c85e03-d631-49b5-85af-a0cb05c30fdc\u001b\\\u001b[4;34mfdve\u001b[0m\u001b]8;;\u001b\\\u001b]8;id=482400;https://tidy3d.simulation.cloud/workbench?taskId=fdve-04c85e03-d631-49b5-85af-a0cb05c30fdc\u001b\\\u001b[4;34m-04c85e03-d631-49b5-85af-a0cb05c30fdc'\u001b[0m\u001b]8;;\u001b\\\u001b[4;34m.\u001b[0m \n"
      ]
     },
     "metadata": {},
     "output_type": "display_data"
    },
    {
     "data": {
      "text/html": [
       "<pre style=\"white-space:pre;overflow-x:auto;line-height:normal;font-family:Menlo,'DejaVu Sans Mono',consolas,'Courier New',monospace\"><span style=\"color: #7fbfbf; text-decoration-color: #7fbfbf\">                                 </span>Created task <span style=\"color: #008000; text-decoration-color: #008000\">'LSU perm 9 runtime 3.5e-11ps nu </span> \n",
       "<span style=\"color: #7fbfbf; text-decoration-color: #7fbfbf\">                                 </span><span style=\"color: #008000; text-decoration-color: #008000\">0.275 - 0.8 Size - 86x86x10 Focused'</span> with      \n",
       "<span style=\"color: #7fbfbf; text-decoration-color: #7fbfbf\">                                 </span>task_id                                        \n",
       "<span style=\"color: #7fbfbf; text-decoration-color: #7fbfbf\">                                 </span><span style=\"color: #008000; text-decoration-color: #008000\">'fdve-533572b8-ba7f-4511-bd90-457340e30b51'</span> and\n",
       "<span style=\"color: #7fbfbf; text-decoration-color: #7fbfbf\">                                 </span>task_type <span style=\"color: #008000; text-decoration-color: #008000\">'FDTD'</span>.                              \n",
       "</pre>\n"
      ],
      "text/plain": [
       "\u001b[2;36m                                \u001b[0m\u001b[2;36m \u001b[0mCreated task \u001b[32m'LSU perm 9 runtime 3.5e-11ps nu \u001b[0m \n",
       "\u001b[2;36m                                 \u001b[0m\u001b[32m0.275 - 0.8 Size - 86x86x10 Focused'\u001b[0m with      \n",
       "\u001b[2;36m                                 \u001b[0mtask_id                                        \n",
       "\u001b[2;36m                                 \u001b[0m\u001b[32m'fdve-533572b8-ba7f-4511-bd90-457340e30b51'\u001b[0m and\n",
       "\u001b[2;36m                                 \u001b[0mtask_type \u001b[32m'FDTD'\u001b[0m.                              \n"
      ]
     },
     "metadata": {},
     "output_type": "display_data"
    },
    {
     "data": {
      "text/html": [
       "<pre style=\"white-space:pre;overflow-x:auto;line-height:normal;font-family:Menlo,'DejaVu Sans Mono',consolas,'Courier New',monospace\"><span style=\"color: #7fbfbf; text-decoration-color: #7fbfbf\">                                 </span>View task using web UI at                      \n",
       "<span style=\"color: #7fbfbf; text-decoration-color: #7fbfbf\">                                 </span><a href=\"https://tidy3d.simulation.cloud/workbench?taskId=fdve-533572b8-ba7f-4511-bd90-457340e30b51\" target=\"_blank\"><span style=\"color: #008000; text-decoration-color: #008000\">'https://tidy3d.simulation.cloud/workbench?task</span></a>\n",
       "<span style=\"color: #7fbfbf; text-decoration-color: #7fbfbf\">                                 </span><a href=\"https://tidy3d.simulation.cloud/workbench?taskId=fdve-533572b8-ba7f-4511-bd90-457340e30b51\" target=\"_blank\"><span style=\"color: #008000; text-decoration-color: #008000\">Id=fdve-533572b8-ba7f-4511-bd90-457340e30b51'</span></a>. \n",
       "</pre>\n"
      ],
      "text/plain": [
       "\u001b[2;36m                                \u001b[0m\u001b[2;36m \u001b[0mView task using web UI at                      \n",
       "\u001b[2;36m                                 \u001b[0m\u001b]8;id=767067;https://tidy3d.simulation.cloud/workbench?taskId=fdve-533572b8-ba7f-4511-bd90-457340e30b51\u001b\\\u001b[32m'https://tidy3d.simulation.cloud/workbench?\u001b[0m\u001b]8;;\u001b\\\u001b]8;id=950721;https://tidy3d.simulation.cloud/workbench?taskId=fdve-533572b8-ba7f-4511-bd90-457340e30b51\u001b\\\u001b[32mtask\u001b[0m\u001b]8;;\u001b\\\n",
       "\u001b[2;36m                                 \u001b[0m\u001b]8;id=950721;https://tidy3d.simulation.cloud/workbench?taskId=fdve-533572b8-ba7f-4511-bd90-457340e30b51\u001b\\\u001b[32mId\u001b[0m\u001b]8;;\u001b\\\u001b]8;id=767067;https://tidy3d.simulation.cloud/workbench?taskId=fdve-533572b8-ba7f-4511-bd90-457340e30b51\u001b\\\u001b[32m=\u001b[0m\u001b]8;;\u001b\\\u001b]8;id=581115;https://tidy3d.simulation.cloud/workbench?taskId=fdve-533572b8-ba7f-4511-bd90-457340e30b51\u001b\\\u001b[32mfdve\u001b[0m\u001b]8;;\u001b\\\u001b]8;id=767067;https://tidy3d.simulation.cloud/workbench?taskId=fdve-533572b8-ba7f-4511-bd90-457340e30b51\u001b\\\u001b[32m-533572b8-ba7f-4511-bd90-457340e30b51'\u001b[0m\u001b]8;;\u001b\\. \n"
      ]
     },
     "metadata": {},
     "output_type": "display_data"
    },
    {
     "data": {
      "application/vnd.jupyter.widget-view+json": {
       "model_id": "b5dbf9ed3d294ed28991c35766a1bd01",
       "version_major": 2,
       "version_minor": 0
      },
      "text/plain": [
       "Output()"
      ]
     },
     "metadata": {},
     "output_type": "display_data"
    },
    {
     "data": {
      "text/html": [
       "<pre style=\"white-space:pre;overflow-x:auto;line-height:normal;font-family:Menlo,'DejaVu Sans Mono',consolas,'Courier New',monospace\"></pre>\n"
      ],
      "text/plain": []
     },
     "metadata": {},
     "output_type": "display_data"
    },
    {
     "data": {
      "text/html": [
       "<pre style=\"white-space:pre;overflow-x:auto;line-height:normal;font-family:Menlo,'DejaVu Sans Mono',consolas,'Courier New',monospace\">\n",
       "</pre>\n"
      ],
      "text/plain": [
       "\n"
      ]
     },
     "metadata": {},
     "output_type": "display_data"
    },
    {
     "data": {
      "text/html": [
       "<pre style=\"white-space:pre;overflow-x:auto;line-height:normal;font-family:Menlo,'DejaVu Sans Mono',consolas,'Courier New',monospace\"><span style=\"color: #7fbfbf; text-decoration-color: #7fbfbf\">13:58:18 W. Europe Standard Time </span>status = queued                                \n",
       "</pre>\n"
      ],
      "text/plain": [
       "\u001b[2;36m13:58:18 W. Europe Standard Time\u001b[0m\u001b[2;36m \u001b[0mstatus = queued                                \n"
      ]
     },
     "metadata": {},
     "output_type": "display_data"
    },
    {
     "data": {
      "text/html": [
       "<pre style=\"white-space:pre;overflow-x:auto;line-height:normal;font-family:Menlo,'DejaVu Sans Mono',consolas,'Courier New',monospace\"><span style=\"color: #7fbfbf; text-decoration-color: #7fbfbf\">                                 </span>To cancel the simulation, use                  \n",
       "<span style=\"color: #7fbfbf; text-decoration-color: #7fbfbf\">                                 </span><span style=\"color: #008000; text-decoration-color: #008000\">'web.abort(task_id)'</span> or <span style=\"color: #008000; text-decoration-color: #008000\">'web.delete(task_id)'</span>  \n",
       "<span style=\"color: #7fbfbf; text-decoration-color: #7fbfbf\">                                 </span>or abort/delete the task in the web UI.        \n",
       "<span style=\"color: #7fbfbf; text-decoration-color: #7fbfbf\">                                 </span>Terminating the Python script will not stop the\n",
       "<span style=\"color: #7fbfbf; text-decoration-color: #7fbfbf\">                                 </span>job running on the cloud.                      \n",
       "</pre>\n"
      ],
      "text/plain": [
       "\u001b[2;36m                                \u001b[0m\u001b[2;36m \u001b[0mTo cancel the simulation, use                  \n",
       "\u001b[2;36m                                 \u001b[0m\u001b[32m'web.abort\u001b[0m\u001b[32m(\u001b[0m\u001b[32mtask_id\u001b[0m\u001b[32m)\u001b[0m\u001b[32m'\u001b[0m or \u001b[32m'web.delete\u001b[0m\u001b[32m(\u001b[0m\u001b[32mtask_id\u001b[0m\u001b[32m)\u001b[0m\u001b[32m'\u001b[0m  \n",
       "\u001b[2;36m                                 \u001b[0mor abort/delete the task in the web UI.        \n",
       "\u001b[2;36m                                 \u001b[0mTerminating the Python script will not stop the\n",
       "\u001b[2;36m                                 \u001b[0mjob running on the cloud.                      \n"
      ]
     },
     "metadata": {},
     "output_type": "display_data"
    },
    {
     "data": {
      "application/vnd.jupyter.widget-view+json": {
       "model_id": "069d7bdf822f45e18a39f9e2cde76c90",
       "version_major": 2,
       "version_minor": 0
      },
      "text/plain": [
       "Output()"
      ]
     },
     "metadata": {},
     "output_type": "display_data"
    },
    {
     "data": {
      "text/html": [
       "<pre style=\"white-space:pre;overflow-x:auto;line-height:normal;font-family:Menlo,'DejaVu Sans Mono',consolas,'Courier New',monospace\"><span style=\"color: #7fbfbf; text-decoration-color: #7fbfbf\">14:00:51 W. Europe Standard Time </span>status = preprocess                            \n",
       "</pre>\n"
      ],
      "text/plain": [
       "\u001b[2;36m14:00:51 W. Europe Standard Time\u001b[0m\u001b[2;36m \u001b[0mstatus = preprocess                            \n"
      ]
     },
     "metadata": {},
     "output_type": "display_data"
    },
    {
     "data": {
      "text/html": [
       "<pre style=\"white-space:pre;overflow-x:auto;line-height:normal;font-family:Menlo,'DejaVu Sans Mono',consolas,'Courier New',monospace\"></pre>\n"
      ],
      "text/plain": []
     },
     "metadata": {},
     "output_type": "display_data"
    },
    {
     "data": {
      "text/html": [
       "<pre style=\"white-space:pre;overflow-x:auto;line-height:normal;font-family:Menlo,'DejaVu Sans Mono',consolas,'Courier New',monospace\"><span style=\"color: #7fbfbf; text-decoration-color: #7fbfbf\">14:02:57 W. Europe Standard Time </span>Maximum FlexCredit cost: <span style=\"color: #008080; text-decoration-color: #008080; font-weight: bold\">18.147</span>. Use           \n",
       "<span style=\"color: #7fbfbf; text-decoration-color: #7fbfbf\">                                 </span><span style=\"color: #008000; text-decoration-color: #008000\">'web.real_cost(task_id)'</span> to get the billed     \n",
       "<span style=\"color: #7fbfbf; text-decoration-color: #7fbfbf\">                                 </span>FlexCredit cost after a simulation run.        \n",
       "</pre>\n"
      ],
      "text/plain": [
       "\u001b[2;36m14:02:57 W. Europe Standard Time\u001b[0m\u001b[2;36m \u001b[0mMaximum FlexCredit cost: \u001b[1;36m18.147\u001b[0m. Use           \n",
       "\u001b[2;36m                                 \u001b[0m\u001b[32m'web.real_cost\u001b[0m\u001b[32m(\u001b[0m\u001b[32mtask_id\u001b[0m\u001b[32m)\u001b[0m\u001b[32m'\u001b[0m to get the billed     \n",
       "\u001b[2;36m                                 \u001b[0mFlexCredit cost after a simulation run.        \n"
      ]
     },
     "metadata": {},
     "output_type": "display_data"
    },
    {
     "data": {
      "text/html": [
       "<pre style=\"white-space:pre;overflow-x:auto;line-height:normal;font-family:Menlo,'DejaVu Sans Mono',consolas,'Courier New',monospace\"><span style=\"color: #7fbfbf; text-decoration-color: #7fbfbf\">                                 </span>starting up solver                             \n",
       "</pre>\n"
      ],
      "text/plain": [
       "\u001b[2;36m                                \u001b[0m\u001b[2;36m \u001b[0mstarting up solver                             \n"
      ]
     },
     "metadata": {},
     "output_type": "display_data"
    },
    {
     "data": {
      "text/html": [
       "<pre style=\"white-space:pre;overflow-x:auto;line-height:normal;font-family:Menlo,'DejaVu Sans Mono',consolas,'Courier New',monospace\"><span style=\"color: #7fbfbf; text-decoration-color: #7fbfbf\">14:02:58 W. Europe Standard Time </span>running solver                                 \n",
       "</pre>\n"
      ],
      "text/plain": [
       "\u001b[2;36m14:02:58 W. Europe Standard Time\u001b[0m\u001b[2;36m \u001b[0mrunning solver                                 \n"
      ]
     },
     "metadata": {},
     "output_type": "display_data"
    },
    {
     "data": {
      "application/vnd.jupyter.widget-view+json": {
       "model_id": "8891c7c7e6d24c29bc3ff169cc06ec50",
       "version_major": 2,
       "version_minor": 0
      },
      "text/plain": [
       "Output()"
      ]
     },
     "metadata": {},
     "output_type": "display_data"
    },
    {
     "data": {
      "text/html": [
       "<pre style=\"white-space:pre;overflow-x:auto;line-height:normal;font-family:Menlo,'DejaVu Sans Mono',consolas,'Courier New',monospace\"></pre>\n"
      ],
      "text/plain": []
     },
     "metadata": {},
     "output_type": "display_data"
    },
    {
     "data": {
      "text/html": [
       "<pre style=\"white-space:pre;overflow-x:auto;line-height:normal;font-family:Menlo,'DejaVu Sans Mono',consolas,'Courier New',monospace\">\n",
       "</pre>\n"
      ],
      "text/plain": [
       "\n"
      ]
     },
     "metadata": {},
     "output_type": "display_data"
    },
    {
     "data": {
      "application/vnd.jupyter.widget-view+json": {
       "model_id": "343961d7d4554c6a9a802eb51ece38c3",
       "version_major": 2,
       "version_minor": 0
      },
      "text/plain": [
       "Output()"
      ]
     },
     "metadata": {},
     "output_type": "display_data"
    },
    {
     "data": {
      "text/html": [
       "<pre style=\"white-space:pre;overflow-x:auto;line-height:normal;font-family:Menlo,'DejaVu Sans Mono',consolas,'Courier New',monospace\"><span style=\"color: #7fbfbf; text-decoration-color: #7fbfbf\">14:11:25 W. Europe Standard Time </span>status = postprocess                           \n",
       "</pre>\n"
      ],
      "text/plain": [
       "\u001b[2;36m14:11:25 W. Europe Standard Time\u001b[0m\u001b[2;36m \u001b[0mstatus = postprocess                           \n"
      ]
     },
     "metadata": {},
     "output_type": "display_data"
    },
    {
     "data": {
      "text/html": [
       "<pre style=\"white-space:pre;overflow-x:auto;line-height:normal;font-family:Menlo,'DejaVu Sans Mono',consolas,'Courier New',monospace\"><span style=\"color: #7fbfbf; text-decoration-color: #7fbfbf\">14:12:08 W. Europe Standard Time </span>status = success                               \n",
       "</pre>\n"
      ],
      "text/plain": [
       "\u001b[2;36m14:12:08 W. Europe Standard Time\u001b[0m\u001b[2;36m \u001b[0mstatus = success                               \n"
      ]
     },
     "metadata": {},
     "output_type": "display_data"
    },
    {
     "data": {
      "text/html": [
       "<pre style=\"white-space:pre;overflow-x:auto;line-height:normal;font-family:Menlo,'DejaVu Sans Mono',consolas,'Courier New',monospace\"></pre>\n"
      ],
      "text/plain": []
     },
     "metadata": {},
     "output_type": "display_data"
    },
    {
     "data": {
      "text/html": [
       "<pre style=\"white-space:pre;overflow-x:auto;line-height:normal;font-family:Menlo,'DejaVu Sans Mono',consolas,'Courier New',monospace\"><span style=\"color: #7fbfbf; text-decoration-color: #7fbfbf\">                                 </span>View simulation result at                      \n",
       "<span style=\"color: #7fbfbf; text-decoration-color: #7fbfbf\">                                 </span><a href=\"https://tidy3d.simulation.cloud/workbench?taskId=fdve-533572b8-ba7f-4511-bd90-457340e30b51\" target=\"_blank\"><span style=\"color: #000080; text-decoration-color: #000080; text-decoration: underline\">'https://tidy3d.simulation.cloud/workbench?task</span></a>\n",
       "<span style=\"color: #7fbfbf; text-decoration-color: #7fbfbf\">                                 </span><a href=\"https://tidy3d.simulation.cloud/workbench?taskId=fdve-533572b8-ba7f-4511-bd90-457340e30b51\" target=\"_blank\"><span style=\"color: #000080; text-decoration-color: #000080; text-decoration: underline\">Id=fdve-533572b8-ba7f-4511-bd90-457340e30b51'</span></a><span style=\"color: #000080; text-decoration-color: #000080; text-decoration: underline\">.</span> \n",
       "</pre>\n"
      ],
      "text/plain": [
       "\u001b[2;36m                                \u001b[0m\u001b[2;36m \u001b[0mView simulation result at                      \n",
       "\u001b[2;36m                                 \u001b[0m\u001b]8;id=453473;https://tidy3d.simulation.cloud/workbench?taskId=fdve-533572b8-ba7f-4511-bd90-457340e30b51\u001b\\\u001b[4;34m'https://tidy3d.simulation.cloud/workbench?\u001b[0m\u001b]8;;\u001b\\\u001b]8;id=763228;https://tidy3d.simulation.cloud/workbench?taskId=fdve-533572b8-ba7f-4511-bd90-457340e30b51\u001b\\\u001b[4;34mtask\u001b[0m\u001b]8;;\u001b\\\n",
       "\u001b[2;36m                                 \u001b[0m\u001b]8;id=763228;https://tidy3d.simulation.cloud/workbench?taskId=fdve-533572b8-ba7f-4511-bd90-457340e30b51\u001b\\\u001b[4;34mId\u001b[0m\u001b]8;;\u001b\\\u001b]8;id=453473;https://tidy3d.simulation.cloud/workbench?taskId=fdve-533572b8-ba7f-4511-bd90-457340e30b51\u001b\\\u001b[4;34m=\u001b[0m\u001b]8;;\u001b\\\u001b]8;id=950817;https://tidy3d.simulation.cloud/workbench?taskId=fdve-533572b8-ba7f-4511-bd90-457340e30b51\u001b\\\u001b[4;34mfdve\u001b[0m\u001b]8;;\u001b\\\u001b]8;id=453473;https://tidy3d.simulation.cloud/workbench?taskId=fdve-533572b8-ba7f-4511-bd90-457340e30b51\u001b\\\u001b[4;34m-533572b8-ba7f-4511-bd90-457340e30b51'\u001b[0m\u001b]8;;\u001b\\\u001b[4;34m.\u001b[0m \n"
      ]
     },
     "metadata": {},
     "output_type": "display_data"
    }
   ],
   "source": [
    "if run:\n",
    "        id0 = ''\n",
    "        print(\"running ref...\")\n",
    "        id0 = web.upload(sim.copy(update={\"structures\":[]}), folder_name=project_name,task_name=sim_name+'_0', verbose=True)\n",
    "        web.start(task_id = id0)\n",
    "        web.monitor(task_id=id0,verbose=True)\n",
    "\n",
    "        id =web.upload(sim, folder_name=project_name,task_name=sim_name, verbose=True)\n",
    "        web.start(task_id = id)\n",
    "        web.monitor(task_id=id,verbose=True)\n",
    "    \n",
    "        ids = (id0 if id0 else '') +'\\n' + id\n",
    "        incidence_folder = \"z_incidence\"\n",
    "        file_path = rf\"H:\\phd stuff\\tidy3d\\data/{project_name}/{incidence_folder}/{sim_name}.txt\"\n",
    "        # Check if the folder exists\n",
    "        if not os.path.exists( rf\"H:\\phd stuff\\tidy3d\\data/{project_name}/{incidence_folder}\"):\n",
    "            os.makedirs(rf\"H:\\phd stuff\\tidy3d\\data/{project_name}/{incidence_folder}\")\n",
    "            print(f\"Folder '{project_name}/{incidence_folder}' created successfully.\")\n",
    "\n",
    "        # Open file in write mode\n",
    "        with open(file_path, \"w\") as file:\n",
    "            # Write the string to the file\n",
    "            file.write(ids)"
   ]
  }
 ],
 "metadata": {
  "kernelspec": {
   "display_name": "Python 3",
   "language": "python",
   "name": "python3"
  },
  "language_info": {
   "codemirror_mode": {
    "name": "ipython",
    "version": 3
   },
   "file_extension": ".py",
   "mimetype": "text/x-python",
   "name": "python",
   "nbconvert_exporter": "python",
   "pygments_lexer": "ipython3",
   "version": "3.12.4"
  }
 },
 "nbformat": 4,
 "nbformat_minor": 2
}
