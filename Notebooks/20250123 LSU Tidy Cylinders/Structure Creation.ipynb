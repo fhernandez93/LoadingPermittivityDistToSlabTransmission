{
 "cells": [
  {
   "cell_type": "code",
   "execution_count": 1,
   "metadata": {},
   "outputs": [],
   "source": [
    "%load_ext autoreload\n",
    "%autoreload 2\n",
    "%matplotlib inline\n",
    "import scipy.io as sio\n",
    "from dataclasses import dataclass\n",
    "from typing import List, Tuple\n",
    "import os\n",
    "from dotenv import load_dotenv\n",
    "load_dotenv()\n",
    "import tidy3d as td\n",
    "from tidy3d import web\n",
    "import numpy as np\n",
    "from pathlib import Path\n",
    "from stl import mesh\n",
    "import matplotlib.pyplot as plt"
   ]
  },
  {
   "cell_type": "code",
   "execution_count": 2,
   "metadata": {},
   "outputs": [],
   "source": [
    "import sys\n",
    "import os\n",
    "\n",
    "# Assuming /AutomationModule is in the root directory of your project\n",
    "sys.path.append(os.path.abspath(r'H:\\phd stuff\\tidy3d'))\n",
    "\n",
    "from AutomationModule import * \n",
    "\n",
    "import AutomationModule as AM"
   ]
  },
  {
   "cell_type": "code",
   "execution_count": 3,
   "metadata": {},
   "outputs": [],
   "source": [
    "def get_coords(multiplication_factor,t_slab_x,t_slab_y,t_slab_z):\n",
    "    x_size,y_size,z_size = t_slab_x/multiplication_factor,t_slab_y/multiplication_factor,t_slab_z\n",
    "    coordinates_slabs=[]\n",
    "    for i in range(multiplication_factor):\n",
    "        for j in range(multiplication_factor):\n",
    "            center_x = (i - ( multiplication_factor/ 2) + 0.5) * x_size\n",
    "            center_y = (j - ( multiplication_factor/ 2) + 0.5) * y_size\n",
    "            center_z = 0  # All cubes are centered on the z=0 plane\n",
    "            coord_item = {\n",
    "                    \"X\": (center_x - x_size/2, center_x + x_size/2),\n",
    "                    \"Y\": (center_y - y_size/2, center_y + y_size/2),\n",
    "                    \"Z\": (-z_size/2, z_size/2),\n",
    "                    \"center\": (center_x, center_y, center_z)\n",
    "                    }\n",
    "            \n",
    "            coordinates_slabs+=[coord_item]\n",
    "\n",
    "    return coordinates_slabs"
   ]
  },
  {
   "cell_type": "code",
   "execution_count": 4,
   "metadata": {},
   "outputs": [],
   "source": [
    "# Function to create a solid cylinder with specified center coordinates\n",
    "def create_cylinder_from_ends(top_center, bottom_center, radius):\n",
    "    # Calculate height of the cylinder\n",
    "    height = np.linalg.norm(np.array(top_center) - np.array(bottom_center))\n",
    "    bottom_center=bottom_center\n",
    "\n",
    "    # Calculate the vector direction of the cylinder\n",
    "    axis_direction = np.array(top_center) - np.array(bottom_center)\n",
    "    axis_direction /= np.linalg.norm(axis_direction) #Unitary vector to calculate rotation angle \n",
    "\n",
    "    # Calculate the rotation matrix to align cylinder with the given axis direction\n",
    "    z_axis = np.array([0, 0, 1])\n",
    "    rotation_axis = np.cross(z_axis, axis_direction)\n",
    "    rotation_angle = np.arccos(np.dot(z_axis, axis_direction))\n",
    "    rotation_matrix = mesh.Mesh.rotation_matrix(rotation_axis, rotation_angle)\n",
    "    # Create a 4x4 identity matrix\n",
    "    matrix_4x4 = np.eye(4)\n",
    "\n",
    "    # Insert the 3x3 matrix into the top-left corner of the new matrix\n",
    "    matrix_4x4[:3, :3] = np.copy(rotation_matrix)\n",
    "\n",
    "    # Set the fourth column and fourth row for homogeneous transformation\n",
    "    # The typical homogeneous transformation uses [0, 0, 0, 1] for the last row and column\n",
    "    matrix_4x4[3, :3] = [0, 0, 0]  # Fourth row\n",
    "    matrix_4x4[:3, 3] = [0, 0, 0]  # Fourth column\n",
    "    matrix_4x4[3, 3] = 1           # Bottom-right corner remains 1\n",
    "\n",
    "    \n",
    "   \n",
    "    cylinder_center = tuple((np.array(top_center) + np.array(bottom_center))/2)\n",
    "    trans = td.Transformed.translation(cylinder_center[0],cylinder_center[1],cylinder_center[2])\n",
    "    transformed = td.Transformed(geometry=td.Cylinder(center=(0,0,0), radius=radius, length=height),transform=trans@matrix_4x4)\n",
    "\n",
    "    return transformed"
   ]
  },
  {
   "cell_type": "code",
   "execution_count": 5,
   "metadata": {},
   "outputs": [],
   "source": [
    "tidy3dAPI = os.environ[\"API_TIDY3D_KEY\"]"
   ]
  },
  {
   "cell_type": "code",
   "execution_count": 6,
   "metadata": {},
   "outputs": [],
   "source": [
    "a = 3.4\n",
    "lambdas = np.array([7,2])/0.8\n"
   ]
  },
  {
   "cell_type": "code",
   "execution_count": 7,
   "metadata": {},
   "outputs": [
    {
     "data": {
      "text/plain": [
       "array([8.75, 2.5 ])"
      ]
     },
     "execution_count": 7,
     "metadata": {},
     "output_type": "execute_result"
    }
   ],
   "source": [
    "lambdas"
   ]
  },
  {
   "cell_type": "code",
   "execution_count": 8,
   "metadata": {},
   "outputs": [
    {
     "name": "stdout",
     "output_type": "stream",
     "text": [
      "02_Sample_600_res_L18.01_28ff_eps.h5\n",
      "Configured successfully.\n"
     ]
    },
    {
     "ename": "KeyboardInterrupt",
     "evalue": "",
     "output_type": "error",
     "traceback": [
      "\u001b[1;31m---------------------------------------------------------------------------\u001b[0m",
      "\u001b[1;31mKeyboardInterrupt\u001b[0m                         Traceback (most recent call last)",
      "Cell \u001b[1;32mIn[8], line 15\u001b[0m\n\u001b[0;32m     13\u001b[0m \u001b[38;5;28;01mif\u001b[39;00m os\u001b[38;5;241m.\u001b[39mpath\u001b[38;5;241m.\u001b[39misfile(os\u001b[38;5;241m.\u001b[39mpath\u001b[38;5;241m.\u001b[39mjoin(folder_path, filename)):\n\u001b[0;32m     14\u001b[0m     file\u001b[38;5;241m=\u001b[39mos\u001b[38;5;241m.\u001b[39mpath\u001b[38;5;241m.\u001b[39mjoin(folder_path, filename)\n\u001b[1;32m---> 15\u001b[0m     structure_1 \u001b[38;5;241m=\u001b[39m \u001b[43mAM\u001b[49m\u001b[38;5;241;43m.\u001b[39;49m\u001b[43mloadAndRunStructure\u001b[49m\u001b[43m(\u001b[49m\u001b[43mkey\u001b[49m\u001b[43m \u001b[49m\u001b[38;5;241;43m=\u001b[39;49m\u001b[43m \u001b[49m\u001b[43mtidy3dAPI\u001b[49m\u001b[43m,\u001b[49m\u001b[43m \u001b[49m\u001b[43mfile_path\u001b[49m\u001b[38;5;241;43m=\u001b[39;49m\u001b[43mfile\u001b[49m\n\u001b[0;32m     16\u001b[0m \u001b[43m                                    \u001b[49m\u001b[43m,\u001b[49m\u001b[43mdirection\u001b[49m\u001b[38;5;241;43m=\u001b[39;49m\u001b[43mdirection\u001b[49m\u001b[43m,\u001b[49m\u001b[43m \u001b[49m\u001b[43mlambda_range\u001b[49m\u001b[38;5;241;43m=\u001b[39;49m\u001b[43mlambdas\u001b[49m\u001b[43m,\u001b[49m\n\u001b[0;32m     17\u001b[0m \u001b[43m                                    \u001b[49m\u001b[43mbox_size\u001b[49m\u001b[38;5;241;43m=\u001b[39;49m\u001b[38;5;241;43m14.3\u001b[39;49m\u001b[43m,\u001b[49m\u001b[43mruntime_ps\u001b[49m\u001b[38;5;241;43m=\u001b[39;49m\u001b[43mruntime_ps\u001b[49m\u001b[43m,\u001b[49m\u001b[43mmin_steps_per_lambda\u001b[49m\u001b[38;5;241;43m=\u001b[39;49m\u001b[43mmin_steps_per_lambda\u001b[49m\u001b[43m,\u001b[49m\u001b[43m \u001b[49m\u001b[43mpermittivity\u001b[49m\u001b[38;5;241;43m=\u001b[39;49m\u001b[43mperm\u001b[49m\u001b[43m,\u001b[49m\n\u001b[0;32m     18\u001b[0m \u001b[43m                                   \u001b[49m\u001b[43mscaling\u001b[49m\u001b[38;5;241;43m=\u001b[39;49m\u001b[38;5;241;43m1\u001b[39;49m\u001b[43m,\u001b[49m\u001b[43mshuoff_condtion\u001b[49m\u001b[38;5;241;43m=\u001b[39;49m\u001b[38;5;241;43m1e-20\u001b[39;49m\u001b[43m,\u001b[49m\u001b[43m \u001b[49m\u001b[43mverbose\u001b[49m\u001b[38;5;241;43m=\u001b[39;49m\u001b[38;5;28;43;01mTrue\u001b[39;49;00m\u001b[43m,\u001b[49m\u001b[43m \u001b[49m\n\u001b[0;32m     19\u001b[0m \u001b[43m                                   \u001b[49m\u001b[43mmonitors\u001b[49m\u001b[38;5;241;43m=\u001b[39;49m\u001b[43m[\u001b[49m\u001b[38;5;124;43m\"\u001b[39;49m\u001b[38;5;124;43mflux\u001b[39;49m\u001b[38;5;124;43m\"\u001b[39;49m\u001b[43m]\u001b[49m\u001b[43m,\u001b[49m\u001b[43m \u001b[49m\u001b[43mfreqs\u001b[49m\u001b[38;5;241;43m=\u001b[39;49m\u001b[38;5;241;43m280\u001b[39;49m\u001b[43m,\u001b[49m\u001b[43m \u001b[49m\n\u001b[0;32m     20\u001b[0m \u001b[43m                                   \u001b[49m\u001b[43mcut_condition\u001b[49m\u001b[38;5;241;43m=\u001b[39;49m\u001b[38;5;241;43m1\u001b[39;49m\u001b[43m,\u001b[49m\u001b[43m \u001b[49m\u001b[43msource\u001b[49m\u001b[38;5;241;43m=\u001b[39;49m\u001b[38;5;124;43m\"\u001b[39;49m\u001b[38;5;124;43mTight\u001b[39;49m\u001b[38;5;124;43m\"\u001b[39;49m\u001b[43m,\u001b[49m\u001b[43m \u001b[49m\u001b[43mabsorbers\u001b[49m\u001b[38;5;241;43m=\u001b[39;49m\u001b[38;5;241;43m200\u001b[39;49m\u001b[43m,\u001b[49m\u001b[43m \u001b[49m\u001b[43muse_permittivity\u001b[49m\u001b[38;5;241;43m=\u001b[39;49m\u001b[38;5;28;43;01mFalse\u001b[39;49;00m\u001b[43m,\u001b[49m\u001b[43m \u001b[49m\u001b[43msource_size\u001b[49m\u001b[38;5;241;43m=\u001b[39;49m\u001b[38;5;241;43m7\u001b[39;49m\u001b[43m,\u001b[49m\n\u001b[0;32m     21\u001b[0m \u001b[43m                                   \u001b[49m\u001b[43mref_only\u001b[49m\u001b[38;5;241;43m=\u001b[39;49m\u001b[38;5;28;43;01mTrue\u001b[39;49;00m\u001b[43m,\u001b[49m\u001b[43m \u001b[49m\u001b[43mmultiplicate_size\u001b[49m\u001b[38;5;241;43m=\u001b[39;49m\u001b[38;5;28;43;01mTrue\u001b[39;49;00m\u001b[43m,\u001b[49m\u001b[43mmultiplication_factor\u001b[49m\u001b[38;5;241;43m=\u001b[39;49m\u001b[43mmultiplication_factor\u001b[49m\u001b[43m,\u001b[49m\u001b[43mwidth\u001b[49m\u001b[38;5;241;43m=\u001b[39;49m\u001b[38;5;241;43m0.4\u001b[39;49m\n\u001b[0;32m     22\u001b[0m \u001b[43m                                   \u001b[49m\u001b[43m)\u001b[49m\n\u001b[0;32m     25\u001b[0m     \u001b[38;5;66;03m# print(structure_1.__str__())\u001b[39;00m\n\u001b[0;32m     26\u001b[0m     \u001b[38;5;66;03m# structure_1.plot_sim_layout()\u001b[39;00m\n",
      "File \u001b[1;32mH:\\phd stuff\\tidy3d\\AutomationModule\\loadStructures.py:136\u001b[0m, in \u001b[0;36mloadAndRunStructure.__init__\u001b[1;34m(self, key, file_path, direction, lambda_range, box_size, runtime, width, freqs, permittivity, use_permittivity, min_steps_per_lambda, permittivity_dist, scaling, shuoff_condtion, sim_mode, subpixel, verbose, monitors, cut_condition, cut_cell, cell_size_manual, source, multiplicate_size, tight_percentage, source_size, multiplication_factor, pol_angle, ref_only, absorbers, sim_name, runtime_ps, flux_monitor_position)\u001b[0m\n\u001b[0;32m    128\u001b[0m \u001b[38;5;28mself\u001b[39m\u001b[38;5;241m.\u001b[39mt_slab_z \u001b[38;5;241m=\u001b[39m \u001b[38;5;28mself\u001b[39m\u001b[38;5;241m.\u001b[39mt_slab\u001b[38;5;241m*\u001b[39mcut_condition \u001b[38;5;28;01mif\u001b[39;00m direction\u001b[38;5;241m==\u001b[39m\u001b[38;5;124m\"\u001b[39m\u001b[38;5;124mz\u001b[39m\u001b[38;5;124m\"\u001b[39m \u001b[38;5;28;01melse\u001b[39;00m \u001b[38;5;28mself\u001b[39m\u001b[38;5;241m.\u001b[39mt_slab\n\u001b[0;32m    130\u001b[0m \u001b[38;5;28mself\u001b[39m\u001b[38;5;241m.\u001b[39msim_size \u001b[38;5;241m=\u001b[39m \u001b[38;5;28mself\u001b[39m\u001b[38;5;241m.\u001b[39mLx, \u001b[38;5;28mself\u001b[39m\u001b[38;5;241m.\u001b[39mLy, \u001b[38;5;28mself\u001b[39m\u001b[38;5;241m.\u001b[39mLz \u001b[38;5;241m=\u001b[39m (\n\u001b[0;32m    131\u001b[0m                               ((\u001b[38;5;28mself\u001b[39m\u001b[38;5;241m.\u001b[39mt_slab_x)\u001b[38;5;241m/\u001b[39m(cut_condition \u001b[38;5;28;01mif\u001b[39;00m \u001b[38;5;129;01mnot\u001b[39;00m cut_cell \u001b[38;5;28;01melse\u001b[39;00m \u001b[38;5;241m1\u001b[39m)\u001b[38;5;241m+\u001b[39m\u001b[38;5;28mself\u001b[39m\u001b[38;5;241m.\u001b[39mspacing\u001b[38;5;241m*\u001b[39m\u001b[38;5;241m2\u001b[39m \u001b[38;5;28;01mif\u001b[39;00m direction \u001b[38;5;241m==\u001b[39m \u001b[38;5;124m\"\u001b[39m\u001b[38;5;124mx\u001b[39m\u001b[38;5;124m\"\u001b[39m \u001b[38;5;28;01melse\u001b[39;00m \u001b[38;5;28mself\u001b[39m\u001b[38;5;241m.\u001b[39mt_slab_x),\n\u001b[0;32m    132\u001b[0m                               ((\u001b[38;5;28mself\u001b[39m\u001b[38;5;241m.\u001b[39mt_slab_y)\u001b[38;5;241m/\u001b[39m(cut_condition \u001b[38;5;28;01mif\u001b[39;00m \u001b[38;5;129;01mnot\u001b[39;00m cut_cell \u001b[38;5;28;01melse\u001b[39;00m \u001b[38;5;241m1\u001b[39m)\u001b[38;5;241m+\u001b[39m\u001b[38;5;28mself\u001b[39m\u001b[38;5;241m.\u001b[39mspacing\u001b[38;5;241m*\u001b[39m\u001b[38;5;241m2\u001b[39m \u001b[38;5;28;01mif\u001b[39;00m direction \u001b[38;5;241m==\u001b[39m \u001b[38;5;124m\"\u001b[39m\u001b[38;5;124my\u001b[39m\u001b[38;5;124m\"\u001b[39m \u001b[38;5;28;01melse\u001b[39;00m \u001b[38;5;28mself\u001b[39m\u001b[38;5;241m.\u001b[39mt_slab_y),\n\u001b[0;32m    133\u001b[0m                              (cell_size_manual \u001b[38;5;28;01mif\u001b[39;00m cell_size_manual \u001b[38;5;28;01melse\u001b[39;00m (\u001b[38;5;28mself\u001b[39m\u001b[38;5;241m.\u001b[39mt_slab_z)\u001b[38;5;241m/\u001b[39m(cut_condition \u001b[38;5;28;01mif\u001b[39;00m \u001b[38;5;129;01mnot\u001b[39;00m cut_cell \u001b[38;5;28;01melse\u001b[39;00m \u001b[38;5;241m1\u001b[39m)\u001b[38;5;241m+\u001b[39m\u001b[38;5;28mself\u001b[39m\u001b[38;5;241m.\u001b[39mspacing\u001b[38;5;241m*\u001b[39m\u001b[38;5;241m2\u001b[39m \u001b[38;5;28;01mif\u001b[39;00m direction \u001b[38;5;241m==\u001b[39m \u001b[38;5;124m\"\u001b[39m\u001b[38;5;124mz\u001b[39m\u001b[38;5;124m\"\u001b[39m \u001b[38;5;28;01melse\u001b[39;00m \u001b[38;5;28mself\u001b[39m\u001b[38;5;241m.\u001b[39mt_slab_z)\n\u001b[0;32m    134\u001b[0m                               )\n\u001b[1;32m--> 136\u001b[0m \u001b[38;5;28mself\u001b[39m\u001b[38;5;241m.\u001b[39msim \u001b[38;5;241m=\u001b[39m \u001b[38;5;28;43mself\u001b[39;49m\u001b[38;5;241;43m.\u001b[39;49m\u001b[43msimulation_definition\u001b[49m\u001b[43m(\u001b[49m\u001b[43m)\u001b[49m\n",
      "File \u001b[1;32mH:\\phd stuff\\tidy3d\\AutomationModule\\loadStructures.py:547\u001b[0m, in \u001b[0;36mloadAndRunStructure.simulation_definition\u001b[1;34m(self)\u001b[0m\n\u001b[0;32m    545\u001b[0m \u001b[38;5;28;01mdef\u001b[39;00m \u001b[38;5;21msimulation_definition\u001b[39m(\u001b[38;5;28mself\u001b[39m):\n\u001b[1;32m--> 547\u001b[0m     definitions \u001b[38;5;241m=\u001b[39m \u001b[38;5;28;43mself\u001b[39;49m\u001b[38;5;241;43m.\u001b[39;49m\u001b[43mcreateSimObjects\u001b[49m\u001b[43m(\u001b[49m\u001b[43m)\u001b[49m\n\u001b[0;32m    548\u001b[0m     sim \u001b[38;5;241m=\u001b[39m td\u001b[38;5;241m.\u001b[39mSimulation(\n\u001b[0;32m    549\u001b[0m         center \u001b[38;5;241m=\u001b[39m (\u001b[38;5;241m0\u001b[39m, \u001b[38;5;241m0\u001b[39m, \u001b[38;5;241m0\u001b[39m),\n\u001b[0;32m    550\u001b[0m         size \u001b[38;5;241m=\u001b[39m definitions[\u001b[38;5;124m'\u001b[39m\u001b[38;5;124msize\u001b[39m\u001b[38;5;124m'\u001b[39m],\n\u001b[1;32m   (...)\u001b[0m\n\u001b[0;32m    560\u001b[0m \n\u001b[0;32m    561\u001b[0m         )\n\u001b[0;32m    563\u001b[0m     \u001b[38;5;28;01mif\u001b[39;00m \u001b[38;5;124m\"\u001b[39m\u001b[38;5;124mtime_monitorFieldOut\u001b[39m\u001b[38;5;124m\"\u001b[39m \u001b[38;5;129;01min\u001b[39;00m \u001b[38;5;28mself\u001b[39m\u001b[38;5;241m.\u001b[39mmonitors:\n",
      "File \u001b[1;32mH:\\phd stuff\\tidy3d\\AutomationModule\\loadStructures.py:382\u001b[0m, in \u001b[0;36mloadAndRunStructure.createSimObjects\u001b[1;34m(self)\u001b[0m\n\u001b[0;32m    379\u001b[0m coords \u001b[38;5;241m=\u001b[39m \u001b[38;5;28mdict\u001b[39m(x\u001b[38;5;241m=\u001b[39mX, y\u001b[38;5;241m=\u001b[39mY, z\u001b[38;5;241m=\u001b[39mZ)\n\u001b[0;32m    381\u001b[0m permittivity_data \u001b[38;5;241m=\u001b[39m SpatialDataArray(\u001b[38;5;28mself\u001b[39m\u001b[38;5;241m.\u001b[39mpermittivity_raw,coords\u001b[38;5;241m=\u001b[39mcoords)\n\u001b[1;32m--> 382\u001b[0m dielectric \u001b[38;5;241m=\u001b[39m \u001b[43mtd\u001b[49m\u001b[38;5;241;43m.\u001b[39;49m\u001b[43mCustomMedium\u001b[49m\u001b[43m(\u001b[49m\u001b[43mpermittivity\u001b[49m\u001b[38;5;241;43m=\u001b[39;49m\u001b[43mpermittivity_data\u001b[49m\u001b[43m)\u001b[49m\n\u001b[0;32m    385\u001b[0m \u001b[38;5;66;03m#Defining structure \u001b[39;00m\n\u001b[0;32m    386\u001b[0m slab_i \u001b[38;5;241m=\u001b[39m td\u001b[38;5;241m.\u001b[39mStructure(\n\u001b[0;32m    387\u001b[0m geometry\u001b[38;5;241m=\u001b[39mtd\u001b[38;5;241m.\u001b[39mBox(\n\u001b[0;32m    388\u001b[0m     center\u001b[38;5;241m=\u001b[39m item[\u001b[38;5;124m\"\u001b[39m\u001b[38;5;124mcenter\u001b[39m\u001b[38;5;124m\"\u001b[39m],\n\u001b[1;32m   (...)\u001b[0m\n\u001b[0;32m    396\u001b[0m name\u001b[38;5;241m=\u001b[39m\u001b[38;5;124mf\u001b[39m\u001b[38;5;124m'\u001b[39m\u001b[38;5;124mslab\u001b[39m\u001b[38;5;132;01m{\u001b[39;00mi\u001b[38;5;132;01m}\u001b[39;00m\u001b[38;5;124m'\u001b[39m,\n\u001b[0;32m    397\u001b[0m )\n",
      "File \u001b[1;32mc:\\Users\\HernandF\\AppData\\Local\\Programs\\Python\\Python312\\Lib\\site-packages\\tidy3d\\components\\base.py:139\u001b[0m, in \u001b[0;36mTidy3dBaseModel.__init__\u001b[1;34m(self, **kwargs)\u001b[0m\n\u001b[0;32m    137\u001b[0m \u001b[38;5;250m\u001b[39m\u001b[38;5;124;03m\"\"\"Init method, includes post-init validators.\"\"\"\u001b[39;00m\n\u001b[0;32m    138\u001b[0m log\u001b[38;5;241m.\u001b[39mbegin_capture()\n\u001b[1;32m--> 139\u001b[0m \u001b[38;5;28;43msuper\u001b[39;49m\u001b[43m(\u001b[49m\u001b[43m)\u001b[49m\u001b[38;5;241;43m.\u001b[39;49m\u001b[38;5;21;43m__init__\u001b[39;49m\u001b[43m(\u001b[49m\u001b[38;5;241;43m*\u001b[39;49m\u001b[38;5;241;43m*\u001b[39;49m\u001b[43mkwargs\u001b[49m\u001b[43m)\u001b[49m\n\u001b[0;32m    140\u001b[0m \u001b[38;5;28mself\u001b[39m\u001b[38;5;241m.\u001b[39m_post_init_validators()\n\u001b[0;32m    141\u001b[0m log\u001b[38;5;241m.\u001b[39mend_capture(\u001b[38;5;28mself\u001b[39m)\n",
      "File \u001b[1;32mc:\\Users\\HernandF\\AppData\\Local\\Programs\\Python\\Python312\\Lib\\site-packages\\pydantic\\v1\\main.py:339\u001b[0m, in \u001b[0;36mBaseModel.__init__\u001b[1;34m(__pydantic_self__, **data)\u001b[0m\n\u001b[0;32m    333\u001b[0m \u001b[38;5;250m\u001b[39m\u001b[38;5;124;03m\"\"\"\u001b[39;00m\n\u001b[0;32m    334\u001b[0m \u001b[38;5;124;03mCreate a new model by parsing and validating input data from keyword arguments.\u001b[39;00m\n\u001b[0;32m    335\u001b[0m \n\u001b[0;32m    336\u001b[0m \u001b[38;5;124;03mRaises ValidationError if the input data cannot be parsed to form a valid model.\u001b[39;00m\n\u001b[0;32m    337\u001b[0m \u001b[38;5;124;03m\"\"\"\u001b[39;00m\n\u001b[0;32m    338\u001b[0m \u001b[38;5;66;03m# Uses something other than `self` the first arg to allow \"self\" as a settable attribute\u001b[39;00m\n\u001b[1;32m--> 339\u001b[0m values, fields_set, validation_error \u001b[38;5;241m=\u001b[39m \u001b[43mvalidate_model\u001b[49m\u001b[43m(\u001b[49m\u001b[43m__pydantic_self__\u001b[49m\u001b[38;5;241;43m.\u001b[39;49m\u001b[38;5;18;43m__class__\u001b[39;49m\u001b[43m,\u001b[49m\u001b[43m \u001b[49m\u001b[43mdata\u001b[49m\u001b[43m)\u001b[49m\n\u001b[0;32m    340\u001b[0m \u001b[38;5;28;01mif\u001b[39;00m validation_error:\n\u001b[0;32m    341\u001b[0m     \u001b[38;5;28;01mraise\u001b[39;00m validation_error\n",
      "File \u001b[1;32mc:\\Users\\HernandF\\AppData\\Local\\Programs\\Python\\Python312\\Lib\\site-packages\\pydantic\\v1\\main.py:1074\u001b[0m, in \u001b[0;36mvalidate_model\u001b[1;34m(model, input_data, cls)\u001b[0m\n\u001b[0;32m   1071\u001b[0m     \u001b[38;5;28;01mif\u001b[39;00m check_extra:\n\u001b[0;32m   1072\u001b[0m         names_used\u001b[38;5;241m.\u001b[39madd(field\u001b[38;5;241m.\u001b[39mname \u001b[38;5;28;01mif\u001b[39;00m using_name \u001b[38;5;28;01melse\u001b[39;00m field\u001b[38;5;241m.\u001b[39malias)\n\u001b[1;32m-> 1074\u001b[0m v_, errors_ \u001b[38;5;241m=\u001b[39m \u001b[43mfield\u001b[49m\u001b[38;5;241;43m.\u001b[39;49m\u001b[43mvalidate\u001b[49m\u001b[43m(\u001b[49m\u001b[43mvalue\u001b[49m\u001b[43m,\u001b[49m\u001b[43m \u001b[49m\u001b[43mvalues\u001b[49m\u001b[43m,\u001b[49m\u001b[43m \u001b[49m\u001b[43mloc\u001b[49m\u001b[38;5;241;43m=\u001b[39;49m\u001b[43mfield\u001b[49m\u001b[38;5;241;43m.\u001b[39;49m\u001b[43malias\u001b[49m\u001b[43m,\u001b[49m\u001b[43m \u001b[49m\u001b[38;5;28;43mcls\u001b[39;49m\u001b[38;5;241;43m=\u001b[39;49m\u001b[43mcls_\u001b[49m\u001b[43m)\u001b[49m\n\u001b[0;32m   1075\u001b[0m \u001b[38;5;28;01mif\u001b[39;00m \u001b[38;5;28misinstance\u001b[39m(errors_, ErrorWrapper):\n\u001b[0;32m   1076\u001b[0m     errors\u001b[38;5;241m.\u001b[39mappend(errors_)\n",
      "File \u001b[1;32mc:\\Users\\HernandF\\AppData\\Local\\Programs\\Python\\Python312\\Lib\\site-packages\\pydantic\\v1\\fields.py:895\u001b[0m, in \u001b[0;36mModelField.validate\u001b[1;34m(self, v, values, loc, cls)\u001b[0m\n\u001b[0;32m    892\u001b[0m     v, errors \u001b[38;5;241m=\u001b[39m \u001b[38;5;28mself\u001b[39m\u001b[38;5;241m.\u001b[39m_validate_sequence_like(v, values, loc, \u001b[38;5;28mcls\u001b[39m)\n\u001b[0;32m    894\u001b[0m \u001b[38;5;28;01mif\u001b[39;00m \u001b[38;5;129;01mnot\u001b[39;00m errors \u001b[38;5;129;01mand\u001b[39;00m \u001b[38;5;28mself\u001b[39m\u001b[38;5;241m.\u001b[39mpost_validators:\n\u001b[1;32m--> 895\u001b[0m     v, errors \u001b[38;5;241m=\u001b[39m \u001b[38;5;28;43mself\u001b[39;49m\u001b[38;5;241;43m.\u001b[39;49m\u001b[43m_apply_validators\u001b[49m\u001b[43m(\u001b[49m\u001b[43mv\u001b[49m\u001b[43m,\u001b[49m\u001b[43m \u001b[49m\u001b[43mvalues\u001b[49m\u001b[43m,\u001b[49m\u001b[43m \u001b[49m\u001b[43mloc\u001b[49m\u001b[43m,\u001b[49m\u001b[43m \u001b[49m\u001b[38;5;28;43mcls\u001b[39;49m\u001b[43m,\u001b[49m\u001b[43m \u001b[49m\u001b[38;5;28;43mself\u001b[39;49m\u001b[38;5;241;43m.\u001b[39;49m\u001b[43mpost_validators\u001b[49m\u001b[43m)\u001b[49m\n\u001b[0;32m    896\u001b[0m \u001b[38;5;28;01mreturn\u001b[39;00m v, errors\n",
      "File \u001b[1;32mc:\\Users\\HernandF\\AppData\\Local\\Programs\\Python\\Python312\\Lib\\site-packages\\pydantic\\v1\\fields.py:1154\u001b[0m, in \u001b[0;36mModelField._apply_validators\u001b[1;34m(self, v, values, loc, cls, validators)\u001b[0m\n\u001b[0;32m   1152\u001b[0m \u001b[38;5;28;01mfor\u001b[39;00m validator \u001b[38;5;129;01min\u001b[39;00m validators:\n\u001b[0;32m   1153\u001b[0m     \u001b[38;5;28;01mtry\u001b[39;00m:\n\u001b[1;32m-> 1154\u001b[0m         v \u001b[38;5;241m=\u001b[39m \u001b[43mvalidator\u001b[49m\u001b[43m(\u001b[49m\u001b[38;5;28;43mcls\u001b[39;49m\u001b[43m,\u001b[49m\u001b[43m \u001b[49m\u001b[43mv\u001b[49m\u001b[43m,\u001b[49m\u001b[43m \u001b[49m\u001b[43mvalues\u001b[49m\u001b[43m,\u001b[49m\u001b[43m \u001b[49m\u001b[38;5;28;43mself\u001b[39;49m\u001b[43m,\u001b[49m\u001b[43m \u001b[49m\u001b[38;5;28;43mself\u001b[39;49m\u001b[38;5;241;43m.\u001b[39;49m\u001b[43mmodel_config\u001b[49m\u001b[43m)\u001b[49m\n\u001b[0;32m   1155\u001b[0m     \u001b[38;5;28;01mexcept\u001b[39;00m (\u001b[38;5;167;01mValueError\u001b[39;00m, \u001b[38;5;167;01mTypeError\u001b[39;00m, \u001b[38;5;167;01mAssertionError\u001b[39;00m) \u001b[38;5;28;01mas\u001b[39;00m exc:\n\u001b[0;32m   1156\u001b[0m         \u001b[38;5;28;01mreturn\u001b[39;00m v, ErrorWrapper(exc, loc)\n",
      "File \u001b[1;32mc:\\Users\\HernandF\\AppData\\Local\\Programs\\Python\\Python312\\Lib\\site-packages\\pydantic\\v1\\class_validators.py:306\u001b[0m, in \u001b[0;36m_generic_validator_cls.<locals>.<lambda>\u001b[1;34m(cls, v, values, field, config)\u001b[0m\n\u001b[0;32m    304\u001b[0m     \u001b[38;5;28;01mreturn\u001b[39;00m \u001b[38;5;28;01mlambda\u001b[39;00m \u001b[38;5;28mcls\u001b[39m, v, values, field, config: validator(\u001b[38;5;28mcls\u001b[39m, v)\n\u001b[0;32m    305\u001b[0m \u001b[38;5;28;01melif\u001b[39;00m args \u001b[38;5;241m==\u001b[39m {\u001b[38;5;124m'\u001b[39m\u001b[38;5;124mvalues\u001b[39m\u001b[38;5;124m'\u001b[39m}:\n\u001b[1;32m--> 306\u001b[0m     \u001b[38;5;28;01mreturn\u001b[39;00m \u001b[38;5;28;01mlambda\u001b[39;00m \u001b[38;5;28mcls\u001b[39m, v, values, field, config: \u001b[43mvalidator\u001b[49m\u001b[43m(\u001b[49m\u001b[38;5;28;43mcls\u001b[39;49m\u001b[43m,\u001b[49m\u001b[43m \u001b[49m\u001b[43mv\u001b[49m\u001b[43m,\u001b[49m\u001b[43m \u001b[49m\u001b[43mvalues\u001b[49m\u001b[38;5;241;43m=\u001b[39;49m\u001b[43mvalues\u001b[49m\u001b[43m)\u001b[49m\n\u001b[0;32m    307\u001b[0m \u001b[38;5;28;01melif\u001b[39;00m args \u001b[38;5;241m==\u001b[39m {\u001b[38;5;124m'\u001b[39m\u001b[38;5;124mfield\u001b[39m\u001b[38;5;124m'\u001b[39m}:\n\u001b[0;32m    308\u001b[0m     \u001b[38;5;28;01mreturn\u001b[39;00m \u001b[38;5;28;01mlambda\u001b[39;00m \u001b[38;5;28mcls\u001b[39m, v, values, field, config: validator(\u001b[38;5;28mcls\u001b[39m, v, field\u001b[38;5;241m=\u001b[39mfield)\n",
      "File \u001b[1;32mc:\\Users\\HernandF\\AppData\\Local\\Programs\\Python\\Python312\\Lib\\site-packages\\tidy3d\\components\\base.py:108\u001b[0m, in \u001b[0;36mskip_if_fields_missing.<locals>.actual_decorator.<locals>._validator\u001b[1;34m(cls, val, values)\u001b[0m\n\u001b[0;32m    102\u001b[0m         log\u001b[38;5;241m.\u001b[39mwarning(\n\u001b[0;32m    103\u001b[0m             \u001b[38;5;124mf\u001b[39m\u001b[38;5;124m\"\u001b[39m\u001b[38;5;124mCould not execute validator \u001b[39m\u001b[38;5;124m'\u001b[39m\u001b[38;5;132;01m{\u001b[39;00mvalidator\u001b[38;5;241m.\u001b[39m\u001b[38;5;18m__name__\u001b[39m\u001b[38;5;132;01m}\u001b[39;00m\u001b[38;5;124m'\u001b[39m\u001b[38;5;124m because field \u001b[39m\u001b[38;5;124m\"\u001b[39m\n\u001b[0;32m    104\u001b[0m             \u001b[38;5;124mf\u001b[39m\u001b[38;5;124m\"\u001b[39m\u001b[38;5;124m'\u001b[39m\u001b[38;5;132;01m{\u001b[39;00mfield\u001b[38;5;132;01m}\u001b[39;00m\u001b[38;5;124m'\u001b[39m\u001b[38;5;124m failed validation.\u001b[39m\u001b[38;5;124m\"\u001b[39m\n\u001b[0;32m    105\u001b[0m         )\n\u001b[0;32m    106\u001b[0m         \u001b[38;5;28;01mreturn\u001b[39;00m val\n\u001b[1;32m--> 108\u001b[0m \u001b[38;5;28;01mreturn\u001b[39;00m \u001b[43mvalidator\u001b[49m\u001b[43m(\u001b[49m\u001b[38;5;28;43mcls\u001b[39;49m\u001b[43m,\u001b[49m\u001b[43m \u001b[49m\u001b[43mval\u001b[49m\u001b[43m,\u001b[49m\u001b[43m \u001b[49m\u001b[43mvalues\u001b[49m\u001b[43m)\u001b[49m\n",
      "File \u001b[1;32mc:\\Users\\HernandF\\AppData\\Local\\Programs\\Python\\Python312\\Lib\\site-packages\\tidy3d\\components\\medium.py:1952\u001b[0m, in \u001b[0;36mCustomMedium._eps_inf_greater_no_less_than_one\u001b[1;34m(cls, val, values)\u001b[0m\n\u001b[0;32m   1949\u001b[0m \u001b[38;5;28;01mif\u001b[39;00m val \u001b[38;5;129;01mis\u001b[39;00m \u001b[38;5;28;01mNone\u001b[39;00m:\n\u001b[0;32m   1950\u001b[0m     \u001b[38;5;28;01mreturn\u001b[39;00m val\n\u001b[1;32m-> 1952\u001b[0m \u001b[38;5;28;01mif\u001b[39;00m \u001b[38;5;129;01mnot\u001b[39;00m \u001b[43mCustomMedium\u001b[49m\u001b[38;5;241;43m.\u001b[39;49m\u001b[43m_validate_isreal_dataarray\u001b[49m\u001b[43m(\u001b[49m\u001b[43mval\u001b[49m\u001b[43m)\u001b[49m:\n\u001b[0;32m   1953\u001b[0m     \u001b[38;5;28;01mraise\u001b[39;00m SetupError(\u001b[38;5;124m\"\u001b[39m\u001b[38;5;124m'\u001b[39m\u001b[38;5;124mpermittivity\u001b[39m\u001b[38;5;124m'\u001b[39m\u001b[38;5;124m must be real.\u001b[39m\u001b[38;5;124m\"\u001b[39m)\n\u001b[0;32m   1955\u001b[0m \u001b[38;5;28;01mif\u001b[39;00m np\u001b[38;5;241m.\u001b[39many(_get_numpy_array(val) \u001b[38;5;241m<\u001b[39m \u001b[38;5;241m1\u001b[39m):\n",
      "File \u001b[1;32mc:\\Users\\HernandF\\AppData\\Local\\Programs\\Python\\Python312\\Lib\\site-packages\\tidy3d\\components\\medium.py:1280\u001b[0m, in \u001b[0;36mAbstractCustomMedium._validate_isreal_dataarray\u001b[1;34m(dataarray)\u001b[0m\n\u001b[0;32m   1277\u001b[0m \u001b[38;5;129m@staticmethod\u001b[39m\n\u001b[0;32m   1278\u001b[0m \u001b[38;5;28;01mdef\u001b[39;00m \u001b[38;5;21m_validate_isreal_dataarray\u001b[39m(dataarray: CustomSpatialDataType) \u001b[38;5;241m-\u001b[39m\u001b[38;5;241m>\u001b[39m \u001b[38;5;28mbool\u001b[39m:\n\u001b[0;32m   1279\u001b[0m \u001b[38;5;250m    \u001b[39m\u001b[38;5;124;03m\"\"\"Validate that the dataarray is real\"\"\"\u001b[39;00m\n\u001b[1;32m-> 1280\u001b[0m     \u001b[38;5;28;01mreturn\u001b[39;00m np\u001b[38;5;241m.\u001b[39mall(\u001b[43mnp\u001b[49m\u001b[38;5;241;43m.\u001b[39;49m\u001b[43misreal\u001b[49m\u001b[43m(\u001b[49m\u001b[43m_get_numpy_array\u001b[49m\u001b[43m(\u001b[49m\u001b[43mdataarray\u001b[49m\u001b[43m)\u001b[49m\u001b[43m)\u001b[49m)\n",
      "File \u001b[1;32mc:\\Users\\HernandF\\AppData\\Local\\Programs\\Python\\Python312\\Lib\\site-packages\\autograd\\tracer.py:48\u001b[0m, in \u001b[0;36mprimitive.<locals>.f_wrapped\u001b[1;34m(*args, **kwargs)\u001b[0m\n\u001b[0;32m     46\u001b[0m     \u001b[38;5;28;01mreturn\u001b[39;00m new_box(ans, trace, node)\n\u001b[0;32m     47\u001b[0m \u001b[38;5;28;01melse\u001b[39;00m:\n\u001b[1;32m---> 48\u001b[0m     \u001b[38;5;28;01mreturn\u001b[39;00m \u001b[43mf_raw\u001b[49m\u001b[43m(\u001b[49m\u001b[38;5;241;43m*\u001b[39;49m\u001b[43margs\u001b[49m\u001b[43m,\u001b[49m\u001b[43m \u001b[49m\u001b[38;5;241;43m*\u001b[39;49m\u001b[38;5;241;43m*\u001b[39;49m\u001b[43mkwargs\u001b[49m\u001b[43m)\u001b[49m\n",
      "\u001b[1;31mKeyboardInterrupt\u001b[0m: "
     ]
    }
   ],
   "source": [
    "folder_path = rf\"H:\\phd stuff\\tidy3d\\structures\\08_13_2024 Luis H5 18.01a\\sample 2\"\n",
    "project_name = \"02_06_2025 LSU Beam Spreading\"\n",
    "postprocess_results = []\n",
    "runtime_ps = 35e-12\n",
    "min_steps_per_lambda = 20\n",
    "multiplication_factor = 6\n",
    "for direction in [\"z\"]: \n",
    "    for filename in os.listdir(folder_path):\n",
    "     for perm in [9]:\n",
    "        print(filename)\n",
    "        if not (Path(filename).suffix==\".h5\" or Path(filename).suffix==\".stl\"):\n",
    "            continue \n",
    "        if os.path.isfile(os.path.join(folder_path, filename)):\n",
    "            file=os.path.join(folder_path, filename)\n",
    "            structure_1 = AM.loadAndRunStructure(key = tidy3dAPI, file_path=file\n",
    "                                            ,direction=direction, lambda_range=lambdas,\n",
    "                                            box_size=14.3,runtime_ps=runtime_ps,min_steps_per_lambda=min_steps_per_lambda, permittivity=perm,\n",
    "                                           scaling=1,shuoff_condtion=1e-20, verbose=True, \n",
    "                                           monitors=[\"flux\"], freqs=280, \n",
    "                                           cut_condition=1, source=\"Tight\", absorbers=200, use_permittivity=False, source_size=7,\n",
    "                                           ref_only=True, multiplicate_size=True,multiplication_factor=multiplication_factor,width=0.4\n",
    "                                           )\n",
    "            \n",
    "           \n",
    "            # print(structure_1.__str__())\n",
    "            # structure_1.plot_sim_layout()\n",
    "\n",
    "            \n"
   ]
  },
  {
   "cell_type": "code",
   "execution_count": null,
   "metadata": {},
   "outputs": [],
   "source": [
    "file_path =  r\"H:\\phd stuff\\tidy3d\\structures\\End2EndFiles\\Florescu Uncut\\ak4_1000_ends.dat\"\n",
    "data = []\n",
    "with open(file_path, 'r') as file:\n",
    "    for line in file: \n",
    "        row = [float(value) for value in line.split()]\n",
    "        data += [np.array(row)]\n",
    "\n",
    "data = np.array(data)\n",
    "\n",
    "tops_centered = (data[:,:3])\n",
    "bottoms_centered = (data[:,3:])\n",
    "\n",
    "radius = 0.38\n",
    "\n",
    "\n",
    "cyl_group = []\n",
    "\n",
    "\n",
    "\n",
    "coords = get_coords(structure_1.multiplication_factor,structure_1.t_slab_x,structure_1.t_slab_y,structure_1.t_slab_z)\n",
    "\n",
    "\n",
    "for k,coord in enumerate(coords):\n",
    "    tops = np.copy(tops_centered)\n",
    "    bottoms = np.copy(bottoms_centered)\n",
    "    tops[:,0]+=coord[\"center\"][0]\n",
    "    tops[:,1]+=coord[\"center\"][1]\n",
    "    tops[:,2]+=coord[\"center\"][2]\n",
    "    bottoms[:,0]+=coord[\"center\"][0]\n",
    "    bottoms[:,1]+=coord[\"center\"][1]\n",
    "    bottoms[:,2]+=coord[\"center\"][2]\n",
    "    for cil,item in enumerate(tops):\n",
    "         cyl_group.append(create_cylinder_from_ends(tops[cil], bottoms[cil], radius))\n",
    "\n",
    "    \n",
    "   \n"
   ]
  },
  {
   "cell_type": "code",
   "execution_count": null,
   "metadata": {},
   "outputs": [],
   "source": [
    "sim = structure_1.sim\n"
   ]
  },
  {
   "cell_type": "code",
   "execution_count": null,
   "metadata": {},
   "outputs": [],
   "source": [
    "structure_1.permittivity_value"
   ]
  },
  {
   "cell_type": "code",
   "execution_count": null,
   "metadata": {},
   "outputs": [],
   "source": [
    "medium=td.Medium(permittivity=structure_1.permittivity_value)\n",
    "structure = td.Structure(geometry=td.GeometryGroup(geometries=cyl_group),  medium=medium)\n",
    "cube = td.Structure(geometry= td.Box(\n",
    "                        center=(0,  0 ,0),\n",
    "                        size=(\n",
    "                                structure_1.t_slab_x, \n",
    "                                structure_1.t_slab_y, \n",
    "                                structure_1.t_slab_z\n",
    "                              ),\n",
    "                    ),medium=td.Medium(permittivity=1))\n",
    "\n"
   ]
  },
  {
   "cell_type": "code",
   "execution_count": null,
   "metadata": {},
   "outputs": [],
   "source": [
    "\n",
    "Lx, Ly, Lz =structure_1.Lx,structure_1.Ly,structure_1.Lz+10\n",
    "\n",
    "\n",
    "time_monitorFieldLateral = td.FieldTimeMonitor(\n",
    "                center = (0,0,0),\n",
    "                size = (0,Ly,Lz),\n",
    "                    start=0,\n",
    "                    stop=structure_1.t_stop,\n",
    "                    interval=200,\n",
    "                    fields=[\"Ex\", \"Ey\", \"Ez\"],\n",
    "                    name=\"time_monitorFieldLateral\",\n",
    "                )\n",
    "\n",
    "\n",
    "time_monitorT = td.FluxTimeMonitor(\n",
    "                    center=[\n",
    "                        (structure_1.Lx - structure_1.spacing)*0.5 if structure_1.direction == \"x\" else 0, \n",
    "                        (structure_1.Ly - structure_1.spacing)*0.5 if structure_1.direction == \"y\" else 0, \n",
    "                        (structure_1.Lz - structure_1.spacing)*0.5 if structure_1.direction == \"z\" else 0\n",
    "\n",
    "\n",
    "                        ],\n",
    "                    size=[\n",
    "                        td.inf,td.inf,0\n",
    "                        ],\n",
    "                    interval = 200,\n",
    "                    name=\"time_monitorT\",\n",
    "\n",
    "                )\n",
    "\n",
    "\n",
    "#Monitor Flux#################\n",
    "\n",
    "monitor_1 = td.FluxMonitor(\n",
    "                center = (\n",
    "                            (structure_1.Lx - structure_1.spacing)*0.5 if structure_1.direction == \"x\" else 0, \n",
    "                            (structure_1.Ly - structure_1.spacing)*0.5 if structure_1.direction == \"y\" else 0, \n",
    "                            (structure_1.Lz - structure_1.spacing)*0.5 if structure_1.direction == \"z\" else 0\n",
    "                            ),\n",
    "                size = (\n",
    "                    0 if structure_1.direction == \"x\" else td.inf, \n",
    "                    0 if structure_1.direction == \"y\" else td.inf, \n",
    "                    0 if structure_1.direction == \"z\" else td.inf, \n",
    "                    ),\n",
    "                freqs = structure_1.monitor_freqs,\n",
    "                name='flux1' #To the right \n",
    "            )\n",
    "  \n",
    "\n",
    "monitor_2 = td.FluxMonitor(\n",
    "                center = (\n",
    "                        (-structure_1.Lx+structure_1.spacing)*0.5 if structure_1.direction ==\"x\" else 0, \n",
    "                        (-structure_1.Ly+structure_1.spacing)*0.5 if structure_1.direction ==\"y\" else 0, \n",
    "                        (-structure_1.Lz+structure_1.spacing)*0.5 +1 if structure_1.direction ==\"z\" else 0\n",
    "                        ),\n",
    "                size = (\n",
    "                    0 if structure_1.direction == \"x\" else td.inf, \n",
    "                    0 if structure_1.direction == \"y\" else td.inf, \n",
    "                    0 if structure_1.direction == \"z\" else td.inf\n",
    "                    ),\n",
    "                freqs = structure_1.monitor_freqs,\n",
    "                name='flux2'#To the left\n",
    "            )\n",
    "  \n",
    "\n",
    "monitor_1_small = td.FluxMonitor(\n",
    "                center = (\n",
    "                            (structure_1.Lx - structure_1.spacing)*0.5 if structure_1.direction == \"x\" else 0, \n",
    "                            (structure_1.Ly - structure_1.spacing)*0.5 if structure_1.direction == \"y\" else 0, \n",
    "                            (structure_1.Lz - structure_1.spacing)*0.5 if structure_1.direction == \"z\" else 0\n",
    "                            ),\n",
    "                size = (\n",
    "                    lambdas[0]/3,\n",
    "                    lambdas[0]/3,\n",
    "                    0\n",
    "                    ),\n",
    "                freqs = structure_1.monitor_freqs,\n",
    "                name='flux1_small' #To the right \n",
    "            )\n",
    "  \n",
    "\n",
    "monitor_2_small = td.FluxMonitor(\n",
    "                center = (\n",
    "                        (-structure_1.Lx+structure_1.spacing)*0.5 if structure_1.direction ==\"x\" else 0, \n",
    "                        (-structure_1.Ly+structure_1.spacing)*0.5 if structure_1.direction ==\"y\" else 0, \n",
    "                        (-structure_1.Lz+structure_1.spacing)*0.5 + 1 if structure_1.direction ==\"z\" else 0\n",
    "                        ),\n",
    "                size = (\n",
    "                    lambdas[0]/3,\n",
    "                    lambdas[0]/3,\n",
    "                    0\n",
    "                    ),\n",
    "                freqs = structure_1.monitor_freqs,\n",
    "                name='flux2_small'#To the left\n",
    "            )\n",
    "\n",
    "\n",
    "freq_monitorFieldOut = td.FieldMonitor(\n",
    "                        center = (0,0,0),\n",
    "                        size = (0,Ly,Lz),\n",
    "                           freqs =structure_1.monitor_freqs,\n",
    "                            fields=[\"Ex\", \"Ey\", \"Ez\"],\n",
    "                            name=\"freq_monitorFieldOut\",\n",
    "\n",
    "                        )\n",
    "\n",
    "\n",
    "##############################################\n"
   ]
  },
  {
   "cell_type": "code",
   "execution_count": null,
   "metadata": {},
   "outputs": [],
   "source": [
    "medium_eff=td.Medium(permittivity=1)\n",
    "box_in = td.Box(center=[0, 0,-(Lz/2+structure_1.t_slab_z/2)/2], size=[td.inf, td.inf, 2+ Lz / 2-structure_1.t_slab_z/2])\n",
    "box_out = td.Box(center=[0, 0,(Lz/2+structure_1.t_slab_z/2)/2], size=[td.inf, td.inf, 2+Lz / 2-structure_1.t_slab_z/2])\n",
    "box_up = td.Box(center=[0,(Ly/2+structure_1.t_slab_y/2)/2,0], size=[td.inf, Ly / 2-structure_1.t_slab_y/2 ,td.inf])\n",
    "box_down = td.Box(center=[0, -(Ly/2+structure_1.t_slab_y/2)/2 ,0], size=[td.inf, Ly / 2-structure_1.t_slab_y/2, td.inf ])\n",
    "struct_in = td.Structure(geometry=box_in, medium=medium_eff)\n",
    "struct_out = td.Structure(geometry=box_out, medium=medium_eff)\n",
    "struct_up = td.Structure(geometry=box_up, medium=medium_eff)\n",
    "struct_down = td.Structure(geometry=box_down, medium=medium_eff)"
   ]
  },
  {
   "cell_type": "code",
   "execution_count": null,
   "metadata": {},
   "outputs": [],
   "source": [
    "sim = sim.copy(update={\"structures\":[structure, struct_in, struct_out], \"monitors\":[monitor_1, monitor_2,freq_monitorFieldOut]})\n"
   ]
  },
  {
   "cell_type": "code",
   "execution_count": null,
   "metadata": {},
   "outputs": [],
   "source": [
    "# sim.plot_3d()\n"
   ]
  },
  {
   "cell_type": "code",
   "execution_count": null,
   "metadata": {},
   "outputs": [],
   "source": [
    "# fig, ax = plt.subplots(1, tight_layout=True, figsize=(16, 8))\n",
    "# freqs_plot = (structure_1.freq_range[0], structure_1.freq_range[1])\n",
    "# sim.plot_eps(x=0, freq=freqs_plot[0], ax=ax)\n",
    "# plt.show()"
   ]
  },
  {
   "cell_type": "code",
   "execution_count": null,
   "metadata": {},
   "outputs": [],
   "source": [
    "sim_name = f\"LSU perm {perm} runtime {runtime_ps}ps nu {(a/lambdas[0]):.3g} - {(a/lambdas[1]):.3g} Size - {14.3*structure_1.multiplication_factor:.2g}x{14.3*structure_1.multiplication_factor:.2g}x{10.3:.2g} Focused\"\n",
    "\n",
    "# id =web.upload(sim,task_name=sim_name, verbose=False)\n",
    "# web.estimate_cost(task_id = id)"
   ]
  },
  {
   "cell_type": "code",
   "execution_count": null,
   "metadata": {},
   "outputs": [],
   "source": [
    "run = True"
   ]
  },
  {
   "cell_type": "code",
   "execution_count": null,
   "metadata": {},
   "outputs": [],
   "source": [
    "if run:\n",
    "        id0 = ''\n",
    "        print(\"running ref...\")\n",
    "        id0 = web.upload(sim.copy(update={\"structures\":[]}), folder_name=project_name,task_name=sim_name+'_0', verbose=True)\n",
    "        web.start(task_id = id0)\n",
    "        web.monitor(task_id=id0,verbose=True)\n",
    "\n",
    "        id =web.upload(sim, folder_name=project_name,task_name=sim_name, verbose=True)\n",
    "        web.start(task_id = id)\n",
    "        web.monitor(task_id=id,verbose=True)\n",
    "    \n",
    "        ids = (id0 if id0 else '') +'\\n' + id\n",
    "        incidence_folder = \"z_incidence\"\n",
    "        file_path = rf\"H:\\phd stuff\\tidy3d\\data/{project_name}/{incidence_folder}/{sim_name}.txt\"\n",
    "        # Check if the folder exists\n",
    "        if not os.path.exists( rf\"H:\\phd stuff\\tidy3d\\data/{project_name}/{incidence_folder}\"):\n",
    "            os.makedirs(rf\"H:\\phd stuff\\tidy3d\\data/{project_name}/{incidence_folder}\")\n",
    "            print(f\"Folder '{project_name}/{incidence_folder}' created successfully.\")\n",
    "\n",
    "        # Open file in write mode\n",
    "        with open(file_path, \"w\") as file:\n",
    "            # Write the string to the file\n",
    "            file.write(ids)"
   ]
  }
 ],
 "metadata": {
  "kernelspec": {
   "display_name": "Python 3",
   "language": "python",
   "name": "python3"
  },
  "language_info": {
   "codemirror_mode": {
    "name": "ipython",
    "version": 3
   },
   "file_extension": ".py",
   "mimetype": "text/x-python",
   "name": "python",
   "nbconvert_exporter": "python",
   "pygments_lexer": "ipython3",
   "version": "3.12.4"
  }
 },
 "nbformat": 4,
 "nbformat_minor": 2
}
