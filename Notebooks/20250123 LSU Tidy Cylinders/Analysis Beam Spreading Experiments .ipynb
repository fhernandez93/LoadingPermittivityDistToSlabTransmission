{
 "cells": [
  {
   "cell_type": "code",
   "execution_count": 1,
   "metadata": {},
   "outputs": [],
   "source": [
    "%load_ext autoreload\n",
    "%autoreload 2\n",
    "%matplotlib inline\n",
    "import scipy.io as sio\n",
    "from dataclasses import dataclass\n",
    "from typing import List, Tuple\n",
    "import os\n",
    "from dotenv import load_dotenv\n",
    "load_dotenv()\n",
    "import tidy3d as td\n",
    "from tidy3d import web\n",
    "import numpy as np\n",
    "from pathlib import Path\n",
    "import matplotlib.pyplot as plt\n",
    "from natsort import natsorted"
   ]
  },
  {
   "cell_type": "code",
   "execution_count": 2,
   "metadata": {},
   "outputs": [],
   "source": [
    "import sys\n",
    "import os\n",
    "\n",
    "# Assuming /AutomationModule is in the root directory of your project\n",
    "sys.path.append(os.path.abspath(rf'H:\\phd stuff\\tidy3d'))\n",
    "\n",
    "from AutomationModule import * \n",
    "\n",
    "import AutomationModule as AM"
   ]
  },
  {
   "cell_type": "code",
   "execution_count": 3,
   "metadata": {},
   "outputs": [],
   "source": [
    "tidy3dAPI = os.environ[\"API_TIDY3D_KEY\"]"
   ]
  },
  {
   "cell_type": "code",
   "execution_count": 4,
   "metadata": {},
   "outputs": [],
   "source": [
    "a = 3.4"
   ]
  },
  {
   "cell_type": "code",
   "execution_count": 5,
   "metadata": {},
   "outputs": [],
   "source": [
    "import xarray as xr\n",
    "import imageio\n",
    "\n",
    "def create_movie(field_time_out, monitor_lambdas,name='',type='t',log=False,path=\"\",frames_per_second=1,rem_frames=False, normalize=True, a=3.4):\n",
    "    frames = []\n",
    "\n",
    "    max_values = field_time_out.max(axis=(0,1,2)) if normalize else 1\n",
    "\n",
    "    field_time_out = field_time_out/max_values\n",
    "    x = field_time_out['x']\n",
    "    y = field_time_out['y']\n",
    "    z = field_time_out['z']\n",
    "     # Define the colors: Blue -> White -> Yellow -> Green -> Red\n",
    "    colors = [\n",
    "              (1, 1, 1),  # White\n",
    "              (0, 0, 1),  # Blue\n",
    "              (1, 1, 0),  # Yellow\n",
    "              (0, 1, 0),  # Green\n",
    "              (1, 0, 0), #Red\n",
    "              (0, 0, 0), # Black\n",
    "              ]  \n",
    "    \n",
    "    # Create a custom colormap\n",
    "    n_bins = 500  # Number of bins for smooth transition\n",
    "    cmap = mcolors.LinearSegmentedColormap.from_list(\"custom_colormap\", colors, N=n_bins)\n",
    "\n",
    "\n",
    "    if log:\n",
    "        field_log = np.log10((field_time_out))\n",
    "        folder_pics = \"logPics\"\n",
    "        \n",
    "    else:\n",
    "        field_log = ((field_time_out))\n",
    "        folder_pics = \"linPics\"\n",
    "\n",
    "    field_log = field_log.squeeze()\n",
    "\n",
    "    if not os.path.exists(f'{path}/{folder_pics}'):\n",
    "            os.makedirs(f'{path}/{folder_pics}')\n",
    "            print(f\"Folder {path}/{folder_pics} created successfully.\")\n",
    "\n",
    "    for i in range(np.shape(field_time_out)[-1]):\n",
    "        if os.path.isfile(f'{path}/{folder_pics}/frame_{i}.png'):\n",
    "            frames.append(f'{path}/{folder_pics}/frame_{i}.png')\n",
    "            continue\n",
    "        fig, ax = plt.subplots(figsize=(4, 8))\n",
    "       \n",
    "        im =plt.imshow(field_log[:,:,i], vmin = np.min(field_log[:,:,i]), vmax = np.max(field_log[:,:,i]), \n",
    "                 extent =[np.min(z),np.max(z), np.min(y),np.max(y)], \n",
    "                    interpolation ='gaussian', origin ='lower', cmap=cmap,aspect='equal') \n",
    "        if type==\"t\":\n",
    "            ax.set_title(f'Time: {field_time_out.t[i]} ps')\n",
    "        else:\n",
    "            ax.set_title(f'$\\\\nu$: {a/(td.C_0/field_time_out.f[i]):.4g}')\n",
    "        \n",
    "        cbar = fig.colorbar(im, ax=ax, \n",
    "                            orientation='vertical', fraction=0.1, pad=0.1, shrink=0.3)\n",
    "        # cbar.ax.tick_params(labelsize=16)\n",
    "        cbar.set_label(rf\"$|E|^2$ Normalized\")\n",
    "        cbar.ax.yaxis.set_label_position('left')\n",
    "        ax.set_ylabel(rf\"x(um)\")\n",
    "        ax.set_xlabel(rf\"y(um)\")\n",
    "        ax.set_xlim(np.min(z)-10,np.max(z)+10)\n",
    "        ax.tick_params(which='major')\n",
    "\n",
    "        ax.set_aspect('auto', adjustable='box')\n",
    "\n",
    "        # Save the frame\n",
    "        plt.savefig(f'{path}/{folder_pics}/frame_{i}.png')\n",
    "        plt.close(fig)\n",
    "        frames.append(f'{path}/{folder_pics}/frame_{i}.png')\n",
    "        \n",
    "        \n",
    "\n",
    "    name_movie = f'{path}/{name}.mp4' if name else f'output/anderson/d(t) analysis/Diameter d(t) at output of the structure Range - {monitor_lambdas[0]:.3g} - {monitor_lambdas[-1]:.3g}.mp4'\n",
    "    # with imageio.get_writer(name_movie, fps=frames_per_second) as writer:\n",
    "    #     for frame in frames:\n",
    "    #         image = imageio.imread(frame)\n",
    "    #         writer.append_data(image)\n",
    "\n",
    "    # Optionally, remove the individual frames if no longer needed\n",
    "    if rem_frames:\n",
    "        for frame in frames:\n",
    "            os.remove(frame)\n",
    "    \n",
    "    return False"
   ]
  },
  {
   "cell_type": "code",
   "execution_count": 6,
   "metadata": {},
   "outputs": [
    {
     "name": "stdout",
     "output_type": "stream",
     "text": [
      "LSU perm 9 runtime 3.5e-11ps nu 0.2 - 0.8 Size - 72x72x14 Focused.txt\n",
      "Configured successfully.\n"
     ]
    },
    {
     "data": {
      "text/html": [
       "<pre style=\"white-space:pre;overflow-x:auto;line-height:normal;font-family:Menlo,'DejaVu Sans Mono',consolas,'Courier New',monospace\"><span style=\"color: #7fbfbf; text-decoration-color: #7fbfbf\">14:23:13 W. Europe Standard Time </span>Billed flex credit cost: <span style=\"color: #008080; text-decoration-color: #008080; font-weight: bold\">11.891</span>.               \n",
       "</pre>\n"
      ],
      "text/plain": [
       "\u001b[2;36m14:23:13 W. Europe Standard Time\u001b[0m\u001b[2;36m \u001b[0mBilled flex credit cost: \u001b[1;36m11.891\u001b[0m.               \n"
      ]
     },
     "metadata": {},
     "output_type": "display_data"
    },
    {
     "data": {
      "text/html": [
       "<pre style=\"white-space:pre;overflow-x:auto;line-height:normal;font-family:Menlo,'DejaVu Sans Mono',consolas,'Courier New',monospace\"><span style=\"color: #7fbfbf; text-decoration-color: #7fbfbf\">                                 </span>Note: the task cost pro-rated due to early     \n",
       "<span style=\"color: #7fbfbf; text-decoration-color: #7fbfbf\">                                 </span>shutoff was below the minimum threshold, due to\n",
       "<span style=\"color: #7fbfbf; text-decoration-color: #7fbfbf\">                                 </span>fast shutoff. Decreasing the simulation        \n",
       "<span style=\"color: #7fbfbf; text-decoration-color: #7fbfbf\">                                 </span><span style=\"color: #008000; text-decoration-color: #008000\">'run_time'</span> should decrease the estimated, and  \n",
       "<span style=\"color: #7fbfbf; text-decoration-color: #7fbfbf\">                                 </span>correspondingly the billed cost of such tasks. \n",
       "</pre>\n"
      ],
      "text/plain": [
       "\u001b[2;36m                                \u001b[0m\u001b[2;36m \u001b[0mNote: the task cost pro-rated due to early     \n",
       "\u001b[2;36m                                 \u001b[0mshutoff was below the minimum threshold, due to\n",
       "\u001b[2;36m                                 \u001b[0mfast shutoff. Decreasing the simulation        \n",
       "\u001b[2;36m                                 \u001b[0m\u001b[32m'run_time'\u001b[0m should decrease the estimated, and  \n",
       "\u001b[2;36m                                 \u001b[0mcorrespondingly the billed cost of such tasks. \n"
      ]
     },
     "metadata": {},
     "output_type": "display_data"
    },
    {
     "name": "stdout",
     "output_type": "stream",
     "text": [
      "Simulation Parameters (wavelengths are expressed in um):\n",
      "lambda_range: 3.47 - 170 um \n",
      "lambdaw (pulse) 14.166666666666666 \n",
      "lambda0 6.800000000000001 \n",
      "Runtime = 35.0 \n",
      "resolution = 20.0 \n",
      "time_per_fwidth = 740.6637197647059 \n",
      "final decay value = 0.000144 \n",
      "\n",
      "(1, 632, 277, 280)\n",
      "Folder H:\\phd stuff\\tidy3d\\output/3D LSU/Beam Spreading/LSU perm 9 runtime 3.5e-11ps nu 0.2 - 0.8 Size - 72x72x14 Focused.txt/linPics created successfully.\n",
      "LSU perm 9 runtime 3.5e-11ps nu 0.275 - 0.8 Size - 86x86x10 Focused.txt\n",
      "Configured successfully.\n"
     ]
    },
    {
     "data": {
      "text/html": [
       "<pre style=\"white-space:pre;overflow-x:auto;line-height:normal;font-family:Menlo,'DejaVu Sans Mono',consolas,'Courier New',monospace\"><span style=\"color: #7fbfbf; text-decoration-color: #7fbfbf\">14:24:18 W. Europe Standard Time </span>Billed flex credit cost: <span style=\"color: #008080; text-decoration-color: #008080; font-weight: bold\">18.147</span>.               \n",
       "</pre>\n"
      ],
      "text/plain": [
       "\u001b[2;36m14:24:18 W. Europe Standard Time\u001b[0m\u001b[2;36m \u001b[0mBilled flex credit cost: \u001b[1;36m18.147\u001b[0m.               \n"
      ]
     },
     "metadata": {},
     "output_type": "display_data"
    },
    {
     "data": {
      "text/html": [
       "<pre style=\"white-space:pre;overflow-x:auto;line-height:normal;font-family:Menlo,'DejaVu Sans Mono',consolas,'Courier New',monospace\"><span style=\"color: #7fbfbf; text-decoration-color: #7fbfbf\">                                 </span>Note: the task cost pro-rated due to early     \n",
       "<span style=\"color: #7fbfbf; text-decoration-color: #7fbfbf\">                                 </span>shutoff was below the minimum threshold, due to\n",
       "<span style=\"color: #7fbfbf; text-decoration-color: #7fbfbf\">                                 </span>fast shutoff. Decreasing the simulation        \n",
       "<span style=\"color: #7fbfbf; text-decoration-color: #7fbfbf\">                                 </span><span style=\"color: #008000; text-decoration-color: #008000\">'run_time'</span> should decrease the estimated, and  \n",
       "<span style=\"color: #7fbfbf; text-decoration-color: #7fbfbf\">                                 </span>correspondingly the billed cost of such tasks. \n",
       "</pre>\n"
      ],
      "text/plain": [
       "\u001b[2;36m                                \u001b[0m\u001b[2;36m \u001b[0mNote: the task cost pro-rated due to early     \n",
       "\u001b[2;36m                                 \u001b[0mshutoff was below the minimum threshold, due to\n",
       "\u001b[2;36m                                 \u001b[0mfast shutoff. Decreasing the simulation        \n",
       "\u001b[2;36m                                 \u001b[0m\u001b[32m'run_time'\u001b[0m should decrease the estimated, and  \n",
       "\u001b[2;36m                                 \u001b[0mcorrespondingly the billed cost of such tasks. \n"
      ]
     },
     "metadata": {},
     "output_type": "display_data"
    },
    {
     "name": "stdout",
     "output_type": "stream",
     "text": [
      "Simulation Parameters (wavelengths are expressed in um):\n",
      "lambda_range: 3.55 - 28.9 um \n",
      "lambdaw (pulse) 16.190476190476193 \n",
      "lambda0 6.325581395348837 \n",
      "Runtime = 35.0 \n",
      "resolution = 20.0 \n",
      "time_per_fwidth = 648.0807547941176 \n",
      "final decay value = 6.64e-05 \n",
      "\n",
      "(1, 815, 240, 280)\n",
      "Folder H:\\phd stuff\\tidy3d\\output/3D LSU/Beam Spreading/LSU perm 9 runtime 3.5e-11ps nu 0.275 - 0.8 Size - 86x86x10 Focused.txt/linPics created successfully.\n"
     ]
    }
   ],
   "source": [
    "# folder_path = rf\"H:\\phd stuff\\tidy3d\\data\\01_23_2024 LSU\\z_incidence\"\n",
    "folder_path = rf\"H:\\phd stuff\\tidy3d\\data\\02_06_2025 LSU Beam Spreading\\z_incidence\"\n",
    "      \n",
    "\n",
    "for i,filename in enumerate(natsorted(os.listdir(folder_path))):\n",
    "    print(filename)\n",
    "    # if filename  != \"Focused Beam LSU perm 9 runtime 3.8e-11ps nu 0.389 - 1.36 Size - 57x57x14.txt\":\n",
    "    #     continue\n",
    "    file=os.path.join(folder_path, filename)\n",
    "    sim_object_result = AM.loadFromFile(key = tidy3dAPI, file_path=file)\n",
    "    monitor_lambdas = a/sim_object_result.monitor_lambdas\n",
    "    print(sim_object_result.__str__())\n",
    "    sim_data = sim_object_result.sim_data\n",
    "\n",
    "\n",
    "    field_time_out = sim_data.get_intensity(\"freq_monitorFieldOut\")\n",
    "    print(np.shape(field_time_out))\n",
    "   \n",
    "    create_movie(field_time_out,monitor_lambdas,name=f\"freqmonitor {monitor_lambdas[0]:.3g} - {monitor_lambdas[-1]:.3g}\",type=\"f\",log=False,path=rf\"H:\\phd stuff\\tidy3d\\output/3D LSU/Beam Spreading/{filename}\",frames_per_second=10,normalize=True,a=a)\n",
    "\n",
    "\n"
   ]
  },
  {
   "cell_type": "code",
   "execution_count": null,
   "metadata": {},
   "outputs": [],
   "source": []
  }
 ],
 "metadata": {
  "kernelspec": {
   "display_name": "Python 3",
   "language": "python",
   "name": "python3"
  },
  "language_info": {
   "codemirror_mode": {
    "name": "ipython",
    "version": 3
   },
   "file_extension": ".py",
   "mimetype": "text/x-python",
   "name": "python",
   "nbconvert_exporter": "python",
   "pygments_lexer": "ipython3",
   "version": "3.12.4"
  }
 },
 "nbformat": 4,
 "nbformat_minor": 2
}
