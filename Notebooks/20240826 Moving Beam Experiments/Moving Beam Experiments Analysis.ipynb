{
 "cells": [
  {
   "cell_type": "code",
   "execution_count": null,
   "metadata": {},
   "outputs": [],
   "source": [
    "%load_ext autoreload\n",
    "%autoreload 2\n",
    "%matplotlib inline\n",
    "import scipy.io as sio\n",
    "from dataclasses import dataclass\n",
    "from typing import List, Tuple\n",
    "import os\n",
    "from dotenv import load_dotenv\n",
    "load_dotenv()\n",
    "import tidy3d as td\n",
    "from tidy3d import web\n",
    "import numpy as np\n",
    "from pathlib import Path\n",
    "import matplotlib.pyplot as plt\n",
    "from scipy.optimize import curve_fit\n",
    "from natsort import natsorted\n",
    "import numpy as np\n",
    "import matplotlib.animation as animation\n",
    "import xarray as xr\n",
    "import imageio\n",
    "import matplotlib\n",
    "import sys\n",
    "import os\n",
    "\n",
    "# Assuming /AutomationModule is in the root directory of your project\n",
    "sys.path.append(os.path.abspath(r'H:\\phd stuff\\tidy3d'))\n",
    "\n",
    "from AutomationModule import * \n",
    "\n",
    "import AutomationModule as AM\n",
    "tidy3dAPI = os.environ[\"API_TIDY3D_KEY\"]"
   ]
  },
  {
   "cell_type": "code",
   "execution_count": null,
   "metadata": {},
   "outputs": [],
   "source": [
    "a = 1\n",
    "chi = 0.3\n",
    "positions = np.array(natsorted(([str(element) for element in np.around(np.linspace(-40,40,16),decimals=2)])))\n",
    "positions"
   ]
  },
  {
   "cell_type": "code",
   "execution_count": null,
   "metadata": {},
   "outputs": [],
   "source": [
    "data = []\n",
    "\n",
    "for s,path_direction in enumerate([\n",
    "                        r\"H:\\phd stuff\\tidy3d\\data\\08_27_2024 chi 0.3 N1000 Moving Beam Experiments\\z_incidence\",\n",
    "                        \n",
    "                       ]):\n",
    "\n",
    "      folder_path = f\"{path_direction}\"\n",
    "      \n",
    "      for i,filename in enumerate(natsorted(os.listdir(folder_path))):\n",
    "            print(filename)\n",
    "            if not Path(filename).suffix==\".txt\":\n",
    "                  continue\n",
    "            \n",
    "            if os.path.isfile(os.path.join(folder_path, filename)):\n",
    "                file=os.path.join(folder_path, filename)\n",
    "                structure_1 = AM.loadFromFile(key = tidy3dAPI, file_path=file)\n",
    "                sim_data = structure_1.sim_data\n",
    "                sim_data0 = structure_1.sim_data0\n",
    "                field = sim_data.at_centers(\"freq_monitorFieldOut\")\n",
    "                field0 =sim_data0.at_centers(\"freq_monitorFieldOut\")\n",
    "                required_components = [\"E\" + c for c in \"xyz\"]\n",
    "                field_components = ([field[c] for c in required_components])\n",
    "                field_components0 = ([field0[c] for c in required_components])\n",
    "                data += [\n",
    "                      {          \n",
    "                                \"frequencies\":a/(td.C_0/np.array(np.array(sim_data.simulation.monitors)[0].freqs)),\n",
    "                                \"focal_point\":positions[i],\n",
    "                                \"sim\":sim_data,\n",
    "                                \"Re_E_input\":sum(f.real for f in field_components0).squeeze(),\n",
    "                                \"Im_E_input\":sum(f.imag for f in field_components0).squeeze(), \n",
    "                                \"Re_E_total\":sum(f.real for f in field_components).squeeze(),\n",
    "                                \"Im_E_total\":sum(f.imag for f in field_components).squeeze()\n",
    "                      }\n",
    "                ]\n"
   ]
  },
  {
   "cell_type": "code",
   "execution_count": 24,
   "metadata": {},
   "outputs": [
    {
     "data": {
      "text/plain": [
       "0.28500000000000003"
      ]
     },
     "execution_count": 24,
     "metadata": {},
     "output_type": "execute_result"
    }
   ],
   "source": [
    "freqs = a/(td.C_0/np.array(np.array(sim_data.simulation.monitors)[0].freqs))\n",
    "freqs_raw = (td.C_0/np.array(np.array(sim_data.simulation.monitors)[0].freqs))\n",
    "freqs[0]"
   ]
  },
  {
   "cell_type": "code",
   "execution_count": null,
   "metadata": {},
   "outputs": [],
   "source": [
    "coords = sim_data[\"freq_monitorFieldOut\"].Ex\n",
    "min_x,max_x,min_y,max_y = np.min(coords[\"x\"]),np.max(coords[\"x\"]), np.min(coords[\"y\"]),np.max(coords[\"y\"])"
   ]
  },
  {
   "cell_type": "code",
   "execution_count": null,
   "metadata": {},
   "outputs": [],
   "source": [
    "import matplotlib.pyplot as plt\n",
    "import matplotlib.patches as patches\n",
    "import matplotlib.path as mpath"
   ]
  },
  {
   "cell_type": "code",
   "execution_count": null,
   "metadata": {},
   "outputs": [],
   "source": [
    "def plot_fields(index_freq:int=-1,index_pos:int = -1):\n",
    "    index=index_pos\n",
    "\n",
    "    fig1, ax_1 = plt.subplots()\n",
    "    ax1=sim_data.simulation.plot_structures_eps(freq=freqs_raw[index_freq], cbar=False, z=0, ax=ax_1,\n",
    "                reverse=False)\n",
    "\n",
    "    # Create a new figure for plotting the shapes\n",
    "    patches_list = ax1.patches\n",
    "\n",
    "    \n",
    "\n",
    "\n",
    "\n",
    "    fig, ax = plt.subplots(ncols=6,nrows=1,figsize=(24,10))\n",
    "    extent=(min_x,max_x,min_y,max_y)\n",
    "    fig.suptitle(fr'$\\chi=$'+str(chi)+fr'; $y_{0}=${data[index][\"focal_point\"]}'+fr'; $\\nu=${freqs[index]:.3g}', fontsize=16)\n",
    "    plt.xticks(rotation=20)\n",
    "\n",
    "    #input field Re(E)\n",
    "    absmax=np.amax(np.abs(data[index][\"Re_E_input\"][:,:,index_freq]))\n",
    "    absmin=np.amin((data[index][\"Re_E_input\"][:,:,index_freq]))\n",
    "\n",
    "\n",
    "    ax1=(data[index][\"Re_E_input\"]).T.isel(f=index_freq).plot.pcolormesh(ax=ax[0],cmap=\"RdBu\",vmin=absmin,vmax=absmax)\n",
    "\n",
    "\n",
    "    ax[0].set_title(r'Re $\\left(E_{0}\\right)$')\n",
    "\n",
    "    #Total field Re(E)\n",
    "    absmax=np.amax(np.abs(data[index][\"Re_E_total\"][:,:,index_freq]))\n",
    "    ax2=(data[index][\"Re_E_total\"]).T.isel(f=index_freq).plot.pcolormesh(ax=ax[1],cmap=\"RdBu\",vmin=-1*absmax,vmax=absmax)\n",
    "    ax[1].set_title(r'Re $\\left(E\\right)$')\n",
    "\n",
    "\n",
    "\n",
    "     #input field Im(E)\n",
    "    absmax=np.amax(np.abs(data[index][\"Im_E_input\"][:,:,index_freq]))\n",
    "    ax3=(data[index][\"Im_E_input\"]).T.isel(f=index_freq).plot.pcolormesh(ax=ax[2],cmap=\"RdBu\",vmin=-1*absmax,vmax=absmax)\n",
    "    ax[2].set_title(r'Im $\\left(E_{0}\\right)$')\n",
    "\n",
    "\n",
    "    #Total  field Im(E)\n",
    "    absmax=np.amax(np.abs(data[index][\"Im_E_total\"][:,:,index_freq]))\n",
    "    ax4=(data[index][\"Im_E_total\"]).T.isel(f=index_freq).plot.pcolormesh(ax=ax[3],cmap=\"RdBu\",vmin=-1*absmax,vmax=absmax)\n",
    "\n",
    "    ax[3].set_title(r'Im $\\left(E\\right)$')\n",
    "\n",
    "    #square of the input field     \n",
    "    map_to_plot=np.sqrt(data[index][\"Re_E_input\"][:,:,index_freq]**2+data[index][\"Im_E_input\"][:,:,index_freq]**2)\n",
    "    absmax=np.amax(map_to_plot)\n",
    "    ax5=(data[index][\"Re_E_input\"]).T.isel(f=index_freq).plot.pcolormesh(ax=ax[4],cmap=\"magma\",vmin=0,vmax=absmax)\n",
    "\n",
    "    ax[4].set_title(r'$\\left|E_{0}\\right|$')                  \n",
    "\n",
    "    #square of the total field    \n",
    "    map_to_plot=np.sqrt(data[index][\"Re_E_total\"][:,:,index_freq]**2+data[index][\"Im_E_total\"][:,:,index_freq]**2)\n",
    "    absmax=np.amax(map_to_plot)\n",
    "    ax6=(data[index][\"Re_E_total\"]).T.isel(f=index_freq).plot.pcolormesh(ax=ax[5],cmap=\"magma\",vmin=0,vmax=absmax)\n",
    "\n",
    "    ax[5].set_title(r'$\\left|E\\right|$')                       \n",
    "\n",
    "\n",
    "    #tilting lavels axes x\n",
    "    for i in (0,1,2,3,4,5):\n",
    "        #for j in (0,1):\n",
    "        ax[i].tick_params(axis='x', rotation=70)\n",
    "        ax[i].set_xlabel(\"X\")\n",
    "        ax[i].set_ylabel(\"Y\")\n",
    "        for patch in patches_list:\n",
    "            path = patch.get_path()  \n",
    "            # Reconstruct the shape\n",
    "            if i >3:\n",
    "                new_patch = patches.PathPatch(path, edgecolor= (1, 1, 1, 0.1), facecolor='none')\n",
    "            else:\n",
    "                new_patch = patches.PathPatch(path, edgecolor= (0, 0, 0, 0.1), facecolor='none')\n",
    "\n",
    "\n",
    "            ax[i].add_patch(new_patch)\n",
    "\n",
    "\n",
    "\n",
    "    fig.tight_layout()\n",
    "\n",
    "    return "
   ]
  },
  {
   "cell_type": "code",
   "execution_count": null,
   "metadata": {},
   "outputs": [],
   "source": [
    "import numpy as np    \n",
    "import matplotlib\n",
    "import matplotlib.pyplot as plt\n",
    "from ipywidgets import interact, interactive, fixed, interact_manual\n",
    "import ipywidgets as widgets\n",
    "\n",
    "interact_manual(plot_fields,\n",
    "         index_pos=(0,positions.shape[0],1),\n",
    "         index_freq=(0,freqs_raw.shape[0],1))"
   ]
  },
  {
   "cell_type": "code",
   "execution_count": 27,
   "metadata": {},
   "outputs": [],
   "source": [
    "field_data = {\n",
    "    \"Ez\":data[12][\"sim\"][\"freq_monitorFieldOut\"].Ez.values[:,:,:,0].squeeze(),\n",
    "    \"x\":data[12][\"sim\"][\"freq_monitorFieldOut\"].Ez.x,\n",
    "    \"y\":data[12][\"sim\"][\"freq_monitorFieldOut\"].Ez.y,\n",
    "}"
   ]
  },
  {
   "cell_type": "code",
   "execution_count": 28,
   "metadata": {},
   "outputs": [],
   "source": [
    "create_hdf5_from_dict(field_data,\"field_data_pos_-24_freq_nu_0.285.h5\")"
   ]
  }
 ],
 "metadata": {
  "kernelspec": {
   "display_name": "Python 3",
   "language": "python",
   "name": "python3"
  },
  "language_info": {
   "codemirror_mode": {
    "name": "ipython",
    "version": 3
   },
   "file_extension": ".py",
   "mimetype": "text/x-python",
   "name": "python",
   "nbconvert_exporter": "python",
   "pygments_lexer": "ipython3",
   "version": "3.12.4"
  }
 },
 "nbformat": 4,
 "nbformat_minor": 2
}
