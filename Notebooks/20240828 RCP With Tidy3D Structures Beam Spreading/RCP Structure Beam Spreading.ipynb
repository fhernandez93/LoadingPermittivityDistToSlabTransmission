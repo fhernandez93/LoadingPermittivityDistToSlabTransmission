{
 "cells": [
  {
   "cell_type": "code",
   "execution_count": 1,
   "metadata": {},
   "outputs": [],
   "source": [
    "%load_ext autoreload\n",
    "%autoreload 2\n",
    "%matplotlib inline\n",
    "import scipy.io as sio\n",
    "from dataclasses import dataclass\n",
    "from typing import List, Tuple\n",
    "import os\n",
    "from dotenv import load_dotenv\n",
    "load_dotenv()\n",
    "import tidy3d as td\n",
    "from tidy3d import web\n",
    "import numpy as np\n",
    "from pathlib import Path\n",
    "from stl import mesh\n",
    "import matplotlib.pyplot as plt"
   ]
  },
  {
   "cell_type": "code",
   "execution_count": 2,
   "metadata": {},
   "outputs": [],
   "source": [
    "import sys\n",
    "import os\n",
    "\n",
    "# Assuming /AutomationModule is in the root directory of your project\n",
    "sys.path.append(os.path.abspath(r'H:\\phd stuff\\tidy3d'))\n",
    "\n",
    "from AutomationModule import * \n",
    "\n",
    "import AutomationModule as AM"
   ]
  },
  {
   "cell_type": "code",
   "execution_count": 3,
   "metadata": {},
   "outputs": [],
   "source": [
    "def get_coords(multiplication_factor,t_slab_x,t_slab_y,t_slab_z):\n",
    "    x_size,y_size,z_size = t_slab_x/multiplication_factor,t_slab_y/multiplication_factor,t_slab_z\n",
    "    coordinates_slabs=[]\n",
    "    for i in range(multiplication_factor):\n",
    "        for j in range(multiplication_factor):\n",
    "            center_x = (i - ( multiplication_factor/ 2) + 0.5) * x_size\n",
    "            center_y = (j - ( multiplication_factor/ 2) + 0.5) * y_size\n",
    "            center_z = 0  # All cubes are centered on the z=0 plane\n",
    "            coord_item = {\n",
    "                    \"X\": (center_x - x_size/2, center_x + x_size/2),\n",
    "                    \"Y\": (center_y - y_size/2, center_y + y_size/2),\n",
    "                    \"Z\": (-z_size/2, z_size/2),\n",
    "                    \"center\": (center_x, center_y, center_z)\n",
    "                    }\n",
    "            \n",
    "            coordinates_slabs+=[coord_item]\n",
    "\n",
    "    return coordinates_slabs"
   ]
  },
  {
   "cell_type": "code",
   "execution_count": 4,
   "metadata": {},
   "outputs": [],
   "source": [
    "# Function to create a solid cylinder with specified center coordinates\n",
    "def create_cylinder_from_ends(top_center, bottom_center, radius):\n",
    "    # Calculate height of the cylinder\n",
    "    height = np.linalg.norm(np.array(top_center) - np.array(bottom_center))\n",
    "    bottom_center=bottom_center\n",
    "\n",
    "    # Calculate the vector direction of the cylinder\n",
    "    axis_direction = np.array(top_center) - np.array(bottom_center)\n",
    "    axis_direction /= np.linalg.norm(axis_direction) #Unitary vector to calculate rotation angle \n",
    "\n",
    "    # Calculate the rotation matrix to align cylinder with the given axis direction\n",
    "    z_axis = np.array([0, 0, 1])\n",
    "    rotation_axis = np.cross(z_axis, axis_direction)\n",
    "    rotation_angle = np.arccos(np.dot(z_axis, axis_direction))\n",
    "    rotation_matrix = mesh.Mesh.rotation_matrix(rotation_axis, rotation_angle)\n",
    "    # Create a 4x4 identity matrix\n",
    "    matrix_4x4 = np.eye(4)\n",
    "\n",
    "    # Insert the 3x3 matrix into the top-left corner of the new matrix\n",
    "    matrix_4x4[:3, :3] = np.copy(rotation_matrix)\n",
    "\n",
    "    # Set the fourth column and fourth row for homogeneous transformation\n",
    "    # The typical homogeneous transformation uses [0, 0, 0, 1] for the last row and column\n",
    "    matrix_4x4[3, :3] = [0, 0, 0]  # Fourth row\n",
    "    matrix_4x4[:3, 3] = [0, 0, 0]  # Fourth column\n",
    "    matrix_4x4[3, 3] = 1           # Bottom-right corner remains 1\n",
    "\n",
    "    \n",
    "   \n",
    "    cylinder_center = tuple((np.array(top_center) + np.array(bottom_center))/2)\n",
    "    trans = td.Transformed.translation(cylinder_center[0],cylinder_center[1],cylinder_center[2])\n",
    "    transformed = td.Transformed(geometry=td.Cylinder(center=(0,0,0), radius=radius, length=height),transform=trans@matrix_4x4)\n",
    "\n",
    "    return transformed"
   ]
  },
  {
   "cell_type": "code",
   "execution_count": 5,
   "metadata": {},
   "outputs": [],
   "source": [
    "tidy3dAPI = os.environ[\"API_TIDY3D_KEY\"]"
   ]
  },
  {
   "cell_type": "code",
   "execution_count": 6,
   "metadata": {},
   "outputs": [],
   "source": [
    "a = 5/3\n",
    "run=False"
   ]
  },
  {
   "cell_type": "code",
   "execution_count": 7,
   "metadata": {},
   "outputs": [
    {
     "name": "stdout",
     "output_type": "stream",
     "text": [
      "02_Sample_600_res_L18.01_28ff_eps.h5\n",
      "Configured successfully.\n"
     ]
    }
   ],
   "source": [
    "# lambdas = a/np.array([0.21,0.23]) \n",
    "lambdas = a/np.array([0.435,0.455]) \n",
    "folder_path = r\"H:\\phd stuff\\tidy3d\\structures\\08_13_2024 Luis H5 18.01a\\sample 2\"\n",
    "project_name = \"09_04_2024 RCP Tidy Structures Beam Spreading\"\n",
    "# project_name = \"08_28_2024 RCP Tidy Structures Beam Spreading\"\n",
    "postprocess_results = []\n",
    "runtime_ps = 24e-12\n",
    "min_steps_per_lambda = 16\n",
    "multiplication_factor=6\n",
    "for direction in [\"z\"]: \n",
    "    for filename in os.listdir(folder_path):\n",
    "    #  for perm in [50]:\n",
    "     for perm in [15]:\n",
    "        print(filename)\n",
    "        sim_name = f\"RCP perm {perm} runtime {runtime_ps}ps nu {a/lambdas[0]} - {a/lambdas[1]} - {multiplication_factor*18}x{multiplication_factor*18}x18a\"\n",
    "\n",
    "        if not (Path(filename).suffix==\".h5\" or Path(filename).suffix==\".stl\"):\n",
    "            continue \n",
    "        if os.path.isfile(os.path.join(folder_path, filename)):\n",
    "            file=os.path.join(folder_path, filename)\n",
    "            structure_1 = AM.loadAndRunStructure(key = tidy3dAPI, file_path=file\n",
    "                                            ,direction=direction, lambda_range=lambdas,\n",
    "                                            box_size=18*a,runtime_ps=runtime_ps,min_steps_per_lambda=min_steps_per_lambda, permittivity=perm,\n",
    "                                           scaling=1,shuoff_condtion=1e-20, verbose=True, \n",
    "                                           monitors=[\"flux\"], freqs=100, \n",
    "                                           cut_condition=1.0, source=\"tight\", absorbers=200, sim_name=sim_name, use_permittivity=False, tight_percentage=0.05,\n",
    "                                           ref_only=True, multiplicate_size=True,multiplication_factor=multiplication_factor,width=0.2\n",
    "                                           )\n",
    "           \n",
    "\n",
    "            \n"
   ]
  },
  {
   "cell_type": "code",
   "execution_count": 8,
   "metadata": {},
   "outputs": [],
   "source": [
    "file_path =  r\"H:\\phd stuff\\tidy3d\\structures\\End2EndFiles\\RCP 18.01 End Points\\1_sample_L18_lines_cut.dat\"\n",
    "data = []\n",
    "with open(file_path, 'r') as file:\n",
    "    for line in file: \n",
    "        row = [float(value) for value in line.split()]\n",
    "        data += [np.array(row)]\n",
    "\n",
    "data = np.array(data)\n",
    "\n",
    "tops_centered = (data[:,:3]-0.5)*structure_1.t_slab_z\n",
    "bottoms_centered = (data[:,3:]-0.5)*structure_1.t_slab_z\n",
    "\n",
    "radius = 0.25\n",
    "\n",
    "\n",
    "cyl_group = []\n",
    "\n",
    "\n",
    "\n",
    "coords = get_coords(structure_1.multiplication_factor,structure_1.t_slab_x,structure_1.t_slab_y,structure_1.t_slab_z)\n",
    "\n",
    "\n",
    "for k,coord in enumerate(coords):\n",
    "    tops = np.copy(tops_centered)\n",
    "    bottoms = np.copy(bottoms_centered)\n",
    "    tops[:,0]+=coord[\"center\"][0]\n",
    "    tops[:,1]+=coord[\"center\"][1]\n",
    "    tops[:,2]+=coord[\"center\"][2]\n",
    "    bottoms[:,0]+=coord[\"center\"][0]\n",
    "    bottoms[:,1]+=coord[\"center\"][1]\n",
    "    bottoms[:,2]+=coord[\"center\"][2]\n",
    "    for cil,item in enumerate(tops):\n",
    "         cyl_group.append(create_cylinder_from_ends(tops[cil], bottoms[cil], radius))\n",
    "\n",
    "    \n",
    "   \n"
   ]
  },
  {
   "cell_type": "code",
   "execution_count": 9,
   "metadata": {},
   "outputs": [],
   "source": [
    "sim = structure_1.sim\n"
   ]
  },
  {
   "cell_type": "code",
   "execution_count": 10,
   "metadata": {},
   "outputs": [
    {
     "data": {
      "text/plain": [
       "15"
      ]
     },
     "execution_count": 10,
     "metadata": {},
     "output_type": "execute_result"
    }
   ],
   "source": [
    "structure_1.permittivity_value"
   ]
  },
  {
   "cell_type": "code",
   "execution_count": 11,
   "metadata": {},
   "outputs": [],
   "source": [
    "medium=td.Medium(permittivity=structure_1.permittivity_value)\n",
    "structure = td.Structure(geometry=td.GeometryGroup(geometries=cyl_group),  medium=medium)\n",
    "cube = td.Structure(geometry= td.Box(\n",
    "                        center=(0,  0 ,0),\n",
    "                        size=(\n",
    "                                structure_1.t_slab_x, \n",
    "                                structure_1.t_slab_y, \n",
    "                                structure_1.t_slab_z\n",
    "                              ),\n",
    "                    ),medium=td.Medium(permittivity=1))\n",
    "\n"
   ]
  },
  {
   "cell_type": "code",
   "execution_count": 12,
   "metadata": {},
   "outputs": [],
   "source": [
    "boundaries= td.BoundarySpec(\n",
    "            x=td.Boundary(plus=td.Absorber(num_layers=150),minus=td.Absorber(num_layers=150)),\n",
    "            y=td.Boundary(plus=td.Absorber(num_layers=150),minus=td.Absorber(num_layers=150)),\n",
    "            z=td.Boundary(plus=td.Absorber(num_layers=150),minus=td.Absorber(num_layers=150)),\n",
    "        )\n",
    "Lx, Ly, Lz =structure_1.Lx+4,structure_1.Ly+4,structure_1.Lz+10\n",
    "\n",
    "\n",
    "time_monitorFieldLateral = td.FieldTimeMonitor(\n",
    "                center = (0,0,0),\n",
    "                size = (0,Ly,Lz),\n",
    "                    start=0,\n",
    "                    stop=structure_1.t_stop,\n",
    "                    interval=200,\n",
    "                    fields=[\"Ex\", \"Ey\", \"Ez\"],\n",
    "                    name=\"time_monitorFieldLateral\",\n",
    "                )\n",
    "\n",
    "\n",
    "\n",
    "time_monitorT = td.FluxTimeMonitor(\n",
    "                    center=[\n",
    "                        (structure_1.Lx - structure_1.spacing)*0.5 if structure_1.direction == \"x\" else 0, \n",
    "                        (structure_1.Ly - structure_1.spacing)*0.5 if structure_1.direction == \"y\" else 0, \n",
    "                        (structure_1.Lz - structure_1.spacing)*0.5 if structure_1.direction == \"z\" else 0\n",
    "\n",
    "\n",
    "                        ],\n",
    "                    size=[\n",
    "                        td.inf,td.inf,0\n",
    "                        ],\n",
    "                    interval = 200,\n",
    "                    name=\"time_monitorT\",\n",
    "\n",
    "                )"
   ]
  },
  {
   "cell_type": "code",
   "execution_count": 13,
   "metadata": {},
   "outputs": [],
   "source": [
    "eps_eff  = ((2+structure_1.permittivity_value )+ 2*0.3*(structure_1.permittivity_value-1))/((2+structure_1.permittivity_value)-0.3*(structure_1.permittivity_value-1))\n",
    "medium_eff=td.Medium(permittivity=eps_eff)\n",
    "box_in = td.Box(center=[0, 0,-(Lz/2+structure_1.t_slab_z/2)/2], size=[td.inf, td.inf, Lz / 2-structure_1.t_slab_z/2])\n",
    "box_out = td.Box(center=[0, 0,(Lz/2+structure_1.t_slab_z/2)/2], size=[td.inf, td.inf, Lz / 2-structure_1.t_slab_z/2 ])\n",
    "box_up = td.Box(center=[0,(Ly/2+structure_1.t_slab_y/2)/2,0], size=[td.inf, Ly / 2-structure_1.t_slab_y/2 ,td.inf])\n",
    "box_down = td.Box(center=[0, -(Ly/2+structure_1.t_slab_y/2)/2 ,0], size=[td.inf, Ly / 2-structure_1.t_slab_y/2, td.inf ])\n",
    "struct_in = td.Structure(geometry=box_in, medium=medium_eff)\n",
    "struct_out = td.Structure(geometry=box_out, medium=medium_eff)\n",
    "struct_up = td.Structure(geometry=box_up, medium=medium_eff)\n",
    "struct_down = td.Structure(geometry=box_down, medium=medium_eff)"
   ]
  },
  {
   "cell_type": "code",
   "execution_count": 14,
   "metadata": {},
   "outputs": [
    {
     "data": {
      "text/html": [
       "<pre style=\"white-space:pre;overflow-x:auto;line-height:normal;font-family:Menlo,'DejaVu Sans Mono',consolas,'Courier New',monospace\"><span style=\"color: #7fbfbf; text-decoration-color: #7fbfbf\">17:53:32 W. Europe Daylight Time </span><span style=\"color: #800000; text-decoration-color: #800000\">WARNING: Structure at </span><span style=\"color: #008000; text-decoration-color: #008000\">'structures[1]'</span><span style=\"color: #800000; text-decoration-color: #800000\"> has      </span>\n",
       "<span style=\"color: #7fbfbf; text-decoration-color: #7fbfbf\">                                 </span><span style=\"color: #800000; text-decoration-color: #800000\">bounds that extend exactly to simulation edges.</span>\n",
       "<span style=\"color: #7fbfbf; text-decoration-color: #7fbfbf\">                                 </span><span style=\"color: #800000; text-decoration-color: #800000\">This can cause unexpected behavior. If         </span>\n",
       "<span style=\"color: #7fbfbf; text-decoration-color: #7fbfbf\">                                 </span><span style=\"color: #800000; text-decoration-color: #800000\">intending to extend the structure to infinity  </span>\n",
       "<span style=\"color: #7fbfbf; text-decoration-color: #7fbfbf\">                                 </span><span style=\"color: #800000; text-decoration-color: #800000\">along one dimension, use td.inf as a size      </span>\n",
       "<span style=\"color: #7fbfbf; text-decoration-color: #7fbfbf\">                                 </span><span style=\"color: #800000; text-decoration-color: #800000\">variable instead to make this explicit.        </span>\n",
       "</pre>\n"
      ],
      "text/plain": [
       "\u001b[2;36m17:53:32 W. Europe Daylight Time\u001b[0m\u001b[2;36m \u001b[0m\u001b[31mWARNING: Structure at \u001b[0m\u001b[32m'structures\u001b[0m\u001b[32m[\u001b[0m\u001b[32m1\u001b[0m\u001b[32m]\u001b[0m\u001b[32m'\u001b[0m\u001b[31m has      \u001b[0m\n",
       "\u001b[2;36m                                 \u001b[0m\u001b[31mbounds that extend exactly to simulation edges.\u001b[0m\n",
       "\u001b[2;36m                                 \u001b[0m\u001b[31mThis can cause unexpected behavior. If         \u001b[0m\n",
       "\u001b[2;36m                                 \u001b[0m\u001b[31mintending to extend the structure to infinity  \u001b[0m\n",
       "\u001b[2;36m                                 \u001b[0m\u001b[31malong one dimension, use td.inf as a size      \u001b[0m\n",
       "\u001b[2;36m                                 \u001b[0m\u001b[31mvariable instead to make this explicit.        \u001b[0m\n"
      ]
     },
     "metadata": {},
     "output_type": "display_data"
    },
    {
     "data": {
      "text/html": [
       "<pre style=\"white-space:pre;overflow-x:auto;line-height:normal;font-family:Menlo,'DejaVu Sans Mono',consolas,'Courier New',monospace\"><span style=\"color: #7fbfbf; text-decoration-color: #7fbfbf\">                                 </span><span style=\"color: #800000; text-decoration-color: #800000\">WARNING: Suppressed </span><span style=\"color: #008080; text-decoration-color: #008080; font-weight: bold\">3</span><span style=\"color: #800000; text-decoration-color: #800000\"> WARNING messages.        </span>\n",
       "</pre>\n"
      ],
      "text/plain": [
       "\u001b[2;36m                                \u001b[0m\u001b[2;36m \u001b[0m\u001b[31mWARNING: Suppressed \u001b[0m\u001b[1;36m3\u001b[0m\u001b[31m WARNING messages.        \u001b[0m\n"
      ]
     },
     "metadata": {},
     "output_type": "display_data"
    }
   ],
   "source": [
    "sim = sim.copy(update={\"structures\":[structure,struct_in, struct_out,struct_up,struct_down],'boundary_spec':boundaries,'size':[Lx,Ly,Lz],\"monitors\":[time_monitorT,time_monitorFieldLateral]})\n"
   ]
  },
  {
   "cell_type": "code",
   "execution_count": 15,
   "metadata": {},
   "outputs": [],
   "source": [
    "# sim.plot_3d()"
   ]
  },
  {
   "cell_type": "code",
   "execution_count": 16,
   "metadata": {},
   "outputs": [],
   "source": [
    "# fig, ax = plt.subplots(1, tight_layout=True, figsize=(16, 8))\n",
    "# freqs_plot = (structure_1.freq_range[0], structure_1.freq_range[1])\n",
    "# sim.plot_eps(x=0, freq=freqs_plot[0], ax=ax)\n",
    "# plt.show()\n",
    "\n",
    "# fig, ax = plt.subplots(1, tight_layout=True, figsize=(16, 8))\n",
    "# freqs_plot = (structure_1.freq_range[0], structure_1.freq_range[1])\n",
    "# sim.plot_eps(z=0, freq=freqs_plot[0], ax=ax)\n",
    "# plt.show()\n"
   ]
  },
  {
   "cell_type": "code",
   "execution_count": 17,
   "metadata": {},
   "outputs": [
    {
     "data": {
      "text/html": [
       "<pre style=\"white-space:pre;overflow-x:auto;line-height:normal;font-family:Menlo,'DejaVu Sans Mono',consolas,'Courier New',monospace\"><span style=\"color: #7fbfbf; text-decoration-color: #7fbfbf\">17:55:36 W. Europe Daylight Time </span><span style=\"color: #800000; text-decoration-color: #800000\">WARNING: Monitor </span><span style=\"color: #008000; text-decoration-color: #008000\">'time_monitorFieldLateral'</span><span style=\"color: #800000; text-decoration-color: #800000\">    </span>\n",
       "<span style=\"color: #7fbfbf; text-decoration-color: #7fbfbf\">                                 </span><span style=\"color: #800000; text-decoration-color: #800000\">estimated storage is </span><span style=\"color: #008080; text-decoration-color: #008080; font-weight: bold\">23.</span><span style=\"color: #800000; text-decoration-color: #800000\">07GB. Consider making  </span>\n",
       "<span style=\"color: #7fbfbf; text-decoration-color: #7fbfbf\">                                 </span><span style=\"color: #800000; text-decoration-color: #800000\">it smaller, using fewer frequencies, or spatial</span>\n",
       "<span style=\"color: #7fbfbf; text-decoration-color: #7fbfbf\">                                 </span><span style=\"color: #800000; text-decoration-color: #800000\">or temporal downsampling using </span><span style=\"color: #008000; text-decoration-color: #008000\">'interval_space'</span>\n",
       "<span style=\"color: #7fbfbf; text-decoration-color: #7fbfbf\">                                 </span><span style=\"color: #800000; text-decoration-color: #800000\">and </span><span style=\"color: #008000; text-decoration-color: #008000\">'interval'</span><span style=\"color: #800000; text-decoration-color: #800000\">, respectively.                  </span>\n",
       "</pre>\n"
      ],
      "text/plain": [
       "\u001b[2;36m17:55:36 W. Europe Daylight Time\u001b[0m\u001b[2;36m \u001b[0m\u001b[31mWARNING: Monitor \u001b[0m\u001b[32m'time_monitorFieldLateral'\u001b[0m\u001b[31m    \u001b[0m\n",
       "\u001b[2;36m                                 \u001b[0m\u001b[31mestimated storage is \u001b[0m\u001b[1;36m23.\u001b[0m\u001b[31m07GB. Consider making  \u001b[0m\n",
       "\u001b[2;36m                                 \u001b[0m\u001b[31mit smaller, using fewer frequencies, or spatial\u001b[0m\n",
       "\u001b[2;36m                                 \u001b[0m\u001b[31mor temporal downsampling using \u001b[0m\u001b[32m'interval_space'\u001b[0m\n",
       "\u001b[2;36m                                 \u001b[0m\u001b[31mand \u001b[0m\u001b[32m'interval'\u001b[0m\u001b[31m, respectively.                  \u001b[0m\n"
      ]
     },
     "metadata": {},
     "output_type": "display_data"
    },
    {
     "data": {
      "text/html": [
       "<pre style=\"white-space:pre;overflow-x:auto;line-height:normal;font-family:Menlo,'DejaVu Sans Mono',consolas,'Courier New',monospace\"><span style=\"color: #7fbfbf; text-decoration-color: #7fbfbf\">17:55:40 W. Europe Daylight Time </span>Created task <span style=\"color: #008000; text-decoration-color: #008000\">'RCP perm 15 runtime 2.4e-11ps nu </span>\n",
       "<span style=\"color: #7fbfbf; text-decoration-color: #7fbfbf\">                                 </span><span style=\"color: #008000; text-decoration-color: #008000\">0.435 - 0.455 - 108x108x18a'</span> with task_id      \n",
       "<span style=\"color: #7fbfbf; text-decoration-color: #7fbfbf\">                                 </span><span style=\"color: #008000; text-decoration-color: #008000\">'fdve-1b25843d-6e83-4044-871f-0156265f23e5'</span> and\n",
       "<span style=\"color: #7fbfbf; text-decoration-color: #7fbfbf\">                                 </span>task_type <span style=\"color: #008000; text-decoration-color: #008000\">'FDTD'</span>.                              \n",
       "</pre>\n"
      ],
      "text/plain": [
       "\u001b[2;36m17:55:40 W. Europe Daylight Time\u001b[0m\u001b[2;36m \u001b[0mCreated task \u001b[32m'RCP perm 15 runtime 2.4e-11ps nu \u001b[0m\n",
       "\u001b[2;36m                                 \u001b[0m\u001b[32m0.435 - 0.455 - 108x108x18a'\u001b[0m with task_id      \n",
       "\u001b[2;36m                                 \u001b[0m\u001b[32m'fdve-1b25843d-6e83-4044-871f-0156265f23e5'\u001b[0m and\n",
       "\u001b[2;36m                                 \u001b[0mtask_type \u001b[32m'FDTD'\u001b[0m.                              \n"
      ]
     },
     "metadata": {},
     "output_type": "display_data"
    },
    {
     "data": {
      "text/html": [
       "<pre style=\"white-space:pre;overflow-x:auto;line-height:normal;font-family:Menlo,'DejaVu Sans Mono',consolas,'Courier New',monospace\"><span style=\"color: #7fbfbf; text-decoration-color: #7fbfbf\">                                 </span>View task using web UI at                      \n",
       "<span style=\"color: #7fbfbf; text-decoration-color: #7fbfbf\">                                 </span><a href=\"https://tidy3d.simulation.cloud/workbench?taskId=fdve-1b25843d-6e83-4044-871f-0156265f23e5\" target=\"_blank\"><span style=\"color: #008000; text-decoration-color: #008000\">'https://tidy3d.simulation.cloud/workbench?task</span></a>\n",
       "<span style=\"color: #7fbfbf; text-decoration-color: #7fbfbf\">                                 </span><a href=\"https://tidy3d.simulation.cloud/workbench?taskId=fdve-1b25843d-6e83-4044-871f-0156265f23e5\" target=\"_blank\"><span style=\"color: #008000; text-decoration-color: #008000\">Id=fdve-1b25843d-6e83-4044-871f-0156265f23e5'</span></a>. \n",
       "</pre>\n"
      ],
      "text/plain": [
       "\u001b[2;36m                                \u001b[0m\u001b[2;36m \u001b[0mView task using web UI at                      \n",
       "\u001b[2;36m                                 \u001b[0m\u001b]8;id=841970;https://tidy3d.simulation.cloud/workbench?taskId=fdve-1b25843d-6e83-4044-871f-0156265f23e5\u001b\\\u001b[32m'https://tidy3d.simulation.cloud/workbench?\u001b[0m\u001b]8;;\u001b\\\u001b]8;id=930934;https://tidy3d.simulation.cloud/workbench?taskId=fdve-1b25843d-6e83-4044-871f-0156265f23e5\u001b\\\u001b[32mtask\u001b[0m\u001b]8;;\u001b\\\n",
       "\u001b[2;36m                                 \u001b[0m\u001b]8;id=930934;https://tidy3d.simulation.cloud/workbench?taskId=fdve-1b25843d-6e83-4044-871f-0156265f23e5\u001b\\\u001b[32mId\u001b[0m\u001b]8;;\u001b\\\u001b]8;id=841970;https://tidy3d.simulation.cloud/workbench?taskId=fdve-1b25843d-6e83-4044-871f-0156265f23e5\u001b\\\u001b[32m=\u001b[0m\u001b]8;;\u001b\\\u001b]8;id=667730;https://tidy3d.simulation.cloud/workbench?taskId=fdve-1b25843d-6e83-4044-871f-0156265f23e5\u001b\\\u001b[32mfdve\u001b[0m\u001b]8;;\u001b\\\u001b]8;id=841970;https://tidy3d.simulation.cloud/workbench?taskId=fdve-1b25843d-6e83-4044-871f-0156265f23e5\u001b\\\u001b[32m-1b25843d-6e83-4044-871f-0156265f23e5'\u001b[0m\u001b]8;;\u001b\\. \n"
      ]
     },
     "metadata": {},
     "output_type": "display_data"
    },
    {
     "data": {
      "application/vnd.jupyter.widget-view+json": {
       "model_id": "06684a81c9cd47b8a2fd5041476ea3d0",
       "version_major": 2,
       "version_minor": 0
      },
      "text/plain": [
       "Output()"
      ]
     },
     "metadata": {},
     "output_type": "display_data"
    },
    {
     "data": {
      "text/html": [
       "<pre style=\"white-space:pre;overflow-x:auto;line-height:normal;font-family:Menlo,'DejaVu Sans Mono',consolas,'Courier New',monospace\"></pre>\n"
      ],
      "text/plain": []
     },
     "metadata": {},
     "output_type": "display_data"
    },
    {
     "data": {
      "text/html": [
       "<pre style=\"white-space:pre;overflow-x:auto;line-height:normal;font-family:Menlo,'DejaVu Sans Mono',consolas,'Courier New',monospace\">\n",
       "</pre>\n"
      ],
      "text/plain": [
       "\n"
      ]
     },
     "metadata": {},
     "output_type": "display_data"
    },
    {
     "data": {
      "text/html": [
       "<pre style=\"white-space:pre;overflow-x:auto;line-height:normal;font-family:Menlo,'DejaVu Sans Mono',consolas,'Courier New',monospace\"><span style=\"color: #7fbfbf; text-decoration-color: #7fbfbf\">18:38:22 W. Europe Daylight Time </span>Maximum FlexCredit cost: <span style=\"color: #008080; text-decoration-color: #008080; font-weight: bold\">225.601</span>. Minimum cost \n",
       "<span style=\"color: #7fbfbf; text-decoration-color: #7fbfbf\">                                 </span>depends on task execution details. Use         \n",
       "<span style=\"color: #7fbfbf; text-decoration-color: #7fbfbf\">                                 </span><span style=\"color: #008000; text-decoration-color: #008000\">'web.real_cost(task_id)'</span> to get the billed     \n",
       "<span style=\"color: #7fbfbf; text-decoration-color: #7fbfbf\">                                 </span>FlexCredit cost after a simulation run.        \n",
       "</pre>\n"
      ],
      "text/plain": [
       "\u001b[2;36m18:38:22 W. Europe Daylight Time\u001b[0m\u001b[2;36m \u001b[0mMaximum FlexCredit cost: \u001b[1;36m225.601\u001b[0m. Minimum cost \n",
       "\u001b[2;36m                                 \u001b[0mdepends on task execution details. Use         \n",
       "\u001b[2;36m                                 \u001b[0m\u001b[32m'web.real_cost\u001b[0m\u001b[32m(\u001b[0m\u001b[32mtask_id\u001b[0m\u001b[32m)\u001b[0m\u001b[32m'\u001b[0m to get the billed     \n",
       "\u001b[2;36m                                 \u001b[0mFlexCredit cost after a simulation run.        \n"
      ]
     },
     "metadata": {},
     "output_type": "display_data"
    },
    {
     "data": {
      "text/plain": [
       "225.60094009209098"
      ]
     },
     "execution_count": 17,
     "metadata": {},
     "output_type": "execute_result"
    }
   ],
   "source": [
    "id =web.upload(sim,task_name=sim_name, verbose=True)\n",
    "web.estimate_cost(task_id = id)"
   ]
  },
  {
   "cell_type": "code",
   "execution_count": 18,
   "metadata": {},
   "outputs": [],
   "source": [
    "if run:\n",
    "        id0 = ''\n",
    "        # print(\"running ref...\")\n",
    "        # id0 = web.upload(sim.copy(update={\"structures\":[]}), folder_name=project_name,task_name=sim_name+'_0', verbose=True)\n",
    "        # web.start(task_id = id0)\n",
    "        # web.monitor(task_id=id0,verbose=True)\n",
    "\n",
    "        id =web.upload(sim, folder_name=project_name,task_name=sim_name, verbose=True)\n",
    "        web.start(task_id = id)\n",
    "        web.monitor(task_id=id,verbose=True)\n",
    "    \n",
    "        ids = (id0 if id0 else '') +'\\n' + id\n",
    "        incidence_folder = \"z_incidence\"\n",
    "        file_path = rf\"H:\\phd stuff\\tidy3d\\data/{project_name}/{incidence_folder}/{sim_name}.txt\"\n",
    "        # Check if the folder exists\n",
    "        if not os.path.exists( rf\"H:\\phd stuff\\tidy3d\\data/{project_name}/{incidence_folder}\"):\n",
    "            os.makedirs(rf\"H:\\phd stuff\\tidy3d\\data/{project_name}/{incidence_folder}\")\n",
    "            print(f\"Folder '{project_name}/{incidence_folder}' created successfully.\")\n",
    "\n",
    "        # Open file in write mode\n",
    "        with open(file_path, \"w\") as file:\n",
    "            # Write the string to the file\n",
    "            file.write(ids)"
   ]
  },
  {
   "cell_type": "code",
   "execution_count": null,
   "metadata": {},
   "outputs": [],
   "source": []
  }
 ],
 "metadata": {
  "kernelspec": {
   "display_name": "Python 3",
   "language": "python",
   "name": "python3"
  },
  "language_info": {
   "codemirror_mode": {
    "name": "ipython",
    "version": 3
   },
   "file_extension": ".py",
   "mimetype": "text/x-python",
   "name": "python",
   "nbconvert_exporter": "python",
   "pygments_lexer": "ipython3",
   "version": "3.12.4"
  }
 },
 "nbformat": 4,
 "nbformat_minor": 2
}
