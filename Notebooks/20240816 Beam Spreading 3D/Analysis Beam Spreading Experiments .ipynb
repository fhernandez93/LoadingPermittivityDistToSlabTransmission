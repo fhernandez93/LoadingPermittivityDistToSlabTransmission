{
 "cells": [
  {
   "cell_type": "code",
   "execution_count": 1,
   "metadata": {},
   "outputs": [],
   "source": [
    "%load_ext autoreload\n",
    "%autoreload 2\n",
    "%matplotlib inline\n",
    "import scipy.io as sio\n",
    "from dataclasses import dataclass\n",
    "from typing import List, Tuple\n",
    "import os\n",
    "from dotenv import load_dotenv\n",
    "load_dotenv()\n",
    "import tidy3d as td\n",
    "from tidy3d import web\n",
    "import numpy as np\n",
    "from pathlib import Path\n",
    "import matplotlib.pyplot as plt\n",
    "from natsort import natsorted"
   ]
  },
  {
   "cell_type": "code",
   "execution_count": 2,
   "metadata": {},
   "outputs": [],
   "source": [
    "import sys\n",
    "import os\n",
    "\n",
    "# Assuming /AutomationModule is in the root directory of your project\n",
    "sys.path.append(os.path.abspath(r'H:\\phd stuff\\tidy3d'))\n",
    "\n",
    "from AutomationModule import * \n",
    "\n",
    "import AutomationModule as AM"
   ]
  },
  {
   "cell_type": "code",
   "execution_count": 3,
   "metadata": {},
   "outputs": [],
   "source": [
    "tidy3dAPI = os.environ[\"API_TIDY3D_KEY\"]"
   ]
  },
  {
   "cell_type": "code",
   "execution_count": 4,
   "metadata": {},
   "outputs": [],
   "source": [
    "a = 5/3"
   ]
  },
  {
   "cell_type": "code",
   "execution_count": 5,
   "metadata": {},
   "outputs": [],
   "source": [
    "import xarray as xr\n",
    "import imageio\n",
    "\n",
    "def create_movie(field_time_out, monitor_lambdas,name='',type='t',log=False,path=\"\",frames_per_second=1,rem_frames=False, normalize=True, a=5/3):\n",
    "    frames = []\n",
    "\n",
    "    max_values = field_time_out.max(axis=(0,1,2)) if normalize else 1\n",
    "\n",
    "    field_time_out = field_time_out/max_values\n",
    "    field_time_out['x'] = field_time_out['x']/a\n",
    "    field_time_out['y'] = field_time_out['y']/a\n",
    "    field_time_out['z'] = field_time_out['z']/a\n",
    "\n",
    "\n",
    "    if log:\n",
    "        field_log = np.log10((field_time_out))\n",
    "        folder_pics = \"logPics\"\n",
    "        \n",
    "    else:\n",
    "        field_log = ((field_time_out))\n",
    "        folder_pics = \"linPics\"\n",
    "\n",
    "    if not os.path.exists(f'{path}/{folder_pics}'):\n",
    "            os.makedirs(f'{path}/{folder_pics}')\n",
    "            print(f\"Folder {path}/{folder_pics} created successfully.\")\n",
    "\n",
    "    for i, time in enumerate(field_time_out.t):\n",
    "        if os.path.isfile(f'{path}/{folder_pics}/frame_{i}.png'):\n",
    "            frames.append(f'{path}/{folder_pics}/frame_{i}.png')\n",
    "            continue\n",
    "        try:\n",
    "            fig, ax = plt.subplots(figsize=(14/2, 18/2))\n",
    "            #fig, ax = plt.subplots(figsize=(12, 6))\n",
    "            if type==\"t\":\n",
    "                pcolormesh = (field_log).isel(t=i).squeeze().plot.pcolormesh(ax=ax,cmap=\"jet\")\n",
    "            else:\n",
    "                pcolormesh = (field_log).isel(f=i).squeeze().plot.pcolormesh(ax=ax,cmap=\"jet\")\n",
    "\n",
    "            ax.set_aspect('auto', adjustable='box')\n",
    "            try:\n",
    "                plt.title(f'Time: {str(np.array(field_time_out['t'][()][i])*1e12)} ps')\n",
    "            except:\n",
    "                plt.title(f'$\\\\nu$: {(1/np.array(td.C_0/field_time_out['f'][()][i])):.4g}')\n",
    "\n",
    "\n",
    "            # Save the frame\n",
    "            plt.savefig(f'{path}/{folder_pics}/frame_{i}.png')\n",
    "            plt.close(fig)\n",
    "            frames.append(f'{path}/{folder_pics}/frame_{i}.png')\n",
    "        except:\n",
    "            break\n",
    "        \n",
    "\n",
    "    name_movie = f'{path}/{name}.mp4' if name else f'output/anderson/d(t) analysis/Diameter d(t) at output of the structure Range - {monitor_lambdas[0]:.3g} - {monitor_lambdas[-1]:.3g}.mp4'\n",
    "    with imageio.get_writer(name_movie, fps=frames_per_second) as writer:\n",
    "        for frame in frames:\n",
    "            image = imageio.imread(frame)\n",
    "            writer.append_data(image)\n",
    "\n",
    "    # Optionally, remove the individual frames if no longer needed\n",
    "    if rem_frames:\n",
    "        for frame in frames:\n",
    "            os.remove(frame)\n",
    "    \n",
    "    return False"
   ]
  },
  {
   "cell_type": "code",
   "execution_count": 6,
   "metadata": {},
   "outputs": [
    {
     "name": "stdout",
     "output_type": "stream",
     "text": [
      "RCP  0.08 - 0.09999999999999999.txt\n",
      "RCP  0.17000000000000004 - 0.19.txt\n",
      "Configured successfully.\n"
     ]
    },
    {
     "data": {
      "text/html": [
       "<pre style=\"white-space:pre;overflow-x:auto;line-height:normal;font-family:Menlo,'DejaVu Sans Mono',consolas,'Courier New',monospace\"><span style=\"color: #7fbfbf; text-decoration-color: #7fbfbf\">21:33:01 W. Europe Daylight Time </span><span style=\"color: #800000; text-decoration-color: #800000; font-weight: bold\">ERROR: Expected field </span><span style=\"color: #008000; text-decoration-color: #008000\">'task_id'</span><span style=\"color: #800000; text-decoration-color: #800000; font-weight: bold\"> is unset.      </span>\n",
       "</pre>\n"
      ],
      "text/plain": [
       "\u001b[2;36m21:33:01 W. Europe Daylight Time\u001b[0m\u001b[2;36m \u001b[0m\u001b[1;31mERROR: Expected field \u001b[0m\u001b[32m'task_id'\u001b[0m\u001b[1;31m is unset.      \u001b[0m\n"
      ]
     },
     "metadata": {},
     "output_type": "display_data"
    },
    {
     "name": "stdout",
     "output_type": "stream",
     "text": [
      "No Reference Simulation was found for this case\n"
     ]
    },
    {
     "data": {
      "application/vnd.jupyter.widget-view+json": {
       "model_id": "dd96217eaaa2444987435ee57118e462",
       "version_major": 2,
       "version_minor": 0
      },
      "text/plain": [
       "Output()"
      ]
     },
     "metadata": {},
     "output_type": "display_data"
    },
    {
     "data": {
      "text/html": [
       "<pre style=\"white-space:pre;overflow-x:auto;line-height:normal;font-family:Menlo,'DejaVu Sans Mono',consolas,'Courier New',monospace\"></pre>\n"
      ],
      "text/plain": []
     },
     "metadata": {},
     "output_type": "display_data"
    },
    {
     "data": {
      "text/html": [
       "<pre style=\"white-space:pre;overflow-x:auto;line-height:normal;font-family:Menlo,'DejaVu Sans Mono',consolas,'Courier New',monospace\">\n",
       "</pre>\n"
      ],
      "text/plain": [
       "\n"
      ]
     },
     "metadata": {},
     "output_type": "display_data"
    },
    {
     "data": {
      "text/html": [
       "<pre style=\"white-space:pre;overflow-x:auto;line-height:normal;font-family:Menlo,'DejaVu Sans Mono',consolas,'Courier New',monospace\"><span style=\"color: #7fbfbf; text-decoration-color: #7fbfbf\">21:39:35 W. Europe Daylight Time </span>loading simulation from H:\\phd                 \n",
       "<span style=\"color: #7fbfbf; text-decoration-color: #7fbfbf\">                                 </span>stuff\\tidy3d/output/data\\08_16_2024 STL RCP    \n",
       "<span style=\"color: #7fbfbf; text-decoration-color: #7fbfbf\">                                 </span>Sample Test Beam Spreading\\z_incidence\\RCP     \n",
       "<span style=\"color: #7fbfbf; text-decoration-color: #7fbfbf\">                                 </span><span style=\"color: #008080; text-decoration-color: #008080; font-weight: bold\">0.17000000000000004</span> - <span style=\"color: #008080; text-decoration-color: #008080; font-weight: bold\">0.19</span>.txt/Data.hdf5       \n",
       "</pre>\n"
      ],
      "text/plain": [
       "\u001b[2;36m21:39:35 W. Europe Daylight Time\u001b[0m\u001b[2;36m \u001b[0mloading simulation from H:\\phd                 \n",
       "\u001b[2;36m                                 \u001b[0mstuff\\tidy3d/output/data\\08_16_2024 STL RCP    \n",
       "\u001b[2;36m                                 \u001b[0mSample Test Beam Spreading\\z_incidence\\RCP     \n",
       "\u001b[2;36m                                 \u001b[0m\u001b[1;36m0.17000000000000004\u001b[0m - \u001b[1;36m0.19\u001b[0m.txt/Data.hdf5       \n"
      ]
     },
     "metadata": {},
     "output_type": "display_data"
    },
    {
     "data": {
      "text/html": [
       "<pre style=\"white-space:pre;overflow-x:auto;line-height:normal;font-family:Menlo,'DejaVu Sans Mono',consolas,'Courier New',monospace\"><span style=\"color: #7fbfbf; text-decoration-color: #7fbfbf\">21:43:38 W. Europe Daylight Time </span><span style=\"color: #800000; text-decoration-color: #800000\">WARNING: Simulation final field decay value of </span>\n",
       "<span style=\"color: #7fbfbf; text-decoration-color: #7fbfbf\">                                 </span><span style=\"color: #008080; text-decoration-color: #008080; font-weight: bold\">0.0107</span><span style=\"color: #800000; text-decoration-color: #800000\"> is greater than the simulation shutoff  </span>\n",
       "<span style=\"color: #7fbfbf; text-decoration-color: #7fbfbf\">                                 </span><span style=\"color: #800000; text-decoration-color: #800000\">threshold of </span><span style=\"color: #008080; text-decoration-color: #008080; font-weight: bold\">1e-20</span><span style=\"color: #800000; text-decoration-color: #800000\">. Consider running the       </span>\n",
       "<span style=\"color: #7fbfbf; text-decoration-color: #7fbfbf\">                                 </span><span style=\"color: #800000; text-decoration-color: #800000\">simulation again with a larger </span><span style=\"color: #008000; text-decoration-color: #008000\">'run_time'</span><span style=\"color: #800000; text-decoration-color: #800000\">      </span>\n",
       "<span style=\"color: #7fbfbf; text-decoration-color: #7fbfbf\">                                 </span><span style=\"color: #800000; text-decoration-color: #800000\">duration for more accurate results.            </span>\n",
       "</pre>\n"
      ],
      "text/plain": [
       "\u001b[2;36m21:43:38 W. Europe Daylight Time\u001b[0m\u001b[2;36m \u001b[0m\u001b[31mWARNING: Simulation final field decay value of \u001b[0m\n",
       "\u001b[2;36m                                 \u001b[0m\u001b[1;36m0.0107\u001b[0m\u001b[31m is greater than the simulation shutoff  \u001b[0m\n",
       "\u001b[2;36m                                 \u001b[0m\u001b[31mthreshold of \u001b[0m\u001b[1;36m1e-20\u001b[0m\u001b[31m. Consider running the       \u001b[0m\n",
       "\u001b[2;36m                                 \u001b[0m\u001b[31msimulation again with a larger \u001b[0m\u001b[32m'run_time'\u001b[0m\u001b[31m      \u001b[0m\n",
       "\u001b[2;36m                                 \u001b[0m\u001b[31mduration for more accurate results.            \u001b[0m\n"
      ]
     },
     "metadata": {},
     "output_type": "display_data"
    },
    {
     "data": {
      "text/html": [
       "<pre style=\"white-space:pre;overflow-x:auto;line-height:normal;font-family:Menlo,'DejaVu Sans Mono',consolas,'Courier New',monospace\"><span style=\"color: #7fbfbf; text-decoration-color: #7fbfbf\">21:43:39 W. Europe Daylight Time </span>Billed flex credit cost: <span style=\"color: #008080; text-decoration-color: #008080; font-weight: bold\">45.702</span>.               \n",
       "</pre>\n"
      ],
      "text/plain": [
       "\u001b[2;36m21:43:39 W. Europe Daylight Time\u001b[0m\u001b[2;36m \u001b[0mBilled flex credit cost: \u001b[1;36m45.702\u001b[0m.               \n"
      ]
     },
     "metadata": {},
     "output_type": "display_data"
    },
    {
     "data": {
      "text/html": [
       "<pre style=\"white-space:pre;overflow-x:auto;line-height:normal;font-family:Menlo,'DejaVu Sans Mono',consolas,'Courier New',monospace\"><span style=\"color: #7fbfbf; text-decoration-color: #7fbfbf\">                                 </span>Note: the task cost pro-rated due to early     \n",
       "<span style=\"color: #7fbfbf; text-decoration-color: #7fbfbf\">                                 </span>shutoff was below the minimum threshold, due to\n",
       "<span style=\"color: #7fbfbf; text-decoration-color: #7fbfbf\">                                 </span>fast shutoff. Decreasing the simulation        \n",
       "<span style=\"color: #7fbfbf; text-decoration-color: #7fbfbf\">                                 </span><span style=\"color: #008000; text-decoration-color: #008000\">'run_time'</span> should decrease the estimated, and  \n",
       "<span style=\"color: #7fbfbf; text-decoration-color: #7fbfbf\">                                 </span>correspondingly the billed cost of such tasks. \n",
       "</pre>\n"
      ],
      "text/plain": [
       "\u001b[2;36m                                \u001b[0m\u001b[2;36m \u001b[0mNote: the task cost pro-rated due to early     \n",
       "\u001b[2;36m                                 \u001b[0mshutoff was below the minimum threshold, due to\n",
       "\u001b[2;36m                                 \u001b[0mfast shutoff. Decreasing the simulation        \n",
       "\u001b[2;36m                                 \u001b[0m\u001b[32m'run_time'\u001b[0m should decrease the estimated, and  \n",
       "\u001b[2;36m                                 \u001b[0mcorrespondingly the billed cost of such tasks. \n"
      ]
     },
     "metadata": {},
     "output_type": "display_data"
    },
    {
     "name": "stdout",
     "output_type": "stream",
     "text": [
      "Simulation Parameters (wavelengths are expressed in um):\n",
      "lambda_range: 8.87 - 9.69 um \n",
      "lambdaw (pulse) 416.66666666666754 \n",
      "lambda0 9.25925925925926 \n",
      "Runtime = 40.0 \n",
      "resolution = 15.0 \n",
      "time_per_fwidth = 28.780075967999938 \n",
      "final decay value = 0.0107 \n",
      "\n"
     ]
    },
    {
     "data": {
      "image/png": "[encoded data removed]",
      "text/plain": [
       "<Figure size 640x480 with 1 Axes>"
      ]
     },
     "metadata": {},
     "output_type": "display_data"
    },
    {
     "name": "stdout",
     "output_type": "stream",
     "text": [
      "(1, 1253, 371, 1077)\n",
      "Folder H:\\phd stuff\\tidy3d\\output/3D SHU/Beam Spreading/linPics created successfully.\n"
     ]
    },
    {
     "name": "stderr",
     "output_type": "stream",
     "text": [
      "C:\\Users\\HernandF\\AppData\\Local\\Temp\\ipykernel_19624\\2204351561.py:57: DeprecationWarning: Starting with ImageIO v3 the behavior of this function will switch to that of iio.v3.imread. To keep the current behavior (and make this warning disappear) use `import imageio.v2 as imageio` or call `imageio.v2.imread` directly.\n",
      "  image = imageio.imread(frame)\n",
      "IMAGEIO FFMPEG_WRITER WARNING: input image is not divisible by macro_block_size=16, resizing from (700, 900) to (704, 912) to ensure video compatibility with most codecs and players. To prevent resizing, make your input image divisible by the macro_block_size or set the macro_block_size to 1 (risking incompatibility).\n"
     ]
    }
   ],
   "source": [
    "folder_path = r\"H:\\phd stuff\\tidy3d\\data\\08_16_2024 STL RCP Sample Test Beam Spreading\\z_incidence\"\n",
    "      \n",
    "\n",
    "for i,filename in enumerate(natsorted(os.listdir(folder_path))):\n",
    "    print(filename)\n",
    "    if filename  != \"RCP  0.17000000000000004 - 0.19.txt\":\n",
    "        continue\n",
    "    file=os.path.join(folder_path, filename)\n",
    "    sim_object_result = AM.loadFromFile(key = tidy3dAPI, file_path=file)\n",
    "    monitor_lambdas = a/sim_object_result.monitor_lambdas\n",
    "    print(sim_object_result.__str__())\n",
    "    sim_data = sim_object_result.sim_data\n",
    "\n",
    "    #Plot T(t)\n",
    "    flux_t = sim_data[\"time_monitorT\"].flux\n",
    "    times = flux_t['t']*1e12\n",
    "    plt.plot(times,flux_t)\n",
    "    plt.yscale(\"log\")\n",
    "    plt.grid()\n",
    "    plt.show()\n",
    "\n",
    "    field_time_out = sim_data.get_intensity(\"time_monitorFieldLateral\")\n",
    "    print(np.shape(field_time_out))\n",
    "   \n",
    "    create_movie(field_time_out,monitor_lambdas,name=f\"timemonitor {monitor_lambdas[0]:.3g} - {monitor_lambdas[-1]:.3g}\",type=\"t\",log=False,path=r\"H:\\phd stuff\\tidy3d\\output/3D SHU/Beam Spreading\",frames_per_second=10,normalize=True,a=a)\n",
    "\n",
    "\n"
   ]
  },
  {
   "cell_type": "code",
   "execution_count": null,
   "metadata": {},
   "outputs": [],
   "source": []
  }
 ],
 "metadata": {
  "kernelspec": {
   "display_name": "Python 3",
   "language": "python",
   "name": "python3"
  },
  "language_info": {
   "codemirror_mode": {
    "name": "ipython",
    "version": 3
   },
   "file_extension": ".py",
   "mimetype": "text/x-python",
   "name": "python",
   "nbconvert_exporter": "python",
   "pygments_lexer": "ipython3",
   "version": "3.12.4"
  }
 },
 "nbformat": 4,
 "nbformat_minor": 2
}
