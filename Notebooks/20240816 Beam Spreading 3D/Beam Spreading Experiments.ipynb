{
 "cells": [
  {
   "cell_type": "code",
   "execution_count": null,
   "metadata": {},
   "outputs": [],
   "source": [
    "%load_ext autoreload\n",
    "%autoreload 2\n",
    "%matplotlib inline\n",
    "import scipy.io as sio\n",
    "from dataclasses import dataclass\n",
    "from typing import List, Tuple\n",
    "import os\n",
    "from dotenv import load_dotenv\n",
    "load_dotenv()\n",
    "import tidy3d as td\n",
    "from tidy3d import web\n",
    "import numpy as np\n",
    "from pathlib import Path\n",
    "import matplotlib.pyplot as plt"
   ]
  },
  {
   "cell_type": "code",
   "execution_count": null,
   "metadata": {},
   "outputs": [],
   "source": [
    "import sys\n",
    "import os\n",
    "\n",
    "# Assuming /AutomationModule is in the root directory of your project\n",
    "sys.path.append(os.path.abspath(r'H:\\phd stuff\\tidy3d'))\n",
    "\n",
    "from AutomationModule import * \n",
    "\n",
    "import AutomationModule as AM"
   ]
  },
  {
   "cell_type": "code",
   "execution_count": null,
   "metadata": {},
   "outputs": [],
   "source": [
    "tidy3dAPI = os.environ[\"API_TIDY3D_KEY\"]"
   ]
  },
  {
   "cell_type": "code",
   "execution_count": null,
   "metadata": {},
   "outputs": [],
   "source": [
    "a = 5/3"
   ]
  },
  {
   "cell_type": "code",
   "execution_count": null,
   "metadata": {},
   "outputs": [],
   "source": [
    "lambdas = a/np.array([0.08,0.10]) \n",
    "folder_path = r\"H:\\phd stuff\\tidy3d\\structures\\08_13_2024 Luis H5 18.01a\\sample 2\"\n",
    "project_name = \"08_16_2024 STL RCP Sample Test Beam Spreading\"\n",
    "postprocess_results = []\n",
    "runtime_ps = 40e-12\n",
    "min_steps_per_lambda = 15\n",
    "for direction in [\"z\"]: \n",
    "    sim_name = f\"RCP  {a/lambdas[0]} - {a/lambdas[1]}\"\n",
    "    for filename in os.listdir(folder_path):\n",
    "     for perm in [40]:\n",
    "        print(filename)\n",
    "        if not (Path(filename).suffix==\".h5\" or Path(filename).suffix==\".stl\"):\n",
    "            continue \n",
    "        if os.path.isfile(os.path.join(folder_path, filename)):\n",
    "            file=os.path.join(folder_path, filename)\n",
    "            structure_1 = AM.loadAndRunStructure(key = tidy3dAPI, file_path=file\n",
    "                                            ,direction=direction, lambda_range=lambdas,\n",
    "                                            box_size=18*a,runtime_ps=runtime_ps,min_steps_per_lambda=min_steps_per_lambda, permittivity=perm,use_permittivity=True,\n",
    "                                           scaling=1,shuoff_condtion=1e-20, verbose=True, \n",
    "                                           monitors=[\"flux\"], freqs=200, \n",
    "                                           cut_condition=1.0, source=\"tight\", tight_percentage=0.05, absorbers=150, width=0.2, sim_name=sim_name,\n",
    "                                        multiplicate_size=True, multiplication_factor=4\n",
    "                                           \n",
    "                                           )\n",
    "           \n",
    "\n",
    "            \n"
   ]
  },
  {
   "cell_type": "code",
   "execution_count": null,
   "metadata": {},
   "outputs": [],
   "source": [
    "sim = structure_1.sim\n",
    "boundaries= td.BoundarySpec(\n",
    "            x=td.Boundary(plus=td.Absorber(num_layers=200),minus=td.Absorber(num_layers=200)),\n",
    "            y=td.Boundary(plus=td.Absorber(num_layers=200),minus=td.Absorber(num_layers=200)),\n",
    "            z=td.Boundary(plus=td.Absorber(num_layers=200),minus=td.Absorber(num_layers=200)),\n",
    "        )\n",
    "Lx, Ly, Lz =structure_1.Lx+4,structure_1.Ly+4,structure_1.Lz+10\n",
    "\n",
    "\n",
    "# slab= td.Structure(\n",
    "#                     geometry=td.Box(\n",
    "#                         center= (0,0,0),\n",
    "#                         size=(\n",
    "#                               structure_1.t_slab_x, \n",
    "#                               structure_1.t_slab_y, \n",
    "#                               structure_1.t_slab_z\n",
    "#                               ),\n",
    "#                     ),\n",
    "#                     medium=structure_1.dielectric,\n",
    "#                     name=f'slab{0}',\n",
    "#                     )\n",
    "\n",
    "\n",
    "time_monitorFieldLateral = td.FieldTimeMonitor(\n",
    "                center = (0,0,0),\n",
    "                size = (0,Ly,Lz),\n",
    "                    start=0,\n",
    "                    stop=structure_1.t_stop,\n",
    "                    interval=200,\n",
    "                    fields=[\"Ex\", \"Ey\", \"Ez\"],\n",
    "                    name=\"time_monitorFieldLateral\",\n",
    "                )\n",
    "\n",
    "\n",
    "\n",
    "time_monitorT = td.FluxTimeMonitor(\n",
    "                    center=[\n",
    "                        (structure_1.Lx - structure_1.spacing)*0.5 if structure_1.direction == \"x\" else 0, \n",
    "                        (structure_1.Ly - structure_1.spacing)*0.5 if structure_1.direction == \"y\" else 0, \n",
    "                        (structure_1.Lz - structure_1.spacing)*0.5 if structure_1.direction == \"z\" else 0\n",
    "\n",
    "\n",
    "                        ],\n",
    "                    size=[\n",
    "                        structure_1.t_slab_x,structure_1.t_slab_y,0\n",
    "                        ],\n",
    "                    interval = 200,\n",
    "                    name=\"time_monitorT\",\n",
    "\n",
    "                )\n",
    "\n",
    "\n",
    "\n",
    "sim = sim.copy(update={'boundary_spec':boundaries,'size':[Lx,Ly,Lz],\"monitors\":[time_monitorT,time_monitorFieldLateral]})\n",
    "\n",
    "\n",
    "\n"
   ]
  },
  {
   "cell_type": "code",
   "execution_count": null,
   "metadata": {},
   "outputs": [],
   "source": [
    "# fig, ax = plt.subplots(1, tight_layout=True, figsize=(16, 8))\n",
    "# freqs_plot = (structure_1.freq_range[0], structure_1.freq_range[1])\n",
    "# sim.plot_eps(x=0, freq=freqs_plot[0], ax=ax)\n",
    "# #sim.plot(x=0, ax=ax)\n",
    "# plt.show()\n",
    "# fig, ax = plt.subplots(1, tight_layout=True, figsize=(16, 8))\n",
    "# freqs_plot = (structure_1.freq_range[0], structure_1.freq_range[1])\n",
    "# sim.plot_eps(z=0, freq=freqs_plot[0], ax=ax)\n",
    "# #sim.plot(z=0, ax=ax)\n",
    "# plt.show()\n"
   ]
  },
  {
   "cell_type": "code",
   "execution_count": null,
   "metadata": {},
   "outputs": [],
   "source": [
    "if True:\n",
    "\n",
    "        id =web.upload(sim, folder_name=project_name,task_name=sim_name, verbose=True)\n",
    "        web.start(task_id = id)\n",
    "        web.monitor(task_id=id,verbose=True)\n",
    "        ids = '\\n' + id\n",
    "        incidence_folder = \"z_incidence\"\n",
    "        file_path = rf\"H:\\phd stuff\\tidy3d\\data/{project_name}/{incidence_folder}/{sim_name}.txt\"\n",
    "        # Check if the folder exists\n",
    "        if not os.path.exists( rf\"H:\\phd stuff\\tidy3d\\data/{project_name}/{incidence_folder}\"):\n",
    "            os.makedirs(rf\"H:\\phd stuff\\tidy3d\\data/{project_name}/{incidence_folder}\")\n",
    "            print(f\"Folder '{project_name}/{incidence_folder}' created successfully.\")\n",
    "\n",
    "        # Open file in write mode\n",
    "        with open(file_path, \"w\") as file:\n",
    "            # Write the string to the file\n",
    "            file.write(ids)"
   ]
  },
  {
   "cell_type": "code",
   "execution_count": null,
   "metadata": {},
   "outputs": [],
   "source": []
  }
 ],
 "metadata": {
  "kernelspec": {
   "display_name": "Python 3",
   "language": "python",
   "name": "python3"
  },
  "language_info": {
   "codemirror_mode": {
    "name": "ipython",
    "version": 3
   },
   "file_extension": ".py",
   "mimetype": "text/x-python",
   "name": "python",
   "nbconvert_exporter": "python",
   "pygments_lexer": "ipython3",
   "version": "3.12.4"
  }
 },
 "nbformat": 4,
 "nbformat_minor": 2
}
