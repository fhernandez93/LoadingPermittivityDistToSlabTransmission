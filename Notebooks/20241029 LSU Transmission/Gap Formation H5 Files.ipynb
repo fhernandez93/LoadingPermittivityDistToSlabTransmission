{
 "cells": [
  {
   "cell_type": "code",
   "execution_count": 1,
   "metadata": {},
   "outputs": [],
   "source": [
    "%load_ext autoreload\n",
    "%autoreload 2\n",
    "%matplotlib inline\n",
    "import scipy.io as sio\n",
    "from dataclasses import dataclass\n",
    "from typing import List, Tuple\n",
    "import os\n",
    "from dotenv import load_dotenv\n",
    "load_dotenv()\n",
    "import tidy3d as td\n",
    "from tidy3d import web\n",
    "import numpy as np\n",
    "from pathlib import Path\n",
    "from stl import mesh\n",
    "import matplotlib.pyplot as plt"
   ]
  },
  {
   "cell_type": "code",
   "execution_count": 2,
   "metadata": {},
   "outputs": [],
   "source": [
    "import sys\n",
    "import os\n",
    "\n",
    "# Assuming /AutomationModule is in the root directory of your project\n",
    "sys.path.append(os.path.abspath(fr'H:\\phd stuff\\tidy3d'))\n",
    "\n",
    "from AutomationModule import * \n",
    "\n",
    "import AutomationModule as AM"
   ]
  },
  {
   "cell_type": "code",
   "execution_count": 3,
   "metadata": {},
   "outputs": [],
   "source": [
    "tidy3dAPI = os.environ[\"API_TIDY3D_KEY\"]\n"
   ]
  },
  {
   "cell_type": "code",
   "execution_count": 4,
   "metadata": {},
   "outputs": [],
   "source": [
    "a = 3.4\n",
    "# lambdas = a/np.array([0.22,0.88]) \n",
    "# lambdas = np.array([7,2])/0.8\n",
    "lambdas = a/np.array([0.35,0.8])\n"
   ]
  },
  {
   "cell_type": "code",
   "execution_count": 5,
   "metadata": {},
   "outputs": [
    {
     "name": "stdout",
     "output_type": "stream",
     "text": [
      "Configured successfully.\n",
      "H:\\phd stuff\\tidy3d\\data\\02_10_2025 Florescu LSU H5 Transmission_perm_9.0\\z_incidence\\ak4_1000_eps_9p0_phih5_0p30_phiL_0p29_size_1.9.txt\n",
      "Creating...\n"
     ]
    },
    {
     "data": {
      "text/html": [
       "<pre style=\"white-space:pre;overflow-x:auto;line-height:normal;font-family:Menlo,'DejaVu Sans Mono',consolas,'Courier New',monospace\"><span style=\"color: #7fbfbf; text-decoration-color: #7fbfbf\">15:10:03 W. Europe Standard Time </span>Created task                                   \n",
       "<span style=\"color: #7fbfbf; text-decoration-color: #7fbfbf\">                                 </span><span style=\"color: #008000; text-decoration-color: #008000\">'ak4_1000_eps_9p0_phih5_0p30_phiL_0p29_size_1.9</span>\n",
       "<span style=\"color: #7fbfbf; text-decoration-color: #7fbfbf\">                                 </span><span style=\"color: #008000; text-decoration-color: #008000\">_0'</span> with task_id                               \n",
       "<span style=\"color: #7fbfbf; text-decoration-color: #7fbfbf\">                                 </span><span style=\"color: #008000; text-decoration-color: #008000\">'fdve-a99c506e-2b84-4f82-9806-f826854d2108'</span> and\n",
       "<span style=\"color: #7fbfbf; text-decoration-color: #7fbfbf\">                                 </span>task_type <span style=\"color: #008000; text-decoration-color: #008000\">'FDTD'</span>.                              \n",
       "</pre>\n"
      ],
      "text/plain": [
       "\u001b[2;36m15:10:03 W. Europe Standard Time\u001b[0m\u001b[2;36m \u001b[0mCreated task                                   \n",
       "\u001b[2;36m                                 \u001b[0m\u001b[32m'ak4_1000_eps_9p0_phih5_0p30_phiL_0p29_size_1.9\u001b[0m\n",
       "\u001b[2;36m                                 \u001b[0m\u001b[32m_0'\u001b[0m with task_id                               \n",
       "\u001b[2;36m                                 \u001b[0m\u001b[32m'fdve-a99c506e-2b84-4f82-9806-f826854d2108'\u001b[0m and\n",
       "\u001b[2;36m                                 \u001b[0mtask_type \u001b[32m'FDTD'\u001b[0m.                              \n"
      ]
     },
     "metadata": {},
     "output_type": "display_data"
    },
    {
     "data": {
      "text/html": [
       "<pre style=\"white-space:pre;overflow-x:auto;line-height:normal;font-family:Menlo,'DejaVu Sans Mono',consolas,'Courier New',monospace\"><span style=\"color: #7fbfbf; text-decoration-color: #7fbfbf\">                                 </span>View task using web UI at                      \n",
       "<span style=\"color: #7fbfbf; text-decoration-color: #7fbfbf\">                                 </span><a href=\"https://tidy3d.simulation.cloud/workbench?taskId=fdve-a99c506e-2b84-4f82-9806-f826854d2108\" target=\"_blank\"><span style=\"color: #008000; text-decoration-color: #008000\">'https://tidy3d.simulation.cloud/workbench?task</span></a>\n",
       "<span style=\"color: #7fbfbf; text-decoration-color: #7fbfbf\">                                 </span><a href=\"https://tidy3d.simulation.cloud/workbench?taskId=fdve-a99c506e-2b84-4f82-9806-f826854d2108\" target=\"_blank\"><span style=\"color: #008000; text-decoration-color: #008000\">Id=fdve-a99c506e-2b84-4f82-9806-f826854d2108'</span></a>. \n",
       "</pre>\n"
      ],
      "text/plain": [
       "\u001b[2;36m                                \u001b[0m\u001b[2;36m \u001b[0mView task using web UI at                      \n",
       "\u001b[2;36m                                 \u001b[0m\u001b]8;id=131149;https://tidy3d.simulation.cloud/workbench?taskId=fdve-a99c506e-2b84-4f82-9806-f826854d2108\u001b\\\u001b[32m'https://tidy3d.simulation.cloud/workbench?\u001b[0m\u001b]8;;\u001b\\\u001b]8;id=346144;https://tidy3d.simulation.cloud/workbench?taskId=fdve-a99c506e-2b84-4f82-9806-f826854d2108\u001b\\\u001b[32mtask\u001b[0m\u001b]8;;\u001b\\\n",
       "\u001b[2;36m                                 \u001b[0m\u001b]8;id=346144;https://tidy3d.simulation.cloud/workbench?taskId=fdve-a99c506e-2b84-4f82-9806-f826854d2108\u001b\\\u001b[32mId\u001b[0m\u001b]8;;\u001b\\\u001b]8;id=131149;https://tidy3d.simulation.cloud/workbench?taskId=fdve-a99c506e-2b84-4f82-9806-f826854d2108\u001b\\\u001b[32m=\u001b[0m\u001b]8;;\u001b\\\u001b]8;id=303462;https://tidy3d.simulation.cloud/workbench?taskId=fdve-a99c506e-2b84-4f82-9806-f826854d2108\u001b\\\u001b[32mfdve\u001b[0m\u001b]8;;\u001b\\\u001b]8;id=131149;https://tidy3d.simulation.cloud/workbench?taskId=fdve-a99c506e-2b84-4f82-9806-f826854d2108\u001b\\\u001b[32m-a99c506e-2b84-4f82-9806-f826854d2108'\u001b[0m\u001b]8;;\u001b\\. \n"
      ]
     },
     "metadata": {},
     "output_type": "display_data"
    },
    {
     "data": {
      "application/vnd.jupyter.widget-view+json": {
       "model_id": "212b45472e1d40329489e4afc7d8f944",
       "version_major": 2,
       "version_minor": 0
      },
      "text/plain": [
       "Output()"
      ]
     },
     "metadata": {},
     "output_type": "display_data"
    },
    {
     "data": {
      "text/html": [
       "<pre style=\"white-space:pre;overflow-x:auto;line-height:normal;font-family:Menlo,'DejaVu Sans Mono',consolas,'Courier New',monospace\"></pre>\n"
      ],
      "text/plain": []
     },
     "metadata": {},
     "output_type": "display_data"
    },
    {
     "data": {
      "text/html": [
       "<pre style=\"white-space:pre;overflow-x:auto;line-height:normal;font-family:Menlo,'DejaVu Sans Mono',consolas,'Courier New',monospace\">\n",
       "</pre>\n"
      ],
      "text/plain": [
       "\n"
      ]
     },
     "metadata": {},
     "output_type": "display_data"
    },
    {
     "data": {
      "text/html": [
       "<pre style=\"white-space:pre;overflow-x:auto;line-height:normal;font-family:Menlo,'DejaVu Sans Mono',consolas,'Courier New',monospace\"><span style=\"color: #7fbfbf; text-decoration-color: #7fbfbf\">15:10:05 W. Europe Standard Time </span>status = success                               \n",
       "</pre>\n"
      ],
      "text/plain": [
       "\u001b[2;36m15:10:05 W. Europe Standard Time\u001b[0m\u001b[2;36m \u001b[0mstatus = success                               \n"
      ]
     },
     "metadata": {},
     "output_type": "display_data"
    },
    {
     "data": {
      "text/html": [
       "<pre style=\"white-space:pre;overflow-x:auto;line-height:normal;font-family:Menlo,'DejaVu Sans Mono',consolas,'Courier New',monospace\"><span style=\"color: #7fbfbf; text-decoration-color: #7fbfbf\">                                 </span>Created task                                   \n",
       "<span style=\"color: #7fbfbf; text-decoration-color: #7fbfbf\">                                 </span><span style=\"color: #008000; text-decoration-color: #008000\">'ak4_1000_eps_9p0_phih5_0p30_phiL_0p29_size_1.9</span>\n",
       "<span style=\"color: #7fbfbf; text-decoration-color: #7fbfbf\">                                 </span><span style=\"color: #008000; text-decoration-color: #008000\">'</span> with task_id                                 \n",
       "<span style=\"color: #7fbfbf; text-decoration-color: #7fbfbf\">                                 </span><span style=\"color: #008000; text-decoration-color: #008000\">'fdve-148a18ce-ef5b-4042-8581-30be9d1016e8'</span> and\n",
       "<span style=\"color: #7fbfbf; text-decoration-color: #7fbfbf\">                                 </span>task_type <span style=\"color: #008000; text-decoration-color: #008000\">'FDTD'</span>.                              \n",
       "</pre>\n"
      ],
      "text/plain": [
       "\u001b[2;36m                                \u001b[0m\u001b[2;36m \u001b[0mCreated task                                   \n",
       "\u001b[2;36m                                 \u001b[0m\u001b[32m'ak4_1000_eps_9p0_phih5_0p30_phiL_0p29_size_1.9\u001b[0m\n",
       "\u001b[2;36m                                 \u001b[0m\u001b[32m'\u001b[0m with task_id                                 \n",
       "\u001b[2;36m                                 \u001b[0m\u001b[32m'fdve-148a18ce-ef5b-4042-8581-30be9d1016e8'\u001b[0m and\n",
       "\u001b[2;36m                                 \u001b[0mtask_type \u001b[32m'FDTD'\u001b[0m.                              \n"
      ]
     },
     "metadata": {},
     "output_type": "display_data"
    },
    {
     "data": {
      "text/html": [
       "<pre style=\"white-space:pre;overflow-x:auto;line-height:normal;font-family:Menlo,'DejaVu Sans Mono',consolas,'Courier New',monospace\"><span style=\"color: #7fbfbf; text-decoration-color: #7fbfbf\">                                 </span>View task using web UI at                      \n",
       "<span style=\"color: #7fbfbf; text-decoration-color: #7fbfbf\">                                 </span><a href=\"https://tidy3d.simulation.cloud/workbench?taskId=fdve-148a18ce-ef5b-4042-8581-30be9d1016e8\" target=\"_blank\"><span style=\"color: #008000; text-decoration-color: #008000\">'https://tidy3d.simulation.cloud/workbench?task</span></a>\n",
       "<span style=\"color: #7fbfbf; text-decoration-color: #7fbfbf\">                                 </span><a href=\"https://tidy3d.simulation.cloud/workbench?taskId=fdve-148a18ce-ef5b-4042-8581-30be9d1016e8\" target=\"_blank\"><span style=\"color: #008000; text-decoration-color: #008000\">Id=fdve-148a18ce-ef5b-4042-8581-30be9d1016e8'</span></a>. \n",
       "</pre>\n"
      ],
      "text/plain": [
       "\u001b[2;36m                                \u001b[0m\u001b[2;36m \u001b[0mView task using web UI at                      \n",
       "\u001b[2;36m                                 \u001b[0m\u001b]8;id=375771;https://tidy3d.simulation.cloud/workbench?taskId=fdve-148a18ce-ef5b-4042-8581-30be9d1016e8\u001b\\\u001b[32m'https://tidy3d.simulation.cloud/workbench?\u001b[0m\u001b]8;;\u001b\\\u001b]8;id=705377;https://tidy3d.simulation.cloud/workbench?taskId=fdve-148a18ce-ef5b-4042-8581-30be9d1016e8\u001b\\\u001b[32mtask\u001b[0m\u001b]8;;\u001b\\\n",
       "\u001b[2;36m                                 \u001b[0m\u001b]8;id=705377;https://tidy3d.simulation.cloud/workbench?taskId=fdve-148a18ce-ef5b-4042-8581-30be9d1016e8\u001b\\\u001b[32mId\u001b[0m\u001b]8;;\u001b\\\u001b]8;id=375771;https://tidy3d.simulation.cloud/workbench?taskId=fdve-148a18ce-ef5b-4042-8581-30be9d1016e8\u001b\\\u001b[32m=\u001b[0m\u001b]8;;\u001b\\\u001b]8;id=87496;https://tidy3d.simulation.cloud/workbench?taskId=fdve-148a18ce-ef5b-4042-8581-30be9d1016e8\u001b\\\u001b[32mfdve\u001b[0m\u001b]8;;\u001b\\\u001b]8;id=375771;https://tidy3d.simulation.cloud/workbench?taskId=fdve-148a18ce-ef5b-4042-8581-30be9d1016e8\u001b\\\u001b[32m-148a18ce-ef5b-4042-8581-30be9d1016e8'\u001b[0m\u001b]8;;\u001b\\. \n"
      ]
     },
     "metadata": {},
     "output_type": "display_data"
    },
    {
     "data": {
      "application/vnd.jupyter.widget-view+json": {
       "model_id": "31e497840ed54d838f8996246dcc53fa",
       "version_major": 2,
       "version_minor": 0
      },
      "text/plain": [
       "Output()"
      ]
     },
     "metadata": {},
     "output_type": "display_data"
    },
    {
     "data": {
      "text/html": [
       "<pre style=\"white-space:pre;overflow-x:auto;line-height:normal;font-family:Menlo,'DejaVu Sans Mono',consolas,'Courier New',monospace\"></pre>\n"
      ],
      "text/plain": []
     },
     "metadata": {},
     "output_type": "display_data"
    },
    {
     "data": {
      "text/html": [
       "<pre style=\"white-space:pre;overflow-x:auto;line-height:normal;font-family:Menlo,'DejaVu Sans Mono',consolas,'Courier New',monospace\">\n",
       "</pre>\n"
      ],
      "text/plain": [
       "\n"
      ]
     },
     "metadata": {},
     "output_type": "display_data"
    },
    {
     "data": {
      "text/html": [
       "<pre style=\"white-space:pre;overflow-x:auto;line-height:normal;font-family:Menlo,'DejaVu Sans Mono',consolas,'Courier New',monospace\"><span style=\"color: #7fbfbf; text-decoration-color: #7fbfbf\">15:15:03 W. Europe Standard Time </span>status = queued                                \n",
       "</pre>\n"
      ],
      "text/plain": [
       "\u001b[2;36m15:15:03 W. Europe Standard Time\u001b[0m\u001b[2;36m \u001b[0mstatus = queued                                \n"
      ]
     },
     "metadata": {},
     "output_type": "display_data"
    },
    {
     "data": {
      "text/html": [
       "<pre style=\"white-space:pre;overflow-x:auto;line-height:normal;font-family:Menlo,'DejaVu Sans Mono',consolas,'Courier New',monospace\"><span style=\"color: #7fbfbf; text-decoration-color: #7fbfbf\">                                 </span>To cancel the simulation, use                  \n",
       "<span style=\"color: #7fbfbf; text-decoration-color: #7fbfbf\">                                 </span><span style=\"color: #008000; text-decoration-color: #008000\">'web.abort(task_id)'</span> or <span style=\"color: #008000; text-decoration-color: #008000\">'web.delete(task_id)'</span>  \n",
       "<span style=\"color: #7fbfbf; text-decoration-color: #7fbfbf\">                                 </span>or abort/delete the task in the web UI.        \n",
       "<span style=\"color: #7fbfbf; text-decoration-color: #7fbfbf\">                                 </span>Terminating the Python script will not stop the\n",
       "<span style=\"color: #7fbfbf; text-decoration-color: #7fbfbf\">                                 </span>job running on the cloud.                      \n",
       "</pre>\n"
      ],
      "text/plain": [
       "\u001b[2;36m                                \u001b[0m\u001b[2;36m \u001b[0mTo cancel the simulation, use                  \n",
       "\u001b[2;36m                                 \u001b[0m\u001b[32m'web.abort\u001b[0m\u001b[32m(\u001b[0m\u001b[32mtask_id\u001b[0m\u001b[32m)\u001b[0m\u001b[32m'\u001b[0m or \u001b[32m'web.delete\u001b[0m\u001b[32m(\u001b[0m\u001b[32mtask_id\u001b[0m\u001b[32m)\u001b[0m\u001b[32m'\u001b[0m  \n",
       "\u001b[2;36m                                 \u001b[0mor abort/delete the task in the web UI.        \n",
       "\u001b[2;36m                                 \u001b[0mTerminating the Python script will not stop the\n",
       "\u001b[2;36m                                 \u001b[0mjob running on the cloud.                      \n"
      ]
     },
     "metadata": {},
     "output_type": "display_data"
    },
    {
     "data": {
      "application/vnd.jupyter.widget-view+json": {
       "model_id": "5c4b8c34b5214ee1938b67145ac5a472",
       "version_major": 2,
       "version_minor": 0
      },
      "text/plain": [
       "Output()"
      ]
     },
     "metadata": {},
     "output_type": "display_data"
    },
    {
     "data": {
      "text/html": [
       "<pre style=\"white-space:pre;overflow-x:auto;line-height:normal;font-family:Menlo,'DejaVu Sans Mono',consolas,'Courier New',monospace\"><span style=\"color: #7fbfbf; text-decoration-color: #7fbfbf\">15:16:24 W. Europe Standard Time </span>status = preprocess                            \n",
       "</pre>\n"
      ],
      "text/plain": [
       "\u001b[2;36m15:16:24 W. Europe Standard Time\u001b[0m\u001b[2;36m \u001b[0mstatus = preprocess                            \n"
      ]
     },
     "metadata": {},
     "output_type": "display_data"
    },
    {
     "data": {
      "text/html": [
       "<pre style=\"white-space:pre;overflow-x:auto;line-height:normal;font-family:Menlo,'DejaVu Sans Mono',consolas,'Courier New',monospace\"></pre>\n"
      ],
      "text/plain": []
     },
     "metadata": {},
     "output_type": "display_data"
    },
    {
     "data": {
      "text/html": [
       "<pre style=\"white-space:pre;overflow-x:auto;line-height:normal;font-family:Menlo,'DejaVu Sans Mono',consolas,'Courier New',monospace\"><span style=\"color: #7fbfbf; text-decoration-color: #7fbfbf\">15:16:39 W. Europe Standard Time </span>Maximum FlexCredit cost: <span style=\"color: #008080; text-decoration-color: #008080; font-weight: bold\">0.426</span>. Use            \n",
       "<span style=\"color: #7fbfbf; text-decoration-color: #7fbfbf\">                                 </span><span style=\"color: #008000; text-decoration-color: #008000\">'web.real_cost(task_id)'</span> to get the billed     \n",
       "<span style=\"color: #7fbfbf; text-decoration-color: #7fbfbf\">                                 </span>FlexCredit cost after a simulation run.        \n",
       "</pre>\n"
      ],
      "text/plain": [
       "\u001b[2;36m15:16:39 W. Europe Standard Time\u001b[0m\u001b[2;36m \u001b[0mMaximum FlexCredit cost: \u001b[1;36m0.426\u001b[0m. Use            \n",
       "\u001b[2;36m                                 \u001b[0m\u001b[32m'web.real_cost\u001b[0m\u001b[32m(\u001b[0m\u001b[32mtask_id\u001b[0m\u001b[32m)\u001b[0m\u001b[32m'\u001b[0m to get the billed     \n",
       "\u001b[2;36m                                 \u001b[0mFlexCredit cost after a simulation run.        \n"
      ]
     },
     "metadata": {},
     "output_type": "display_data"
    },
    {
     "data": {
      "text/html": [
       "<pre style=\"white-space:pre;overflow-x:auto;line-height:normal;font-family:Menlo,'DejaVu Sans Mono',consolas,'Courier New',monospace\"><span style=\"color: #7fbfbf; text-decoration-color: #7fbfbf\">                                 </span>starting up solver                             \n",
       "</pre>\n"
      ],
      "text/plain": [
       "\u001b[2;36m                                \u001b[0m\u001b[2;36m \u001b[0mstarting up solver                             \n"
      ]
     },
     "metadata": {},
     "output_type": "display_data"
    },
    {
     "data": {
      "text/html": [
       "<pre style=\"white-space:pre;overflow-x:auto;line-height:normal;font-family:Menlo,'DejaVu Sans Mono',consolas,'Courier New',monospace\"><span style=\"color: #7fbfbf; text-decoration-color: #7fbfbf\">15:16:40 W. Europe Standard Time </span>running solver                                 \n",
       "</pre>\n"
      ],
      "text/plain": [
       "\u001b[2;36m15:16:40 W. Europe Standard Time\u001b[0m\u001b[2;36m \u001b[0mrunning solver                                 \n"
      ]
     },
     "metadata": {},
     "output_type": "display_data"
    },
    {
     "data": {
      "application/vnd.jupyter.widget-view+json": {
       "model_id": "599f96940560409f8f8a34dbead785e6",
       "version_major": 2,
       "version_minor": 0
      },
      "text/plain": [
       "Output()"
      ]
     },
     "metadata": {},
     "output_type": "display_data"
    },
    {
     "data": {
      "text/html": [
       "<pre style=\"white-space:pre;overflow-x:auto;line-height:normal;font-family:Menlo,'DejaVu Sans Mono',consolas,'Courier New',monospace\"></pre>\n"
      ],
      "text/plain": []
     },
     "metadata": {},
     "output_type": "display_data"
    },
    {
     "data": {
      "text/html": [
       "<pre style=\"white-space:pre;overflow-x:auto;line-height:normal;font-family:Menlo,'DejaVu Sans Mono',consolas,'Courier New',monospace\">\n",
       "</pre>\n"
      ],
      "text/plain": [
       "\n"
      ]
     },
     "metadata": {},
     "output_type": "display_data"
    },
    {
     "data": {
      "text/html": [
       "<pre style=\"white-space:pre;overflow-x:auto;line-height:normal;font-family:Menlo,'DejaVu Sans Mono',consolas,'Courier New',monospace\"><span style=\"color: #7fbfbf; text-decoration-color: #7fbfbf\">15:17:54 W. Europe Standard Time </span>status = postprocess                           \n",
       "</pre>\n"
      ],
      "text/plain": [
       "\u001b[2;36m15:17:54 W. Europe Standard Time\u001b[0m\u001b[2;36m \u001b[0mstatus = postprocess                           \n"
      ]
     },
     "metadata": {},
     "output_type": "display_data"
    },
    {
     "data": {
      "application/vnd.jupyter.widget-view+json": {
       "model_id": "f668e2d3ec1e4ce38100d2fc00c334c2",
       "version_major": 2,
       "version_minor": 0
      },
      "text/plain": [
       "Output()"
      ]
     },
     "metadata": {},
     "output_type": "display_data"
    },
    {
     "data": {
      "text/html": [
       "<pre style=\"white-space:pre;overflow-x:auto;line-height:normal;font-family:Menlo,'DejaVu Sans Mono',consolas,'Courier New',monospace\"><span style=\"color: #7fbfbf; text-decoration-color: #7fbfbf\">15:17:58 W. Europe Standard Time </span>status = success                               \n",
       "</pre>\n"
      ],
      "text/plain": [
       "\u001b[2;36m15:17:58 W. Europe Standard Time\u001b[0m\u001b[2;36m \u001b[0mstatus = success                               \n"
      ]
     },
     "metadata": {},
     "output_type": "display_data"
    },
    {
     "data": {
      "text/html": [
       "<pre style=\"white-space:pre;overflow-x:auto;line-height:normal;font-family:Menlo,'DejaVu Sans Mono',consolas,'Courier New',monospace\"></pre>\n"
      ],
      "text/plain": []
     },
     "metadata": {},
     "output_type": "display_data"
    },
    {
     "data": {
      "text/html": [
       "<pre style=\"white-space:pre;overflow-x:auto;line-height:normal;font-family:Menlo,'DejaVu Sans Mono',consolas,'Courier New',monospace\"><span style=\"color: #7fbfbf; text-decoration-color: #7fbfbf\">15:17:59 W. Europe Standard Time </span>View simulation result at                      \n",
       "<span style=\"color: #7fbfbf; text-decoration-color: #7fbfbf\">                                 </span><a href=\"https://tidy3d.simulation.cloud/workbench?taskId=fdve-148a18ce-ef5b-4042-8581-30be9d1016e8\" target=\"_blank\"><span style=\"color: #000080; text-decoration-color: #000080; text-decoration: underline\">'https://tidy3d.simulation.cloud/workbench?task</span></a>\n",
       "<span style=\"color: #7fbfbf; text-decoration-color: #7fbfbf\">                                 </span><a href=\"https://tidy3d.simulation.cloud/workbench?taskId=fdve-148a18ce-ef5b-4042-8581-30be9d1016e8\" target=\"_blank\"><span style=\"color: #000080; text-decoration-color: #000080; text-decoration: underline\">Id=fdve-148a18ce-ef5b-4042-8581-30be9d1016e8'</span></a><span style=\"color: #000080; text-decoration-color: #000080; text-decoration: underline\">.</span> \n",
       "</pre>\n"
      ],
      "text/plain": [
       "\u001b[2;36m15:17:59 W. Europe Standard Time\u001b[0m\u001b[2;36m \u001b[0mView simulation result at                      \n",
       "\u001b[2;36m                                 \u001b[0m\u001b]8;id=672546;https://tidy3d.simulation.cloud/workbench?taskId=fdve-148a18ce-ef5b-4042-8581-30be9d1016e8\u001b\\\u001b[4;34m'https://tidy3d.simulation.cloud/workbench?\u001b[0m\u001b]8;;\u001b\\\u001b]8;id=395891;https://tidy3d.simulation.cloud/workbench?taskId=fdve-148a18ce-ef5b-4042-8581-30be9d1016e8\u001b\\\u001b[4;34mtask\u001b[0m\u001b]8;;\u001b\\\n",
       "\u001b[2;36m                                 \u001b[0m\u001b]8;id=395891;https://tidy3d.simulation.cloud/workbench?taskId=fdve-148a18ce-ef5b-4042-8581-30be9d1016e8\u001b\\\u001b[4;34mId\u001b[0m\u001b]8;;\u001b\\\u001b]8;id=672546;https://tidy3d.simulation.cloud/workbench?taskId=fdve-148a18ce-ef5b-4042-8581-30be9d1016e8\u001b\\\u001b[4;34m=\u001b[0m\u001b]8;;\u001b\\\u001b]8;id=136273;https://tidy3d.simulation.cloud/workbench?taskId=fdve-148a18ce-ef5b-4042-8581-30be9d1016e8\u001b\\\u001b[4;34mfdve\u001b[0m\u001b]8;;\u001b\\\u001b]8;id=672546;https://tidy3d.simulation.cloud/workbench?taskId=fdve-148a18ce-ef5b-4042-8581-30be9d1016e8\u001b\\\u001b[4;34m-148a18ce-ef5b-4042-8581-30be9d1016e8'\u001b[0m\u001b]8;;\u001b\\\u001b[4;34m.\u001b[0m \n"
      ]
     },
     "metadata": {},
     "output_type": "display_data"
    },
    {
     "name": "stdout",
     "output_type": "stream",
     "text": [
      "Configured successfully.\n",
      "H:\\phd stuff\\tidy3d\\data\\02_10_2025 Florescu LSU H5 Transmission_perm_9.0\\z_incidence\\ak4_1000_eps_9p0_phih5_0p30_phiL_0p29_size_2.txt\n",
      "Creating...\n"
     ]
    },
    {
     "data": {
      "text/html": [
       "<pre style=\"white-space:pre;overflow-x:auto;line-height:normal;font-family:Menlo,'DejaVu Sans Mono',consolas,'Courier New',monospace\"><span style=\"color: #7fbfbf; text-decoration-color: #7fbfbf\">15:18:24 W. Europe Standard Time </span>Created task                                   \n",
       "<span style=\"color: #7fbfbf; text-decoration-color: #7fbfbf\">                                 </span><span style=\"color: #008000; text-decoration-color: #008000\">'ak4_1000_eps_9p0_phih5_0p30_phiL_0p29_size_2_0</span>\n",
       "<span style=\"color: #7fbfbf; text-decoration-color: #7fbfbf\">                                 </span><span style=\"color: #008000; text-decoration-color: #008000\">'</span> with task_id                                 \n",
       "<span style=\"color: #7fbfbf; text-decoration-color: #7fbfbf\">                                 </span><span style=\"color: #008000; text-decoration-color: #008000\">'fdve-76c38378-5ea2-479b-808d-f51e63ad5104'</span> and\n",
       "<span style=\"color: #7fbfbf; text-decoration-color: #7fbfbf\">                                 </span>task_type <span style=\"color: #008000; text-decoration-color: #008000\">'FDTD'</span>.                              \n",
       "</pre>\n"
      ],
      "text/plain": [
       "\u001b[2;36m15:18:24 W. Europe Standard Time\u001b[0m\u001b[2;36m \u001b[0mCreated task                                   \n",
       "\u001b[2;36m                                 \u001b[0m\u001b[32m'ak4_1000_eps_9p0_phih5_0p30_phiL_0p29_size_2_0\u001b[0m\n",
       "\u001b[2;36m                                 \u001b[0m\u001b[32m'\u001b[0m with task_id                                 \n",
       "\u001b[2;36m                                 \u001b[0m\u001b[32m'fdve-76c38378-5ea2-479b-808d-f51e63ad5104'\u001b[0m and\n",
       "\u001b[2;36m                                 \u001b[0mtask_type \u001b[32m'FDTD'\u001b[0m.                              \n"
      ]
     },
     "metadata": {},
     "output_type": "display_data"
    },
    {
     "data": {
      "text/html": [
       "<pre style=\"white-space:pre;overflow-x:auto;line-height:normal;font-family:Menlo,'DejaVu Sans Mono',consolas,'Courier New',monospace\"><span style=\"color: #7fbfbf; text-decoration-color: #7fbfbf\">                                 </span>View task using web UI at                      \n",
       "<span style=\"color: #7fbfbf; text-decoration-color: #7fbfbf\">                                 </span><a href=\"https://tidy3d.simulation.cloud/workbench?taskId=fdve-76c38378-5ea2-479b-808d-f51e63ad5104\" target=\"_blank\"><span style=\"color: #008000; text-decoration-color: #008000\">'https://tidy3d.simulation.cloud/workbench?task</span></a>\n",
       "<span style=\"color: #7fbfbf; text-decoration-color: #7fbfbf\">                                 </span><a href=\"https://tidy3d.simulation.cloud/workbench?taskId=fdve-76c38378-5ea2-479b-808d-f51e63ad5104\" target=\"_blank\"><span style=\"color: #008000; text-decoration-color: #008000\">Id=fdve-76c38378-5ea2-479b-808d-f51e63ad5104'</span></a>. \n",
       "</pre>\n"
      ],
      "text/plain": [
       "\u001b[2;36m                                \u001b[0m\u001b[2;36m \u001b[0mView task using web UI at                      \n",
       "\u001b[2;36m                                 \u001b[0m\u001b]8;id=65368;https://tidy3d.simulation.cloud/workbench?taskId=fdve-76c38378-5ea2-479b-808d-f51e63ad5104\u001b\\\u001b[32m'https://tidy3d.simulation.cloud/workbench?\u001b[0m\u001b]8;;\u001b\\\u001b]8;id=632468;https://tidy3d.simulation.cloud/workbench?taskId=fdve-76c38378-5ea2-479b-808d-f51e63ad5104\u001b\\\u001b[32mtask\u001b[0m\u001b]8;;\u001b\\\n",
       "\u001b[2;36m                                 \u001b[0m\u001b]8;id=632468;https://tidy3d.simulation.cloud/workbench?taskId=fdve-76c38378-5ea2-479b-808d-f51e63ad5104\u001b\\\u001b[32mId\u001b[0m\u001b]8;;\u001b\\\u001b]8;id=65368;https://tidy3d.simulation.cloud/workbench?taskId=fdve-76c38378-5ea2-479b-808d-f51e63ad5104\u001b\\\u001b[32m=\u001b[0m\u001b]8;;\u001b\\\u001b]8;id=780632;https://tidy3d.simulation.cloud/workbench?taskId=fdve-76c38378-5ea2-479b-808d-f51e63ad5104\u001b\\\u001b[32mfdve\u001b[0m\u001b]8;;\u001b\\\u001b]8;id=65368;https://tidy3d.simulation.cloud/workbench?taskId=fdve-76c38378-5ea2-479b-808d-f51e63ad5104\u001b\\\u001b[32m-76c38378-5ea2-479b-808d-f51e63ad5104'\u001b[0m\u001b]8;;\u001b\\. \n"
      ]
     },
     "metadata": {},
     "output_type": "display_data"
    },
    {
     "data": {
      "application/vnd.jupyter.widget-view+json": {
       "model_id": "e7fcc9a74d394b09921e3018eac9d5aa",
       "version_major": 2,
       "version_minor": 0
      },
      "text/plain": [
       "Output()"
      ]
     },
     "metadata": {},
     "output_type": "display_data"
    },
    {
     "data": {
      "text/html": [
       "<pre style=\"white-space:pre;overflow-x:auto;line-height:normal;font-family:Menlo,'DejaVu Sans Mono',consolas,'Courier New',monospace\"></pre>\n"
      ],
      "text/plain": []
     },
     "metadata": {},
     "output_type": "display_data"
    },
    {
     "data": {
      "text/html": [
       "<pre style=\"white-space:pre;overflow-x:auto;line-height:normal;font-family:Menlo,'DejaVu Sans Mono',consolas,'Courier New',monospace\">\n",
       "</pre>\n"
      ],
      "text/plain": [
       "\n"
      ]
     },
     "metadata": {},
     "output_type": "display_data"
    },
    {
     "data": {
      "text/html": [
       "<pre style=\"white-space:pre;overflow-x:auto;line-height:normal;font-family:Menlo,'DejaVu Sans Mono',consolas,'Courier New',monospace\"><span style=\"color: #7fbfbf; text-decoration-color: #7fbfbf\">15:18:27 W. Europe Standard Time </span>status = success                               \n",
       "</pre>\n"
      ],
      "text/plain": [
       "\u001b[2;36m15:18:27 W. Europe Standard Time\u001b[0m\u001b[2;36m \u001b[0mstatus = success                               \n"
      ]
     },
     "metadata": {},
     "output_type": "display_data"
    },
    {
     "data": {
      "text/html": [
       "<pre style=\"white-space:pre;overflow-x:auto;line-height:normal;font-family:Menlo,'DejaVu Sans Mono',consolas,'Courier New',monospace\"><span style=\"color: #7fbfbf; text-decoration-color: #7fbfbf\">                                 </span>Created task                                   \n",
       "<span style=\"color: #7fbfbf; text-decoration-color: #7fbfbf\">                                 </span><span style=\"color: #008000; text-decoration-color: #008000\">'ak4_1000_eps_9p0_phih5_0p30_phiL_0p29_size_2'</span> \n",
       "<span style=\"color: #7fbfbf; text-decoration-color: #7fbfbf\">                                 </span>with task_id                                   \n",
       "<span style=\"color: #7fbfbf; text-decoration-color: #7fbfbf\">                                 </span><span style=\"color: #008000; text-decoration-color: #008000\">'fdve-04e53879-1a3b-4b03-a489-082babfae011'</span> and\n",
       "<span style=\"color: #7fbfbf; text-decoration-color: #7fbfbf\">                                 </span>task_type <span style=\"color: #008000; text-decoration-color: #008000\">'FDTD'</span>.                              \n",
       "</pre>\n"
      ],
      "text/plain": [
       "\u001b[2;36m                                \u001b[0m\u001b[2;36m \u001b[0mCreated task                                   \n",
       "\u001b[2;36m                                 \u001b[0m\u001b[32m'ak4_1000_eps_9p0_phih5_0p30_phiL_0p29_size_2'\u001b[0m \n",
       "\u001b[2;36m                                 \u001b[0mwith task_id                                   \n",
       "\u001b[2;36m                                 \u001b[0m\u001b[32m'fdve-04e53879-1a3b-4b03-a489-082babfae011'\u001b[0m and\n",
       "\u001b[2;36m                                 \u001b[0mtask_type \u001b[32m'FDTD'\u001b[0m.                              \n"
      ]
     },
     "metadata": {},
     "output_type": "display_data"
    },
    {
     "data": {
      "text/html": [
       "<pre style=\"white-space:pre;overflow-x:auto;line-height:normal;font-family:Menlo,'DejaVu Sans Mono',consolas,'Courier New',monospace\"><span style=\"color: #7fbfbf; text-decoration-color: #7fbfbf\">                                 </span>View task using web UI at                      \n",
       "<span style=\"color: #7fbfbf; text-decoration-color: #7fbfbf\">                                 </span><a href=\"https://tidy3d.simulation.cloud/workbench?taskId=fdve-04e53879-1a3b-4b03-a489-082babfae011\" target=\"_blank\"><span style=\"color: #008000; text-decoration-color: #008000\">'https://tidy3d.simulation.cloud/workbench?task</span></a>\n",
       "<span style=\"color: #7fbfbf; text-decoration-color: #7fbfbf\">                                 </span><a href=\"https://tidy3d.simulation.cloud/workbench?taskId=fdve-04e53879-1a3b-4b03-a489-082babfae011\" target=\"_blank\"><span style=\"color: #008000; text-decoration-color: #008000\">Id=fdve-04e53879-1a3b-4b03-a489-082babfae011'</span></a>. \n",
       "</pre>\n"
      ],
      "text/plain": [
       "\u001b[2;36m                                \u001b[0m\u001b[2;36m \u001b[0mView task using web UI at                      \n",
       "\u001b[2;36m                                 \u001b[0m\u001b]8;id=358595;https://tidy3d.simulation.cloud/workbench?taskId=fdve-04e53879-1a3b-4b03-a489-082babfae011\u001b\\\u001b[32m'https://tidy3d.simulation.cloud/workbench?\u001b[0m\u001b]8;;\u001b\\\u001b]8;id=487752;https://tidy3d.simulation.cloud/workbench?taskId=fdve-04e53879-1a3b-4b03-a489-082babfae011\u001b\\\u001b[32mtask\u001b[0m\u001b]8;;\u001b\\\n",
       "\u001b[2;36m                                 \u001b[0m\u001b]8;id=487752;https://tidy3d.simulation.cloud/workbench?taskId=fdve-04e53879-1a3b-4b03-a489-082babfae011\u001b\\\u001b[32mId\u001b[0m\u001b]8;;\u001b\\\u001b]8;id=358595;https://tidy3d.simulation.cloud/workbench?taskId=fdve-04e53879-1a3b-4b03-a489-082babfae011\u001b\\\u001b[32m=\u001b[0m\u001b]8;;\u001b\\\u001b]8;id=104287;https://tidy3d.simulation.cloud/workbench?taskId=fdve-04e53879-1a3b-4b03-a489-082babfae011\u001b\\\u001b[32mfdve\u001b[0m\u001b]8;;\u001b\\\u001b]8;id=358595;https://tidy3d.simulation.cloud/workbench?taskId=fdve-04e53879-1a3b-4b03-a489-082babfae011\u001b\\\u001b[32m-04e53879-1a3b-4b03-a489-082babfae011'\u001b[0m\u001b]8;;\u001b\\. \n"
      ]
     },
     "metadata": {},
     "output_type": "display_data"
    },
    {
     "data": {
      "application/vnd.jupyter.widget-view+json": {
       "model_id": "518caf98ea104c8b8d470fb243d8387b",
       "version_major": 2,
       "version_minor": 0
      },
      "text/plain": [
       "Output()"
      ]
     },
     "metadata": {},
     "output_type": "display_data"
    },
    {
     "data": {
      "text/html": [
       "<pre style=\"white-space:pre;overflow-x:auto;line-height:normal;font-family:Menlo,'DejaVu Sans Mono',consolas,'Courier New',monospace\"></pre>\n"
      ],
      "text/plain": []
     },
     "metadata": {},
     "output_type": "display_data"
    },
    {
     "data": {
      "text/html": [
       "<pre style=\"white-space:pre;overflow-x:auto;line-height:normal;font-family:Menlo,'DejaVu Sans Mono',consolas,'Courier New',monospace\">\n",
       "</pre>\n"
      ],
      "text/plain": [
       "\n"
      ]
     },
     "metadata": {},
     "output_type": "display_data"
    },
    {
     "data": {
      "text/html": [
       "<pre style=\"white-space:pre;overflow-x:auto;line-height:normal;font-family:Menlo,'DejaVu Sans Mono',consolas,'Courier New',monospace\"><span style=\"color: #7fbfbf; text-decoration-color: #7fbfbf\">15:23:43 W. Europe Standard Time </span>status = queued                                \n",
       "</pre>\n"
      ],
      "text/plain": [
       "\u001b[2;36m15:23:43 W. Europe Standard Time\u001b[0m\u001b[2;36m \u001b[0mstatus = queued                                \n"
      ]
     },
     "metadata": {},
     "output_type": "display_data"
    },
    {
     "data": {
      "text/html": [
       "<pre style=\"white-space:pre;overflow-x:auto;line-height:normal;font-family:Menlo,'DejaVu Sans Mono',consolas,'Courier New',monospace\"><span style=\"color: #7fbfbf; text-decoration-color: #7fbfbf\">                                 </span>To cancel the simulation, use                  \n",
       "<span style=\"color: #7fbfbf; text-decoration-color: #7fbfbf\">                                 </span><span style=\"color: #008000; text-decoration-color: #008000\">'web.abort(task_id)'</span> or <span style=\"color: #008000; text-decoration-color: #008000\">'web.delete(task_id)'</span>  \n",
       "<span style=\"color: #7fbfbf; text-decoration-color: #7fbfbf\">                                 </span>or abort/delete the task in the web UI.        \n",
       "<span style=\"color: #7fbfbf; text-decoration-color: #7fbfbf\">                                 </span>Terminating the Python script will not stop the\n",
       "<span style=\"color: #7fbfbf; text-decoration-color: #7fbfbf\">                                 </span>job running on the cloud.                      \n",
       "</pre>\n"
      ],
      "text/plain": [
       "\u001b[2;36m                                \u001b[0m\u001b[2;36m \u001b[0mTo cancel the simulation, use                  \n",
       "\u001b[2;36m                                 \u001b[0m\u001b[32m'web.abort\u001b[0m\u001b[32m(\u001b[0m\u001b[32mtask_id\u001b[0m\u001b[32m)\u001b[0m\u001b[32m'\u001b[0m or \u001b[32m'web.delete\u001b[0m\u001b[32m(\u001b[0m\u001b[32mtask_id\u001b[0m\u001b[32m)\u001b[0m\u001b[32m'\u001b[0m  \n",
       "\u001b[2;36m                                 \u001b[0mor abort/delete the task in the web UI.        \n",
       "\u001b[2;36m                                 \u001b[0mTerminating the Python script will not stop the\n",
       "\u001b[2;36m                                 \u001b[0mjob running on the cloud.                      \n"
      ]
     },
     "metadata": {},
     "output_type": "display_data"
    },
    {
     "data": {
      "application/vnd.jupyter.widget-view+json": {
       "model_id": "8879176e4db44fd1b52332960c1430cf",
       "version_major": 2,
       "version_minor": 0
      },
      "text/plain": [
       "Output()"
      ]
     },
     "metadata": {},
     "output_type": "display_data"
    },
    {
     "data": {
      "text/html": [
       "<pre style=\"white-space:pre;overflow-x:auto;line-height:normal;font-family:Menlo,'DejaVu Sans Mono',consolas,'Courier New',monospace\"><span style=\"color: #7fbfbf; text-decoration-color: #7fbfbf\">15:25:31 W. Europe Standard Time </span>status = preprocess                            \n",
       "</pre>\n"
      ],
      "text/plain": [
       "\u001b[2;36m15:25:31 W. Europe Standard Time\u001b[0m\u001b[2;36m \u001b[0mstatus = preprocess                            \n"
      ]
     },
     "metadata": {},
     "output_type": "display_data"
    },
    {
     "data": {
      "text/html": [
       "<pre style=\"white-space:pre;overflow-x:auto;line-height:normal;font-family:Menlo,'DejaVu Sans Mono',consolas,'Courier New',monospace\"></pre>\n"
      ],
      "text/plain": []
     },
     "metadata": {},
     "output_type": "display_data"
    },
    {
     "data": {
      "text/html": [
       "<pre style=\"white-space:pre;overflow-x:auto;line-height:normal;font-family:Menlo,'DejaVu Sans Mono',consolas,'Courier New',monospace\"><span style=\"color: #7fbfbf; text-decoration-color: #7fbfbf\">15:26:25 W. Europe Standard Time </span>Maximum FlexCredit cost: <span style=\"color: #008080; text-decoration-color: #008080; font-weight: bold\">0.432</span>. Use            \n",
       "<span style=\"color: #7fbfbf; text-decoration-color: #7fbfbf\">                                 </span><span style=\"color: #008000; text-decoration-color: #008000\">'web.real_cost(task_id)'</span> to get the billed     \n",
       "<span style=\"color: #7fbfbf; text-decoration-color: #7fbfbf\">                                 </span>FlexCredit cost after a simulation run.        \n",
       "</pre>\n"
      ],
      "text/plain": [
       "\u001b[2;36m15:26:25 W. Europe Standard Time\u001b[0m\u001b[2;36m \u001b[0mMaximum FlexCredit cost: \u001b[1;36m0.432\u001b[0m. Use            \n",
       "\u001b[2;36m                                 \u001b[0m\u001b[32m'web.real_cost\u001b[0m\u001b[32m(\u001b[0m\u001b[32mtask_id\u001b[0m\u001b[32m)\u001b[0m\u001b[32m'\u001b[0m to get the billed     \n",
       "\u001b[2;36m                                 \u001b[0mFlexCredit cost after a simulation run.        \n"
      ]
     },
     "metadata": {},
     "output_type": "display_data"
    },
    {
     "data": {
      "text/html": [
       "<pre style=\"white-space:pre;overflow-x:auto;line-height:normal;font-family:Menlo,'DejaVu Sans Mono',consolas,'Courier New',monospace\"><span style=\"color: #7fbfbf; text-decoration-color: #7fbfbf\">                                 </span>starting up solver                             \n",
       "</pre>\n"
      ],
      "text/plain": [
       "\u001b[2;36m                                \u001b[0m\u001b[2;36m \u001b[0mstarting up solver                             \n"
      ]
     },
     "metadata": {},
     "output_type": "display_data"
    },
    {
     "data": {
      "text/html": [
       "<pre style=\"white-space:pre;overflow-x:auto;line-height:normal;font-family:Menlo,'DejaVu Sans Mono',consolas,'Courier New',monospace\"><span style=\"color: #7fbfbf; text-decoration-color: #7fbfbf\">15:26:26 W. Europe Standard Time </span>running solver                                 \n",
       "</pre>\n"
      ],
      "text/plain": [
       "\u001b[2;36m15:26:26 W. Europe Standard Time\u001b[0m\u001b[2;36m \u001b[0mrunning solver                                 \n"
      ]
     },
     "metadata": {},
     "output_type": "display_data"
    },
    {
     "data": {
      "application/vnd.jupyter.widget-view+json": {
       "model_id": "7bc74694e78c489fb20fbcddb694bf78",
       "version_major": 2,
       "version_minor": 0
      },
      "text/plain": [
       "Output()"
      ]
     },
     "metadata": {},
     "output_type": "display_data"
    },
    {
     "data": {
      "text/html": [
       "<pre style=\"white-space:pre;overflow-x:auto;line-height:normal;font-family:Menlo,'DejaVu Sans Mono',consolas,'Courier New',monospace\"></pre>\n"
      ],
      "text/plain": []
     },
     "metadata": {},
     "output_type": "display_data"
    },
    {
     "data": {
      "text/html": [
       "<pre style=\"white-space:pre;overflow-x:auto;line-height:normal;font-family:Menlo,'DejaVu Sans Mono',consolas,'Courier New',monospace\">\n",
       "</pre>\n"
      ],
      "text/plain": [
       "\n"
      ]
     },
     "metadata": {},
     "output_type": "display_data"
    },
    {
     "data": {
      "text/html": [
       "<pre style=\"white-space:pre;overflow-x:auto;line-height:normal;font-family:Menlo,'DejaVu Sans Mono',consolas,'Courier New',monospace\"><span style=\"color: #7fbfbf; text-decoration-color: #7fbfbf\">15:27:23 W. Europe Standard Time </span>status = postprocess                           \n",
       "</pre>\n"
      ],
      "text/plain": [
       "\u001b[2;36m15:27:23 W. Europe Standard Time\u001b[0m\u001b[2;36m \u001b[0mstatus = postprocess                           \n"
      ]
     },
     "metadata": {},
     "output_type": "display_data"
    },
    {
     "data": {
      "application/vnd.jupyter.widget-view+json": {
       "model_id": "20938d9070634236b473b4439835ffa7",
       "version_major": 2,
       "version_minor": 0
      },
      "text/plain": [
       "Output()"
      ]
     },
     "metadata": {},
     "output_type": "display_data"
    },
    {
     "data": {
      "text/html": [
       "<pre style=\"white-space:pre;overflow-x:auto;line-height:normal;font-family:Menlo,'DejaVu Sans Mono',consolas,'Courier New',monospace\"><span style=\"color: #7fbfbf; text-decoration-color: #7fbfbf\">15:27:35 W. Europe Standard Time </span>status = success                               \n",
       "</pre>\n"
      ],
      "text/plain": [
       "\u001b[2;36m15:27:35 W. Europe Standard Time\u001b[0m\u001b[2;36m \u001b[0mstatus = success                               \n"
      ]
     },
     "metadata": {},
     "output_type": "display_data"
    },
    {
     "data": {
      "text/html": [
       "<pre style=\"white-space:pre;overflow-x:auto;line-height:normal;font-family:Menlo,'DejaVu Sans Mono',consolas,'Courier New',monospace\"></pre>\n"
      ],
      "text/plain": []
     },
     "metadata": {},
     "output_type": "display_data"
    },
    {
     "data": {
      "text/html": [
       "<pre style=\"white-space:pre;overflow-x:auto;line-height:normal;font-family:Menlo,'DejaVu Sans Mono',consolas,'Courier New',monospace\"><span style=\"color: #7fbfbf; text-decoration-color: #7fbfbf\">                                 </span>View simulation result at                      \n",
       "<span style=\"color: #7fbfbf; text-decoration-color: #7fbfbf\">                                 </span><a href=\"https://tidy3d.simulation.cloud/workbench?taskId=fdve-04e53879-1a3b-4b03-a489-082babfae011\" target=\"_blank\"><span style=\"color: #000080; text-decoration-color: #000080; text-decoration: underline\">'https://tidy3d.simulation.cloud/workbench?task</span></a>\n",
       "<span style=\"color: #7fbfbf; text-decoration-color: #7fbfbf\">                                 </span><a href=\"https://tidy3d.simulation.cloud/workbench?taskId=fdve-04e53879-1a3b-4b03-a489-082babfae011\" target=\"_blank\"><span style=\"color: #000080; text-decoration-color: #000080; text-decoration: underline\">Id=fdve-04e53879-1a3b-4b03-a489-082babfae011'</span></a><span style=\"color: #000080; text-decoration-color: #000080; text-decoration: underline\">.</span> \n",
       "</pre>\n"
      ],
      "text/plain": [
       "\u001b[2;36m                                \u001b[0m\u001b[2;36m \u001b[0mView simulation result at                      \n",
       "\u001b[2;36m                                 \u001b[0m\u001b]8;id=364500;https://tidy3d.simulation.cloud/workbench?taskId=fdve-04e53879-1a3b-4b03-a489-082babfae011\u001b\\\u001b[4;34m'https://tidy3d.simulation.cloud/workbench?\u001b[0m\u001b]8;;\u001b\\\u001b]8;id=866644;https://tidy3d.simulation.cloud/workbench?taskId=fdve-04e53879-1a3b-4b03-a489-082babfae011\u001b\\\u001b[4;34mtask\u001b[0m\u001b]8;;\u001b\\\n",
       "\u001b[2;36m                                 \u001b[0m\u001b]8;id=866644;https://tidy3d.simulation.cloud/workbench?taskId=fdve-04e53879-1a3b-4b03-a489-082babfae011\u001b\\\u001b[4;34mId\u001b[0m\u001b]8;;\u001b\\\u001b]8;id=364500;https://tidy3d.simulation.cloud/workbench?taskId=fdve-04e53879-1a3b-4b03-a489-082babfae011\u001b\\\u001b[4;34m=\u001b[0m\u001b]8;;\u001b\\\u001b]8;id=712502;https://tidy3d.simulation.cloud/workbench?taskId=fdve-04e53879-1a3b-4b03-a489-082babfae011\u001b\\\u001b[4;34mfdve\u001b[0m\u001b]8;;\u001b\\\u001b]8;id=364500;https://tidy3d.simulation.cloud/workbench?taskId=fdve-04e53879-1a3b-4b03-a489-082babfae011\u001b\\\u001b[4;34m-04e53879-1a3b-4b03-a489-082babfae011'\u001b[0m\u001b]8;;\u001b\\\u001b[4;34m.\u001b[0m \n"
      ]
     },
     "metadata": {},
     "output_type": "display_data"
    }
   ],
   "source": [
    "# folder_path = rf\"H:\\phd stuff\\tidy3d\\structures\\LSU H5\"\n",
    "folder_path = rf\"H:\\phd stuff\\tidy3d\\structures\\LSU H5\\20250124\"\n",
    "project_name = \"02_10_2025 Florescu LSU H5 Transmission\"\n",
    "postprocess_results = []\n",
    "runtime_ps = 20e-12\n",
    "min_steps_per_lambda = 20\n",
    "cuts = [1.9,2]\n",
    "for direction in [\"z\"]: \n",
    "    for f,filename in enumerate(os.listdir(folder_path)):\n",
    "     for cut in cuts:\n",
    "        if not (Path(filename).suffix==\".h5\" or Path(filename).suffix==\".stl\"):\n",
    "            continue \n",
    "\n",
    "           \n",
    "        if os.path.isfile(os.path.join(folder_path, filename)):\n",
    "            file=os.path.join(folder_path, filename)\n",
    "            structure_1 = AM.loadAndRunStructure(key = tidy3dAPI, file_path=file\n",
    "                                            ,direction=direction, lambda_range=lambdas,\n",
    "                                            box_size=14.3,runtime_ps=runtime_ps,min_steps_per_lambda=min_steps_per_lambda,\n",
    "                                           scaling=1,shuoff_condtion=1e-20, verbose=True, \n",
    "                                           monitors=[\"flux\"], flux_monitor_position=24,cell_size_manual=50,\n",
    "                                           freqs=200, \n",
    "                                           cut_condition=cut, source=\"planewave\", absorbers=120, use_permittivity=False,sim_name=rf\"{Path(filename).stem}_size_{cut}\"\n",
    "                                           )\n",
    "            \n",
    "        \n",
    "        file_desc = rf\"H:\\phd stuff\\tidy3d\\data\\{project_name}_perm_{structure_1.permittivity_value}\\z_incidence\\{structure_1.sim_name}.txt\"\n",
    "        print(file_desc)\n",
    "        if os.path.exists(file_desc):\n",
    "            print(\"Exist!\")\n",
    "        else:\n",
    "           print(\"Creating...\")\n",
    "           structure_1.run_sim(run_free=False,load=False,add_ref=True,folder_description=rf\"{project_name}_perm_{structure_1.permittivity_value}\",monitor=True)\n",
    "\n",
    "        del structure_1\n",
    "\n",
    "            \n",
    "        # structure_1.plot_sim_layout()\n"
   ]
  },
  {
   "cell_type": "code",
   "execution_count": null,
   "metadata": {},
   "outputs": [],
   "source": []
  }
 ],
 "metadata": {
  "kernelspec": {
   "display_name": "Python 3",
   "language": "python",
   "name": "python3"
  },
  "language_info": {
   "codemirror_mode": {
    "name": "ipython",
    "version": 3
   },
   "file_extension": ".py",
   "mimetype": "text/x-python",
   "name": "python",
   "nbconvert_exporter": "python",
   "pygments_lexer": "ipython3",
   "version": "3.12.4"
  }
 },
 "nbformat": 4,
 "nbformat_minor": 2
}
