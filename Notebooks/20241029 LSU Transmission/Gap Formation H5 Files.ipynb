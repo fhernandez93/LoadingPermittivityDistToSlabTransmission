{
 "cells": [
  {
   "cell_type": "code",
   "execution_count": 1,
   "metadata": {},
   "outputs": [],
   "source": [
    "%load_ext autoreload\n",
    "%autoreload 2\n",
    "%matplotlib inline\n",
    "import scipy.io as sio\n",
    "from dataclasses import dataclass\n",
    "from typing import List, Tuple\n",
    "import os\n",
    "from dotenv import load_dotenv\n",
    "load_dotenv()\n",
    "import tidy3d as td\n",
    "from tidy3d import web\n",
    "import numpy as np\n",
    "from pathlib import Path\n",
    "from stl import mesh\n",
    "import matplotlib.pyplot as plt"
   ]
  },
  {
   "cell_type": "code",
   "execution_count": 2,
   "metadata": {},
   "outputs": [],
   "source": [
    "import sys\n",
    "import os\n",
    "\n",
    "# Assuming /AutomationModule is in the root directory of your project\n",
    "sys.path.append(os.path.abspath(fr'H:\\phd stuff\\tidy3d'))\n",
    "\n",
    "from AutomationModule import * \n",
    "\n",
    "import AutomationModule as AM"
   ]
  },
  {
   "cell_type": "code",
   "execution_count": 3,
   "metadata": {},
   "outputs": [],
   "source": [
    "tidy3dAPI = os.environ[\"API_TIDY3D_KEY\"]\n"
   ]
  },
  {
   "cell_type": "code",
   "execution_count": 4,
   "metadata": {},
   "outputs": [],
   "source": [
    "a = 3.4\n",
    "# lambdas = a/np.array([0.22,0.88]) \n",
    "lambdas = np.array([7,2])/0.8\n"
   ]
  },
  {
   "cell_type": "code",
   "execution_count": null,
   "metadata": {},
   "outputs": [],
   "source": [
    "# folder_path = rf\"H:\\phd stuff\\tidy3d\\structures\\LSU H5\"\n",
    "folder_path = rf\"H:\\phd stuff\\tidy3d\\structures\\LSU H5\\20250124\"\n",
    "project_name = \"01_24_2025 H5 LSU Transmission res 10\"\n",
    "postprocess_results = []\n",
    "runtime_ps = 10e-12\n",
    "min_steps_per_lambda = 10\n",
    "cuts = [1]\n",
    "for direction in [\"z\"]: \n",
    "    for f,filename in enumerate(os.listdir(folder_path)):\n",
    "     for cut in cuts:\n",
    "        if not (Path(filename).suffix==\".h5\" or Path(filename).suffix==\".stl\"):\n",
    "            continue \n",
    "\n",
    "           \n",
    "        if os.path.isfile(os.path.join(folder_path, filename)):\n",
    "            file=os.path.join(folder_path, filename)\n",
    "            structure_1 = AM.loadAndRunStructure(key = tidy3dAPI, file_path=file\n",
    "                                            ,direction=direction, lambda_range=lambdas,\n",
    "                                            box_size=14.3,runtime_ps=runtime_ps,min_steps_per_lambda=min_steps_per_lambda,\n",
    "                                           scaling=1,shuoff_condtion=1e-20, verbose=True, \n",
    "                                           monitors=[\"flux\"], freqs=280, \n",
    "                                           cut_condition=cut, source=\"planewave\", absorbers=120, use_permittivity=False,sim_name=rf\"{Path(filename).stem}_size_{cut}\"\n",
    "                                           )\n",
    "            \n",
    "        \n",
    "        file_desc = rf\"H:\\phd stuff\\tidy3d\\data\\{project_name}_perm_{structure_1.permittivity_value}\\z_incidence\\{structure_1.sim_name}.txt\"\n",
    "        print(file_desc)\n",
    "        if os.path.exists(file_desc):\n",
    "            print(\"Exist!\")\n",
    "        else:\n",
    "           print(\"Creating...\")\n",
    "           structure_1.run_sim(run_free=False,load=False,add_ref=True,folder_description=rf\"{project_name}_perm_{structure_1.permittivity_value}\")\n",
    "\n",
    "        del structure_1\n",
    "\n",
    "            \n",
    "            # structure_1.plot_sim_layout()\n"
   ]
  },
  {
   "cell_type": "code",
   "execution_count": null,
   "metadata": {},
   "outputs": [],
   "source": []
  }
 ],
 "metadata": {
  "kernelspec": {
   "display_name": "Python 3",
   "language": "python",
   "name": "python3"
  },
  "language_info": {
   "codemirror_mode": {
    "name": "ipython",
    "version": 3
   },
   "file_extension": ".py",
   "mimetype": "text/x-python",
   "name": "python",
   "nbconvert_exporter": "python",
   "pygments_lexer": "ipython3",
   "version": "3.12.4"
  }
 },
 "nbformat": 4,
 "nbformat_minor": 2
}
