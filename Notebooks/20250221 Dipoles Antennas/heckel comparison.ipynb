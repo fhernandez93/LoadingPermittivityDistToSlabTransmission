{
 "cells": [
  {
   "cell_type": "code",
   "execution_count": null,
   "metadata": {},
   "outputs": [],
   "source": [
    "import numpy as np\n",
    "import matplotlib.pyplot as plt\n",
    "from scipy.special import hankel1\n",
    "\n",
    "# Define grid\n",
    "x = np.linspace(-35, 35, 200)\n",
    "z = np.linspace(-35, 35, 200)\n",
    "X, Z = np.meshgrid(x, z)\n",
    "\n",
    "# Compute radial coordinate\n",
    "R = np.sqrt(X**2 + Z**2)\n",
    "k = 2*np.pi*14.9896/3e2\n",
    "\n",
    "# Compute Hankel function H1^(0) (avoiding singularity at R=0)\n",
    "H1_0 = np.zeros_like(R, dtype=np.complex128)\n",
    "mask = R > 0  # Avoid division by zero at the origin\n",
    "H1_0[mask] = hankel1(0, k*R[mask])\n",
    "\n",
    "# Plot real part of the field\n",
    "plt.figure(figsize=(6, 6))\n",
    "plt.contourf(X, Z, np.real(H1_0), levels=100, cmap=\"RdBu\")\n",
    "plt.xlabel(\"x\")\n",
    "plt.ylabel(\"y\")\n",
    "plt.title(\"Real Part of $H_1^{(0)}(kR)$\")\n",
    "\n",
    "# plt.grid(True, linestyle=\"--\", alpha=0.5)\n",
    "plt.show()\n"
   ]
  },
  {
   "cell_type": "code",
   "execution_count": null,
   "metadata": {},
   "outputs": [],
   "source": [
    "%load_ext autoreload\n",
    "%autoreload 2\n",
    "%matplotlib inline\n",
    "import scipy.io as sio\n",
    "from dataclasses import dataclass\n",
    "from typing import List, Tuple\n",
    "import os\n",
    "from dotenv import load_dotenv\n",
    "load_dotenv()\n",
    "import tidy3d as td\n",
    "from tidy3d import web\n",
    "import numpy as np\n",
    "from pathlib import Path\n",
    "import matplotlib.pyplot as plt\n",
    "from scipy.optimize import curve_fit\n",
    "from natsort import natsorted\n",
    "import numpy as np\n",
    "import matplotlib.animation as animation\n",
    "import xarray as xr\n",
    "import h5py\n",
    "import imageio\n",
    "import matplotlib\n",
    "import gc\n",
    "import sys\n",
    "import io\n",
    "import matplotlib.colors as mcolors\n",
    "import matplotlib.patches as patches\n",
    "from scipy.optimize import curve_fit\n",
    "import scipy.integrate\n",
    "\n",
    "\n",
    "# Assuming /AutomationModule is in the root directory of your project\n",
    "sys.path.append(os.path.abspath(rf'H:\\phd stuff\\tidy3d'))\n",
    "\n",
    "from AutomationModule import * \n",
    "\n",
    "import AutomationModule as AM\n",
    "\n",
    "tidy3dAPI = os.environ[\"API_TIDY3D_KEY\"]\n",
    "\n"
   ]
  },
  {
   "cell_type": "code",
   "execution_count": null,
   "metadata": {},
   "outputs": [],
   "source": [
    "sim_data = web.load(\"fdve-34689425-80d8-44ea-b353-e7e232f52d61\", verbose=False)"
   ]
  },
  {
   "cell_type": "code",
   "execution_count": null,
   "metadata": {},
   "outputs": [],
   "source": [
    "data = sim_data.monitor_data[\"freq_monitorFieldOut\"].Ez.squeeze()"
   ]
  },
  {
   "cell_type": "code",
   "execution_count": null,
   "metadata": {},
   "outputs": [],
   "source": [
    "plt.figure(figsize=(6, 6))\n",
    "plt.contourf(data.x, data.y,(np.real(data[:,:,0])), levels=100, cmap=\"RdBu_r\")\n",
    "plt.xlabel(\"x\")\n",
    "plt.ylabel(\"y\")\n",
    "plt.title(\"Real Part of FDTD Field\")\n",
    "plt.show()"
   ]
  },
  {
   "cell_type": "code",
   "execution_count": null,
   "metadata": {},
   "outputs": [],
   "source": []
  }
 ],
 "metadata": {
  "kernelspec": {
   "display_name": "Python 3",
   "language": "python",
   "name": "python3"
  },
  "language_info": {
   "codemirror_mode": {
    "name": "ipython",
    "version": 3
   },
   "file_extension": ".py",
   "mimetype": "text/x-python",
   "name": "python",
   "nbconvert_exporter": "python",
   "pygments_lexer": "ipython3",
   "version": "3.12.4"
  }
 },
 "nbformat": 4,
 "nbformat_minor": 2
}
