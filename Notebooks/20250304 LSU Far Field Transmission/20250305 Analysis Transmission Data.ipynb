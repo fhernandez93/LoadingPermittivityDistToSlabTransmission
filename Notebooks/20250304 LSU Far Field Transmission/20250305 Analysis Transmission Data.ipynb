{
 "cells": [
  {
   "cell_type": "code",
   "execution_count": null,
   "metadata": {},
   "outputs": [],
   "source": [
    "%load_ext autoreload\n",
    "%autoreload 2\n",
    "%matplotlib inline\n",
    "import scipy.io as sio\n",
    "from dataclasses import dataclass\n",
    "from typing import List, Tuple\n",
    "import os\n",
    "from dotenv import load_dotenv\n",
    "load_dotenv()\n",
    "import tidy3d as td\n",
    "from tidy3d import web\n",
    "import numpy as np\n",
    "from pathlib import Path\n",
    "import matplotlib.pyplot as plt\n",
    "from scipy.optimize import curve_fit\n",
    "from natsort import natsorted\n",
    "import numpy as np\n",
    "import matplotlib.animation as animation\n",
    "import xarray as xr\n",
    "import h5py\n",
    "import imageio\n",
    "import matplotlib\n",
    "import gc\n",
    "import sys\n",
    "import io\n",
    "import matplotlib.colors as mcolors\n",
    "import matplotlib.patches as patches\n",
    "from scipy.optimize import curve_fit\n",
    "import scipy.integrate\n",
    "\n",
    "\n",
    "# Assuming /AutomationModule is in the root directory of your project\n",
    "sys.path.append(os.path.abspath(rf'H:\\phd stuff\\tidy3d'))\n",
    "\n",
    "from AutomationModule import * \n",
    "\n",
    "import AutomationModule as AM\n",
    "plt.rcParams.update({'font.size': 22})  \n",
    "\n",
    "tidy3dAPI = os.environ[\"API_TIDY3D_KEY\"]\n",
    "plt.rc('font', family='Arial')\n"
   ]
  },
  {
   "cell_type": "code",
   "execution_count": null,
   "metadata": {},
   "outputs": [],
   "source": [
    "# file = rf\"H:\\phd stuff\\tidy3d\\output\\LSU Data\\transmission_10.89.h5\"\n",
    "# file_host = rf\"H:\\phd stuff\\tidy3d\\output\\LSU Data\\transmission_10.89_host.h5\"\n",
    "file = rf\"H:\\phd stuff\\tidy3d\\output\\LSU Data\\transmission_10.89_gaussian_source_host_air.h5\"\n",
    "file_host = rf\"H:\\phd stuff\\tidy3d\\output\\LSU Data\\transmission_10.89_gaussian_source_host_decaline.h5\"\n",
    "with h5py.File(file, 'r') as h5f:\n",
    "    data = {\n",
    "            'transmission_right':h5f[\"transmission_right\"][:],#shape (n_index, sizes, freqs)\n",
    "            'transmission_left':h5f[\"transmission_left\"][:],\n",
    "            'power_far_field':h5f[\"power_far_field\"][:],#shape (n_index, sizes, theta,phi,freqs)\n",
    "            'power_far_field_ref':h5f[\"power_far_field_ref\"][:],\n",
    "            'nu(a/lambda)':h5f[\"nu(a/lambda)\"][:],\n",
    "            \"raw_freqs(Hz)\":h5f[\"raw_freqs(Hz)\"][:],\n",
    "            \"sizes\":h5f[\"sizes\"][:],\n",
    "            \"cell_size\":h5f[\"cell_size\"],\n",
    "            \"a\":h5f[\"a\"],\n",
    "            \"eps\":h5f[\"eps\"][:]\n",
    "                        \n",
    "            }\n",
    "    \n",
    "with h5py.File(file_host, 'r') as h5f:\n",
    "    data_host = {\n",
    "            'transmission_right':h5f[\"transmission_right\"][:],\n",
    "            'transmission_left':h5f[\"transmission_left\"][:],\n",
    "            'power_far_field':h5f[\"power_far_field\"][:],\n",
    "            'power_far_field_ref':h5f[\"power_far_field_ref\"][:],\n",
    "            'nu(a/lambda)':h5f[\"nu(a/lambda)\"][:],\n",
    "            \"raw_freqs(Hz)\":h5f[\"raw_freqs(Hz)\"][:],\n",
    "            \"sizes\":h5f[\"sizes\"][:],\n",
    "            \"cell_size\":h5f[\"cell_size\"],\n",
    "            \"a\":h5f[\"a\"],\n",
    "            \"eps\":h5f[\"eps\"][:],\n",
    "            \"eps_host\":np.array([2.030625])\n",
    "                        \n",
    "            }"
   ]
  },
  {
   "cell_type": "code",
   "execution_count": null,
   "metadata": {},
   "outputs": [],
   "source": [
    "np.shape(data[\"power_far_field_ref\"])"
   ]
  },
  {
   "cell_type": "code",
   "execution_count": null,
   "metadata": {},
   "outputs": [],
   "source": [
    "scaled_lambdas = 3.4/data['nu(a/lambda)'] * 0.8\n",
    "sizes = data[\"sizes\"]\n",
    "a=3.4"
   ]
  },
  {
   "cell_type": "code",
   "execution_count": null,
   "metadata": {},
   "outputs": [],
   "source": [
    "# #scale lambda to 80%\n",
    "# dir_plot = Path(rf\"H:\\phd stuff\\tidy3d\\output\\LSU Data\\Host_Analsysis\\20250305_n_rod_3.3_n_h_1.424\\Near Field\")\n",
    "# dir_plot.mkdir(parents=True,exist_ok=True)\n",
    "\n",
    "# for i,item in enumerate(sizes):\n",
    "#     plt.figure(figsize=(20, 10))\n",
    "#     title = rf\"L_{(item*14.3/3.4):.4f}a\"\n",
    "#     plt.plot(scaled_lambdas,data['transmission_right'][0,i,:],label=\"Air\")\n",
    "#     plt.plot(scaled_lambdas,data_host['transmission_right'][0,i,:],label=\"Decaline\")\n",
    "#     plt.xlabel(rf'$\\lambda$')\n",
    "#     plt.ylabel('Transmission')\n",
    "#     plt.legend()\n",
    "#     plt.grid(True, which=\"both\")\n",
    "#     plt.yscale(\"log\")\n",
    "#     plt.title(title)\n",
    "#     plt.savefig(rf\"{dir_plot}\\{title}.pdf\")\n",
    "#     plt.close()\n"
   ]
  },
  {
   "cell_type": "code",
   "execution_count": null,
   "metadata": {},
   "outputs": [],
   "source": [
    "r_proj =  1e6\n",
    "theta_proj = np.linspace(0, np.pi/2, 280)\n",
    "phi_proj = np.linspace(0,2*np.pi, 280)\n",
    "indices_0_30 = np.where(np.bool_(theta_proj*180/np.pi >=0) & np.bool_(theta_proj*180/np.pi <=30))[0]\n",
    "indices_50_60 = np.where(np.bool_(theta_proj*180/np.pi >=50) & np.bool_(theta_proj*180/np.pi <=65))[0]"
   ]
  },
  {
   "cell_type": "code",
   "execution_count": null,
   "metadata": {},
   "outputs": [],
   "source": [
    "r,theta,phi = r_proj,theta_proj[indices_0_30],phi_proj\n",
    "# Calculate the differential surface area element in spherical coordinates\n",
    "dA_1= (r ** 2) * np.sin(theta_proj) * np.diff(theta_proj)[0] * np.diff(phi)[0]\n",
    "dA_2= (r ** 2) * np.sin(theta) * np.diff(theta)[0] * np.diff(phi)[0]\n",
    "dA_3= (r ** 2) * np.sin(theta_proj[indices_50_60]) * np.diff(theta_proj[indices_50_60])[0] * np.diff(phi)[0]"
   ]
  },
  {
   "cell_type": "code",
   "execution_count": null,
   "metadata": {},
   "outputs": [],
   "source": [
    "#References \n",
    "transmission_0_n_h_1 = ((data[\"power_far_field_ref\"][indices_0_30,:,:])* dA_2[:,np.newaxis,np.newaxis]).sum(axis=(0,1))\n",
    "transmission_0_n_h_1_425 = ((data_host[\"power_far_field_ref\"][indices_0_30,:,:])* dA_2[:,np.newaxis,np.newaxis]).sum(axis=(0,1))\n"
   ]
  },
  {
   "cell_type": "code",
   "execution_count": null,
   "metadata": {},
   "outputs": [],
   "source": [
    "# #Both\n",
    "# dir_plot = Path(rf\"H:\\phd stuff\\tidy3d\\output\\LSU Data\\Host_Analsysis\\20250305_n_rod_3.3_n_h_1.424\\Far Field\")\n",
    "# dir_plot.mkdir(parents=True,exist_ok=True)\n",
    "# for i,item in enumerate(sizes):\n",
    "#     plt.figure(figsize=(20, 10))\n",
    "\n",
    "#     #Decaline\n",
    "#     low_lambda_indices = np.where(scaled_lambdas<=6.45)[0]\n",
    "#     large_lambda_indices = np.where(scaled_lambdas>6.45)[0]\n",
    "#     power_data = data_host[\"power_far_field\"][0,i]\n",
    "#     transmission_low_lambda_0_15 = (power_data[np.ix_(indices_0_30,np.arange(power_data.shape[1]),low_lambda_indices)]* dA_2[:,np.newaxis,np.newaxis]).sum(axis=(0,1))\n",
    "#     transmission_low_lambda_50_60 = (power_data[np.ix_(indices_50_60,np.arange(power_data.shape[1]),low_lambda_indices)]* dA_3[:,np.newaxis,np.newaxis]).sum(axis=(0,1))\n",
    "#     transmission_low_lambda = transmission_low_lambda_0_15#+transmission_low_lambda_50_60\n",
    "#     transmission_high_lambda = (power_data[:,:,large_lambda_indices]* dA_1[:,np.newaxis,np.newaxis]).sum(axis=(0,1))\n",
    "#     transmission = np.concatenate((transmission_high_lambda,transmission_low_lambda),axis=0)\n",
    "#     # transmission_normalized_decaline = transmission/transmission_0_n_h_1_425\n",
    "#     transmission_normalized_decaline =  ((power_data[indices_0_30,:,:])* dA_2[:,np.newaxis,np.newaxis]).sum(axis=(0,1))/transmission_0_n_h_1_425\n",
    "\n",
    "#     #Air\n",
    "#     low_lambda_indices = np.where(scaled_lambdas<=5.8)[0]\n",
    "#     large_lambda_indices = np.where(scaled_lambdas>5.8)[0]\n",
    "#     power_data = data[\"power_far_field\"][0,i]\n",
    "#     transmission_low_lambda_0_15 = (power_data[np.ix_(indices_0_30,np.arange(power_data.shape[1]),low_lambda_indices)]* dA_2[:,np.newaxis,np.newaxis]).sum(axis=(0,1))\n",
    "#     transmission_low_lambda_50_60 = (power_data[np.ix_(indices_50_60,np.arange(power_data.shape[1]),low_lambda_indices)]* dA_3[:,np.newaxis,np.newaxis]).sum(axis=(0,1))\n",
    "#     transmission_low_lambda = transmission_low_lambda_0_15#+transmission_low_lambda_50_60\n",
    "#     transmission_high_lambda = (power_data[:,:,large_lambda_indices]* dA_1[:,np.newaxis,np.newaxis]).sum(axis=(0,1))\n",
    "#     transmission = np.concatenate((transmission_high_lambda,transmission_low_lambda),axis=0)\n",
    "#     # transmission_normalized = transmission/transmission_0_n_h_1 \n",
    "#     transmission_normalized = ((power_data[indices_0_30,:,:])* dA_2[:,np.newaxis,np.newaxis]).sum(axis=(0,1))/transmission_0_n_h_1 \n",
    "\n",
    "\n",
    "#     title = rf\"L_{(item*14.3/3.4):.4f}a\"\n",
    "#     plt.plot(scaled_lambdas,transmission_normalized_decaline,\"o\",label=rf\"$n_h=1.425$\")\n",
    "#     plt.plot(scaled_lambdas,transmission_normalized,\"o\",label=rf\"$n_h=1$\")\n",
    "#     plt.xlabel(rf'$\\lambda$')\n",
    "#     plt.ylabel('Transmission')\n",
    "#     plt.legend()\n",
    "#     plt.yscale(\"log\")\n",
    "#     plt.grid(True, which=\"both\")\n",
    "#     plt.title(title)\n",
    "\n",
    "#     plt.savefig(rf\"{dir_plot}\\{title}.png\")\n",
    "#     plt.close()\n"
   ]
  },
  {
   "cell_type": "code",
   "execution_count": null,
   "metadata": {},
   "outputs": [],
   "source": [
    "#Convulution \n",
    "import scipy.ndimage\n",
    "plt.rcParams.update({'font.size': 15})  \n",
    "fig, ax = plt.subplots(nrows=4, ncols=3, figsize=(25, 15))\n",
    "k,l=0,0\n",
    "transmissionValues_air = []\n",
    "transmissionValues_Decaline = []\n",
    "transmissionValues_air_gaussian = []\n",
    "transmissionValues_decaline_gaussian = []\n",
    "for i,item in enumerate(sizes):\n",
    "    if np.mod(i,3)==0 and i>0:\n",
    "        k+=1\n",
    "        l=0\n",
    "    \n",
    "    #Decaline\n",
    "    power_data = data_host[\"power_far_field\"][0,i]\n",
    "    transmission_normalized_decaline =  ((power_data[indices_0_30,:,:])* dA_2[:,np.newaxis,np.newaxis]).sum(axis=(0,1))/transmission_0_n_h_1_425\n",
    "    transmissionValues_Decaline.append(transmission_normalized_decaline)\n",
    "    #Air\n",
    "    power_data = data[\"power_far_field\"][0,i]\n",
    "    transmission_normalized = ((power_data[indices_0_30,:,:])* dA_2[:,np.newaxis,np.newaxis]).sum(axis=(0,1))/transmission_0_n_h_1 \n",
    "    transmissionValues_air.append(transmission_normalized)\n",
    "\n",
    "\n",
    "    # Apply Gaussian smoothing\n",
    "    sigma = 15  # Adjust for more/less smoothing\n",
    "    smoothed_transmission = scipy.ndimage.gaussian_filter1d(transmission_normalized, sigma)\n",
    "    transmissionValues_air_gaussian.append(smoothed_transmission)\n",
    "    \n",
    "    smoothed_transmission_host = scipy.ndimage.gaussian_filter1d(transmission_normalized_decaline, 5)\n",
    "    transmissionValues_decaline_gaussian.append(smoothed_transmission_host)\n",
    "\n",
    "    title = rf\"L_{(item*14.3/3.4):.4f}a\"\n",
    "    ax[k,l].plot(scaled_lambdas,transmission_normalized,\"o\",label=rf\"$n_h=1$\")\n",
    "    ax[k,l].plot(scaled_lambdas,smoothed_transmission)\n",
    "    ax[k,l].plot(scaled_lambdas,transmission_normalized_decaline,\"o\",label=rf\"$n_h=1.425$\")\n",
    "    ax[k,l].plot(scaled_lambdas,smoothed_transmission_host)\n",
    "    ax[k,l].set_yscale(\"log\")\n",
    "    ax[k,l].grid(True, which=\"both\")\n",
    "    ax[k,l].set_title(title)\n",
    "    ax[k,l].legend()\n",
    "    l+=1\n",
    "\n",
    "fig.supylabel(\"Transmission\", fontsize=14)\n",
    "fig.supxlabel(rf\"$\\lambda$\", fontsize=14)\n",
    "plt.tight_layout()\n",
    "plt.show()\n",
    "# plt.close()\n",
    "\n",
    "\n",
    "\n",
    "\n"
   ]
  },
  {
   "cell_type": "code",
   "execution_count": null,
   "metadata": {},
   "outputs": [],
   "source": [
    "lambdas_gap = np.where(np.bool_(scaled_lambdas>=5) & np.bool_(scaled_lambdas<7))[0]"
   ]
  },
  {
   "cell_type": "code",
   "execution_count": null,
   "metadata": {},
   "outputs": [],
   "source": [
    "min_transmission = np.min(np.array(transmissionValues_air)[:,list(lambdas_gap)], axis=1)"
   ]
  },
  {
   "cell_type": "code",
   "execution_count": null,
   "metadata": {},
   "outputs": [],
   "source": [
    "def fit_line(x,m):\n",
    "    return m*x \n",
    "initial_guess = [-1]\n",
    "\n",
    "plt.plot( sizes[1:]*14.3*0.8,min_transmission[1:],\"o\")\n",
    "popt, _ = curve_fit(fit_line, sizes[1:]*14.3*0.8, np.log(min_transmission[1:]), p0=initial_guess)\n",
    "plt.plot( sizes[1:]*14.3*0.8,np.exp(fit_line(sizes[1:]*14.3*0.8,popt[0])), label=rf\"$L_B$={-1/popt[0]:.4f}\")\n",
    "plt.xlabel(\"L\")\n",
    "plt.ylabel(\"Transmission\")\n",
    "plt.yscale(\"log\")\n",
    "plt.legend()\n",
    "plt.show()\n"
   ]
  },
  {
   "cell_type": "code",
   "execution_count": null,
   "metadata": {},
   "outputs": [],
   "source": [
    "size_str = ''\n",
    "for item in sizes:\n",
    "     size_str+= rf\"L_{item*0.8*14.3:.4f} \"\n"
   ]
  },
  {
   "cell_type": "code",
   "execution_count": null,
   "metadata": {},
   "outputs": [],
   "source": [
    "arrays = [\"transmissionValues_air\",\"transmissionValues_Decaline\",\"transmissionValues_air_gaussian\",\"transmissionValues_decaline_gaussian\"]\n",
    "\n",
    "for element in arrays: \n",
    "    data_new = np.transpose(eval(element))\n",
    "    np.savetxt(rf\"H:\\phd stuff\\tidy3d\\output\\LSU Data\\txtData\\{element}.txt\", data_new, fmt=\"%.18f\", delimiter=\" \", header=size_str, comments=\"\")\n"
   ]
  },
  {
   "cell_type": "code",
   "execution_count": 20,
   "metadata": {},
   "outputs": [],
   "source": [
    "transmission = np.transpose(data_host['transmission_right'].squeeze())\n",
    "\n",
    "np.savetxt(rf\"H:\\phd stuff\\tidy3d\\output\\LSU Data\\txtData\\transmission_n_h_1.425.txt\", transmission , fmt=\"%.18f\", delimiter=\" \", header=size_str, comments=\"\")\n"
   ]
  },
  {
   "cell_type": "code",
   "execution_count": null,
   "metadata": {},
   "outputs": [],
   "source": []
  }
 ],
 "metadata": {
  "kernelspec": {
   "display_name": "Python 3",
   "language": "python",
   "name": "python3"
  },
  "language_info": {
   "codemirror_mode": {
    "name": "ipython",
    "version": 3
   },
   "file_extension": ".py",
   "mimetype": "text/x-python",
   "name": "python",
   "nbconvert_exporter": "python",
   "pygments_lexer": "ipython3",
   "version": "3.12.4"
  }
 },
 "nbformat": 4,
 "nbformat_minor": 2
}
