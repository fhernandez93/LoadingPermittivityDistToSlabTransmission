{
 "cells": [
  {
   "cell_type": "code",
   "execution_count": 1,
   "metadata": {},
   "outputs": [],
   "source": [
    "%load_ext autoreload\n",
    "%autoreload 2\n",
    "%matplotlib inline\n",
    "import scipy.io as sio\n",
    "from dataclasses import dataclass\n",
    "from typing import List, Tuple\n",
    "import os\n",
    "from dotenv import load_dotenv\n",
    "load_dotenv()\n",
    "import tidy3d as td\n",
    "from tidy3d import web\n",
    "import numpy as np\n",
    "from pathlib import Path\n",
    "from stl import mesh\n",
    "import matplotlib.pyplot as plt"
   ]
  },
  {
   "cell_type": "code",
   "execution_count": 2,
   "metadata": {},
   "outputs": [],
   "source": [
    "import sys\n",
    "import os\n",
    "\n",
    "# Assuming /AutomationModule is in the root directory of your project\n",
    "sys.path.append(os.path.abspath(fr'H:\\phd stuff\\tidy3d'))\n",
    "\n",
    "from AutomationModule import * \n",
    "\n",
    "import AutomationModule as AM"
   ]
  },
  {
   "cell_type": "code",
   "execution_count": 3,
   "metadata": {},
   "outputs": [],
   "source": [
    "tidy3dAPI = os.environ[\"API_TIDY3D_KEY\"]\n"
   ]
  },
  {
   "cell_type": "code",
   "execution_count": 4,
   "metadata": {},
   "outputs": [],
   "source": [
    "a = 3.4\n",
    "lambdas = np.array([8,3.5])/0.8\n",
    "# radial distance away from the origin at which to project fields\n",
    "r_proj =  1e6\n",
    "\n",
    "# theta and phi angles at which to observe fields - part of the half-space to the right\n",
    "theta_proj = np.linspace(0, np.pi/2, 280)\n",
    "phi_proj = np.linspace(0,2*np.pi, 280)"
   ]
  },
  {
   "cell_type": "code",
   "execution_count": null,
   "metadata": {},
   "outputs": [
    {
     "name": "stdout",
     "output_type": "stream",
     "text": [
      "Configured successfully.\n"
     ]
    },
    {
     "data": {
      "text/html": [
       "<pre style=\"white-space:pre;overflow-x:auto;line-height:normal;font-family:Menlo,'DejaVu Sans Mono',consolas,'Courier New',monospace\"><span style=\"color: #7fbfbf; text-decoration-color: #7fbfbf\">11:45:24 W. Europe Standard Time </span><span style=\"color: #800000; text-decoration-color: #800000\">WARNING: Structure at </span><span style=\"color: #008000; text-decoration-color: #008000\">'structures[0]'</span><span style=\"color: #800000; text-decoration-color: #800000\"> has      </span>\n",
       "<span style=\"color: #7fbfbf; text-decoration-color: #7fbfbf\">                                 </span><span style=\"color: #800000; text-decoration-color: #800000\">bounds that extend exactly to simulation edges.</span>\n",
       "<span style=\"color: #7fbfbf; text-decoration-color: #7fbfbf\">                                 </span><span style=\"color: #800000; text-decoration-color: #800000\">This can cause unexpected behavior. If         </span>\n",
       "<span style=\"color: #7fbfbf; text-decoration-color: #7fbfbf\">                                 </span><span style=\"color: #800000; text-decoration-color: #800000\">intending to extend the structure to infinity  </span>\n",
       "<span style=\"color: #7fbfbf; text-decoration-color: #7fbfbf\">                                 </span><span style=\"color: #800000; text-decoration-color: #800000\">along one dimension, use td.inf as a size      </span>\n",
       "<span style=\"color: #7fbfbf; text-decoration-color: #7fbfbf\">                                 </span><span style=\"color: #800000; text-decoration-color: #800000\">variable instead to make this explicit.        </span>\n",
       "</pre>\n"
      ],
      "text/plain": [
       "\u001b[2;36m11:45:24 W. Europe Standard Time\u001b[0m\u001b[2;36m \u001b[0m\u001b[31mWARNING: Structure at \u001b[0m\u001b[32m'structures\u001b[0m\u001b[32m[\u001b[0m\u001b[32m0\u001b[0m\u001b[32m]\u001b[0m\u001b[32m'\u001b[0m\u001b[31m has      \u001b[0m\n",
       "\u001b[2;36m                                 \u001b[0m\u001b[31mbounds that extend exactly to simulation edges.\u001b[0m\n",
       "\u001b[2;36m                                 \u001b[0m\u001b[31mThis can cause unexpected behavior. If         \u001b[0m\n",
       "\u001b[2;36m                                 \u001b[0m\u001b[31mintending to extend the structure to infinity  \u001b[0m\n",
       "\u001b[2;36m                                 \u001b[0m\u001b[31malong one dimension, use td.inf as a size      \u001b[0m\n",
       "\u001b[2;36m                                 \u001b[0m\u001b[31mvariable instead to make this explicit.        \u001b[0m\n"
      ]
     },
     "metadata": {},
     "output_type": "display_data"
    },
    {
     "data": {
      "text/html": [
       "<pre style=\"white-space:pre;overflow-x:auto;line-height:normal;font-family:Menlo,'DejaVu Sans Mono',consolas,'Courier New',monospace\"><span style=\"color: #7fbfbf; text-decoration-color: #7fbfbf\">                                 </span><span style=\"color: #800000; text-decoration-color: #800000\">WARNING: Suppressed </span><span style=\"color: #008080; text-decoration-color: #008080; font-weight: bold\">15</span><span style=\"color: #800000; text-decoration-color: #800000\"> WARNING messages.       </span>\n",
       "</pre>\n"
      ],
      "text/plain": [
       "\u001b[2;36m                                \u001b[0m\u001b[2;36m \u001b[0m\u001b[31mWARNING: Suppressed \u001b[0m\u001b[1;36m15\u001b[0m\u001b[31m WARNING messages.       \u001b[0m\n"
      ]
     },
     "metadata": {},
     "output_type": "display_data"
    },
    {
     "name": "stdout",
     "output_type": "stream",
     "text": [
      "Creating...\n"
     ]
    },
    {
     "data": {
      "text/html": [
       "<pre style=\"white-space:pre;overflow-x:auto;line-height:normal;font-family:Menlo,'DejaVu Sans Mono',consolas,'Courier New',monospace\"><span style=\"color: #7fbfbf; text-decoration-color: #7fbfbf\">11:48:48 W. Europe Standard Time </span>Created task                                   \n",
       "<span style=\"color: #7fbfbf; text-decoration-color: #7fbfbf\">                                 </span><span style=\"color: #008000; text-decoration-color: #008000\">'ak4_1000_eps_9p0_phih5_0p1895_phiL_0p1803_size</span>\n",
       "<span style=\"color: #7fbfbf; text-decoration-color: #7fbfbf\">                                 </span><span style=\"color: #008000; text-decoration-color: #008000\">_1_0'</span> with task_id                             \n",
       "<span style=\"color: #7fbfbf; text-decoration-color: #7fbfbf\">                                 </span><span style=\"color: #008000; text-decoration-color: #008000\">'fdve-8678dc0f-3f15-4580-b596-4841e75f5a4b'</span> and\n",
       "<span style=\"color: #7fbfbf; text-decoration-color: #7fbfbf\">                                 </span>task_type <span style=\"color: #008000; text-decoration-color: #008000\">'FDTD'</span>.                              \n",
       "</pre>\n"
      ],
      "text/plain": [
       "\u001b[2;36m11:48:48 W. Europe Standard Time\u001b[0m\u001b[2;36m \u001b[0mCreated task                                   \n",
       "\u001b[2;36m                                 \u001b[0m\u001b[32m'ak4_1000_eps_9p0_phih5_0p1895_phiL_0p1803_size\u001b[0m\n",
       "\u001b[2;36m                                 \u001b[0m\u001b[32m_1_0'\u001b[0m with task_id                             \n",
       "\u001b[2;36m                                 \u001b[0m\u001b[32m'fdve-8678dc0f-3f15-4580-b596-4841e75f5a4b'\u001b[0m and\n",
       "\u001b[2;36m                                 \u001b[0mtask_type \u001b[32m'FDTD'\u001b[0m.                              \n"
      ]
     },
     "metadata": {},
     "output_type": "display_data"
    },
    {
     "data": {
      "text/html": [
       "<pre style=\"white-space:pre;overflow-x:auto;line-height:normal;font-family:Menlo,'DejaVu Sans Mono',consolas,'Courier New',monospace\"><span style=\"color: #7fbfbf; text-decoration-color: #7fbfbf\">                                 </span>View task using web UI at                      \n",
       "<span style=\"color: #7fbfbf; text-decoration-color: #7fbfbf\">                                 </span><a href=\"https://tidy3d.simulation.cloud/workbench?taskId=fdve-8678dc0f-3f15-4580-b596-4841e75f5a4b\" target=\"_blank\"><span style=\"color: #008000; text-decoration-color: #008000\">'https://tidy3d.simulation.cloud/workbench?task</span></a>\n",
       "<span style=\"color: #7fbfbf; text-decoration-color: #7fbfbf\">                                 </span><a href=\"https://tidy3d.simulation.cloud/workbench?taskId=fdve-8678dc0f-3f15-4580-b596-4841e75f5a4b\" target=\"_blank\"><span style=\"color: #008000; text-decoration-color: #008000\">Id=fdve-8678dc0f-3f15-4580-b596-4841e75f5a4b'</span></a>. \n",
       "</pre>\n"
      ],
      "text/plain": [
       "\u001b[2;36m                                \u001b[0m\u001b[2;36m \u001b[0mView task using web UI at                      \n",
       "\u001b[2;36m                                 \u001b[0m\u001b]8;id=733317;https://tidy3d.simulation.cloud/workbench?taskId=fdve-8678dc0f-3f15-4580-b596-4841e75f5a4b\u001b\\\u001b[32m'https://tidy3d.simulation.cloud/workbench?\u001b[0m\u001b]8;;\u001b\\\u001b]8;id=96209;https://tidy3d.simulation.cloud/workbench?taskId=fdve-8678dc0f-3f15-4580-b596-4841e75f5a4b\u001b\\\u001b[32mtask\u001b[0m\u001b]8;;\u001b\\\n",
       "\u001b[2;36m                                 \u001b[0m\u001b]8;id=96209;https://tidy3d.simulation.cloud/workbench?taskId=fdve-8678dc0f-3f15-4580-b596-4841e75f5a4b\u001b\\\u001b[32mId\u001b[0m\u001b]8;;\u001b\\\u001b]8;id=733317;https://tidy3d.simulation.cloud/workbench?taskId=fdve-8678dc0f-3f15-4580-b596-4841e75f5a4b\u001b\\\u001b[32m=\u001b[0m\u001b]8;;\u001b\\\u001b]8;id=628487;https://tidy3d.simulation.cloud/workbench?taskId=fdve-8678dc0f-3f15-4580-b596-4841e75f5a4b\u001b\\\u001b[32mfdve\u001b[0m\u001b]8;;\u001b\\\u001b]8;id=733317;https://tidy3d.simulation.cloud/workbench?taskId=fdve-8678dc0f-3f15-4580-b596-4841e75f5a4b\u001b\\\u001b[32m-8678dc0f-3f15-4580-b596-4841e75f5a4b'\u001b[0m\u001b]8;;\u001b\\. \n"
      ]
     },
     "metadata": {},
     "output_type": "display_data"
    },
    {
     "data": {
      "text/html": [
       "<pre style=\"white-space:pre;overflow-x:auto;line-height:normal;font-family:Menlo,'DejaVu Sans Mono',consolas,'Courier New',monospace\"><span style=\"color: #7fbfbf; text-decoration-color: #7fbfbf\">                                 </span>Task folder: <a href=\"https://tidy3d.simulation.cloud/folders/folder-ff7a913e-4025-45ce-a84e-5d777c71a6c2\" target=\"_blank\"><span style=\"color: #008000; text-decoration-color: #008000\">'20250327 Far Field Transmission </span></a> \n",
       "<span style=\"color: #7fbfbf; text-decoration-color: #7fbfbf\">                                 </span><a href=\"https://tidy3d.simulation.cloud/folders/folder-ff7a913e-4025-45ce-a84e-5d777c71a6c2\" target=\"_blank\"><span style=\"color: #008000; text-decoration-color: #008000\">LSU Angle Test </span></a>                                \n",
       "<span style=\"color: #7fbfbf; text-decoration-color: #7fbfbf\">                                 </span><a href=\"https://tidy3d.simulation.cloud/folders/folder-ff7a913e-4025-45ce-a84e-5d777c71a6c2\" target=\"_blank\"><span style=\"color: #008000; text-decoration-color: #008000\">1895_ff_double_size_periodic_3_perm_9.0'</span></a>.      \n",
       "</pre>\n"
      ],
      "text/plain": [
       "\u001b[2;36m                                \u001b[0m\u001b[2;36m \u001b[0mTask folder: \u001b]8;id=839909;https://tidy3d.simulation.cloud/folders/folder-ff7a913e-4025-45ce-a84e-5d777c71a6c2\u001b\\\u001b[32m'20250327 Far Field Transmission \u001b[0m\u001b]8;;\u001b\\ \n",
       "\u001b[2;36m                                 \u001b[0m\u001b]8;id=839909;https://tidy3d.simulation.cloud/folders/folder-ff7a913e-4025-45ce-a84e-5d777c71a6c2\u001b\\\u001b[32mLSU Angle Test \u001b[0m\u001b]8;;\u001b\\                                \n",
       "\u001b[2;36m                                 \u001b[0m\u001b]8;id=839909;https://tidy3d.simulation.cloud/folders/folder-ff7a913e-4025-45ce-a84e-5d777c71a6c2\u001b\\\u001b[32m1895_ff_double_size_periodic_3_perm_9.0'\u001b[0m\u001b]8;;\u001b\\.      \n"
      ]
     },
     "metadata": {},
     "output_type": "display_data"
    },
    {
     "data": {
      "application/vnd.jupyter.widget-view+json": {
       "model_id": "7db4d91b1cf14defbd46f36f03c4475c",
       "version_major": 2,
       "version_minor": 0
      },
      "text/plain": [
       "Output()"
      ]
     },
     "metadata": {},
     "output_type": "display_data"
    },
    {
     "data": {
      "text/html": [
       "<pre style=\"white-space:pre;overflow-x:auto;line-height:normal;font-family:Menlo,'DejaVu Sans Mono',consolas,'Courier New',monospace\"></pre>\n"
      ],
      "text/plain": []
     },
     "metadata": {},
     "output_type": "display_data"
    },
    {
     "data": {
      "text/html": [
       "<pre style=\"white-space:pre;overflow-x:auto;line-height:normal;font-family:Menlo,'DejaVu Sans Mono',consolas,'Courier New',monospace\">\n",
       "</pre>\n"
      ],
      "text/plain": [
       "\n"
      ]
     },
     "metadata": {},
     "output_type": "display_data"
    },
    {
     "data": {
      "text/html": [
       "<pre style=\"white-space:pre;overflow-x:auto;line-height:normal;font-family:Menlo,'DejaVu Sans Mono',consolas,'Courier New',monospace\"><span style=\"color: #7fbfbf; text-decoration-color: #7fbfbf\">11:48:51 W. Europe Standard Time </span>Maximum FlexCredit cost: <span style=\"color: #008080; text-decoration-color: #008080; font-weight: bold\">4.860</span>. Minimum cost   \n",
       "<span style=\"color: #7fbfbf; text-decoration-color: #7fbfbf\">                                 </span>depends on task execution details. Use         \n",
       "<span style=\"color: #7fbfbf; text-decoration-color: #7fbfbf\">                                 </span><span style=\"color: #008000; text-decoration-color: #008000\">'web.real_cost(task_id)'</span> to get the billed     \n",
       "<span style=\"color: #7fbfbf; text-decoration-color: #7fbfbf\">                                 </span>FlexCredit cost after a simulation run.        \n",
       "</pre>\n"
      ],
      "text/plain": [
       "\u001b[2;36m11:48:51 W. Europe Standard Time\u001b[0m\u001b[2;36m \u001b[0mMaximum FlexCredit cost: \u001b[1;36m4.860\u001b[0m. Minimum cost   \n",
       "\u001b[2;36m                                 \u001b[0mdepends on task execution details. Use         \n",
       "\u001b[2;36m                                 \u001b[0m\u001b[32m'web.real_cost\u001b[0m\u001b[32m(\u001b[0m\u001b[32mtask_id\u001b[0m\u001b[32m)\u001b[0m\u001b[32m'\u001b[0m to get the billed     \n",
       "\u001b[2;36m                                 \u001b[0mFlexCredit cost after a simulation run.        \n"
      ]
     },
     "metadata": {},
     "output_type": "display_data"
    },
    {
     "data": {
      "text/html": [
       "<pre style=\"white-space:pre;overflow-x:auto;line-height:normal;font-family:Menlo,'DejaVu Sans Mono',consolas,'Courier New',monospace\"><span style=\"color: #7fbfbf; text-decoration-color: #7fbfbf\">11:48:52 W. Europe Standard Time </span>status = queued                                \n",
       "</pre>\n"
      ],
      "text/plain": [
       "\u001b[2;36m11:48:52 W. Europe Standard Time\u001b[0m\u001b[2;36m \u001b[0mstatus = queued                                \n"
      ]
     },
     "metadata": {},
     "output_type": "display_data"
    },
    {
     "data": {
      "text/html": [
       "<pre style=\"white-space:pre;overflow-x:auto;line-height:normal;font-family:Menlo,'DejaVu Sans Mono',consolas,'Courier New',monospace\"><span style=\"color: #7fbfbf; text-decoration-color: #7fbfbf\">                                 </span>To cancel the simulation, use                  \n",
       "<span style=\"color: #7fbfbf; text-decoration-color: #7fbfbf\">                                 </span><span style=\"color: #008000; text-decoration-color: #008000\">'web.abort(task_id)'</span> or <span style=\"color: #008000; text-decoration-color: #008000\">'web.delete(task_id)'</span>  \n",
       "<span style=\"color: #7fbfbf; text-decoration-color: #7fbfbf\">                                 </span>or abort/delete the task in the web UI.        \n",
       "<span style=\"color: #7fbfbf; text-decoration-color: #7fbfbf\">                                 </span>Terminating the Python script will not stop the\n",
       "<span style=\"color: #7fbfbf; text-decoration-color: #7fbfbf\">                                 </span>job running on the cloud.                      \n",
       "</pre>\n"
      ],
      "text/plain": [
       "\u001b[2;36m                                \u001b[0m\u001b[2;36m \u001b[0mTo cancel the simulation, use                  \n",
       "\u001b[2;36m                                 \u001b[0m\u001b[32m'web.abort\u001b[0m\u001b[32m(\u001b[0m\u001b[32mtask_id\u001b[0m\u001b[32m)\u001b[0m\u001b[32m'\u001b[0m or \u001b[32m'web.delete\u001b[0m\u001b[32m(\u001b[0m\u001b[32mtask_id\u001b[0m\u001b[32m)\u001b[0m\u001b[32m'\u001b[0m  \n",
       "\u001b[2;36m                                 \u001b[0mor abort/delete the task in the web UI.        \n",
       "\u001b[2;36m                                 \u001b[0mTerminating the Python script will not stop the\n",
       "\u001b[2;36m                                 \u001b[0mjob running on the cloud.                      \n"
      ]
     },
     "metadata": {},
     "output_type": "display_data"
    },
    {
     "data": {
      "application/vnd.jupyter.widget-view+json": {
       "model_id": "073cccb4c8974271bd4086b7e96979f4",
       "version_major": 2,
       "version_minor": 0
      },
      "text/plain": [
       "Output()"
      ]
     },
     "metadata": {},
     "output_type": "display_data"
    },
    {
     "data": {
      "text/html": [
       "<pre style=\"white-space:pre;overflow-x:auto;line-height:normal;font-family:Menlo,'DejaVu Sans Mono',consolas,'Courier New',monospace\"><span style=\"color: #7fbfbf; text-decoration-color: #7fbfbf\">11:49:06 W. Europe Standard Time </span>status = preprocess                            \n",
       "</pre>\n"
      ],
      "text/plain": [
       "\u001b[2;36m11:49:06 W. Europe Standard Time\u001b[0m\u001b[2;36m \u001b[0mstatus = preprocess                            \n"
      ]
     },
     "metadata": {},
     "output_type": "display_data"
    },
    {
     "data": {
      "text/html": [
       "<pre style=\"white-space:pre;overflow-x:auto;line-height:normal;font-family:Menlo,'DejaVu Sans Mono',consolas,'Courier New',monospace\"></pre>\n"
      ],
      "text/plain": []
     },
     "metadata": {},
     "output_type": "display_data"
    },
    {
     "data": {
      "text/html": [
       "<pre style=\"white-space:pre;overflow-x:auto;line-height:normal;font-family:Menlo,'DejaVu Sans Mono',consolas,'Courier New',monospace\"><span style=\"color: #7fbfbf; text-decoration-color: #7fbfbf\">11:49:10 W. Europe Standard Time </span>You are running this simulation for FREE. Your \n",
       "<span style=\"color: #7fbfbf; text-decoration-color: #7fbfbf\">                                 </span>current plan allows up to <span style=\"color: #008080; text-decoration-color: #008080; font-weight: bold\">20</span> free              \n",
       "<span style=\"color: #7fbfbf; text-decoration-color: #7fbfbf\">                                 </span>non-concurrent simulations per day <span style=\"font-weight: bold\">(</span>under      \n",
       "<span style=\"color: #7fbfbf; text-decoration-color: #7fbfbf\">                                 </span><span style=\"color: #008080; text-decoration-color: #008080; font-weight: bold\">100.</span>0M grid points and <span style=\"color: #008080; text-decoration-color: #008080; font-weight: bold\">50.</span>0K time steps<span style=\"font-weight: bold\">)</span>       \n",
       "</pre>\n"
      ],
      "text/plain": [
       "\u001b[2;36m11:49:10 W. Europe Standard Time\u001b[0m\u001b[2;36m \u001b[0mYou are running this simulation for FREE. Your \n",
       "\u001b[2;36m                                 \u001b[0mcurrent plan allows up to \u001b[1;36m20\u001b[0m free              \n",
       "\u001b[2;36m                                 \u001b[0mnon-concurrent simulations per day \u001b[1m(\u001b[0munder      \n",
       "\u001b[2;36m                                 \u001b[0m\u001b[1;36m100.\u001b[0m0M grid points and \u001b[1;36m50.\u001b[0m0K time steps\u001b[1m)\u001b[0m       \n"
      ]
     },
     "metadata": {},
     "output_type": "display_data"
    },
    {
     "data": {
      "text/html": [
       "<pre style=\"white-space:pre;overflow-x:auto;line-height:normal;font-family:Menlo,'DejaVu Sans Mono',consolas,'Courier New',monospace\"><span style=\"color: #7fbfbf; text-decoration-color: #7fbfbf\">                                 </span>starting up solver                             \n",
       "</pre>\n"
      ],
      "text/plain": [
       "\u001b[2;36m                                \u001b[0m\u001b[2;36m \u001b[0mstarting up solver                             \n"
      ]
     },
     "metadata": {},
     "output_type": "display_data"
    },
    {
     "data": {
      "text/html": [
       "<pre style=\"white-space:pre;overflow-x:auto;line-height:normal;font-family:Menlo,'DejaVu Sans Mono',consolas,'Courier New',monospace\"><span style=\"color: #7fbfbf; text-decoration-color: #7fbfbf\">                                 </span>running solver                                 \n",
       "</pre>\n"
      ],
      "text/plain": [
       "\u001b[2;36m                                \u001b[0m\u001b[2;36m \u001b[0mrunning solver                                 \n"
      ]
     },
     "metadata": {},
     "output_type": "display_data"
    },
    {
     "data": {
      "application/vnd.jupyter.widget-view+json": {
       "model_id": "5f5d6913847d4266b3e185947482d083",
       "version_major": 2,
       "version_minor": 0
      },
      "text/plain": [
       "Output()"
      ]
     },
     "metadata": {},
     "output_type": "display_data"
    },
    {
     "data": {
      "text/html": [
       "<pre style=\"white-space:pre;overflow-x:auto;line-height:normal;font-family:Menlo,'DejaVu Sans Mono',consolas,'Courier New',monospace\"></pre>\n"
      ],
      "text/plain": []
     },
     "metadata": {},
     "output_type": "display_data"
    },
    {
     "data": {
      "text/html": [
       "<pre style=\"white-space:pre;overflow-x:auto;line-height:normal;font-family:Menlo,'DejaVu Sans Mono',consolas,'Courier New',monospace\">\n",
       "</pre>\n"
      ],
      "text/plain": [
       "\n"
      ]
     },
     "metadata": {},
     "output_type": "display_data"
    },
    {
     "data": {
      "application/vnd.jupyter.widget-view+json": {
       "model_id": "417d3e27d2fe4ed2bebf76fa037776ca",
       "version_major": 2,
       "version_minor": 0
      },
      "text/plain": [
       "Output()"
      ]
     },
     "metadata": {},
     "output_type": "display_data"
    },
    {
     "data": {
      "text/html": [
       "<pre style=\"white-space:pre;overflow-x:auto;line-height:normal;font-family:Menlo,'DejaVu Sans Mono',consolas,'Courier New',monospace\"><span style=\"color: #7fbfbf; text-decoration-color: #7fbfbf\">11:52:10 W. Europe Standard Time </span>status = postprocess                           \n",
       "</pre>\n"
      ],
      "text/plain": [
       "\u001b[2;36m11:52:10 W. Europe Standard Time\u001b[0m\u001b[2;36m \u001b[0mstatus = postprocess                           \n"
      ]
     },
     "metadata": {},
     "output_type": "display_data"
    },
    {
     "data": {
      "text/html": [
       "<pre style=\"white-space:pre;overflow-x:auto;line-height:normal;font-family:Menlo,'DejaVu Sans Mono',consolas,'Courier New',monospace\"><span style=\"color: #7fbfbf; text-decoration-color: #7fbfbf\">11:52:32 W. Europe Standard Time </span>status = success                               \n",
       "</pre>\n"
      ],
      "text/plain": [
       "\u001b[2;36m11:52:32 W. Europe Standard Time\u001b[0m\u001b[2;36m \u001b[0mstatus = success                               \n"
      ]
     },
     "metadata": {},
     "output_type": "display_data"
    },
    {
     "data": {
      "text/html": [
       "<pre style=\"white-space:pre;overflow-x:auto;line-height:normal;font-family:Menlo,'DejaVu Sans Mono',consolas,'Courier New',monospace\"></pre>\n"
      ],
      "text/plain": []
     },
     "metadata": {},
     "output_type": "display_data"
    },
    {
     "data": {
      "text/html": [
       "<pre style=\"white-space:pre;overflow-x:auto;line-height:normal;font-family:Menlo,'DejaVu Sans Mono',consolas,'Courier New',monospace\"><span style=\"color: #7fbfbf; text-decoration-color: #7fbfbf\">11:52:34 W. Europe Standard Time </span>View simulation result at                      \n",
       "<span style=\"color: #7fbfbf; text-decoration-color: #7fbfbf\">                                 </span><a href=\"https://tidy3d.simulation.cloud/workbench?taskId=fdve-8678dc0f-3f15-4580-b596-4841e75f5a4b\" target=\"_blank\"><span style=\"color: #000080; text-decoration-color: #000080; text-decoration: underline\">'https://tidy3d.simulation.cloud/workbench?task</span></a>\n",
       "<span style=\"color: #7fbfbf; text-decoration-color: #7fbfbf\">                                 </span><a href=\"https://tidy3d.simulation.cloud/workbench?taskId=fdve-8678dc0f-3f15-4580-b596-4841e75f5a4b\" target=\"_blank\"><span style=\"color: #000080; text-decoration-color: #000080; text-decoration: underline\">Id=fdve-8678dc0f-3f15-4580-b596-4841e75f5a4b'</span></a><span style=\"color: #000080; text-decoration-color: #000080; text-decoration: underline\">.</span> \n",
       "</pre>\n"
      ],
      "text/plain": [
       "\u001b[2;36m11:52:34 W. Europe Standard Time\u001b[0m\u001b[2;36m \u001b[0mView simulation result at                      \n",
       "\u001b[2;36m                                 \u001b[0m\u001b]8;id=625697;https://tidy3d.simulation.cloud/workbench?taskId=fdve-8678dc0f-3f15-4580-b596-4841e75f5a4b\u001b\\\u001b[4;34m'https://tidy3d.simulation.cloud/workbench?\u001b[0m\u001b]8;;\u001b\\\u001b]8;id=143329;https://tidy3d.simulation.cloud/workbench?taskId=fdve-8678dc0f-3f15-4580-b596-4841e75f5a4b\u001b\\\u001b[4;34mtask\u001b[0m\u001b]8;;\u001b\\\n",
       "\u001b[2;36m                                 \u001b[0m\u001b]8;id=143329;https://tidy3d.simulation.cloud/workbench?taskId=fdve-8678dc0f-3f15-4580-b596-4841e75f5a4b\u001b\\\u001b[4;34mId\u001b[0m\u001b]8;;\u001b\\\u001b]8;id=625697;https://tidy3d.simulation.cloud/workbench?taskId=fdve-8678dc0f-3f15-4580-b596-4841e75f5a4b\u001b\\\u001b[4;34m=\u001b[0m\u001b]8;;\u001b\\\u001b]8;id=216796;https://tidy3d.simulation.cloud/workbench?taskId=fdve-8678dc0f-3f15-4580-b596-4841e75f5a4b\u001b\\\u001b[4;34mfdve\u001b[0m\u001b]8;;\u001b\\\u001b]8;id=625697;https://tidy3d.simulation.cloud/workbench?taskId=fdve-8678dc0f-3f15-4580-b596-4841e75f5a4b\u001b\\\u001b[4;34m-8678dc0f-3f15-4580-b596-4841e75f5a4b'\u001b[0m\u001b]8;;\u001b\\\u001b[4;34m.\u001b[0m \n"
      ]
     },
     "metadata": {},
     "output_type": "display_data"
    },
    {
     "data": {
      "text/html": [
       "<pre style=\"white-space:pre;overflow-x:auto;line-height:normal;font-family:Menlo,'DejaVu Sans Mono',consolas,'Courier New',monospace\"><span style=\"color: #7fbfbf; text-decoration-color: #7fbfbf\">                                 </span>Created task                                   \n",
       "<span style=\"color: #7fbfbf; text-decoration-color: #7fbfbf\">                                 </span><span style=\"color: #008000; text-decoration-color: #008000\">'ak4_1000_eps_9p0_phih5_0p1895_phiL_0p1803_size</span>\n",
       "<span style=\"color: #7fbfbf; text-decoration-color: #7fbfbf\">                                 </span><span style=\"color: #008000; text-decoration-color: #008000\">_1'</span> with task_id                               \n",
       "<span style=\"color: #7fbfbf; text-decoration-color: #7fbfbf\">                                 </span><span style=\"color: #008000; text-decoration-color: #008000\">'fdve-4ddca216-ae67-49af-bac9-23fff2ef4d36'</span> and\n",
       "<span style=\"color: #7fbfbf; text-decoration-color: #7fbfbf\">                                 </span>task_type <span style=\"color: #008000; text-decoration-color: #008000\">'FDTD'</span>.                              \n",
       "</pre>\n"
      ],
      "text/plain": [
       "\u001b[2;36m                                \u001b[0m\u001b[2;36m \u001b[0mCreated task                                   \n",
       "\u001b[2;36m                                 \u001b[0m\u001b[32m'ak4_1000_eps_9p0_phih5_0p1895_phiL_0p1803_size\u001b[0m\n",
       "\u001b[2;36m                                 \u001b[0m\u001b[32m_1'\u001b[0m with task_id                               \n",
       "\u001b[2;36m                                 \u001b[0m\u001b[32m'fdve-4ddca216-ae67-49af-bac9-23fff2ef4d36'\u001b[0m and\n",
       "\u001b[2;36m                                 \u001b[0mtask_type \u001b[32m'FDTD'\u001b[0m.                              \n"
      ]
     },
     "metadata": {},
     "output_type": "display_data"
    },
    {
     "data": {
      "text/html": [
       "<pre style=\"white-space:pre;overflow-x:auto;line-height:normal;font-family:Menlo,'DejaVu Sans Mono',consolas,'Courier New',monospace\"><span style=\"color: #7fbfbf; text-decoration-color: #7fbfbf\">                                 </span>View task using web UI at                      \n",
       "<span style=\"color: #7fbfbf; text-decoration-color: #7fbfbf\">                                 </span><a href=\"https://tidy3d.simulation.cloud/workbench?taskId=fdve-4ddca216-ae67-49af-bac9-23fff2ef4d36\" target=\"_blank\"><span style=\"color: #008000; text-decoration-color: #008000\">'https://tidy3d.simulation.cloud/workbench?task</span></a>\n",
       "<span style=\"color: #7fbfbf; text-decoration-color: #7fbfbf\">                                 </span><a href=\"https://tidy3d.simulation.cloud/workbench?taskId=fdve-4ddca216-ae67-49af-bac9-23fff2ef4d36\" target=\"_blank\"><span style=\"color: #008000; text-decoration-color: #008000\">Id=fdve-4ddca216-ae67-49af-bac9-23fff2ef4d36'</span></a>. \n",
       "</pre>\n"
      ],
      "text/plain": [
       "\u001b[2;36m                                \u001b[0m\u001b[2;36m \u001b[0mView task using web UI at                      \n",
       "\u001b[2;36m                                 \u001b[0m\u001b]8;id=77982;https://tidy3d.simulation.cloud/workbench?taskId=fdve-4ddca216-ae67-49af-bac9-23fff2ef4d36\u001b\\\u001b[32m'https://tidy3d.simulation.cloud/workbench?\u001b[0m\u001b]8;;\u001b\\\u001b]8;id=21095;https://tidy3d.simulation.cloud/workbench?taskId=fdve-4ddca216-ae67-49af-bac9-23fff2ef4d36\u001b\\\u001b[32mtask\u001b[0m\u001b]8;;\u001b\\\n",
       "\u001b[2;36m                                 \u001b[0m\u001b]8;id=21095;https://tidy3d.simulation.cloud/workbench?taskId=fdve-4ddca216-ae67-49af-bac9-23fff2ef4d36\u001b\\\u001b[32mId\u001b[0m\u001b]8;;\u001b\\\u001b]8;id=77982;https://tidy3d.simulation.cloud/workbench?taskId=fdve-4ddca216-ae67-49af-bac9-23fff2ef4d36\u001b\\\u001b[32m=\u001b[0m\u001b]8;;\u001b\\\u001b]8;id=410481;https://tidy3d.simulation.cloud/workbench?taskId=fdve-4ddca216-ae67-49af-bac9-23fff2ef4d36\u001b\\\u001b[32mfdve\u001b[0m\u001b]8;;\u001b\\\u001b]8;id=77982;https://tidy3d.simulation.cloud/workbench?taskId=fdve-4ddca216-ae67-49af-bac9-23fff2ef4d36\u001b\\\u001b[32m-4ddca216-ae67-49af-bac9-23fff2ef4d36'\u001b[0m\u001b]8;;\u001b\\. \n"
      ]
     },
     "metadata": {},
     "output_type": "display_data"
    },
    {
     "data": {
      "text/html": [
       "<pre style=\"white-space:pre;overflow-x:auto;line-height:normal;font-family:Menlo,'DejaVu Sans Mono',consolas,'Courier New',monospace\"><span style=\"color: #7fbfbf; text-decoration-color: #7fbfbf\">                                 </span>Task folder: <a href=\"https://tidy3d.simulation.cloud/folders/folder-ff7a913e-4025-45ce-a84e-5d777c71a6c2\" target=\"_blank\"><span style=\"color: #008000; text-decoration-color: #008000\">'20250327 Far Field Transmission </span></a> \n",
       "<span style=\"color: #7fbfbf; text-decoration-color: #7fbfbf\">                                 </span><a href=\"https://tidy3d.simulation.cloud/folders/folder-ff7a913e-4025-45ce-a84e-5d777c71a6c2\" target=\"_blank\"><span style=\"color: #008000; text-decoration-color: #008000\">LSU Angle Test </span></a>                                \n",
       "<span style=\"color: #7fbfbf; text-decoration-color: #7fbfbf\">                                 </span><a href=\"https://tidy3d.simulation.cloud/folders/folder-ff7a913e-4025-45ce-a84e-5d777c71a6c2\" target=\"_blank\"><span style=\"color: #008000; text-decoration-color: #008000\">1895_ff_double_size_periodic_3_perm_9.0'</span></a>.      \n",
       "</pre>\n"
      ],
      "text/plain": [
       "\u001b[2;36m                                \u001b[0m\u001b[2;36m \u001b[0mTask folder: \u001b]8;id=823256;https://tidy3d.simulation.cloud/folders/folder-ff7a913e-4025-45ce-a84e-5d777c71a6c2\u001b\\\u001b[32m'20250327 Far Field Transmission \u001b[0m\u001b]8;;\u001b\\ \n",
       "\u001b[2;36m                                 \u001b[0m\u001b]8;id=823256;https://tidy3d.simulation.cloud/folders/folder-ff7a913e-4025-45ce-a84e-5d777c71a6c2\u001b\\\u001b[32mLSU Angle Test \u001b[0m\u001b]8;;\u001b\\                                \n",
       "\u001b[2;36m                                 \u001b[0m\u001b]8;id=823256;https://tidy3d.simulation.cloud/folders/folder-ff7a913e-4025-45ce-a84e-5d777c71a6c2\u001b\\\u001b[32m1895_ff_double_size_periodic_3_perm_9.0'\u001b[0m\u001b]8;;\u001b\\.      \n"
      ]
     },
     "metadata": {},
     "output_type": "display_data"
    },
    {
     "ename": "KeyboardInterrupt",
     "evalue": "",
     "output_type": "error",
     "traceback": [
      "\u001b[1;31m---------------------------------------------------------------------------\u001b[0m",
      "\u001b[1;31mKeyboardInterrupt\u001b[0m                         Traceback (most recent call last)",
      "Cell \u001b[1;32mIn[5], line 34\u001b[0m\n\u001b[0;32m     32\u001b[0m \u001b[38;5;28;01melse\u001b[39;00m:\n\u001b[0;32m     33\u001b[0m    \u001b[38;5;28mprint\u001b[39m(\u001b[38;5;124m\"\u001b[39m\u001b[38;5;124mCreating...\u001b[39m\u001b[38;5;124m\"\u001b[39m)\n\u001b[1;32m---> 34\u001b[0m    \u001b[43mstructure_1\u001b[49m\u001b[38;5;241;43m.\u001b[39;49m\u001b[43mrun_sim\u001b[49m\u001b[43m(\u001b[49m\u001b[43mrun_free\u001b[49m\u001b[38;5;241;43m=\u001b[39;49m\u001b[38;5;28;43;01mFalse\u001b[39;49;00m\u001b[43m,\u001b[49m\u001b[43mload\u001b[49m\u001b[38;5;241;43m=\u001b[39;49m\u001b[38;5;28;43;01mFalse\u001b[39;49;00m\u001b[43m,\u001b[49m\u001b[43madd_ref\u001b[49m\u001b[38;5;241;43m=\u001b[39;49m\u001b[43mref\u001b[49m\u001b[43m,\u001b[49m\u001b[43mfolder_description\u001b[49m\u001b[38;5;241;43m=\u001b[39;49m\u001b[38;5;124;43mrf\u001b[39;49m\u001b[38;5;124;43m\"\u001b[39;49m\u001b[38;5;132;43;01m{\u001b[39;49;00m\u001b[43mproject_name\u001b[49m\u001b[38;5;132;43;01m}\u001b[39;49;00m\u001b[38;5;124;43m_perm_\u001b[39;49m\u001b[38;5;132;43;01m{\u001b[39;49;00m\u001b[43mstructure_1\u001b[49m\u001b[38;5;241;43m.\u001b[39;49m\u001b[43mpermittivity_value\u001b[49m\u001b[38;5;132;43;01m}\u001b[39;49;00m\u001b[38;5;124;43m\"\u001b[39;49m\u001b[43m,\u001b[49m\u001b[43mmonitor\u001b[49m\u001b[38;5;241;43m=\u001b[39;49m\u001b[38;5;28;43;01mTrue\u001b[39;49;00m\u001b[43m)\u001b[49m\n\u001b[0;32m     35\u001b[0m    \u001b[38;5;28;01mif\u001b[39;00m ref:\n\u001b[0;32m     36\u001b[0m       ref \u001b[38;5;241m=\u001b[39m \u001b[38;5;28;01mFalse\u001b[39;00m\n",
      "File \u001b[1;32mH:\\phd stuff\\tidy3d\\AutomationModule\\loadStructures.py:775\u001b[0m, in \u001b[0;36mloadAndRunStructure.run_sim\u001b[1;34m(self, run_free, folder_description, max_grid_size, max_time_steps, load, run, add_ref, monitor)\u001b[0m\n\u001b[0;32m    771\u001b[0m         \u001b[38;5;28;01mif\u001b[39;00m monitor:\n\u001b[0;32m    772\u001b[0m             web\u001b[38;5;241m.\u001b[39mmonitor(task_id\u001b[38;5;241m=\u001b[39mid_0,verbose\u001b[38;5;241m=\u001b[39m\u001b[38;5;28mself\u001b[39m\u001b[38;5;241m.\u001b[39mverbose)\n\u001b[1;32m--> 775\u001b[0m \u001b[38;5;28mid\u001b[39m \u001b[38;5;241m=\u001b[39m\u001b[43mweb\u001b[49m\u001b[38;5;241;43m.\u001b[39;49m\u001b[43mupload\u001b[49m\u001b[43m(\u001b[49m\u001b[43msim\u001b[49m\u001b[43m,\u001b[49m\u001b[43m \u001b[49m\u001b[43mfolder_name\u001b[49m\u001b[38;5;241;43m=\u001b[39;49m\u001b[43mfolder_name\u001b[49m\u001b[43m,\u001b[49m\u001b[43mtask_name\u001b[49m\u001b[38;5;241;43m=\u001b[39;49m\u001b[43mtask_name_def\u001b[49m\u001b[43m,\u001b[49m\u001b[43m \u001b[49m\u001b[43mverbose\u001b[49m\u001b[38;5;241;43m=\u001b[39;49m\u001b[38;5;28;43mself\u001b[39;49m\u001b[38;5;241;43m.\u001b[39;49m\u001b[43mverbose\u001b[49m\u001b[43m)\u001b[49m\n\u001b[0;32m    776\u001b[0m \u001b[38;5;28;01mif\u001b[39;00m run:\n\u001b[0;32m    777\u001b[0m     web\u001b[38;5;241m.\u001b[39mstart(task_id \u001b[38;5;241m=\u001b[39m \u001b[38;5;28mid\u001b[39m)\n",
      "File \u001b[1;32mc:\\Users\\HernandF\\AppData\\Local\\Programs\\Python\\Python312\\Lib\\site-packages\\tidy3d\\web\\api\\connect_util.py:34\u001b[0m, in \u001b[0;36mwait_for_connection.<locals>.decorator.<locals>.web_fn_wrapped\u001b[1;34m(*args, **kwargs)\u001b[0m\n\u001b[0;32m     32\u001b[0m \u001b[38;5;28;01mwhile\u001b[39;00m (time\u001b[38;5;241m.\u001b[39mtime() \u001b[38;5;241m-\u001b[39m time_start) \u001b[38;5;241m<\u001b[39m wait_time_sec:\n\u001b[0;32m     33\u001b[0m     \u001b[38;5;28;01mtry\u001b[39;00m:\n\u001b[1;32m---> 34\u001b[0m         \u001b[38;5;28;01mreturn\u001b[39;00m \u001b[43mweb_fn\u001b[49m\u001b[43m(\u001b[49m\u001b[38;5;241;43m*\u001b[39;49m\u001b[43margs\u001b[49m\u001b[43m,\u001b[49m\u001b[43m \u001b[49m\u001b[38;5;241;43m*\u001b[39;49m\u001b[38;5;241;43m*\u001b[39;49m\u001b[43mkwargs\u001b[49m\u001b[43m)\u001b[49m\n\u001b[0;32m     35\u001b[0m     \u001b[38;5;28;01mexcept\u001b[39;00m (ConnErr, \u001b[38;5;167;01mConnectionError\u001b[39;00m, NewConnectionError, ReadTimeout, JSONDecodeError):\n\u001b[0;32m     36\u001b[0m         \u001b[38;5;28;01mif\u001b[39;00m \u001b[38;5;129;01mnot\u001b[39;00m warned_previously:\n",
      "File \u001b[1;32mc:\\Users\\HernandF\\AppData\\Local\\Programs\\Python\\Python312\\Lib\\site-packages\\tidy3d\\web\\api\\webapi.py:285\u001b[0m, in \u001b[0;36mupload\u001b[1;34m(simulation, task_name, folder_name, callback_url, verbose, progress_callback, simulation_type, parent_tasks, source_required, solver_version, reduce_simulation)\u001b[0m\n\u001b[0;32m    282\u001b[0m \u001b[38;5;28;01mif\u001b[39;00m task_type \u001b[38;5;241m==\u001b[39m \u001b[38;5;124m\"\u001b[39m\u001b[38;5;124mMODE_SOLVER\u001b[39m\u001b[38;5;124m\"\u001b[39m \u001b[38;5;129;01mor\u001b[39;00m task_type \u001b[38;5;241m==\u001b[39m \u001b[38;5;124m\"\u001b[39m\u001b[38;5;124mMODE\u001b[39m\u001b[38;5;124m\"\u001b[39m:\n\u001b[0;32m    283\u001b[0m     simulation \u001b[38;5;241m=\u001b[39m get_reduced_simulation(simulation, reduce_simulation)\n\u001b[1;32m--> 285\u001b[0m \u001b[43mtask\u001b[49m\u001b[38;5;241;43m.\u001b[39;49m\u001b[43mupload_simulation\u001b[49m\u001b[43m(\u001b[49m\n\u001b[0;32m    286\u001b[0m \u001b[43m    \u001b[49m\u001b[43mstub\u001b[49m\u001b[38;5;241;43m=\u001b[39;49m\u001b[43mstub\u001b[49m\u001b[43m,\u001b[49m\n\u001b[0;32m    287\u001b[0m \u001b[43m    \u001b[49m\u001b[43mverbose\u001b[49m\u001b[38;5;241;43m=\u001b[39;49m\u001b[43mverbose\u001b[49m\u001b[43m,\u001b[49m\n\u001b[0;32m    288\u001b[0m \u001b[43m    \u001b[49m\u001b[43mprogress_callback\u001b[49m\u001b[38;5;241;43m=\u001b[39;49m\u001b[43mprogress_callback\u001b[49m\u001b[43m,\u001b[49m\n\u001b[0;32m    289\u001b[0m \u001b[43m    \u001b[49m\u001b[43mremote_sim_file\u001b[49m\u001b[38;5;241;43m=\u001b[39;49m\u001b[43mremote_sim_file\u001b[49m\u001b[43m,\u001b[49m\n\u001b[0;32m    290\u001b[0m \u001b[43m\u001b[49m\u001b[43m)\u001b[49m\n\u001b[0;32m    291\u001b[0m estimate_cost(task_id\u001b[38;5;241m=\u001b[39mtask\u001b[38;5;241m.\u001b[39mtask_id, solver_version\u001b[38;5;241m=\u001b[39msolver_version, verbose\u001b[38;5;241m=\u001b[39mverbose)\n\u001b[0;32m    293\u001b[0m \u001b[38;5;66;03m# log the url for the task in the web UI\u001b[39;00m\n",
      "File \u001b[1;32mc:\\Users\\HernandF\\AppData\\Local\\Programs\\Python\\Python312\\Lib\\site-packages\\tidy3d\\web\\core\\task_core.py:352\u001b[0m, in \u001b[0;36mSimulationTask.upload_simulation\u001b[1;34m(self, stub, verbose, progress_callback, remote_sim_file)\u001b[0m\n\u001b[0;32m    348\u001b[0m os\u001b[38;5;241m.\u001b[39mclose(file)\n\u001b[0;32m    349\u001b[0m \u001b[38;5;28;01mtry\u001b[39;00m:\n\u001b[0;32m    350\u001b[0m     \u001b[38;5;66;03m# upload simulation\u001b[39;00m\n\u001b[0;32m    351\u001b[0m     \u001b[38;5;66;03m# compress .hdf5 to .hdf5.gz\u001b[39;00m\n\u001b[1;32m--> 352\u001b[0m     \u001b[43mstub\u001b[49m\u001b[38;5;241;43m.\u001b[39;49m\u001b[43mto_hdf5_gz\u001b[49m\u001b[43m(\u001b[49m\u001b[43mfile_name\u001b[49m\u001b[43m)\u001b[49m\n\u001b[0;32m    353\u001b[0m     upload_file(\n\u001b[0;32m    354\u001b[0m         \u001b[38;5;28mself\u001b[39m\u001b[38;5;241m.\u001b[39mtask_id,\n\u001b[0;32m    355\u001b[0m         file_name,\n\u001b[1;32m   (...)\u001b[0m\n\u001b[0;32m    358\u001b[0m         progress_callback\u001b[38;5;241m=\u001b[39mprogress_callback,\n\u001b[0;32m    359\u001b[0m     )\n\u001b[0;32m    360\u001b[0m \u001b[38;5;28;01mfinally\u001b[39;00m:\n",
      "File \u001b[1;32mc:\\Users\\HernandF\\AppData\\Local\\Programs\\Python\\Python312\\Lib\\site-packages\\tidy3d\\web\\api\\tidy3d_stub.py:129\u001b[0m, in \u001b[0;36mTidy3dStub.to_hdf5_gz\u001b[1;34m(self, fname, custom_encoders)\u001b[0m\n\u001b[0;32m    112\u001b[0m \u001b[38;5;28;01mdef\u001b[39;00m \u001b[38;5;21mto_hdf5_gz\u001b[39m(\u001b[38;5;28mself\u001b[39m, fname: \u001b[38;5;28mstr\u001b[39m, custom_encoders: List[Callable] \u001b[38;5;241m=\u001b[39m \u001b[38;5;28;01mNone\u001b[39;00m) \u001b[38;5;241m-\u001b[39m\u001b[38;5;241m>\u001b[39m \u001b[38;5;28;01mNone\u001b[39;00m:\n\u001b[0;32m    113\u001b[0m \u001b[38;5;250m    \u001b[39m\u001b[38;5;124;03m\"\"\"Exports Union[:class:`.Simulation`, :class:`.HeatSimulation`, :class:`.EMESimulation`] instance to .hdf5.gz file.\u001b[39;00m\n\u001b[0;32m    114\u001b[0m \n\u001b[0;32m    115\u001b[0m \u001b[38;5;124;03m    Parameters\u001b[39;00m\n\u001b[1;32m   (...)\u001b[0m\n\u001b[0;32m    126\u001b[0m \u001b[38;5;124;03m    >>> simulation.to_hdf5_gz(fname='folder/sim.hdf5.gz') # doctest: +SKIP\u001b[39;00m\n\u001b[0;32m    127\u001b[0m \u001b[38;5;124;03m    \"\"\"\u001b[39;00m\n\u001b[1;32m--> 129\u001b[0m     \u001b[38;5;28;43mself\u001b[39;49m\u001b[38;5;241;43m.\u001b[39;49m\u001b[43msimulation\u001b[49m\u001b[38;5;241;43m.\u001b[39;49m\u001b[43mto_hdf5_gz\u001b[49m\u001b[43m(\u001b[49m\u001b[43mfname\u001b[49m\u001b[43m)\u001b[49m\n",
      "File \u001b[1;32mc:\\Users\\HernandF\\AppData\\Local\\Programs\\Python\\Python312\\Lib\\site-packages\\tidy3d\\components\\base.py:843\u001b[0m, in \u001b[0;36mTidy3dBaseModel.to_hdf5_gz\u001b[1;34m(self, fname, custom_encoders)\u001b[0m\n\u001b[0;32m    841\u001b[0m \u001b[38;5;28;01mtry\u001b[39;00m:\n\u001b[0;32m    842\u001b[0m     \u001b[38;5;28mself\u001b[39m\u001b[38;5;241m.\u001b[39mto_hdf5(decompressed, custom_encoders\u001b[38;5;241m=\u001b[39mcustom_encoders)\n\u001b[1;32m--> 843\u001b[0m     \u001b[43mcompress_file_to_gzip\u001b[49m\u001b[43m(\u001b[49m\u001b[43mdecompressed\u001b[49m\u001b[43m,\u001b[49m\u001b[43m \u001b[49m\u001b[43mfname\u001b[49m\u001b[43m)\u001b[49m\n\u001b[0;32m    844\u001b[0m \u001b[38;5;28;01mfinally\u001b[39;00m:\n\u001b[0;32m    845\u001b[0m     os\u001b[38;5;241m.\u001b[39munlink(decompressed)\n",
      "File \u001b[1;32mc:\\Users\\HernandF\\AppData\\Local\\Programs\\Python\\Python312\\Lib\\site-packages\\tidy3d\\components\\file_util.py:20\u001b[0m, in \u001b[0;36mcompress_file_to_gzip\u001b[1;34m(input_file, output_gz_file)\u001b[0m\n\u001b[0;32m     18\u001b[0m \u001b[38;5;28;01mwith\u001b[39;00m \u001b[38;5;28mopen\u001b[39m(input_file, \u001b[38;5;124m\"\u001b[39m\u001b[38;5;124mrb\u001b[39m\u001b[38;5;124m\"\u001b[39m) \u001b[38;5;28;01mas\u001b[39;00m file_in:\n\u001b[0;32m     19\u001b[0m     \u001b[38;5;28;01mwith\u001b[39;00m gzip\u001b[38;5;241m.\u001b[39mopen(output_gz_file, \u001b[38;5;124m\"\u001b[39m\u001b[38;5;124mwb\u001b[39m\u001b[38;5;124m\"\u001b[39m) \u001b[38;5;28;01mas\u001b[39;00m file_out:\n\u001b[1;32m---> 20\u001b[0m         \u001b[43mshutil\u001b[49m\u001b[38;5;241;43m.\u001b[39;49m\u001b[43mcopyfileobj\u001b[49m\u001b[43m(\u001b[49m\u001b[43mfile_in\u001b[49m\u001b[43m,\u001b[49m\u001b[43m \u001b[49m\u001b[43mfile_out\u001b[49m\u001b[43m)\u001b[49m\n",
      "File \u001b[1;32mc:\\Users\\HernandF\\AppData\\Local\\Programs\\Python\\Python312\\Lib\\shutil.py:204\u001b[0m, in \u001b[0;36mcopyfileobj\u001b[1;34m(fsrc, fdst, length)\u001b[0m\n\u001b[0;32m    202\u001b[0m fdst_write \u001b[38;5;241m=\u001b[39m fdst\u001b[38;5;241m.\u001b[39mwrite\n\u001b[0;32m    203\u001b[0m \u001b[38;5;28;01mwhile\u001b[39;00m buf \u001b[38;5;241m:=\u001b[39m fsrc_read(length):\n\u001b[1;32m--> 204\u001b[0m     \u001b[43mfdst_write\u001b[49m\u001b[43m(\u001b[49m\u001b[43mbuf\u001b[49m\u001b[43m)\u001b[49m\n",
      "File \u001b[1;32mc:\\Users\\HernandF\\AppData\\Local\\Programs\\Python\\Python312\\Lib\\gzip.py:300\u001b[0m, in \u001b[0;36mGzipFile.write\u001b[1;34m(self, data)\u001b[0m\n\u001b[0;32m    297\u001b[0m \u001b[38;5;28;01mif\u001b[39;00m \u001b[38;5;28mself\u001b[39m\u001b[38;5;241m.\u001b[39mfileobj \u001b[38;5;129;01mis\u001b[39;00m \u001b[38;5;28;01mNone\u001b[39;00m:\n\u001b[0;32m    298\u001b[0m     \u001b[38;5;28;01mraise\u001b[39;00m \u001b[38;5;167;01mValueError\u001b[39;00m(\u001b[38;5;124m\"\u001b[39m\u001b[38;5;124mwrite() on closed GzipFile object\u001b[39m\u001b[38;5;124m\"\u001b[39m)\n\u001b[1;32m--> 300\u001b[0m \u001b[38;5;28;01mreturn\u001b[39;00m \u001b[38;5;28;43mself\u001b[39;49m\u001b[38;5;241;43m.\u001b[39;49m\u001b[43m_buffer\u001b[49m\u001b[38;5;241;43m.\u001b[39;49m\u001b[43mwrite\u001b[49m\u001b[43m(\u001b[49m\u001b[43mdata\u001b[49m\u001b[43m)\u001b[49m\n",
      "File \u001b[1;32mc:\\Users\\HernandF\\AppData\\Local\\Programs\\Python\\Python312\\Lib\\gzip.py:130\u001b[0m, in \u001b[0;36m_WriteBufferStream.write\u001b[1;34m(self, data)\u001b[0m\n\u001b[0;32m    129\u001b[0m \u001b[38;5;28;01mdef\u001b[39;00m \u001b[38;5;21mwrite\u001b[39m(\u001b[38;5;28mself\u001b[39m, data):\n\u001b[1;32m--> 130\u001b[0m     \u001b[38;5;28;01mreturn\u001b[39;00m \u001b[38;5;28;43mself\u001b[39;49m\u001b[38;5;241;43m.\u001b[39;49m\u001b[43mgzip_file\u001b[49m\u001b[38;5;241;43m.\u001b[39;49m\u001b[43m_write_raw\u001b[49m\u001b[43m(\u001b[49m\u001b[43mdata\u001b[49m\u001b[43m)\u001b[49m\n",
      "File \u001b[1;32mc:\\Users\\HernandF\\AppData\\Local\\Programs\\Python\\Python312\\Lib\\gzip.py:312\u001b[0m, in \u001b[0;36mGzipFile._write_raw\u001b[1;34m(self, data)\u001b[0m\n\u001b[0;32m    309\u001b[0m     length \u001b[38;5;241m=\u001b[39m data\u001b[38;5;241m.\u001b[39mnbytes\n\u001b[0;32m    311\u001b[0m \u001b[38;5;28;01mif\u001b[39;00m length \u001b[38;5;241m>\u001b[39m \u001b[38;5;241m0\u001b[39m:\n\u001b[1;32m--> 312\u001b[0m     \u001b[38;5;28mself\u001b[39m\u001b[38;5;241m.\u001b[39mfileobj\u001b[38;5;241m.\u001b[39mwrite(\u001b[38;5;28;43mself\u001b[39;49m\u001b[38;5;241;43m.\u001b[39;49m\u001b[43mcompress\u001b[49m\u001b[38;5;241;43m.\u001b[39;49m\u001b[43mcompress\u001b[49m\u001b[43m(\u001b[49m\u001b[43mdata\u001b[49m\u001b[43m)\u001b[49m)\n\u001b[0;32m    313\u001b[0m     \u001b[38;5;28mself\u001b[39m\u001b[38;5;241m.\u001b[39msize \u001b[38;5;241m+\u001b[39m\u001b[38;5;241m=\u001b[39m length\n\u001b[0;32m    314\u001b[0m     \u001b[38;5;28mself\u001b[39m\u001b[38;5;241m.\u001b[39mcrc \u001b[38;5;241m=\u001b[39m zlib\u001b[38;5;241m.\u001b[39mcrc32(data, \u001b[38;5;28mself\u001b[39m\u001b[38;5;241m.\u001b[39mcrc)\n",
      "\u001b[1;31mKeyboardInterrupt\u001b[0m: "
     ]
    }
   ],
   "source": [
    "# folder_path = rf\"H:\\phd stuff\\tidy3d\\structures\\LSU H5\\20250116\"\n",
    "folder_path = rf\"H:\\phd stuff\\tidy3d\\structures\\LSU H5\\20241208\"\n",
    "project_name = \"20250327 Far Field Transmission LSU Angle Test 1895_ff_double_size_periodic_3\"\n",
    "runtime_ps = 25e-12\n",
    "min_steps_per_lambda = 20\n",
    "ref = True\n",
    "cuts = [1]\n",
    "h5_bg = None\n",
    "for direction in [\"z\"]: \n",
    "    for f,filename in enumerate(os.listdir(folder_path)):\n",
    "     if filename not in [\"ak4_1000_eps_9p0_phih5_0p1895_phiL_0p1803.h5\"]:\n",
    "        continue\n",
    "     for cut in cuts:\n",
    "        if not (Path(filename).suffix==\".h5\" or Path(filename).suffix==\".stl\"):\n",
    "            continue \n",
    "        if os.path.isfile(os.path.join(folder_path, filename)):\n",
    "            file=os.path.join(folder_path, filename)\n",
    "            structure_1 = AM.loadAndRunStructure(key = tidy3dAPI, file_path=file\n",
    "                                            ,direction=direction, lambda_range=lambdas,\n",
    "                                            box_size=14.3,runtime_ps=runtime_ps,min_steps_per_lambda=min_steps_per_lambda,\n",
    "                                           scaling=1,shuoff_condtion=1e-20, verbose=True, multiplicate_size=True,multiplication_factor=4,\n",
    "                                           monitors=[\"flux\", \"far_field\"], flux_monitor_position=12.5,cell_size_manual=35,\n",
    "                                           freqs=450, far_field_settings={\"r\":r_proj, \"theta\":theta_proj,\"phi\":phi_proj, \"window_size\":0.25},\n",
    "                                           cut_condition=cut, source=\"gaussian\", gaussian_params={\"waist_radius\":5.2,\"waist_distance\":-25,\"theta\":15*np.pi/180,\"phi\":0, \"position_x\":-21, \"size\":12}, \n",
    "                                           absorbers=130, boundaries= \"absorbers\",\n",
    "                                            use_permittivity=False,sim_name=rf\"{Path(filename).stem}_size_{cut}\" + (rf\"_bg_{h5_bg}\" if h5_bg else \"\"),h5_bg=h5_bg,\n",
    "                                           )\n",
    "        \n",
    "        file_desc = rf\"H:\\phd stuff\\tidy3d\\data\\{project_name}_perm_{structure_1.permittivity_value}\\z_incidence\\{structure_1.sim_name}.txt\"\n",
    "        if os.path.exists(file_desc):\n",
    "            print(\"Exist!\")\n",
    "        else:\n",
    "           print(\"Creating...\")\n",
    "           structure_1.run_sim(run_free=False,load=False,add_ref=ref,folder_description=rf\"{project_name}_perm_{structure_1.permittivity_value}\",monitor=True)\n",
    "           if ref:\n",
    "              ref = False\n",
    "\n",
    "        del structure_1\n",
    "\n",
    "\n",
    "        # structure_1.estimate_cost()\n",
    "        # structure_1.sim.plot_3d()\n",
    "        # raise Exception\n"
   ]
  },
  {
   "cell_type": "code",
   "execution_count": null,
   "metadata": {},
   "outputs": [],
   "source": [
    "import numpy as np\n",
    "np.sin((lambdas[0])/(np.pi*4))"
   ]
  },
  {
   "cell_type": "code",
   "execution_count": null,
   "metadata": {},
   "outputs": [],
   "source": []
  },
  {
   "cell_type": "code",
   "execution_count": null,
   "metadata": {},
   "outputs": [],
   "source": []
  }
 ],
 "metadata": {
  "kernelspec": {
   "display_name": "Python 3",
   "language": "python",
   "name": "python3"
  },
  "language_info": {
   "codemirror_mode": {
    "name": "ipython",
    "version": 3
   },
   "file_extension": ".py",
   "mimetype": "text/x-python",
   "name": "python",
   "nbconvert_exporter": "python",
   "pygments_lexer": "ipython3",
   "version": "3.12.4"
  }
 },
 "nbformat": 4,
 "nbformat_minor": 2
}
