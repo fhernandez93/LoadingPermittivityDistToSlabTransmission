{
 "cells": [
  {
   "cell_type": "code",
   "execution_count": 2,
   "metadata": {},
   "outputs": [],
   "source": [
    "%load_ext autoreload\n",
    "%autoreload 2\n",
    "%matplotlib inline\n",
    "import scipy.io as sio\n",
    "from dataclasses import dataclass\n",
    "from typing import List, Tuple\n",
    "import os\n",
    "from dotenv import load_dotenv\n",
    "load_dotenv()\n",
    "import tidy3d as td\n",
    "from tidy3d import web\n",
    "import numpy as np\n",
    "from pathlib import Path\n",
    "from stl import mesh\n",
    "import matplotlib.pyplot as plt"
   ]
  },
  {
   "cell_type": "code",
   "execution_count": 3,
   "metadata": {},
   "outputs": [],
   "source": [
    "import sys\n",
    "import os\n",
    "\n",
    "# Assuming /AutomationModule is in the root directory of your project\n",
    "sys.path.append(os.path.abspath(fr'H:\\phd stuff\\tidy3d'))\n",
    "\n",
    "from AutomationModule import * \n",
    "\n",
    "import AutomationModule as AM"
   ]
  },
  {
   "cell_type": "code",
   "execution_count": 4,
   "metadata": {},
   "outputs": [],
   "source": [
    "tidy3dAPI = os.environ[\"API_TIDY3D_KEY\"]\n"
   ]
  },
  {
   "cell_type": "code",
   "execution_count": 5,
   "metadata": {},
   "outputs": [],
   "source": [
    "a = 3.4\n",
    "lambdas = np.array([8,3.5])/0.8\n",
    "# radial distance away from the origin at which to project fields\n",
    "r_proj =  1e6\n",
    "\n",
    "# theta and phi angles at which to observe fields - part of the half-space to the right\n",
    "theta_proj = np.linspace(0, np.pi/2, 280)\n",
    "phi_proj = np.linspace(0,2*np.pi, 280)"
   ]
  },
  {
   "cell_type": "code",
   "execution_count": null,
   "metadata": {},
   "outputs": [],
   "source": [
    "# folder_path = rf\"H:\\phd stuff\\tidy3d\\structures\\LSU H5\\20250116\"\n",
    "folder_path = rf\"H:\\phd stuff\\tidy3d\\structures\\LSU H5\\20241208\"\n",
    "project_name = \"20250328 Far Field Transmission LSU Angle Test 2073_ff_4x_size\"\n",
    "runtime_ps = 25e-12\n",
    "min_steps_per_lambda = 20\n",
    "ref = True\n",
    "cuts = [1]\n",
    "h5_bg = None\n",
    "for direction in [\"z\"]: \n",
    "    for f,filename in enumerate(os.listdir(folder_path)):\n",
    "     if filename not in [\"ak4_1000_eps_9p0_phih5_0p2177_phiL_0p2073.h5\"]:\n",
    "        continue\n",
    "     for cut in cuts:\n",
    "        if not (Path(filename).suffix==\".h5\" or Path(filename).suffix==\".stl\"):\n",
    "            continue \n",
    "        if os.path.isfile(os.path.join(folder_path, filename)):\n",
    "            file=os.path.join(folder_path, filename)\n",
    "            structure_1 = AM.loadAndRunStructure(key = tidy3dAPI, file_path=file\n",
    "                                            ,direction=direction, lambda_range=lambdas,\n",
    "                                            box_size=14.3,runtime_ps=runtime_ps,min_steps_per_lambda=min_steps_per_lambda,\n",
    "                                           scaling=1,shuoff_condtion=1e-20, verbose=True, multiplicate_size=True,multiplication_factor=4,\n",
    "                                           monitors=[\"flux\", \"far_field\"], flux_monitor_position=12.5,cell_size_manual=35,\n",
    "                                           freqs=450, far_field_settings={\"r\":r_proj, \"theta\":theta_proj,\"phi\":phi_proj, \"window_size\":0.25},\n",
    "                                           cut_condition=cut, source=\"gaussian\", gaussian_params={\"waist_radius\":5.2,\"waist_distance\":-25,\"theta\":15*np.pi/180,\"phi\":0, \"position_x\":-21, \"size\":12}, \n",
    "                                           absorbers=130, boundaries= \"absorbers\",\n",
    "                                            use_permittivity=False,sim_name=rf\"{Path(filename).stem}_size_{cut}\" + (rf\"_bg_{h5_bg}\" if h5_bg else \"\"),h5_bg=h5_bg,\n",
    "                                           )\n",
    "        \n",
    "        file_desc = rf\"H:\\phd stuff\\tidy3d\\data\\{project_name}_perm_{structure_1.permittivity_value}\\z_incidence\\{structure_1.sim_name}.txt\"\n",
    "        if os.path.exists(file_desc):\n",
    "            print(\"Exist!\")\n",
    "        else:\n",
    "           print(\"Creating...\")\n",
    "           structure_1.run_sim(run_free=False,load=False,add_ref=ref,folder_description=rf\"{project_name}_perm_{structure_1.permittivity_value}\",monitor=True)\n",
    "           if ref:\n",
    "              ref = False\n",
    "\n",
    "        del structure_1\n",
    "\n",
    "\n",
    "        # structure_1.estimate_cost()\n",
    "        # structure_1.sim.plot_3d()\n",
    "        # raise Exception\n"
   ]
  },
  {
   "cell_type": "code",
   "execution_count": 7,
   "metadata": {},
   "outputs": [
    {
     "data": {
      "text/plain": [
       "0.5944807685248221"
      ]
     },
     "execution_count": 7,
     "metadata": {},
     "output_type": "execute_result"
    }
   ],
   "source": [
    "import numpy as np\n",
    "np.sin((lambdas[0])/(np.pi*5))"
   ]
  },
  {
   "cell_type": "code",
   "execution_count": 8,
   "metadata": {},
   "outputs": [
    {
     "data": {
      "text/plain": [
       "0.1308996938995747"
      ]
     },
     "execution_count": 8,
     "metadata": {},
     "output_type": "execute_result"
    }
   ],
   "source": [
    "(7.5*np.pi/180)"
   ]
  },
  {
   "cell_type": "code",
   "execution_count": 9,
   "metadata": {},
   "outputs": [
    {
     "data": {
      "text/plain": [
       "array([10.   ,  4.375])"
      ]
     },
     "execution_count": 9,
     "metadata": {},
     "output_type": "execute_result"
    }
   ],
   "source": [
    "lambdas"
   ]
  },
  {
   "cell_type": "code",
   "execution_count": 16,
   "metadata": {},
   "outputs": [
    {
     "data": {
      "text/plain": [
       "10.630578259954842"
      ]
     },
     "execution_count": 16,
     "metadata": {},
     "output_type": "execute_result"
    }
   ],
   "source": [
    "lambdas[1]/(np.pi*(0.131))"
   ]
  },
  {
   "cell_type": "code",
   "execution_count": null,
   "metadata": {},
   "outputs": [],
   "source": []
  }
 ],
 "metadata": {
  "kernelspec": {
   "display_name": "Python 3",
   "language": "python",
   "name": "python3"
  },
  "language_info": {
   "codemirror_mode": {
    "name": "ipython",
    "version": 3
   },
   "file_extension": ".py",
   "mimetype": "text/x-python",
   "name": "python",
   "nbconvert_exporter": "python",
   "pygments_lexer": "ipython3",
   "version": "3.12.4"
  }
 },
 "nbformat": 4,
 "nbformat_minor": 2
}
