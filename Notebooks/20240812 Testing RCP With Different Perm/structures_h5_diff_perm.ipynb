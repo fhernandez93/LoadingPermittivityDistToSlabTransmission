{
 "cells": [
  {
   "cell_type": "code",
   "execution_count": null,
   "metadata": {},
   "outputs": [],
   "source": [
    "%load_ext autoreload\n",
    "%autoreload 2\n",
    "%matplotlib inline\n",
    "import scipy.io as sio\n",
    "from dataclasses import dataclass\n",
    "from typing import List, Tuple\n",
    "import os\n",
    "from dotenv import load_dotenv\n",
    "load_dotenv()\n",
    "import tidy3d as td\n",
    "from tidy3d import web\n",
    "import numpy as np\n",
    "from pathlib import Path\n",
    "import matplotlib.pyplot as plt"
   ]
  },
  {
   "cell_type": "code",
   "execution_count": null,
   "metadata": {},
   "outputs": [],
   "source": [
    "import sys\n",
    "import os\n",
    "\n",
    "# Assuming /AutomationModule is in the root directory of your project\n",
    "sys.path.append(os.path.abspath(r'H:\\phd stuff\\tidy3d'))\n",
    "\n",
    "from AutomationModule import * \n",
    "\n",
    "import AutomationModule as AM\n",
    "from stl import mesh"
   ]
  },
  {
   "cell_type": "code",
   "execution_count": null,
   "metadata": {},
   "outputs": [],
   "source": [
    "tidy3dAPI = os.environ[\"API_TIDY3D_KEY\"]"
   ]
  },
  {
   "cell_type": "code",
   "execution_count": null,
   "metadata": {},
   "outputs": [],
   "source": [
    "a = 5/3"
   ]
  },
  {
   "cell_type": "code",
   "execution_count": null,
   "metadata": {},
   "outputs": [],
   "source": [
    "lambdas = a/np.array([0.14,0.34]) \n",
    "# lambdas = a/np.array([0.39,0.59]) \n",
    "#folder_path =r\"H:\\phd stuff\\tidy3d\\structures\\08_13_2024 STL Tests\"\n",
    "folder_path = r\"H:\\phd stuff\\tidy3d\\structures\\08_13_2024 Luis H5 18.01a\\sample 2\"\n",
    "project_name = \"08_13_2024 STL RCP Sample Test Transmission Frequency - Find Gap\"\n",
    "postprocess_results = []\n",
    "runtime_ps = 10e-12\n",
    "min_steps_per_lambda = 15\n",
    "for direction in [\"z\"]: \n",
    "    for filename in os.listdir(folder_path):\n",
    "     for perm in [40]:\n",
    "        print(filename)\n",
    "        sim_name = f\"RCP perm {perm} runtime {runtime_ps}ps nu {a/lambdas[0]} - {a/lambdas[1]}\"\n",
    "\n",
    "        if not (Path(filename).suffix==\".h5\" or Path(filename).suffix==\".stl\"):\n",
    "            continue \n",
    "        if os.path.isfile(os.path.join(folder_path, filename)):\n",
    "            file=os.path.join(folder_path, filename)\n",
    "            structure_1 = AM.loadAndRunStructure(key = tidy3dAPI, file_path=file\n",
    "                                            ,direction=direction, lambda_range=lambdas,\n",
    "                                            box_size=18*a,runtime_ps=runtime_ps,min_steps_per_lambda=min_steps_per_lambda, permittivity=perm,\n",
    "                                           scaling=1,shuoff_condtion=1e-20, verbose=True, \n",
    "                                           monitors=[\"flux\"], freqs=400, \n",
    "                                           cut_condition=1.0, source=\"planewave\", absorbers=200, sim_name=sim_name, use_permittivity=True, ref_only=True\n",
    "                                           )\n",
    "           \n",
    "            print(structure_1.__str__())\n",
    "            structure_1.plot_sim_layout()\n",
    "            # print(structure_1.estimate_cost())\n",
    "\n",
    "\n",
    "\n",
    "            \n"
   ]
  },
  {
   "cell_type": "code",
   "execution_count": null,
   "metadata": {},
   "outputs": [],
   "source": []
  }
 ],
 "metadata": {
  "kernelspec": {
   "display_name": "Python 3",
   "language": "python",
   "name": "python3"
  },
  "language_info": {
   "codemirror_mode": {
    "name": "ipython",
    "version": 3
   },
   "file_extension": ".py",
   "mimetype": "text/x-python",
   "name": "python",
   "nbconvert_exporter": "python",
   "pygments_lexer": "ipython3",
   "version": "3.12.4"
  }
 },
 "nbformat": 4,
 "nbformat_minor": 2
}
