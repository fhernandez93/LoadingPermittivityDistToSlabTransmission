{
 "cells": [
  {
   "cell_type": "code",
   "execution_count": null,
   "metadata": {},
   "outputs": [],
   "source": [
    "%load_ext autoreload\n",
    "%autoreload 2\n",
    "%matplotlib inline\n",
    "import scipy.io as sio\n",
    "from dataclasses import dataclass\n",
    "from typing import List, Tuple\n",
    "import os\n",
    "from dotenv import load_dotenv\n",
    "load_dotenv()\n",
    "import tidy3d as td\n",
    "from tidy3d import web\n",
    "import numpy as np\n",
    "from pathlib import Path\n",
    "import matplotlib.pyplot as plt\n",
    "import AutomationModule as AM"
   ]
  },
  {
   "cell_type": "code",
   "execution_count": null,
   "metadata": {},
   "outputs": [],
   "source": [
    "tidy3dAPI = os.environ[\"API_TIDY3D_KEY\"]"
   ]
  },
  {
   "cell_type": "code",
   "execution_count": null,
   "metadata": {},
   "outputs": [],
   "source": [
    "sim_data =web.load(\"fdve-a215d39d-8ad1-4c4c-8df4-1e62e5f53aa3\")\n",
    "sim_data0 = web.load(\"fdve-a98941da-db19-400c-a411-ef05abd766ce\")\n",
    "sim_data_SAL =web.load(\"fdve-31e68903-26fe-485a-8a1a-eca0bae66f6c\")\n",
    "sim_data_SAL0 = web.load(\"fdve-bd1353e8-a55d-42f7-8c8c-e0f1d3a3d397\")\n",
    "sim_data_Full =web.load(\"fdve-8cf328ae-ff39-4a2c-a111-4408d79f9665\")\n",
    "sim_data_Full0 = web.load(\"fdve-4a16e87b-a400-46a1-a1f1-c29fe69559b6\")\n"
   ]
  },
  {
   "cell_type": "code",
   "execution_count": null,
   "metadata": {},
   "outputs": [],
   "source": [
    "a = 5/3\n",
    "\n",
    "flux_tFull = sim_data_Full[\"time_monitorT\"].flux\n",
    "flux_tSAL = sim_data_SAL[\"time_monitorT\"].flux\n",
    "flux_t = sim_data[\"time_monitorT\"].flux\n",
    "flux_index = np.argmax(flux_t.values)\n",
    "flux_indexSAL = np.argmax(flux_tSAL.values)\n",
    "flux_indexFull = np.argmax(flux_tFull.values)\n",
    "\n",
    "\n",
    "fig = plt.figure()\n",
    "ax = plt.gca()\n",
    "ax.scatter(flux_t['t'][flux_index:]*1e12,flux_t[flux_index:],s=0.5,label=\"GAP\")\n",
    "ax.set_yscale(\"log\")\n",
    "plt.ylabel(\"Log(Flux)\")\n",
    "plt.xlabel(\"Time[ps]\")\n",
    "plt.legend()\n",
    "plt.grid()\n",
    "plt.show()\n",
    "\n",
    "fig = plt.figure()\n",
    "ax = plt.gca()\n",
    "ax.scatter(flux_tSAL['t'][flux_indexSAL:]*1e12,flux_tSAL[flux_indexSAL:],s=0.5,label=\"Near GAP\")\n",
    "ax.set_yscale(\"log\")\n",
    "plt.ylabel(\"Log(Flux)\")\n",
    "plt.xlabel(\"Time[ps]\")\n",
    "plt.legend()\n",
    "plt.grid()\n",
    "plt.show()\n",
    "\n",
    "fig = plt.figure()\n",
    "ax = plt.gca()\n",
    "ax.scatter(flux_tFull['t'][flux_indexFull:]*1e12,flux_tFull[flux_indexFull:],s=0.5,label=\"Full Range\")\n",
    "ax.set_yscale(\"log\")\n",
    "plt.ylabel(\"Log(Flux)\")\n",
    "plt.xlabel(\"Time[ps]\")\n",
    "plt.legend()\n",
    "plt.grid()\n",
    "plt.show()"
   ]
  },
  {
   "cell_type": "code",
   "execution_count": null,
   "metadata": {},
   "outputs": [],
   "source": [
    "transmission0 = sim_data0['flux1'].flux\n",
    "transmissionSAL0 = sim_data_SAL0['flux1'].flux\n",
    "transmissionFull0 = sim_data_Full0['flux1'].flux\n",
    "transmission = sim_data['flux1'].flux\n",
    "transmissionSAL = sim_data_SAL['flux1'].flux\n",
    "transmission_normalized = transmission / transmission0\n",
    "transmission_flux_rightSAL = sim_data_SAL['flux1'].flux\n",
    "transmission_flux_right = sim_data['flux1'].flux\n",
    "transmission_flux_rightFull = sim_data_Full['flux1'].flux\n",
    "transmission_flux_left = sim_data['flux2'].flux\n",
    "transmission_flux_leftSAL = sim_data_SAL['flux2'].flux\n",
    "transmission_flux_leftFull = sim_data_Full['flux2'].flux\n",
    "\n",
    "monitor_lambdas = a/((td.C_0/np.array(np.array(sim_data.simulation.monitors)[0].freqs)))\n",
    "monitor_lambdasSAL = a/((td.C_0/np.array(np.array(sim_data_SAL.simulation.monitors)[0].freqs)))\n",
    "monitor_lambdasFull = a/((td.C_0/np.array(np.array(sim_data_Full.simulation.monitors)[0].freqs)))\n",
    "\n",
    "fig = plt.figure()\n",
    "ax = fig.add_subplot(2, 1, 1)\n",
    "ax.scatter(monitor_lambdasFull, np.log10(transmission_flux_leftFull/transmissionFull0), label='Left Monitor',s=0.5)\n",
    "ax.scatter(monitor_lambdasFull, np.log10(transmission_flux_rightFull/transmissionFull0), label='Right Monitor',s=0.5)\n",
    "plt.xlabel(r'$a/\\lambda$')\n",
    "plt.ylabel('T')\n",
    "plt.legend()\n",
    "plt.grid()\n",
    "plt.show()\n",
    "\n",
    "fig = plt.figure()\n",
    "ax = fig.add_subplot(2, 1, 1)\n",
    "ax.scatter(monitor_lambdasSAL, np.log10(transmission_flux_leftSAL/transmissionSAL0), label='Left Monitor',s=0.5)\n",
    "ax.scatter(monitor_lambdasSAL, np.log10(transmission_flux_rightSAL/transmissionSAL0), label='Right Monitor',s=0.5)\n",
    "plt.xlabel(r'$a/\\lambda$')\n",
    "plt.ylabel('T')\n",
    "plt.legend()\n",
    "plt.grid()\n",
    "plt.show()\n",
    "\n",
    "fig = plt.figure()\n",
    "ax = fig.add_subplot(2, 1, 1)\n",
    "ax.scatter(monitor_lambdas, np.log10(transmission_flux_left/transmission0), label='Left Monitor',s=0.5)\n",
    "ax.scatter(monitor_lambdas, np.log10(transmission_flux_right/transmission0), label='Right Monitor',s=0.5)\n",
    "plt.xlabel(r'$a/\\lambda$')\n",
    "plt.ylabel('T')\n",
    "plt.legend()\n",
    "plt.grid()\n",
    "plt.show()\n",
    "\n"
   ]
  },
  {
   "cell_type": "code",
   "execution_count": null,
   "metadata": {},
   "outputs": [],
   "source": [
    "sim_data_Full =web.load(\"fdve-31e68903-26fe-485a-8a1a-eca0bae66f6c\")\n",
    "sim_data_Full0 = web.load(\"fdve-bd1353e8-a55d-42f7-8c8c-e0f1d3a3d397\")"
   ]
  },
  {
   "cell_type": "code",
   "execution_count": 1,
   "metadata": {},
   "outputs": [
    {
     "ename": "NameError",
     "evalue": "name 'flux_tSAL' is not defined",
     "output_type": "error",
     "traceback": [
      "\u001b[1;31m---------------------------------------------------------------------------\u001b[0m",
      "\u001b[1;31mNameError\u001b[0m                                 Traceback (most recent call last)",
      "Cell \u001b[1;32mIn[1], line 3\u001b[0m\n\u001b[0;32m      1\u001b[0m \u001b[38;5;28;01mfrom\u001b[39;00m \u001b[38;5;21;01mscipy\u001b[39;00m\u001b[38;5;21;01m.\u001b[39;00m\u001b[38;5;21;01moptimize\u001b[39;00m \u001b[38;5;28;01mimport\u001b[39;00m curve_fit\n\u001b[1;32m----> 3\u001b[0m x,y \u001b[38;5;241m=\u001b[39m \u001b[43mflux_tSAL\u001b[49m[\u001b[38;5;124m'\u001b[39m\u001b[38;5;124mt\u001b[39m\u001b[38;5;124m'\u001b[39m][flux_indexSAL:]\u001b[38;5;241m*\u001b[39m\u001b[38;5;241m1e12\u001b[39m,np\u001b[38;5;241m.\u001b[39mlog(flux_tSAL[flux_indexSAL:])\n\u001b[0;32m      5\u001b[0m \u001b[38;5;28;01mdef\u001b[39;00m \u001b[38;5;21mline_fit\u001b[39m(x,m,b):\n\u001b[0;32m      6\u001b[0m     \u001b[38;5;28;01mreturn\u001b[39;00m m\u001b[38;5;241m*\u001b[39mx\u001b[38;5;241m+\u001b[39mb\n",
      "\u001b[1;31mNameError\u001b[0m: name 'flux_tSAL' is not defined"
     ]
    }
   ],
   "source": [
    "from scipy.optimize import curve_fit\n",
    "\n",
    "x,y = flux_tSAL['t'][flux_indexSAL:]*1e12,np.log(flux_tSAL[flux_indexSAL:])\n",
    "\n",
    "def line_fit(x,m,b):\n",
    "    return m*x+b\n",
    "\n",
    "popt, pcov = curve_fit(line_fit, x, y)\n",
    "\n",
    "popt\n"
   ]
  },
  {
   "cell_type": "code",
   "execution_count": null,
   "metadata": {},
   "outputs": [],
   "source": []
  }
 ],
 "metadata": {
  "kernelspec": {
   "display_name": "Python 3",
   "language": "python",
   "name": "python3"
  },
  "language_info": {
   "codemirror_mode": {
    "name": "ipython",
    "version": 3
   },
   "file_extension": ".py",
   "mimetype": "text/x-python",
   "name": "python",
   "nbconvert_exporter": "python",
   "pygments_lexer": "ipython3",
   "version": "3.12.3"
  }
 },
 "nbformat": 4,
 "nbformat_minor": 2
}
