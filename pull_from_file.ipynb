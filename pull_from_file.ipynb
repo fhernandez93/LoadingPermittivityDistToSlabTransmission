{
 "cells": [
  {
   "cell_type": "code",
   "execution_count": 1,
   "metadata": {},
   "outputs": [],
   "source": [
    "import os\n",
    "from dotenv import load_dotenv\n",
    "load_dotenv()\n",
    "\n",
    "import matplotlib.pyplot as plt\n",
    "import AutomationModule as AM"
   ]
  },
  {
   "cell_type": "code",
   "execution_count": 2,
   "metadata": {},
   "outputs": [],
   "source": [
    "tidy3dAPI = os.environ[\"API_TIDY3D_KEY\"]"
   ]
  },
  {
   "cell_type": "code",
   "execution_count": 3,
   "metadata": {},
   "outputs": [
    {
     "name": "stdout",
     "output_type": "stream",
     "text": [
      "Configured successfully.\n"
     ]
    },
    {
     "ename": "NotADirectoryError",
     "evalue": "[Errno 20] Not a directory: '/Users/francisco/Desktop/phd stuff/tidy3d/data/ak4_1000_eps_6.25_eps_size_14.3_runtime_100_lambdaRange_7.0-4.0_incidence_z.txt'",
     "output_type": "error",
     "traceback": [
      "\u001b[0;31m---------------------------------------------------------------------------\u001b[0m",
      "\u001b[0;31mNotADirectoryError\u001b[0m                        Traceback (most recent call last)",
      "Cell \u001b[0;32mIn[3], line 1\u001b[0m\n\u001b[0;32m----> 1\u001b[0m structure_1 \u001b[38;5;241m=\u001b[39m \u001b[43mAM\u001b[49m\u001b[38;5;241;43m.\u001b[39;49m\u001b[43mloadFromFile\u001b[49m\u001b[43m(\u001b[49m\u001b[43mkey\u001b[49m\u001b[43m \u001b[49m\u001b[38;5;241;43m=\u001b[39;49m\u001b[43m \u001b[49m\u001b[43mtidy3dAPI\u001b[49m\u001b[43m,\u001b[49m\u001b[43m \u001b[49m\u001b[43mfile_path\u001b[49m\u001b[38;5;241;43m=\u001b[39;49m\u001b[38;5;124;43m\"\u001b[39;49m\u001b[38;5;124;43m/Users/francisco/Desktop/phd stuff/tidy3d/data/ak4_1000_eps_6.25_eps_size_14.3_runtime_100_lambdaRange_7.0-4.0_incidence_z.txt\u001b[39;49m\u001b[38;5;124;43m\"\u001b[39;49m\u001b[43m)\u001b[49m\n",
      "File \u001b[0;32m~/phd stuff/tidy3d/AutomationModule/loadFromFile.py:24\u001b[0m, in \u001b[0;36mloadFromFile.__init__\u001b[0;34m(self, key, file_path)\u001b[0m\n\u001b[1;32m     21\u001b[0m     \u001b[38;5;28;01mraise\u001b[39;00m \u001b[38;5;167;01mException\u001b[39;00m(\u001b[38;5;124m\"\u001b[39m\u001b[38;5;124mNo file was provided\u001b[39m\u001b[38;5;124m\"\u001b[39m)\n\u001b[1;32m     23\u001b[0m \u001b[38;5;28mself\u001b[39m\u001b[38;5;241m.\u001b[39mlist_id \u001b[38;5;241m=\u001b[39m []\n\u001b[0;32m---> 24\u001b[0m \u001b[38;5;28;01mwith\u001b[39;00m \u001b[38;5;28;43mopen\u001b[39;49m\u001b[43m(\u001b[49m\u001b[43mfile_path\u001b[49m\u001b[43m,\u001b[49m\u001b[43m \u001b[49m\u001b[38;5;124;43m'\u001b[39;49m\u001b[38;5;124;43mr\u001b[39;49m\u001b[38;5;124;43m'\u001b[39;49m\u001b[43m)\u001b[49m \u001b[38;5;28;01mas\u001b[39;00m file:\n\u001b[1;32m     25\u001b[0m     \u001b[38;5;28;01mfor\u001b[39;00m line \u001b[38;5;129;01min\u001b[39;00m file:\n\u001b[1;32m     26\u001b[0m         \u001b[38;5;28mself\u001b[39m\u001b[38;5;241m.\u001b[39mlist_id\u001b[38;5;241m+\u001b[39m\u001b[38;5;241m=\u001b[39m[line\u001b[38;5;241m.\u001b[39mstrip()] \n",
      "\u001b[0;31mNotADirectoryError\u001b[0m: [Errno 20] Not a directory: '/Users/francisco/Desktop/phd stuff/tidy3d/data/ak4_1000_eps_6.25_eps_size_14.3_runtime_100_lambdaRange_7.0-4.0_incidence_z.txt'"
     ]
    }
   ],
   "source": [
    "structure_1 = AM.loadFromFile(key = tidy3dAPI, file_path=\"/Users/francisco/Desktop/phd stuff/tidy3d/data/ak4_1000_eps_6.25_eps_size_14.3_runtime_100_lambdaRange_7.0-4.0_incidence_z.txt\")"
   ]
  },
  {
   "cell_type": "code",
   "execution_count": null,
   "metadata": {},
   "outputs": [],
   "source": [
    "sim_data, sim_data0 = structure_1.sim_data, structure_1.sim_data0"
   ]
  },
  {
   "cell_type": "code",
   "execution_count": null,
   "metadata": {},
   "outputs": [],
   "source": [
    "print(structure_1.__str__())"
   ]
  },
  {
   "cell_type": "code",
   "execution_count": null,
   "metadata": {},
   "outputs": [],
   "source": [
    " # Retrieve the power flux through the monitor plane.\n",
    "import tidy3d as td\n",
    "import numpy as np\n",
    "transmission0 = sim_data0['flux1'].flux\n",
    "transmission = sim_data['flux1'].flux\n",
    "transmission_normalized = transmission / transmission0\n",
    "transmission_flux_right = sim_data['flux1'].flux\n",
    "transmission_flux_left = sim_data['flux2'].flux\n",
    "monitor_lambdas = td.C_0/np.array(np.array(sim_data.simulation.monitors)[0].freqs)\n",
    "    "
   ]
  },
  {
   "cell_type": "code",
   "execution_count": null,
   "metadata": {},
   "outputs": [],
   "source": [
    "plt.semilogy(monitor_lambdas, (transmission_flux_left/transmission0), label='Left Monitor')\n",
    "plt.semilogy(monitor_lambdas, (transmission_flux_right/transmission0), label='Right Monitor')\n",
    "plt.xlabel('$\\lambda (\\mu m)$')\n",
    "plt.ylabel('Transmission')\n",
    "plt.legend()\n",
    "plt.ylim(1e-2,1)\n",
    "plt.grid()\n",
    "plt.title(f\"{structure_1.description}\\n\")\n",
    "plt.show()"
   ]
  },
  {
   "cell_type": "code",
   "execution_count": null,
   "metadata": {},
   "outputs": [],
   "source": []
  }
 ],
 "metadata": {
  "kernelspec": {
   "display_name": "Python 3",
   "language": "python",
   "name": "python3"
  },
  "language_info": {
   "codemirror_mode": {
    "name": "ipython",
    "version": 3
   },
   "file_extension": ".py",
   "mimetype": "text/x-python",
   "name": "python",
   "nbconvert_exporter": "python",
   "pygments_lexer": "ipython3",
   "version": "3.9.6"
  }
 },
 "nbformat": 4,
 "nbformat_minor": 2
}
