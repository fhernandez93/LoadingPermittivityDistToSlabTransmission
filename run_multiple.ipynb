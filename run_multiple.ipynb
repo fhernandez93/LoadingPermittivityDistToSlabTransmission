{
 "cells": [
  {
   "cell_type": "code",
   "execution_count": 1,
   "metadata": {},
   "outputs": [],
   "source": [
    "import os\n",
    "from dotenv import load_dotenv\n",
    "load_dotenv()\n",
    "import tidy3d as td\n",
    "import numpy as np\n",
    "\n",
    "import matplotlib.pyplot as plt\n",
    "import AutomationModule as AM"
   ]
  },
  {
   "cell_type": "code",
   "execution_count": 2,
   "metadata": {},
   "outputs": [],
   "source": [
    "tidy3dAPI = os.environ[\"API_TIDY3D_KEY\"]"
   ]
  },
  {
   "cell_type": "code",
   "execution_count": 3,
   "metadata": {},
   "outputs": [
    {
     "name": "stdout",
     "output_type": "stream",
     "text": [
      "Configured successfully.\n",
      "60294\n",
      "Configured successfully.\n",
      "55269\n",
      "Configured successfully.\n",
      "50245\n",
      "Configured successfully.\n",
      "Configured successfully.\n",
      "53100\n",
      "Configured successfully.\n",
      "Configured successfully.\n",
      "53100\n",
      "Configured successfully.\n"
     ]
    }
   ],
   "source": [
    "folder_path = \"/Users/francisco/Desktop/phd stuff/tidy3d/structures/23_02_2024\"\n",
    "runtime = 120\n",
    "min_steps_per_lambda = 25\n",
    "for filename in os.listdir(folder_path):\n",
    "        if os.path.isfile(os.path.join(folder_path, filename)):\n",
    "            file=os.path.join(folder_path, filename)\n",
    "            structure_1 = AM.loadAndRunStructure(key = tidy3dAPI, file_path=file\n",
    "                                            ,direction=\"z\", lambda_range=[7.0,4.0],box_size=14.3,runtime=runtime,min_steps_per_lambda=min_steps_per_lambda)\n",
    "            \n",
    "            while structure_1.sim.num_time_steps >= 50000:\n",
    "                  print(structure_1.sim.num_time_steps)\n",
    "                  runtime -= 10\n",
    "                  structure_1 = AM.loadAndRunStructure(key = tidy3dAPI, file_path=file\n",
    "                                            ,direction=\"z\", lambda_range=[7.0,4.0],box_size=14.3,runtime=runtime,min_steps_per_lambda=min_steps_per_lambda)\n",
    "            \n",
    "            \n",
    "            while structure_1.sim.num_cells >= 1e8:\n",
    "                  print(structure_1.sim.num_cells)\n",
    "                  min_steps_per_lambda -= 2\n",
    "                  structure_1 = AM.loadAndRunStructure(key = tidy3dAPI, file_path=file\n",
    "                                            ,direction=\"z\", lambda_range=[7.0,4.0],box_size=14.3,runtime=runtime,min_steps_per_lambda=min_steps_per_lambda)\n",
    "            \n",
    "            \n",
    "            min_steps_per_lambda = 22\n",
    "            runtime = 120   \n",
    "                  \n",
    "\n",
    "            results = structure_1.run_sim(folder_description=\"2023-02-2024_Free_Runs\",load=False)\n",
    "\n",
    "\n",
    "            #sim_data, sim_data0, task_name_def = results\n",
    "\n",
    "            #Plot flux (improve plots and make everything cleaner pending.)\n",
    "             # Retrieve the power flux through the monitor plane.\n",
    "            #transmission0 = sim_data0['flux1'].flux\n",
    "            #transmission = sim_data['flux1'].flux\n",
    "            #transmission_normalized = transmission / transmission0\n",
    "            #transmission_flux_right = sim_data['flux1'].flux\n",
    "            #transmission_flux_left = sim_data['flux2'].flux\n",
    "            #monitor_lambdas = td.C_0/np.array(np.array(sim_data.simulation.monitors)[0].freqs)\n",
    "            #plt.semilogy(monitor_lambdas, (transmission_flux_left/transmission0), label='Left Monitor')\n",
    "            #plt.semilogy(monitor_lambdas, (transmission_flux_right/transmission0), label='Right Monitor')\n",
    "            #plt.xlabel('$\\lambda (\\mu m)$')\n",
    "            #plt.ylabel('Transmission')\n",
    "            #plt.legend()\n",
    "            #plt.ylim(1e-2,1)\n",
    "            #plt.grid()\n",
    "            #plt.title(f\"{task_name_def}\\n\")\n",
    "            #plt.show()\n",
    "    #\n",
    "\n",
    "            \n"
   ]
  },
  {
   "cell_type": "markdown",
   "metadata": {},
   "source": []
  },
  {
   "cell_type": "code",
   "execution_count": null,
   "metadata": {},
   "outputs": [],
   "source": []
  },
  {
   "cell_type": "markdown",
   "metadata": {},
   "source": []
  }
 ],
 "metadata": {
  "kernelspec": {
   "display_name": "Python 3",
   "language": "python",
   "name": "python3"
  },
  "language_info": {
   "codemirror_mode": {
    "name": "ipython",
    "version": 3
   },
   "file_extension": ".py",
   "mimetype": "text/x-python",
   "name": "python",
   "nbconvert_exporter": "python",
   "pygments_lexer": "ipython3",
   "version": "3.9.6"
  }
 },
 "nbformat": 4,
 "nbformat_minor": 2
}
