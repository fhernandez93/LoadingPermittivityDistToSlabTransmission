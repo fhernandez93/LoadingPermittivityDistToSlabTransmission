{
 "cells": [
  {
   "cell_type": "code",
   "execution_count": null,
   "metadata": {},
   "outputs": [],
   "source": [
    "import os\n",
    "from dotenv import load_dotenv\n",
    "load_dotenv()\n",
    "import tidy3d as td\n",
    "import numpy as np\n",
    "import matplotlib.pyplot as plt\n",
    "import AutomationModule as AM\n",
    "import plotly.graph_objs as go\n",
    "from IPython.display import display, HTML\n",
    "import plotly\n",
    "from pathlib import Path\n",
    "\n",
    "plotly.offline.init_notebook_mode()\n",
    "display(HTML(\n",
    "    '<script type=\"text/javascript\" async src=\"https://cdnjs.cloudflare.com/ajax/libs/mathjax/2.7.1/MathJax.js?config=TeX-MML-AM_SVG\"></script>'\n",
    "))"
   ]
  },
  {
   "cell_type": "code",
   "execution_count": null,
   "metadata": {},
   "outputs": [],
   "source": [
    "import h5py\n",
    "\n",
    "def create_hdf5_from_dict(data, filename):\n",
    "    with h5py.File(filename, 'w') as hdf_file:\n",
    "        # Recursively traverse the dictionary and write data to the HDF5 file\n",
    "        _write_dict_to_hdf5(data, hdf_file)\n",
    "\n",
    "def _write_dict_to_hdf5(data, hdf_group):\n",
    "    for key, value in data.items():\n",
    "        if isinstance(value, dict):\n",
    "            # If the value is a nested dictionary, create a group and call recursively\n",
    "            subgroup = hdf_group.create_group(key)\n",
    "            _write_dict_to_hdf5(value, subgroup)\n",
    "        else:\n",
    "            # If the value is not a dictionary, store it as a dataset\n",
    "            hdf_group.create_dataset(key, data=value)"
   ]
  },
  {
   "cell_type": "code",
   "execution_count": null,
   "metadata": {},
   "outputs": [],
   "source": [
    "tidy3dAPI = os.environ[\"API_TIDY3D_KEY\"]"
   ]
  },
  {
   "cell_type": "code",
   "execution_count": null,
   "metadata": {},
   "outputs": [],
   "source": [
    "\n",
    "for path_direction in [\n",
    "                       \"LSU Tight Beam/z_incidence\"\n",
    "                      \n",
    "                       ]:\n",
    "\n",
    "      folder_path = f\"data/{path_direction}\"\n",
    "      \n",
    "      for filename in os.listdir(folder_path):\n",
    "              print(filename)\n",
    "              if not Path(filename).suffix==\".txt\":\n",
    "                    continue\n",
    "              \n",
    "              if os.path.isfile(os.path.join(folder_path, filename)):\n",
    "                  file=os.path.join(folder_path, filename)\n",
    "                  structure_1 = AM.loadFromFile(key = tidy3dAPI, file_path=file)\n",
    "                  sim_data, sim_data0 = structure_1.sim_data, structure_1.sim_data0\n",
    "                  #Plot flux\n",
    "                  #Retrieve the power flux through the monitor plane.\n",
    "                  transmission0 = sim_data0['flux1'].flux\n",
    "                  transmission_flux_right = sim_data['flux1'].flux/transmission0\n",
    "                  transmission_flux_left = sim_data['flux2'].flux/transmission0\n",
    "                  monitor_lambdas = td.C_0/np.array(np.array(sim_data.simulation.monitors)[0].freqs)\n",
    "                  \n",
    "                  ######################################\n",
    "                  #Create h5 file with data \n",
    "                  data = {\n",
    "                        'transmission_right':transmission_flux_right,\n",
    "                        'transmission_left':transmission_flux_left,\n",
    "                        'transmission0':transmission0,\n",
    "                        'lambdas':monitor_lambdas,\n",
    "                        'decay':structure_1.final_decay\n",
    "                  }\n",
    "                  store_path = f\"output/{path_direction}/Data\"\n",
    "                  if not os.path.exists(store_path):\n",
    "                        os.makedirs(store_path)\n",
    "                        print(f\"Folder '{store_path}' created successfully.\")\n",
    "      \n",
    "                  # Specify the filename for the HDF5 file\n",
    "                  fileh5 = store_path+\"/\"+structure_1.description + '_decay_'+str(structure_1.final_decay)+'.h5'\n",
    "      \n",
    "                  # Create the HDF5 file from the dictionary\n",
    "                  create_hdf5_from_dict(data, fileh5)\n",
    "                 \n"
   ]
  },
  {
   "cell_type": "code",
   "execution_count": null,
   "metadata": {},
   "outputs": [],
   "source": []
  }
 ],
 "metadata": {
  "kernelspec": {
   "display_name": "Python 3",
   "language": "python",
   "name": "python3"
  },
  "language_info": {
   "codemirror_mode": {
    "name": "ipython",
    "version": 3
   },
   "file_extension": ".py",
   "mimetype": "text/x-python",
   "name": "python",
   "nbconvert_exporter": "python",
   "pygments_lexer": "ipython3",
   "version": "3.12.3"
  }
 },
 "nbformat": 4,
 "nbformat_minor": 2
}
