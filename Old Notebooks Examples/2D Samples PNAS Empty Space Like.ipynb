{
 "cells": [
  {
   "cell_type": "code",
   "execution_count": 2,
   "metadata": {},
   "outputs": [],
   "source": [
    "%load_ext autoreload\n",
    "%autoreload 2\n",
    "%matplotlib inline\n",
    "import scipy.io as sio\n",
    "from dataclasses import dataclass\n",
    "from typing import List, Tuple\n",
    "import os\n",
    "from dotenv import load_dotenv\n",
    "load_dotenv()\n",
    "import tidy3d as td\n",
    "from tidy3d import web\n",
    "import numpy as np\n",
    "from pathlib import Path\n",
    "import matplotlib.pyplot as plt\n",
    "import AutomationModule as AM\n",
    "from scipy.optimize import curve_fit\n",
    "from natsort import natsorted\n",
    "import numpy as np\n",
    "import matplotlib.animation as animation\n",
    "import xarray as xr\n",
    "import imageio\n",
    "import matplotlib"
   ]
  },
  {
   "cell_type": "code",
   "execution_count": null,
   "metadata": {},
   "outputs": [],
   "source": [
    "tidy3dAPI = os.environ[\"API_TIDY3D_KEY\"]"
   ]
  },
  {
   "cell_type": "code",
   "execution_count": null,
   "metadata": {},
   "outputs": [],
   "source": [
    "a = 1\n",
    "medium = td.Medium(permittivity=11.56)"
   ]
  },
  {
   "cell_type": "code",
   "execution_count": null,
   "metadata": {},
   "outputs": [],
   "source": [
    "file = r\"H:\\phd stuff\\structures\\SHU_2D\\chi_0.30_N_10000_posics.dat\"\n",
    "data = []\n",
    "centers = []\n",
    "slicing= 0.1\n",
    "\n",
    "with open(file,\"r\") as f: \n",
    "    lines = f.read().splitlines() \n",
    "    i=0\n",
    "    index = 1\n",
    "    num_samples = int(lines[index].split()[0])\n",
    "\n",
    "    while num_samples>0 and i < 10:\n",
    "        try:\n",
    "            num_samples = int(lines[index].split()[0])\n",
    "            info = lines[index]\n",
    "            old_index = index\n",
    "            index += num_samples+1\n",
    "            li = (lines[old_index+1:index])\n",
    "            centers = np.array([list(map(float, item.split())) for item in li])\n",
    "            data += [{\n",
    "                \"centers\":centers,\n",
    "                \"Lx\":float(lines[old_index].split()[1]),\n",
    "                \"Ly\":float(lines[old_index].split()[2]),\n",
    "                \"points\":float(lines[old_index].split()[0]),\n",
    "            }]\n",
    "            i+=1\n",
    "        except:\n",
    "            num_samples = 0"
   ]
  },
  {
   "cell_type": "code",
   "execution_count": null,
   "metadata": {},
   "outputs": [],
   "source": [
    "lambdas =  a/np.array([0.43,0.45])\n",
    "project_name = r\"chi 0.3 N1000 Sample Infinity Space Like Time Monitor Waist 2\"\n",
    "run_name = \"\"\n",
    "\n",
    "runtime = 75\n",
    "min_steps_per_lambda = 20\n",
    "\n",
    "for k,item in enumerate(data):\n",
    "    #Tight pulse \n",
    "\n",
    "    if k !=0:\n",
    "        continue\n",
    "\n",
    "    structure_1 = AM.loadAndRunStructure(key = tidy3dAPI\n",
    "                ,direction=\"z\", lambda_range=lambdas,\n",
    "                box_size= data[k]['Lx']*a,runtime=runtime,min_steps_per_lambda=min_steps_per_lambda,\n",
    "               scaling=1,shuoff_condtion=1e-20, verbose=True,\n",
    "               monitors=[\"flux\"],\n",
    "               freqs=20, \n",
    "               source=\"planewave\", \n",
    "               width=0.20, ref_only=True\n",
    "               )\n",
    "           \n",
    "    print(structure_1.__str__())\n",
    "\n",
    "    sim = structure_1.sim\n",
    "\n",
    "\n",
    "\n",
    "    boundaries= td.BoundarySpec(\n",
    "            x=td.Boundary(plus=td.Absorber(num_layers=1000),minus=td.Absorber(num_layers=1000)),\n",
    "            y=td.Boundary(plus=td.Absorber(num_layers=1000),minus=td.Absorber(num_layers=1000)),\n",
    "            z=td.Boundary.periodic(),\n",
    "        )\n",
    "    sim = sim.copy(update={'boundary_spec':boundaries})\n",
    "    sim = sim.copy(update={'sources':[]})\n",
    "    sim = sim.copy(update={'monitors':[]})\n",
    "\n",
    "\n",
    "    Lx, Ly = data[k]['Lx']+4,data[k]['Ly']*slicing+20\n",
    "    sim = sim.copy(update={'size':[Lx,Ly,0]})\n",
    "\n",
    "    # source = td.PlaneWave(\n",
    "    #         source_time = td.GaussianPulse(\n",
    "    #             freq0=structure_1.freq0,\n",
    "    #             fwidth=structure_1.freqw\n",
    "    #         ),\n",
    "    #         size= (4,0,td.inf),\n",
    "    #         center=(0,-(Lx)*slicing/2-1,0),\n",
    "    #         direction='+',\n",
    "    #         pol_angle=np.pi/2,\n",
    "    #         name='planewave',\n",
    "    #         )\n",
    "\n",
    "\n",
    "    source = td.GaussianBeam(\n",
    "            source_time = td.GaussianPulse(\n",
    "                freq0=structure_1.freq0,\n",
    "                fwidth=structure_1.freqw\n",
    "            ),\n",
    "            size= (td.inf,0,td.inf),\n",
    "            center=(0,-(Lx)*slicing/2-1,0),\n",
    "            direction='+',\n",
    "            waist_radius=2,\n",
    "            pol_angle=np.pi/2,\n",
    "            name='planewave',\n",
    "            )\n",
    "\n",
    "    \n",
    "    ax1 = source.source_time.plot(times=np.linspace(0,structure_1.t_stop, 10000))\n",
    "\n",
    "    # Extract the data from the Axes object\n",
    "    line = ax1.get_lines()[0]\n",
    "    times = line.get_xdata()\n",
    "    amplitude = line.get_ydata()\n",
    "\n",
    "    fig, ax = plt.subplots(figsize=(15, 10))\n",
    "    ax.plot(times*1e12, amplitude)\n",
    "    ax.set_xlabel(r\"t[ps]\")\n",
    "    ax.set_ylabel('Amplitude')\n",
    "    ax.set_title('Source Amplitude')\n",
    "    ax.legend(['Source Spectrum'])\n",
    "    plt.xlim(0,1)\n",
    "    #plt.savefig(f'{store_path}/source_time.pdf', format='pdf')\n",
    "    plt.show()\n",
    "    \n",
    "    ax2=source.source_time.plot_spectrum(times=np.linspace(0, structure_1.t_stop, 10000))\n",
    "     #Extract the data from the Axes object\n",
    "    c = td.C_0 \n",
    "    line = ax2.get_lines()[0]\n",
    "    freqs = line.get_xdata()\n",
    "    amplitude = line.get_ydata()\n",
    "\n",
    "    # Convert frequency to wavelength (in meters)\n",
    "    wavelengths = c / freqs\n",
    "\n",
    "    fig, ax = plt.subplots(figsize=(15, 10))\n",
    "    ax.plot(a/wavelengths, amplitude)\n",
    "    ax.set_xlabel(r\"$\\nu$'\")\n",
    "    ax.set_ylabel('Amplitude')\n",
    "    ax.set_title('Source Spectrum')\n",
    "    ax.legend(['Source Spectrum'])\n",
    "    #plt.savefig(f'{store_path}/source_freqs.pdf', format='pdf')\n",
    "    plt.show()\n",
    "    \n",
    "    sim = sim.copy(update={'sources':[source]})\n",
    "\n",
    "    time_monitorFieldOut = td.FieldTimeMonitor(\n",
    "                center = (0,0,0),\n",
    "                size = (td.inf,Ly,0),\n",
    "                    start=0,\n",
    "                    stop=structure_1.t_stop,\n",
    "                    interval=int(sim.num_time_steps/40),\n",
    "                    fields=[\"Ex\", \"Ey\", \"Ez\"],\n",
    "                    name=\"time_monitorFieldOut\",\n",
    "                    \n",
    "                )\n",
    "    \n",
    "\n",
    "    freq_monitorFieldOut = td.FieldMonitor(\n",
    "                center = (0,0,0),\n",
    "                size = (td.inf, Ly,0),\n",
    "                   freqs =structure_1.monitor_freqs,\n",
    "                    fields=[\"Ex\", \"Ey\", \"Ez\"],\n",
    "                    name=\"freq_monitorFieldOut\",\n",
    "                    \n",
    "                )\n",
    "\n",
    "    \n",
    "    time_monitorT = td.FluxTimeMonitor(\n",
    "                    center = (\n",
    "                            0,(Lx*slicing)/2+3,0\n",
    "                            ),\n",
    "                size = (\n",
    "                   td.inf,0,td.inf\n",
    "                    ),\n",
    "                    interval = 200,\n",
    "                    name=\"time_monitorT\",\n",
    "\n",
    "                )\n",
    "    \n",
    "    sim = sim.copy(update={'monitors':[time_monitorFieldOut,time_monitorT,freq_monitorFieldOut]})\n",
    "    \n",
    "    slab_1 = td.Structure(\n",
    "                    geometry=td.Box(\n",
    "                        center= (0,(Ly/2+Lx*slicing/2)/2,0),\n",
    "                        size=(td.inf,(Ly/2-Lx*slicing/2),td.inf),\n",
    "                    ),\n",
    "                    \n",
    "                    medium=medium,\n",
    "                    name='slab1',\n",
    "                    )\n",
    "\n",
    "    slab_2 = td.Structure(\n",
    "                    geometry=td.Box(\n",
    "                        center= (0,-(Ly/2+Lx*slicing/2)/2,0),\n",
    "                        size=(td.inf,(Ly/2-Lx*slicing/2),td.inf),\n",
    "                    ),\n",
    "                    medium=medium,\n",
    "                    name='slab2',\n",
    "                    )\n",
    "    \n",
    "    cyl_group = []\n",
    "    for x,y in data[k]['centers']:\n",
    "        if np.abs(y)<=(Lx/2)*slicing:\n",
    "            cyl_group.append(td.Cylinder(center=[x, y, 0], radius=0.189, length=td.inf))\n",
    "\n",
    "    cylinders = td.Structure(geometry=td.GeometryGroup(geometries=cyl_group), medium=medium)\n",
    "\n",
    "    sim = sim.copy(update={'structures':[cylinders]})\n",
    "    fig, ax = plt.subplots(1, tight_layout=True, figsize=(16, 8))\n",
    "    sim.plot(z=0, ax=ax)\n",
    "    plt.show()\n",
    "\n",
    "    sim_name = run_name if run_name else f\"pnas_d_t_Localization {1/lambdas[0]:.3g} - {1/lambdas[1]:.3g} - Sample_{k}\"\n",
    "    id =web.upload(sim, folder_name=project_name,task_name=sim_name, verbose=True)\n",
    "    web.start(task_id = id)\n",
    "    web.monitor(task_id=id,verbose=True)\n",
    "    ids = '\\n' + id\n",
    "    incidence_folder = \"z_incidence\"\n",
    "    file_path = f\"data/{project_name}/{incidence_folder}/{sim_name}.txt\"\n",
    "    # Check if the folder exists\n",
    "    if not os.path.exists( f\"data/{project_name}/{incidence_folder}\"):\n",
    "        os.makedirs(f\"data/{project_name}/{incidence_folder}\")\n",
    "        print(f\"Folder '{project_name}/{incidence_folder}' created successfully.\")\n",
    "\n",
    "    # Open file in write mode\n",
    "    with open(file_path, \"w\") as file:\n",
    "        # Write the string to the file\n",
    "        file.write(ids)\n",
    "\n",
    "    sim_data = web.load(id)\n"
   ]
  },
  {
   "cell_type": "code",
   "execution_count": 3,
   "metadata": {},
   "outputs": [
    {
     "data": {
      "application/vnd.jupyter.widget-view+json": {
       "model_id": "ae5bc166851e434d9aa2bbfcdad2e703",
       "version_major": 2,
       "version_minor": 0
      },
      "text/plain": [
       "Output()"
      ]
     },
     "metadata": {},
     "output_type": "display_data"
    },
    {
     "data": {
      "text/html": [
       "<pre style=\"white-space:pre;overflow-x:auto;line-height:normal;font-family:Menlo,'DejaVu Sans Mono',consolas,'Courier New',monospace\"></pre>\n"
      ],
      "text/plain": []
     },
     "metadata": {},
     "output_type": "display_data"
    },
    {
     "data": {
      "text/html": [
       "<pre style=\"white-space:pre;overflow-x:auto;line-height:normal;font-family:Menlo,'DejaVu Sans Mono',consolas,'Courier New',monospace\">\n",
       "</pre>\n"
      ],
      "text/plain": [
       "\n"
      ]
     },
     "metadata": {},
     "output_type": "display_data"
    },
    {
     "data": {
      "text/html": [
       "<pre style=\"white-space:pre;overflow-x:auto;line-height:normal;font-family:Menlo,'DejaVu Sans Mono',consolas,'Courier New',monospace\"><span style=\"color: #7fbfbf; text-decoration-color: #7fbfbf\">16:19:35 W. Europe Daylight Time </span>loading simulation from simulation_data.hdf5   \n",
       "</pre>\n"
      ],
      "text/plain": [
       "\u001b[2;36m16:19:35 W. Europe Daylight Time\u001b[0m\u001b[2;36m \u001b[0mloading simulation from simulation_data.hdf5   \n"
      ]
     },
     "metadata": {},
     "output_type": "display_data"
    },
    {
     "data": {
      "text/html": [
       "<pre style=\"white-space:pre;overflow-x:auto;line-height:normal;font-family:Menlo,'DejaVu Sans Mono',consolas,'Courier New',monospace\"><span style=\"color: #7fbfbf; text-decoration-color: #7fbfbf\">16:19:37 W. Europe Daylight Time </span><span style=\"color: #800000; text-decoration-color: #800000\">WARNING: Simulation final field decay value of </span>\n",
       "<span style=\"color: #7fbfbf; text-decoration-color: #7fbfbf\">                                 </span><span style=\"color: #008080; text-decoration-color: #008080; font-weight: bold\">4.33e-06</span><span style=\"color: #800000; text-decoration-color: #800000\"> is greater than the simulation shutoff</span>\n",
       "<span style=\"color: #7fbfbf; text-decoration-color: #7fbfbf\">                                 </span><span style=\"color: #800000; text-decoration-color: #800000\">threshold of </span><span style=\"color: #008080; text-decoration-color: #008080; font-weight: bold\">1e-20</span><span style=\"color: #800000; text-decoration-color: #800000\">. Consider running the       </span>\n",
       "<span style=\"color: #7fbfbf; text-decoration-color: #7fbfbf\">                                 </span><span style=\"color: #800000; text-decoration-color: #800000\">simulation again with a larger </span><span style=\"color: #008000; text-decoration-color: #008000\">'run_time'</span><span style=\"color: #800000; text-decoration-color: #800000\">      </span>\n",
       "<span style=\"color: #7fbfbf; text-decoration-color: #7fbfbf\">                                 </span><span style=\"color: #800000; text-decoration-color: #800000\">duration for more accurate results.            </span>\n",
       "</pre>\n"
      ],
      "text/plain": [
       "\u001b[2;36m16:19:37 W. Europe Daylight Time\u001b[0m\u001b[2;36m \u001b[0m\u001b[31mWARNING: Simulation final field decay value of \u001b[0m\n",
       "\u001b[2;36m                                 \u001b[0m\u001b[1;36m4.33e-06\u001b[0m\u001b[31m is greater than the simulation shutoff\u001b[0m\n",
       "\u001b[2;36m                                 \u001b[0m\u001b[31mthreshold of \u001b[0m\u001b[1;36m1e-20\u001b[0m\u001b[31m. Consider running the       \u001b[0m\n",
       "\u001b[2;36m                                 \u001b[0m\u001b[31msimulation again with a larger \u001b[0m\u001b[32m'run_time'\u001b[0m\u001b[31m      \u001b[0m\n",
       "\u001b[2;36m                                 \u001b[0m\u001b[31mduration for more accurate results.            \u001b[0m\n"
      ]
     },
     "metadata": {},
     "output_type": "display_data"
    }
   ],
   "source": [
    "sim_data = web.load(\"fdve-94b029e7-ac12-4e14-ad6a-89c6c5eeb45f\")"
   ]
  },
  {
   "cell_type": "code",
   "execution_count": 25,
   "metadata": {},
   "outputs": [
    {
     "name": "stderr",
     "output_type": "stream",
     "text": [
      "<>:23: SyntaxWarning: invalid escape sequence '\\l'\n",
      "<>:23: SyntaxWarning: invalid escape sequence '\\l'\n",
      "C:\\Users\\HernandF\\AppData\\Local\\Temp\\ipykernel_23776\\407139116.py:23: SyntaxWarning: invalid escape sequence '\\l'\n",
      "  plt.title(f'$a/\\lambda$: {(1/np.array(td.C_0/field_time_out['f'][()][i])):.4g}')\n"
     ]
    }
   ],
   "source": [
    "def create_movie(field_time_out, monitor_lambdas,name='',type='t',log=False,path=\"\",frames_per_second=1,rem_frames=False):\n",
    "    frames = []\n",
    "    if log:\n",
    "        field_log = np.log10((field_time_out))\n",
    "        folder_pics = \"logPics\"\n",
    "    else:\n",
    "        field_log = ((field_time_out))\n",
    "        folder_pics = \"linPics\"\n",
    "\n",
    "    for i, time in enumerate(field_time_out):\n",
    "        try:\n",
    "            fig, ax = plt.subplots(figsize=(14, 18))\n",
    "            if type==\"t\":\n",
    "                pcolormesh = (field_log).isel(t=i).squeeze().plot.pcolormesh(ax=ax,cmap=\"plasma\")\n",
    "            else:\n",
    "                pcolormesh = (field_log).isel(f=i).squeeze().plot.pcolormesh(ax=ax,cmap=\"plasma\")\n",
    "\n",
    "            ax.set_aspect('auto', adjustable='box')\n",
    "            plt.ylim(-50,50)\n",
    "            try:\n",
    "                plt.title(f'Time: {str(np.array(field_time_out['t'][()][i])*1e12)} ps')\n",
    "            except:\n",
    "                plt.title(f'$a/\\lambda$: {(1/np.array(td.C_0/field_time_out['f'][()][i])):.4g}')\n",
    "\n",
    "\n",
    "            # Save the frame\n",
    "            plt.savefig(f'{path}/{folder_pics}/frame_{i}.png')\n",
    "            plt.close(fig)\n",
    "            frames.append(f'{path}/{folder_pics}/frame_{i}.png')\n",
    "        except:\n",
    "            break\n",
    "        \n",
    "\n",
    "    name_movie = f'{path}/{name}.mp4' if name else f'output/anderson/d(t) analysis/Diameter d(t) at output of the structure Range - {monitor_lambdas[0]:.3g} - {monitor_lambdas[-1]:.3g}.mp4'\n",
    "    with imageio.get_writer(name_movie, fps=frames_per_second) as writer:\n",
    "        for frame in frames:\n",
    "            image = imageio.imread(frame)\n",
    "            writer.append_data(image)\n",
    "\n",
    "    # Optionally, remove the individual frames if no longer needed\n",
    "    if rem_frames:\n",
    "        for frame in frames:\n",
    "            os.remove(frame)\n",
    "    \n",
    "    return False"
   ]
  },
  {
   "cell_type": "code",
   "execution_count": 6,
   "metadata": {},
   "outputs": [],
   "source": [
    "lambdas =  1/np.array([0.286,0.44])"
   ]
  },
  {
   "cell_type": "code",
   "execution_count": 8,
   "metadata": {},
   "outputs": [],
   "source": [
    "field_freq_out = sim_data.get_intensity(\"freq_monitorFieldOut\")\n",
    "field_time_out = sim_data.get_intensity(\"time_monitorFieldOut\")\n"
   ]
  },
  {
   "cell_type": "code",
   "execution_count": 26,
   "metadata": {},
   "outputs": [],
   "source": [
    "font = {\n",
    "        'size'   : 32}\n",
    "\n",
    "matplotlib.rc('font', **font)\n",
    "# create_movie(field_time_out,1/lambdas,\"output/2D SHU/Test Loc/timemonitor\",type=\"t\",log=False)\n",
    "# create_movie(field_time_out,1/lambdas,\"output/2D SHU/Test Loc/timemonitorlog\",type=\"t\",log=True)"
   ]
  },
  {
   "cell_type": "code",
   "execution_count": 27,
   "metadata": {},
   "outputs": [
    {
     "name": "stderr",
     "output_type": "stream",
     "text": [
      "C:\\Users\\HernandF\\AppData\\Local\\Temp\\ipykernel_23776\\407139116.py:37: DeprecationWarning: Starting with ImageIO v3 the behavior of this function will switch to that of iio.v3.imread. To keep the current behavior (and make this warning disappear) use `import imageio.v2 as imageio` or call `imageio.v2.imread` directly.\n",
      "  image = imageio.imread(frame)\n",
      "IMAGEIO FFMPEG_WRITER WARNING: input image is not divisible by macro_block_size=16, resizing from (1400, 1800) to (1408, 1808) to ensure video compatibility with most codecs and players. To prevent resizing, make your input image divisible by the macro_block_size or set the macro_block_size to 1 (risking incompatibility).\n"
     ]
    },
    {
     "data": {
      "text/plain": [
       "False"
      ]
     },
     "execution_count": 27,
     "metadata": {},
     "output_type": "execute_result"
    },
    {
     "data": {
      "image/png": "[encoded data removed]",
      "text/plain": [
       "<Figure size 1400x1800 with 1 Axes>"
      ]
     },
     "metadata": {},
     "output_type": "display_data"
    }
   ],
   "source": [
    "#create_movie(field_freq_out,1/lambdas,f\"freqmonitor {1/lambdas[0]:.3g} - {1/lambdas[-1]:.3g}\",type=\"f\",log=False,path=f\"output/2D SHU/Beam Spreading Chi 0.3 N10000\",frames_per_second=1)\n",
    "create_movie(field_freq_out,1/lambdas,f\"freqmonitorlog {1/lambdas[0]:.3g} - {1/lambdas[-1]:.3g}\",type=\"f\",log=True,path=f\"output/2D SHU/Beam Spreading Chi 0.3 N10000\",frames_per_second=1)"
   ]
  },
  {
   "cell_type": "code",
   "execution_count": null,
   "metadata": {},
   "outputs": [],
   "source": []
  }
 ],
 "metadata": {
  "kernelspec": {
   "display_name": "Python 3",
   "language": "python",
   "name": "python3"
  },
  "language_info": {
   "codemirror_mode": {
    "name": "ipython",
    "version": 3
   },
   "file_extension": ".py",
   "mimetype": "text/x-python",
   "name": "python",
   "nbconvert_exporter": "python",
   "pygments_lexer": "ipython3",
   "version": "3.12.4"
  }
 },
 "nbformat": 4,
 "nbformat_minor": 2
}
