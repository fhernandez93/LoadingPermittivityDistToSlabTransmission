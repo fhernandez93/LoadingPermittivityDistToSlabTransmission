{
 "cells": [
  {
   "cell_type": "code",
   "execution_count": null,
   "metadata": {},
   "outputs": [],
   "source": [
    "import scipy.io as sio\n",
    "from dataclasses import dataclass\n",
    "from typing import List, Tuple\n",
    "import os\n",
    "from dotenv import load_dotenv\n",
    "load_dotenv()\n",
    "import tidy3d as td\n",
    "from tidy3d import web\n",
    "import numpy as np\n",
    "from pathlib import Path\n",
    "import matplotlib.pyplot as plt\n",
    "import AutomationModule as AM\n",
    "from scipy.optimize import curve_fit\n",
    "from natsort import natsorted\n",
    "import matplotlib\n",
    "font = {\n",
    "        'weight' : 'bold',\n",
    "        'size'   : 27}\n",
    "\n",
    "matplotlib.rc('font', **font)\n",
    "import h5py\n",
    "import plotly.graph_objs as go\n",
    "import plotly\n",
    "import plotly.express as px\n",
    "from plotly.subplots import make_subplots\n",
    "from IPython.display import display, HTML\n",
    "plotly.offline.init_notebook_mode()\n",
    "display(HTML(\n",
    "    '<script type=\"text/javascript\" async src=\"https://cdnjs.cloudflare.com/ajax/libs/mathjax/2.7.1/MathJax.js?config=TeX-MML-AM_SVG\"></script>'\n",
    "))\n",
    "import pandas as pd\n"
   ]
  },
  {
   "cell_type": "code",
   "execution_count": null,
   "metadata": {},
   "outputs": [],
   "source": [
    "tidy3dAPI = os.environ[\"API_TIDY3D_KEY\"]\n",
    "store_path = f\"output/anderson/Plots_for_Report_20240613\""
   ]
  },
  {
   "cell_type": "code",
   "execution_count": null,
   "metadata": {},
   "outputs": [],
   "source": [
    "a=5/3\n",
    "slices = [0.01,0.03,0.05,0.07,0.09,0.1,0.15,0.3,0.5,0.7,0.9,1.0]\n"
   ]
  },
  {
   "cell_type": "code",
   "execution_count": null,
   "metadata": {},
   "outputs": [],
   "source": [
    "def Td(L,T0,xi,l:float=1.12):\n",
    "    Db = 1+2*3.25/xi\n",
    "    Td = (1+3.25)*(l/Db)/xi *np.exp(-L/xi)\n",
    "    return T0*Td\n",
    "\n",
    "def Tb(L,l):\n",
    "    return np.exp(-L/l) "
   ]
  },
  {
   "cell_type": "code",
   "execution_count": null,
   "metadata": {},
   "outputs": [],
   "source": [
    "\n",
    "\n",
    "for path_direction in [\n",
    "                       \"RCP Sample 1 Slices SAL Gap Formation/z_incidence\"\n",
    "                      \n",
    "                       ]:\n",
    "\n",
    "      folder_path = f\"data/{path_direction}\"\n",
    "      plt.figure(figsize=(20, 10))\n",
    "\n",
    "\n",
    "      \n",
    "      for i,filename in enumerate(natsorted(os.listdir(folder_path))):\n",
    "            print(filename)\n",
    "            \n",
    "            if not Path(filename).suffix==\".txt\":\n",
    "                  continue\n",
    "\n",
    "            \n",
    "            if os.path.isfile(os.path.join(folder_path, filename)):\n",
    "                file=os.path.join(folder_path, filename)\n",
    "                structure_1 = AM.loadFromFile(key = tidy3dAPI, file_path=file)\n",
    "                print(structure_1.__str__())\n",
    "                sim_data, sim_data0 = structure_1.sim_data, structure_1.sim_data0\n",
    "                transmission0 = sim_data0['flux1'].flux\n",
    "                transmission = sim_data['flux1'].flux\n",
    "                transmission_normalized = transmission / transmission0\n",
    "                monitor_lambdas = a/(td.C_0/np.array(np.array(sim_data.simulation.monitors)[0].freqs))\n",
    "                plt.plot(monitor_lambdas,np.log10(transmission_normalized), label=f\"L={slices[i]}x18.01a\")\n",
    "\n",
    "      #Save the plot in PDF format\n",
    "      store_path = f\"output/anderson/Plots_for_Report_20240613\"\n",
    "      if not os.path.exists(store_path):\n",
    "            os.makedirs(store_path)\n",
    "            print(f\"Folder '{store_path}' created successfully.\")\n",
    "      \n",
    "      \n",
    "      plt.xlabel(r'$\\nu$')\n",
    "      plt.ylabel('T')\n",
    "      plt.legend()\n",
    "      plt.grid()\n",
    "      plt.title(\"Bandgap formation\")\n",
    "      #plt.savefig(f'{store_path}/Bandgap formation.pdf', format='pdf')\n",
    "      plt.show()\n",
    "\n",
    "      \n",
    "    \n",
    "        \n",
    "\n",
    "\n",
    "     \n",
    "\n",
    "               \n",
    "\n"
   ]
  },
  {
   "cell_type": "code",
   "execution_count": null,
   "metadata": {},
   "outputs": [],
   "source": [
    "#Calculate T(L) for given frequencies \n",
    "\n",
    "frequencies_check = np.array([0.418,0.462,0.471])\n",
    "transmission_total_l= []\n",
    "for path_direction in [\n",
    "                       \"RCP Sample 1 Slices SAL Gap Formation/z_incidence\"\n",
    "                      \n",
    "                       ]:\n",
    "\n",
    "      folder_path = f\"data/{path_direction}\"\n",
    "\n",
    "      \n",
    "      for i,filename in enumerate(natsorted(os.listdir(folder_path))):\n",
    "            print(filename)\n",
    "            \n",
    "            if not Path(filename).suffix==\".txt\":\n",
    "                  continue\n",
    "            \n",
    "            if os.path.isfile(os.path.join(folder_path, filename)):\n",
    "                file=os.path.join(folder_path, filename)\n",
    "                structure_1 = AM.loadFromFile(key = tidy3dAPI, file_path=file)\n",
    "                print(structure_1.__str__())\n",
    "                sim_data, sim_data0 = structure_1.sim_data, structure_1.sim_data0\n",
    "                transmission0 = sim_data0['flux1'].flux\n",
    "                transmission = sim_data['flux1'].flux\n",
    "                transmission_normalized = transmission / transmission0\n",
    "                monitor_lambdas = td.C_0/np.array(np.array(sim_data.simulation.monitors)[0].freqs)\n",
    "                reduced_freqs = a/monitor_lambdas\n",
    "                indices = [np.argmin(np.abs(reduced_freqs-item)) for item in frequencies_check]\n",
    "\n",
    "                transmission_total_l +=  [transmission_normalized[indices]]\n",
    "\n",
    "            \n"
   ]
  },
  {
   "cell_type": "code",
   "execution_count": null,
   "metadata": {},
   "outputs": [],
   "source": [
    "\n",
    "frequencies_labels = np.array([\"SAL\",\"Near gap\",\"PGB\"])\n",
    "l = [1.12,0.76,0.72]\n",
    "xi = [8,3.6,5.1]\n",
    "T0 = [1.,0.22,0.055]\n",
    "z0 = 3.25\n",
    "\n",
    "\n",
    "for j, nu in enumerate(frequencies_check):\n",
    "    plt.figure(figsize=(20, 10))\n",
    "    Ls = np.linspace(0.1,18.01,100)\n",
    "    plt.plot(\n",
    "             np.log10(np.array(slices)*18.01),\n",
    "             np.log10(np.array(transmission_total_l)[:,j]), \n",
    "             \"o\")\n",
    "    \n",
    "    plt.plot(\n",
    "             np.log10(Ls),\n",
    "             np.log10(np.exp(-Ls)/(l[j])),\n",
    "             '--',\n",
    "             color=\"red\")\n",
    "\n",
    "    #popt, pcov = curve_fit(lambda L, T0,xi: Td(L,T0,xi,l=l[j]),(np.array(slices)*18.01)[3:], (np.array(transmission_total_l)[:,j])[3:])\n",
    "\n",
    "    plt.plot(\n",
    "        np.log10(Ls),\n",
    "        np.log10(Td(Ls,T0[j],xi[j],l[j])),\n",
    "                 '--',color=\"green\")\n",
    "    \n",
    "    plt.title(f'$\\\\nu$={nu} - {frequencies_labels[j]}')\n",
    "    plt.ylabel(\"T(L)\")\n",
    "    plt.xlabel(\"L/a\")\n",
    "   \n",
    "    if not os.path.exists(store_path):\n",
    "            os.makedirs(store_path)\n",
    "            print(f\"Folder '{store_path}' created successfully.\")\n",
    "      \n",
    "      \n",
    "\n",
    "    plt.grid()\n",
    "    plt.savefig(f'{store_path}/T(L)_Monitor_Right_nu_{nu}-{frequencies_labels[j]}.pdf', format='pdf')\n",
    "    plt.show()"
   ]
  },
  {
   "cell_type": "code",
   "execution_count": 39,
   "metadata": {},
   "outputs": [
    {
     "name": "stderr",
     "output_type": "stream",
     "text": [
      "<>:39: SyntaxWarning:\n",
      "\n",
      "invalid escape sequence '\\l'\n",
      "\n",
      "<>:39: SyntaxWarning:\n",
      "\n",
      "invalid escape sequence '\\l'\n",
      "\n",
      "C:\\Users\\HernandF\\AppData\\Local\\Temp\\ipykernel_8308\\3204195624.py:39: SyntaxWarning:\n",
      "\n",
      "invalid escape sequence '\\l'\n",
      "\n"
     ]
    },
    {
     "data": {
      "application/vnd.plotly.v1+json": {
       "config": {
        "plotlyServerURL": "https://plot.ly"
       },
       "data": [
        {
         "mode": "markers",
         "name": "Simulations",
         "showlegend": true,
         "type": "scatter",
         "x": [
          0.1801,
          0.5403,
          0.9005000000000001,
          1.2607000000000002,
          1.6209,
          1.8010000000000002,
          2.7015000000000002,
          5.4030000000000005,
          9.005,
          12.607000000000001,
          16.209000000000003,
          18.01
         ],
         "y": [
          0.7409719824790955,
          0.6407219171524048,
          0.4027118682861328,
          0.37125036120414734,
          0.30135422945022583,
          0.28911399841308594,
          0.25690603256225586,
          0.1511363834142685,
          0.10772791504859924,
          0.08014656603336334,
          0.0733741819858551,
          0.05918692797422409
         ]
        },
        {
         "mode": "lines",
         "name": "Theory -Ballistic Component",
         "showlegend": false,
         "type": "scatter",
         "x": [
          0.1,
          0.2809090909090909,
          0.4618181818181818,
          0.6427272727272727,
          0.8236363636363636,
          1.0045454545454546,
          1.1854545454545455,
          1.3663636363636364,
          1.5472727272727274,
          1.7281818181818183,
          1.9090909090909092,
          2.09,
          2.270909090909091,
          2.4518181818181817,
          2.632727272727273,
          2.813636363636364,
          2.9945454545454546,
          3.1754545454545453,
          3.3563636363636364,
          3.5372727272727276,
          3.7181818181818183,
          3.899090909090909,
          4.08,
          4.260909090909091,
          4.441818181818181,
          4.622727272727272,
          4.803636363636363,
          4.984545454545454,
          5.165454545454545,
          5.346363636363636,
          5.527272727272727,
          5.708181818181818,
          5.889090909090909,
          6.069999999999999,
          6.25090909090909,
          6.431818181818182,
          6.612727272727272,
          6.793636363636363,
          6.974545454545455,
          7.155454545454545,
          7.336363636363636,
          7.517272727272727,
          7.698181818181817,
          7.879090909090909,
          8.06,
          8.24090909090909,
          8.421818181818182,
          8.602727272727272,
          8.783636363636363,
          8.964545454545455,
          9.145454545454545,
          9.326363636363636,
          9.507272727272726,
          9.688181818181818,
          9.86909090909091,
          10.049999999999999,
          10.23090909090909,
          10.411818181818182,
          10.592727272727272,
          10.773636363636363,
          10.954545454545455,
          11.135454545454545,
          11.316363636363636,
          11.497272727272726,
          11.678181818181818,
          11.85909090909091,
          12.04,
          12.22090909090909,
          12.40181818181818,
          12.582727272727272,
          12.763636363636364,
          12.944545454545453,
          13.125454545454545,
          13.306363636363637,
          13.487272727272726,
          13.668181818181818,
          13.84909090909091,
          14.03,
          14.210909090909091,
          14.39181818181818,
          14.572727272727272,
          14.753636363636364,
          14.934545454545454,
          15.115454545454545,
          15.296363636363635,
          15.477272727272727,
          15.658181818181818,
          15.839090909090908,
          16.02,
          16.200909090909093,
          16.381818181818183,
          16.562727272727273,
          16.743636363636366,
          16.924545454545456,
          17.105454545454545,
          17.28636363636364,
          17.46727272727273,
          17.64818181818182,
          17.82909090909091,
          18.01
         ],
         "y": [
          0.8078905518178209,
          0.6741937299462888,
          0.5626222320290079,
          0.4695145651955574,
          0.3918151725639729,
          0.32697415763320065,
          0.27286360316351777,
          0.22770773834334876,
          0.1900246625064559,
          0.15857771292008094,
          0.13233488065850013,
          0.11043494269415609,
          0.09215919874771256,
          0.0769078853723155,
          0.06418049324227687,
          0.05355934170964361,
          0.04469587158736214,
          0.03729920632303566,
          0.031126606170082085,
          0.025975502086462068,
          0.02167684793378861,
          0.018089572812896304,
          0.015095951475629713,
          0.01259774088153716,
          0.010512956111084248,
          0.00877317982905661,
          0.007321317001581932,
          0.006109721182292972,
          0.005098630877107735,
          0.004254864673094641,
          0.0035507323088700255,
          0.002963125950627159,
          0.002472761851786643,
          0.0020635475094661886,
          0.001722053549454192,
          0.0014370730082947812,
          0.0011992535492429813,
          0.001000790542352789,
          0.0008351709363670667,
          0.0006969595169359261,
          0.0005816205367018017,
          0.0004853688636041557,
          0.0004050457624696522,
          0.0003380152333554365,
          0.0002820775047335315,
          0.0002353968425826152,
          0.00019644130626513388,
          0.00016393247413082395,
          0.00013680348896877103,
          0.00011416404646643268,
          0.00009527117768586329,
          0.00007950486671230669,
          0.00006634770330838055,
          0.00005536790282569569,
          0.00004620513613058941,
          0.000038558704518161914,
          0.00003217767154536358,
          0.000026852627934986922,
          0.000022408819295650308,
          0.000018700411127018182,
          0.000015605702902311565,
          0.000013023134166465176,
          0.000010867951580228427,
          0.000009069427531072469,
          0.0000075685390327848935,
          0.000006316030741139264,
          0.000005270798518738385,
          0.000004398540501739801,
          0.000003670631399903402,
          0.0000030631830873507825,
          0.0000025562606550139584,
          0.0000021332281976079294,
          0.0000017802028655190946,
          0.000001485599264980678,
          0.000001239749254907298,
          0.0000010345846630875842,
          8.633725092870388e-7,
          7.204940459565803e-7,
          6.012603652246899e-7,
          5.017585208634943e-7,
          4.187231153429484e-7,
          3.494291377867864e-7,
          2.916025360444039e-7,
          2.433455880814733e-7,
          2.0307462356809162e-7,
          1.6946805184532426e-7,
          1.4142299068017127e-7,
          1.1801907247496146e-7,
          9.848824014300154e-8,
          8.218954142791988e-8,
          6.858809448035196e-8,
          5.7237534395679487e-8,
          4.776536465282725e-8,
          3.9860732725583414e-8,
          3.326422869308818e-8,
          2.775937206582979e-8,
          2.316550744642065e-8,
          1.9331875878804366e-8,
          1.613266732265091e-8,
          1.3462891887728493e-8
         ]
        },
        {
         "mode": "lines",
         "name": "Theory - Localized Component",
         "showlegend": false,
         "type": "scatter",
         "x": [
          0.1,
          0.2809090909090909,
          0.4618181818181818,
          0.6427272727272727,
          0.8236363636363636,
          1.0045454545454546,
          1.1854545454545455,
          1.3663636363636364,
          1.5472727272727274,
          1.7281818181818183,
          1.9090909090909092,
          2.09,
          2.270909090909091,
          2.4518181818181817,
          2.632727272727273,
          2.813636363636364,
          2.9945454545454546,
          3.1754545454545453,
          3.3563636363636364,
          3.5372727272727276,
          3.7181818181818183,
          3.899090909090909,
          4.08,
          4.260909090909091,
          4.441818181818181,
          4.622727272727272,
          4.803636363636363,
          4.984545454545454,
          5.165454545454545,
          5.346363636363636,
          5.527272727272727,
          5.708181818181818,
          5.889090909090909,
          6.069999999999999,
          6.25090909090909,
          6.431818181818182,
          6.612727272727272,
          6.793636363636363,
          6.974545454545455,
          7.155454545454545,
          7.336363636363636,
          7.517272727272727,
          7.698181818181817,
          7.879090909090909,
          8.06,
          8.24090909090909,
          8.421818181818182,
          8.602727272727272,
          8.783636363636363,
          8.964545454545455,
          9.145454545454545,
          9.326363636363636,
          9.507272727272726,
          9.688181818181818,
          9.86909090909091,
          10.049999999999999,
          10.23090909090909,
          10.411818181818182,
          10.592727272727272,
          10.773636363636363,
          10.954545454545455,
          11.135454545454545,
          11.316363636363636,
          11.497272727272726,
          11.678181818181818,
          11.85909090909091,
          12.04,
          12.22090909090909,
          12.40181818181818,
          12.582727272727272,
          12.763636363636364,
          12.944545454545453,
          13.125454545454545,
          13.306363636363637,
          13.487272727272726,
          13.668181818181818,
          13.84909090909091,
          14.03,
          14.210909090909091,
          14.39181818181818,
          14.572727272727272,
          14.753636363636364,
          14.934545454545454,
          15.115454545454545,
          15.296363636363635,
          15.477272727272727,
          15.658181818181818,
          15.839090909090908,
          16.02,
          16.200909090909093,
          16.381818181818183,
          16.562727272727273,
          16.743636363636366,
          16.924545454545456,
          17.105454545454545,
          17.28636363636364,
          17.46727272727273,
          17.64818181818182,
          17.82909090909091,
          18.01
         ],
         "y": [
          0.32419795381730176,
          0.3169489314698906,
          0.30986199628057076,
          0.3029335240024357,
          0.2961599714262489,
          0.2895378745684526,
          0.28306384689969244,
          0.2767345776129517,
          0.2705468299304103,
          0.2644974394481619,
          0.25858331251794303,
          0.2528014246650465,
          0.24714881904160993,
          0.24162260491448892,
          0.23621995618694053,
          0.2309381099533625,
          0.22577436508634763,
          0.2207260808553317,
          0.21579067557612855,
          0.21096562529066054,
          0.20624846247621112,
          0.20163677478353742,
          0.197128203803199,
          0.19272044385947126,
          0.18841124083122637,
          0.18419839099917992,
          0.18007973991891219,
          0.17605318131908881,
          0.17211665602431753,
          0.16826815090208883,
          0.16450569783326346,
          0.16082737270557984,
          0.15723129442966585,
          0.153715623977053,
          0.1502785634397004,
          0.14691835511054746,
          0.1436332805846255,
          0.14042165988026817,
          0.13728185057997172,
          0.13421224699046547,
          0.13121127932156273,
          0.12827741288337283,
          0.12540914730146333,
          0.1226050157495708,
          0.11986358419946858,
          0.11718345068760685,
          0.11456324459815102,
          0.1120016259620509,
          0.10949728477178283,
          0.107048940311414,
          0.10465534050164646,
          0.10231526125950574,
          0.10002750587234703,
          0.09779090438585808,
          0.09560431300574679,
          0.09346661351280643,
          0.09137671269106035,
          0.0893335417686931,
          0.08733605587148235,
          0.08538323348845182,
          0.08347407594947236,
          0.08160760691454373,
          0.07978287187449579,
          0.07799893766285428,
          0.07625489197862088,
          0.07454984291972411,
          0.07288291852690203,
          0.07125326633778364,
          0.06966005295094128,
          0.0681024635996902,
          0.06657970173541848,
          0.0650909886202333,
          0.06363556292871564,
          0.06221268035857977,
          0.06082161325003831,
          0.05946165021367815,
          0.05813209576665717,
          0.05683226997703538,
          0.055561508116058915,
          0.054319160318218866,
          0.053104591248911044,
          0.05191717977952703,
          0.05075631866980998,
          0.04962141425731291,
          0.04851188615380083,
          0.047427166948441055,
          0.04636670191763029,
          0.045329948741309925,
          0.044316377225624363,
          0.04332546903178087,
          0.042356717410971946,
          0.04140962694522476,
          0.04048371329404527,
          0.039578502946727344,
          0.03869353298020009,
          0.03782835082228977,
          0.03698251402027522,
          0.036155590014618176,
          0.035347155917753066,
          0.03455679829782307
         ]
        }
       ],
       "layout": {
        "font": {
         "size": 20
        },
        "template": {
         "data": {
          "bar": [
           {
            "error_x": {
             "color": "#2a3f5f"
            },
            "error_y": {
             "color": "#2a3f5f"
            },
            "marker": {
             "line": {
              "color": "#E5ECF6",
              "width": 0.5
             },
             "pattern": {
              "fillmode": "overlay",
              "size": 10,
              "solidity": 0.2
             }
            },
            "type": "bar"
           }
          ],
          "barpolar": [
           {
            "marker": {
             "line": {
              "color": "#E5ECF6",
              "width": 0.5
             },
             "pattern": {
              "fillmode": "overlay",
              "size": 10,
              "solidity": 0.2
             }
            },
            "type": "barpolar"
           }
          ],
          "carpet": [
           {
            "aaxis": {
             "endlinecolor": "#2a3f5f",
             "gridcolor": "white",
             "linecolor": "white",
             "minorgridcolor": "white",
             "startlinecolor": "#2a3f5f"
            },
            "baxis": {
             "endlinecolor": "#2a3f5f",
             "gridcolor": "white",
             "linecolor": "white",
             "minorgridcolor": "white",
             "startlinecolor": "#2a3f5f"
            },
            "type": "carpet"
           }
          ],
          "choropleth": [
           {
            "colorbar": {
             "outlinewidth": 0,
             "ticks": ""
            },
            "type": "choropleth"
           }
          ],
          "contour": [
           {
            "colorbar": {
             "outlinewidth": 0,
             "ticks": ""
            },
            "colorscale": [
             [
              0,
              "#0d0887"
             ],
             [
              0.1111111111111111,
              "#46039f"
             ],
             [
              0.2222222222222222,
              "#7201a8"
             ],
             [
              0.3333333333333333,
              "#9c179e"
             ],
             [
              0.4444444444444444,
              "#bd3786"
             ],
             [
              0.5555555555555556,
              "#d8576b"
             ],
             [
              0.6666666666666666,
              "#ed7953"
             ],
             [
              0.7777777777777778,
              "#fb9f3a"
             ],
             [
              0.8888888888888888,
              "#fdca26"
             ],
             [
              1,
              "#f0f921"
             ]
            ],
            "type": "contour"
           }
          ],
          "contourcarpet": [
           {
            "colorbar": {
             "outlinewidth": 0,
             "ticks": ""
            },
            "type": "contourcarpet"
           }
          ],
          "heatmap": [
           {
            "colorbar": {
             "outlinewidth": 0,
             "ticks": ""
            },
            "colorscale": [
             [
              0,
              "#0d0887"
             ],
             [
              0.1111111111111111,
              "#46039f"
             ],
             [
              0.2222222222222222,
              "#7201a8"
             ],
             [
              0.3333333333333333,
              "#9c179e"
             ],
             [
              0.4444444444444444,
              "#bd3786"
             ],
             [
              0.5555555555555556,
              "#d8576b"
             ],
             [
              0.6666666666666666,
              "#ed7953"
             ],
             [
              0.7777777777777778,
              "#fb9f3a"
             ],
             [
              0.8888888888888888,
              "#fdca26"
             ],
             [
              1,
              "#f0f921"
             ]
            ],
            "type": "heatmap"
           }
          ],
          "heatmapgl": [
           {
            "colorbar": {
             "outlinewidth": 0,
             "ticks": ""
            },
            "colorscale": [
             [
              0,
              "#0d0887"
             ],
             [
              0.1111111111111111,
              "#46039f"
             ],
             [
              0.2222222222222222,
              "#7201a8"
             ],
             [
              0.3333333333333333,
              "#9c179e"
             ],
             [
              0.4444444444444444,
              "#bd3786"
             ],
             [
              0.5555555555555556,
              "#d8576b"
             ],
             [
              0.6666666666666666,
              "#ed7953"
             ],
             [
              0.7777777777777778,
              "#fb9f3a"
             ],
             [
              0.8888888888888888,
              "#fdca26"
             ],
             [
              1,
              "#f0f921"
             ]
            ],
            "type": "heatmapgl"
           }
          ],
          "histogram": [
           {
            "marker": {
             "pattern": {
              "fillmode": "overlay",
              "size": 10,
              "solidity": 0.2
             }
            },
            "type": "histogram"
           }
          ],
          "histogram2d": [
           {
            "colorbar": {
             "outlinewidth": 0,
             "ticks": ""
            },
            "colorscale": [
             [
              0,
              "#0d0887"
             ],
             [
              0.1111111111111111,
              "#46039f"
             ],
             [
              0.2222222222222222,
              "#7201a8"
             ],
             [
              0.3333333333333333,
              "#9c179e"
             ],
             [
              0.4444444444444444,
              "#bd3786"
             ],
             [
              0.5555555555555556,
              "#d8576b"
             ],
             [
              0.6666666666666666,
              "#ed7953"
             ],
             [
              0.7777777777777778,
              "#fb9f3a"
             ],
             [
              0.8888888888888888,
              "#fdca26"
             ],
             [
              1,
              "#f0f921"
             ]
            ],
            "type": "histogram2d"
           }
          ],
          "histogram2dcontour": [
           {
            "colorbar": {
             "outlinewidth": 0,
             "ticks": ""
            },
            "colorscale": [
             [
              0,
              "#0d0887"
             ],
             [
              0.1111111111111111,
              "#46039f"
             ],
             [
              0.2222222222222222,
              "#7201a8"
             ],
             [
              0.3333333333333333,
              "#9c179e"
             ],
             [
              0.4444444444444444,
              "#bd3786"
             ],
             [
              0.5555555555555556,
              "#d8576b"
             ],
             [
              0.6666666666666666,
              "#ed7953"
             ],
             [
              0.7777777777777778,
              "#fb9f3a"
             ],
             [
              0.8888888888888888,
              "#fdca26"
             ],
             [
              1,
              "#f0f921"
             ]
            ],
            "type": "histogram2dcontour"
           }
          ],
          "mesh3d": [
           {
            "colorbar": {
             "outlinewidth": 0,
             "ticks": ""
            },
            "type": "mesh3d"
           }
          ],
          "parcoords": [
           {
            "line": {
             "colorbar": {
              "outlinewidth": 0,
              "ticks": ""
             }
            },
            "type": "parcoords"
           }
          ],
          "pie": [
           {
            "automargin": true,
            "type": "pie"
           }
          ],
          "scatter": [
           {
            "fillpattern": {
             "fillmode": "overlay",
             "size": 10,
             "solidity": 0.2
            },
            "type": "scatter"
           }
          ],
          "scatter3d": [
           {
            "line": {
             "colorbar": {
              "outlinewidth": 0,
              "ticks": ""
             }
            },
            "marker": {
             "colorbar": {
              "outlinewidth": 0,
              "ticks": ""
             }
            },
            "type": "scatter3d"
           }
          ],
          "scattercarpet": [
           {
            "marker": {
             "colorbar": {
              "outlinewidth": 0,
              "ticks": ""
             }
            },
            "type": "scattercarpet"
           }
          ],
          "scattergeo": [
           {
            "marker": {
             "colorbar": {
              "outlinewidth": 0,
              "ticks": ""
             }
            },
            "type": "scattergeo"
           }
          ],
          "scattergl": [
           {
            "marker": {
             "colorbar": {
              "outlinewidth": 0,
              "ticks": ""
             }
            },
            "type": "scattergl"
           }
          ],
          "scattermapbox": [
           {
            "marker": {
             "colorbar": {
              "outlinewidth": 0,
              "ticks": ""
             }
            },
            "type": "scattermapbox"
           }
          ],
          "scatterpolar": [
           {
            "marker": {
             "colorbar": {
              "outlinewidth": 0,
              "ticks": ""
             }
            },
            "type": "scatterpolar"
           }
          ],
          "scatterpolargl": [
           {
            "marker": {
             "colorbar": {
              "outlinewidth": 0,
              "ticks": ""
             }
            },
            "type": "scatterpolargl"
           }
          ],
          "scatterternary": [
           {
            "marker": {
             "colorbar": {
              "outlinewidth": 0,
              "ticks": ""
             }
            },
            "type": "scatterternary"
           }
          ],
          "surface": [
           {
            "colorbar": {
             "outlinewidth": 0,
             "ticks": ""
            },
            "colorscale": [
             [
              0,
              "#0d0887"
             ],
             [
              0.1111111111111111,
              "#46039f"
             ],
             [
              0.2222222222222222,
              "#7201a8"
             ],
             [
              0.3333333333333333,
              "#9c179e"
             ],
             [
              0.4444444444444444,
              "#bd3786"
             ],
             [
              0.5555555555555556,
              "#d8576b"
             ],
             [
              0.6666666666666666,
              "#ed7953"
             ],
             [
              0.7777777777777778,
              "#fb9f3a"
             ],
             [
              0.8888888888888888,
              "#fdca26"
             ],
             [
              1,
              "#f0f921"
             ]
            ],
            "type": "surface"
           }
          ],
          "table": [
           {
            "cells": {
             "fill": {
              "color": "#EBF0F8"
             },
             "line": {
              "color": "white"
             }
            },
            "header": {
             "fill": {
              "color": "#C8D4E3"
             },
             "line": {
              "color": "white"
             }
            },
            "type": "table"
           }
          ]
         },
         "layout": {
          "annotationdefaults": {
           "arrowcolor": "#2a3f5f",
           "arrowhead": 0,
           "arrowwidth": 1
          },
          "autotypenumbers": "strict",
          "coloraxis": {
           "colorbar": {
            "outlinewidth": 0,
            "ticks": ""
           }
          },
          "colorscale": {
           "diverging": [
            [
             0,
             "#8e0152"
            ],
            [
             0.1,
             "#c51b7d"
            ],
            [
             0.2,
             "#de77ae"
            ],
            [
             0.3,
             "#f1b6da"
            ],
            [
             0.4,
             "#fde0ef"
            ],
            [
             0.5,
             "#f7f7f7"
            ],
            [
             0.6,
             "#e6f5d0"
            ],
            [
             0.7,
             "#b8e186"
            ],
            [
             0.8,
             "#7fbc41"
            ],
            [
             0.9,
             "#4d9221"
            ],
            [
             1,
             "#276419"
            ]
           ],
           "sequential": [
            [
             0,
             "#0d0887"
            ],
            [
             0.1111111111111111,
             "#46039f"
            ],
            [
             0.2222222222222222,
             "#7201a8"
            ],
            [
             0.3333333333333333,
             "#9c179e"
            ],
            [
             0.4444444444444444,
             "#bd3786"
            ],
            [
             0.5555555555555556,
             "#d8576b"
            ],
            [
             0.6666666666666666,
             "#ed7953"
            ],
            [
             0.7777777777777778,
             "#fb9f3a"
            ],
            [
             0.8888888888888888,
             "#fdca26"
            ],
            [
             1,
             "#f0f921"
            ]
           ],
           "sequentialminus": [
            [
             0,
             "#0d0887"
            ],
            [
             0.1111111111111111,
             "#46039f"
            ],
            [
             0.2222222222222222,
             "#7201a8"
            ],
            [
             0.3333333333333333,
             "#9c179e"
            ],
            [
             0.4444444444444444,
             "#bd3786"
            ],
            [
             0.5555555555555556,
             "#d8576b"
            ],
            [
             0.6666666666666666,
             "#ed7953"
            ],
            [
             0.7777777777777778,
             "#fb9f3a"
            ],
            [
             0.8888888888888888,
             "#fdca26"
            ],
            [
             1,
             "#f0f921"
            ]
           ]
          },
          "colorway": [
           "#636efa",
           "#EF553B",
           "#00cc96",
           "#ab63fa",
           "#FFA15A",
           "#19d3f3",
           "#FF6692",
           "#B6E880",
           "#FF97FF",
           "#FECB52"
          ],
          "font": {
           "color": "#2a3f5f"
          },
          "geo": {
           "bgcolor": "white",
           "lakecolor": "white",
           "landcolor": "#E5ECF6",
           "showlakes": true,
           "showland": true,
           "subunitcolor": "white"
          },
          "hoverlabel": {
           "align": "left"
          },
          "hovermode": "closest",
          "mapbox": {
           "style": "light"
          },
          "paper_bgcolor": "white",
          "plot_bgcolor": "#E5ECF6",
          "polar": {
           "angularaxis": {
            "gridcolor": "white",
            "linecolor": "white",
            "ticks": ""
           },
           "bgcolor": "#E5ECF6",
           "radialaxis": {
            "gridcolor": "white",
            "linecolor": "white",
            "ticks": ""
           }
          },
          "scene": {
           "xaxis": {
            "backgroundcolor": "#E5ECF6",
            "gridcolor": "white",
            "gridwidth": 2,
            "linecolor": "white",
            "showbackground": true,
            "ticks": "",
            "zerolinecolor": "white"
           },
           "yaxis": {
            "backgroundcolor": "#E5ECF6",
            "gridcolor": "white",
            "gridwidth": 2,
            "linecolor": "white",
            "showbackground": true,
            "ticks": "",
            "zerolinecolor": "white"
           },
           "zaxis": {
            "backgroundcolor": "#E5ECF6",
            "gridcolor": "white",
            "gridwidth": 2,
            "linecolor": "white",
            "showbackground": true,
            "ticks": "",
            "zerolinecolor": "white"
           }
          },
          "shapedefaults": {
           "line": {
            "color": "#2a3f5f"
           }
          },
          "ternary": {
           "aaxis": {
            "gridcolor": "white",
            "linecolor": "white",
            "ticks": ""
           },
           "baxis": {
            "gridcolor": "white",
            "linecolor": "white",
            "ticks": ""
           },
           "bgcolor": "#E5ECF6",
           "caxis": {
            "gridcolor": "white",
            "linecolor": "white",
            "ticks": ""
           }
          },
          "title": {
           "x": 0.05
          },
          "xaxis": {
           "automargin": true,
           "gridcolor": "white",
           "linecolor": "white",
           "ticks": "",
           "title": {
            "standoff": 15
           },
           "zerolinecolor": "white",
           "zerolinewidth": 2
          },
          "yaxis": {
           "automargin": true,
           "gridcolor": "white",
           "linecolor": "white",
           "ticks": "",
           "title": {
            "standoff": 15
           },
           "zerolinecolor": "white",
           "zerolinewidth": 2
          }
         }
        },
        "title": {
         "text": "$a/\\lambda=\\text{0.418 - SAL}$"
        },
        "xaxis": {
         "title": {
          "text": "$\\Large{L'/a}$"
         },
         "type": "log"
        },
        "yaxis": {
         "exponentformat": "e",
         "range": [
          -1.5,
          0
         ],
         "showexponent": "all",
         "title": {
          "text": "$\\large{\\text{T(L)}}$"
         },
         "type": "log"
        }
       }
      },
      "text/html": [
       "<div>                            <div id=\"7edeee36-6610-4714-96bf-8a6f97bdbb58\" class=\"plotly-graph-div\" style=\"height:525px; width:100%;\"></div>            <script type=\"text/javascript\">                require([\"plotly\"], function(Plotly) {                    window.PLOTLYENV=window.PLOTLYENV || {};                                    if (document.getElementById(\"7edeee36-6610-4714-96bf-8a6f97bdbb58\")) {                    Plotly.newPlot(                        \"7edeee36-6610-4714-96bf-8a6f97bdbb58\",                        [{\"mode\":\"markers\",\"name\":\"Simulations\",\"showlegend\":true,\"x\":[0.1801,0.5403,0.9005000000000001,1.2607000000000002,1.6209,1.8010000000000002,2.7015000000000002,5.4030000000000005,9.005,12.607000000000001,16.209000000000003,18.01],\"y\":[0.7409719824790955,0.6407219171524048,0.4027118682861328,0.37125036120414734,0.30135422945022583,0.28911399841308594,0.25690603256225586,0.1511363834142685,0.10772791504859924,0.08014656603336334,0.0733741819858551,0.05918692797422409],\"type\":\"scatter\"},{\"mode\":\"lines\",\"name\":\"Theory -Ballistic Component\",\"showlegend\":false,\"x\":[0.1,0.2809090909090909,0.4618181818181818,0.6427272727272727,0.8236363636363636,1.0045454545454546,1.1854545454545455,1.3663636363636364,1.5472727272727274,1.7281818181818183,1.9090909090909092,2.09,2.270909090909091,2.4518181818181817,2.632727272727273,2.813636363636364,2.9945454545454546,3.1754545454545453,3.3563636363636364,3.5372727272727276,3.7181818181818183,3.899090909090909,4.08,4.260909090909091,4.441818181818181,4.622727272727272,4.803636363636363,4.984545454545454,5.165454545454545,5.346363636363636,5.527272727272727,5.708181818181818,5.889090909090909,6.069999999999999,6.25090909090909,6.431818181818182,6.612727272727272,6.793636363636363,6.974545454545455,7.155454545454545,7.336363636363636,7.517272727272727,7.698181818181817,7.879090909090909,8.06,8.24090909090909,8.421818181818182,8.602727272727272,8.783636363636363,8.964545454545455,9.145454545454545,9.326363636363636,9.507272727272726,9.688181818181818,9.86909090909091,10.049999999999999,10.23090909090909,10.411818181818182,10.592727272727272,10.773636363636363,10.954545454545455,11.135454545454545,11.316363636363636,11.497272727272726,11.678181818181818,11.85909090909091,12.04,12.22090909090909,12.40181818181818,12.582727272727272,12.763636363636364,12.944545454545453,13.125454545454545,13.306363636363637,13.487272727272726,13.668181818181818,13.84909090909091,14.03,14.210909090909091,14.39181818181818,14.572727272727272,14.753636363636364,14.934545454545454,15.115454545454545,15.296363636363635,15.477272727272727,15.658181818181818,15.839090909090908,16.02,16.200909090909093,16.381818181818183,16.562727272727273,16.743636363636366,16.924545454545456,17.105454545454545,17.28636363636364,17.46727272727273,17.64818181818182,17.82909090909091,18.01],\"y\":[0.8078905518178209,0.6741937299462888,0.5626222320290079,0.4695145651955574,0.3918151725639729,0.32697415763320065,0.27286360316351777,0.22770773834334876,0.1900246625064559,0.15857771292008094,0.13233488065850013,0.11043494269415609,0.09215919874771256,0.0769078853723155,0.06418049324227687,0.05355934170964361,0.04469587158736214,0.03729920632303566,0.031126606170082085,0.025975502086462068,0.02167684793378861,0.018089572812896304,0.015095951475629713,0.01259774088153716,0.010512956111084248,0.00877317982905661,0.007321317001581932,0.006109721182292972,0.005098630877107735,0.004254864673094641,0.0035507323088700255,0.002963125950627159,0.002472761851786643,0.0020635475094661886,0.001722053549454192,0.0014370730082947812,0.0011992535492429813,0.001000790542352789,0.0008351709363670667,0.0006969595169359261,0.0005816205367018017,0.0004853688636041557,0.0004050457624696522,0.0003380152333554365,0.0002820775047335315,0.0002353968425826152,0.00019644130626513388,0.00016393247413082395,0.00013680348896877103,0.00011416404646643268,9.527117768586329e-05,7.950486671230669e-05,6.634770330838055e-05,5.536790282569569e-05,4.620513613058941e-05,3.8558704518161914e-05,3.217767154536358e-05,2.6852627934986922e-05,2.2408819295650308e-05,1.8700411127018182e-05,1.5605702902311565e-05,1.3023134166465176e-05,1.0867951580228427e-05,9.069427531072469e-06,7.5685390327848935e-06,6.316030741139264e-06,5.270798518738385e-06,4.398540501739801e-06,3.670631399903402e-06,3.0631830873507825e-06,2.5562606550139584e-06,2.1332281976079294e-06,1.7802028655190946e-06,1.485599264980678e-06,1.239749254907298e-06,1.0345846630875842e-06,8.633725092870388e-07,7.204940459565803e-07,6.012603652246899e-07,5.017585208634943e-07,4.187231153429484e-07,3.494291377867864e-07,2.916025360444039e-07,2.433455880814733e-07,2.0307462356809162e-07,1.6946805184532426e-07,1.4142299068017127e-07,1.1801907247496146e-07,9.848824014300154e-08,8.218954142791988e-08,6.858809448035196e-08,5.7237534395679487e-08,4.776536465282725e-08,3.9860732725583414e-08,3.326422869308818e-08,2.775937206582979e-08,2.316550744642065e-08,1.9331875878804366e-08,1.613266732265091e-08,1.3462891887728493e-08],\"type\":\"scatter\"},{\"mode\":\"lines\",\"name\":\"Theory - Localized Component\",\"showlegend\":false,\"x\":[0.1,0.2809090909090909,0.4618181818181818,0.6427272727272727,0.8236363636363636,1.0045454545454546,1.1854545454545455,1.3663636363636364,1.5472727272727274,1.7281818181818183,1.9090909090909092,2.09,2.270909090909091,2.4518181818181817,2.632727272727273,2.813636363636364,2.9945454545454546,3.1754545454545453,3.3563636363636364,3.5372727272727276,3.7181818181818183,3.899090909090909,4.08,4.260909090909091,4.441818181818181,4.622727272727272,4.803636363636363,4.984545454545454,5.165454545454545,5.346363636363636,5.527272727272727,5.708181818181818,5.889090909090909,6.069999999999999,6.25090909090909,6.431818181818182,6.612727272727272,6.793636363636363,6.974545454545455,7.155454545454545,7.336363636363636,7.517272727272727,7.698181818181817,7.879090909090909,8.06,8.24090909090909,8.421818181818182,8.602727272727272,8.783636363636363,8.964545454545455,9.145454545454545,9.326363636363636,9.507272727272726,9.688181818181818,9.86909090909091,10.049999999999999,10.23090909090909,10.411818181818182,10.592727272727272,10.773636363636363,10.954545454545455,11.135454545454545,11.316363636363636,11.497272727272726,11.678181818181818,11.85909090909091,12.04,12.22090909090909,12.40181818181818,12.582727272727272,12.763636363636364,12.944545454545453,13.125454545454545,13.306363636363637,13.487272727272726,13.668181818181818,13.84909090909091,14.03,14.210909090909091,14.39181818181818,14.572727272727272,14.753636363636364,14.934545454545454,15.115454545454545,15.296363636363635,15.477272727272727,15.658181818181818,15.839090909090908,16.02,16.200909090909093,16.381818181818183,16.562727272727273,16.743636363636366,16.924545454545456,17.105454545454545,17.28636363636364,17.46727272727273,17.64818181818182,17.82909090909091,18.01],\"y\":[0.32419795381730176,0.3169489314698906,0.30986199628057076,0.3029335240024357,0.2961599714262489,0.2895378745684526,0.28306384689969244,0.2767345776129517,0.2705468299304103,0.2644974394481619,0.25858331251794303,0.2528014246650465,0.24714881904160993,0.24162260491448892,0.23621995618694053,0.2309381099533625,0.22577436508634763,0.2207260808553317,0.21579067557612855,0.21096562529066054,0.20624846247621112,0.20163677478353742,0.197128203803199,0.19272044385947126,0.18841124083122637,0.18419839099917992,0.18007973991891219,0.17605318131908881,0.17211665602431753,0.16826815090208883,0.16450569783326346,0.16082737270557984,0.15723129442966585,0.153715623977053,0.1502785634397004,0.14691835511054746,0.1436332805846255,0.14042165988026817,0.13728185057997172,0.13421224699046547,0.13121127932156273,0.12827741288337283,0.12540914730146333,0.1226050157495708,0.11986358419946858,0.11718345068760685,0.11456324459815102,0.1120016259620509,0.10949728477178283,0.107048940311414,0.10465534050164646,0.10231526125950574,0.10002750587234703,0.09779090438585808,0.09560431300574679,0.09346661351280643,0.09137671269106035,0.0893335417686931,0.08733605587148235,0.08538323348845182,0.08347407594947236,0.08160760691454373,0.07978287187449579,0.07799893766285428,0.07625489197862088,0.07454984291972411,0.07288291852690203,0.07125326633778364,0.06966005295094128,0.0681024635996902,0.06657970173541848,0.0650909886202333,0.06363556292871564,0.06221268035857977,0.06082161325003831,0.05946165021367815,0.05813209576665717,0.05683226997703538,0.055561508116058915,0.054319160318218866,0.053104591248911044,0.05191717977952703,0.05075631866980998,0.04962141425731291,0.04851188615380083,0.047427166948441055,0.04636670191763029,0.045329948741309925,0.044316377225624363,0.04332546903178087,0.042356717410971946,0.04140962694522476,0.04048371329404527,0.039578502946727344,0.03869353298020009,0.03782835082228977,0.03698251402027522,0.036155590014618176,0.035347155917753066,0.03455679829782307],\"type\":\"scatter\"}],                        {\"template\":{\"data\":{\"histogram2dcontour\":[{\"type\":\"histogram2dcontour\",\"colorbar\":{\"outlinewidth\":0,\"ticks\":\"\"},\"colorscale\":[[0.0,\"#0d0887\"],[0.1111111111111111,\"#46039f\"],[0.2222222222222222,\"#7201a8\"],[0.3333333333333333,\"#9c179e\"],[0.4444444444444444,\"#bd3786\"],[0.5555555555555556,\"#d8576b\"],[0.6666666666666666,\"#ed7953\"],[0.7777777777777778,\"#fb9f3a\"],[0.8888888888888888,\"#fdca26\"],[1.0,\"#f0f921\"]]}],\"choropleth\":[{\"type\":\"choropleth\",\"colorbar\":{\"outlinewidth\":0,\"ticks\":\"\"}}],\"histogram2d\":[{\"type\":\"histogram2d\",\"colorbar\":{\"outlinewidth\":0,\"ticks\":\"\"},\"colorscale\":[[0.0,\"#0d0887\"],[0.1111111111111111,\"#46039f\"],[0.2222222222222222,\"#7201a8\"],[0.3333333333333333,\"#9c179e\"],[0.4444444444444444,\"#bd3786\"],[0.5555555555555556,\"#d8576b\"],[0.6666666666666666,\"#ed7953\"],[0.7777777777777778,\"#fb9f3a\"],[0.8888888888888888,\"#fdca26\"],[1.0,\"#f0f921\"]]}],\"heatmap\":[{\"type\":\"heatmap\",\"colorbar\":{\"outlinewidth\":0,\"ticks\":\"\"},\"colorscale\":[[0.0,\"#0d0887\"],[0.1111111111111111,\"#46039f\"],[0.2222222222222222,\"#7201a8\"],[0.3333333333333333,\"#9c179e\"],[0.4444444444444444,\"#bd3786\"],[0.5555555555555556,\"#d8576b\"],[0.6666666666666666,\"#ed7953\"],[0.7777777777777778,\"#fb9f3a\"],[0.8888888888888888,\"#fdca26\"],[1.0,\"#f0f921\"]]}],\"heatmapgl\":[{\"type\":\"heatmapgl\",\"colorbar\":{\"outlinewidth\":0,\"ticks\":\"\"},\"colorscale\":[[0.0,\"#0d0887\"],[0.1111111111111111,\"#46039f\"],[0.2222222222222222,\"#7201a8\"],[0.3333333333333333,\"#9c179e\"],[0.4444444444444444,\"#bd3786\"],[0.5555555555555556,\"#d8576b\"],[0.6666666666666666,\"#ed7953\"],[0.7777777777777778,\"#fb9f3a\"],[0.8888888888888888,\"#fdca26\"],[1.0,\"#f0f921\"]]}],\"contourcarpet\":[{\"type\":\"contourcarpet\",\"colorbar\":{\"outlinewidth\":0,\"ticks\":\"\"}}],\"contour\":[{\"type\":\"contour\",\"colorbar\":{\"outlinewidth\":0,\"ticks\":\"\"},\"colorscale\":[[0.0,\"#0d0887\"],[0.1111111111111111,\"#46039f\"],[0.2222222222222222,\"#7201a8\"],[0.3333333333333333,\"#9c179e\"],[0.4444444444444444,\"#bd3786\"],[0.5555555555555556,\"#d8576b\"],[0.6666666666666666,\"#ed7953\"],[0.7777777777777778,\"#fb9f3a\"],[0.8888888888888888,\"#fdca26\"],[1.0,\"#f0f921\"]]}],\"surface\":[{\"type\":\"surface\",\"colorbar\":{\"outlinewidth\":0,\"ticks\":\"\"},\"colorscale\":[[0.0,\"#0d0887\"],[0.1111111111111111,\"#46039f\"],[0.2222222222222222,\"#7201a8\"],[0.3333333333333333,\"#9c179e\"],[0.4444444444444444,\"#bd3786\"],[0.5555555555555556,\"#d8576b\"],[0.6666666666666666,\"#ed7953\"],[0.7777777777777778,\"#fb9f3a\"],[0.8888888888888888,\"#fdca26\"],[1.0,\"#f0f921\"]]}],\"mesh3d\":[{\"type\":\"mesh3d\",\"colorbar\":{\"outlinewidth\":0,\"ticks\":\"\"}}],\"scatter\":[{\"fillpattern\":{\"fillmode\":\"overlay\",\"size\":10,\"solidity\":0.2},\"type\":\"scatter\"}],\"parcoords\":[{\"type\":\"parcoords\",\"line\":{\"colorbar\":{\"outlinewidth\":0,\"ticks\":\"\"}}}],\"scatterpolargl\":[{\"type\":\"scatterpolargl\",\"marker\":{\"colorbar\":{\"outlinewidth\":0,\"ticks\":\"\"}}}],\"bar\":[{\"error_x\":{\"color\":\"#2a3f5f\"},\"error_y\":{\"color\":\"#2a3f5f\"},\"marker\":{\"line\":{\"color\":\"#E5ECF6\",\"width\":0.5},\"pattern\":{\"fillmode\":\"overlay\",\"size\":10,\"solidity\":0.2}},\"type\":\"bar\"}],\"scattergeo\":[{\"type\":\"scattergeo\",\"marker\":{\"colorbar\":{\"outlinewidth\":0,\"ticks\":\"\"}}}],\"scatterpolar\":[{\"type\":\"scatterpolar\",\"marker\":{\"colorbar\":{\"outlinewidth\":0,\"ticks\":\"\"}}}],\"histogram\":[{\"marker\":{\"pattern\":{\"fillmode\":\"overlay\",\"size\":10,\"solidity\":0.2}},\"type\":\"histogram\"}],\"scattergl\":[{\"type\":\"scattergl\",\"marker\":{\"colorbar\":{\"outlinewidth\":0,\"ticks\":\"\"}}}],\"scatter3d\":[{\"type\":\"scatter3d\",\"line\":{\"colorbar\":{\"outlinewidth\":0,\"ticks\":\"\"}},\"marker\":{\"colorbar\":{\"outlinewidth\":0,\"ticks\":\"\"}}}],\"scattermapbox\":[{\"type\":\"scattermapbox\",\"marker\":{\"colorbar\":{\"outlinewidth\":0,\"ticks\":\"\"}}}],\"scatterternary\":[{\"type\":\"scatterternary\",\"marker\":{\"colorbar\":{\"outlinewidth\":0,\"ticks\":\"\"}}}],\"scattercarpet\":[{\"type\":\"scattercarpet\",\"marker\":{\"colorbar\":{\"outlinewidth\":0,\"ticks\":\"\"}}}],\"carpet\":[{\"aaxis\":{\"endlinecolor\":\"#2a3f5f\",\"gridcolor\":\"white\",\"linecolor\":\"white\",\"minorgridcolor\":\"white\",\"startlinecolor\":\"#2a3f5f\"},\"baxis\":{\"endlinecolor\":\"#2a3f5f\",\"gridcolor\":\"white\",\"linecolor\":\"white\",\"minorgridcolor\":\"white\",\"startlinecolor\":\"#2a3f5f\"},\"type\":\"carpet\"}],\"table\":[{\"cells\":{\"fill\":{\"color\":\"#EBF0F8\"},\"line\":{\"color\":\"white\"}},\"header\":{\"fill\":{\"color\":\"#C8D4E3\"},\"line\":{\"color\":\"white\"}},\"type\":\"table\"}],\"barpolar\":[{\"marker\":{\"line\":{\"color\":\"#E5ECF6\",\"width\":0.5},\"pattern\":{\"fillmode\":\"overlay\",\"size\":10,\"solidity\":0.2}},\"type\":\"barpolar\"}],\"pie\":[{\"automargin\":true,\"type\":\"pie\"}]},\"layout\":{\"autotypenumbers\":\"strict\",\"colorway\":[\"#636efa\",\"#EF553B\",\"#00cc96\",\"#ab63fa\",\"#FFA15A\",\"#19d3f3\",\"#FF6692\",\"#B6E880\",\"#FF97FF\",\"#FECB52\"],\"font\":{\"color\":\"#2a3f5f\"},\"hovermode\":\"closest\",\"hoverlabel\":{\"align\":\"left\"},\"paper_bgcolor\":\"white\",\"plot_bgcolor\":\"#E5ECF6\",\"polar\":{\"bgcolor\":\"#E5ECF6\",\"angularaxis\":{\"gridcolor\":\"white\",\"linecolor\":\"white\",\"ticks\":\"\"},\"radialaxis\":{\"gridcolor\":\"white\",\"linecolor\":\"white\",\"ticks\":\"\"}},\"ternary\":{\"bgcolor\":\"#E5ECF6\",\"aaxis\":{\"gridcolor\":\"white\",\"linecolor\":\"white\",\"ticks\":\"\"},\"baxis\":{\"gridcolor\":\"white\",\"linecolor\":\"white\",\"ticks\":\"\"},\"caxis\":{\"gridcolor\":\"white\",\"linecolor\":\"white\",\"ticks\":\"\"}},\"coloraxis\":{\"colorbar\":{\"outlinewidth\":0,\"ticks\":\"\"}},\"colorscale\":{\"sequential\":[[0.0,\"#0d0887\"],[0.1111111111111111,\"#46039f\"],[0.2222222222222222,\"#7201a8\"],[0.3333333333333333,\"#9c179e\"],[0.4444444444444444,\"#bd3786\"],[0.5555555555555556,\"#d8576b\"],[0.6666666666666666,\"#ed7953\"],[0.7777777777777778,\"#fb9f3a\"],[0.8888888888888888,\"#fdca26\"],[1.0,\"#f0f921\"]],\"sequentialminus\":[[0.0,\"#0d0887\"],[0.1111111111111111,\"#46039f\"],[0.2222222222222222,\"#7201a8\"],[0.3333333333333333,\"#9c179e\"],[0.4444444444444444,\"#bd3786\"],[0.5555555555555556,\"#d8576b\"],[0.6666666666666666,\"#ed7953\"],[0.7777777777777778,\"#fb9f3a\"],[0.8888888888888888,\"#fdca26\"],[1.0,\"#f0f921\"]],\"diverging\":[[0,\"#8e0152\"],[0.1,\"#c51b7d\"],[0.2,\"#de77ae\"],[0.3,\"#f1b6da\"],[0.4,\"#fde0ef\"],[0.5,\"#f7f7f7\"],[0.6,\"#e6f5d0\"],[0.7,\"#b8e186\"],[0.8,\"#7fbc41\"],[0.9,\"#4d9221\"],[1,\"#276419\"]]},\"xaxis\":{\"gridcolor\":\"white\",\"linecolor\":\"white\",\"ticks\":\"\",\"title\":{\"standoff\":15},\"zerolinecolor\":\"white\",\"automargin\":true,\"zerolinewidth\":2},\"yaxis\":{\"gridcolor\":\"white\",\"linecolor\":\"white\",\"ticks\":\"\",\"title\":{\"standoff\":15},\"zerolinecolor\":\"white\",\"automargin\":true,\"zerolinewidth\":2},\"scene\":{\"xaxis\":{\"backgroundcolor\":\"#E5ECF6\",\"gridcolor\":\"white\",\"linecolor\":\"white\",\"showbackground\":true,\"ticks\":\"\",\"zerolinecolor\":\"white\",\"gridwidth\":2},\"yaxis\":{\"backgroundcolor\":\"#E5ECF6\",\"gridcolor\":\"white\",\"linecolor\":\"white\",\"showbackground\":true,\"ticks\":\"\",\"zerolinecolor\":\"white\",\"gridwidth\":2},\"zaxis\":{\"backgroundcolor\":\"#E5ECF6\",\"gridcolor\":\"white\",\"linecolor\":\"white\",\"showbackground\":true,\"ticks\":\"\",\"zerolinecolor\":\"white\",\"gridwidth\":2}},\"shapedefaults\":{\"line\":{\"color\":\"#2a3f5f\"}},\"annotationdefaults\":{\"arrowcolor\":\"#2a3f5f\",\"arrowhead\":0,\"arrowwidth\":1},\"geo\":{\"bgcolor\":\"white\",\"landcolor\":\"#E5ECF6\",\"subunitcolor\":\"white\",\"showland\":true,\"showlakes\":true,\"lakecolor\":\"white\"},\"title\":{\"x\":0.05},\"mapbox\":{\"style\":\"light\"}}},\"yaxis\":{\"type\":\"log\",\"title\":{\"text\":\"$\\\\large{\\\\text{T(L)}}$\"},\"range\":[-1.5,0],\"showexponent\":\"all\",\"exponentformat\":\"e\"},\"xaxis\":{\"type\":\"log\",\"title\":{\"text\":\"$\\\\Large{L'\\u002fa}$\"}},\"title\":{\"text\":\"$a\\u002f\\\\lambda=\\\\text{0.418 - SAL}$\"},\"font\":{\"size\":20}},                        {\"responsive\": true}                    ).then(function(){\n",
       "                            \n",
       "var gd = document.getElementById('7edeee36-6610-4714-96bf-8a6f97bdbb58');\n",
       "var x = new MutationObserver(function (mutations, observer) {{\n",
       "        var display = window.getComputedStyle(gd).display;\n",
       "        if (!display || display === 'none') {{\n",
       "            console.log([gd, 'removed!']);\n",
       "            Plotly.purge(gd);\n",
       "            observer.disconnect();\n",
       "        }}\n",
       "}});\n",
       "\n",
       "// Listen for the removal of the full notebook cells\n",
       "var notebookContainer = gd.closest('#notebook-container');\n",
       "if (notebookContainer) {{\n",
       "    x.observe(notebookContainer, {childList: true});\n",
       "}}\n",
       "\n",
       "// Listen for the clearing of the current output cell\n",
       "var outputEl = gd.closest('.output');\n",
       "if (outputEl) {{\n",
       "    x.observe(outputEl, {childList: true});\n",
       "}}\n",
       "\n",
       "                        })                };                });            </script>        </div>"
      ]
     },
     "metadata": {},
     "output_type": "display_data"
    },
    {
     "data": {
      "application/vnd.plotly.v1+json": {
       "config": {
        "plotlyServerURL": "https://plot.ly"
       },
       "data": [
        {
         "mode": "markers",
         "name": "Simulations",
         "showlegend": true,
         "type": "scatter",
         "x": [
          0.1801,
          0.5403,
          0.9005000000000001,
          1.2607000000000002,
          1.6209,
          1.8010000000000002,
          2.7015000000000002,
          5.4030000000000005,
          9.005,
          12.607000000000001,
          16.209000000000003,
          18.01
         ],
         "y": [
          0.6961408257484436,
          0.5158309936523438,
          0.27981942892074585,
          0.15129566192626953,
          0.07930485159158707,
          0.0729486420750618,
          0.029732778668403625,
          0.006764506921172142,
          0.002158605959266424,
          0.0007293744711205363,
          0.0004978634533472359,
          0.00022225036809686571
         ]
        },
        {
         "mode": "lines",
         "name": "Theory -Ballistic Component",
         "showlegend": false,
         "type": "scatter",
         "x": [
          0.1,
          0.2809090909090909,
          0.4618181818181818,
          0.6427272727272727,
          0.8236363636363636,
          1.0045454545454546,
          1.1854545454545455,
          1.3663636363636364,
          1.5472727272727274,
          1.7281818181818183,
          1.9090909090909092,
          2.09,
          2.270909090909091,
          2.4518181818181817,
          2.632727272727273,
          2.813636363636364,
          2.9945454545454546,
          3.1754545454545453,
          3.3563636363636364,
          3.5372727272727276,
          3.7181818181818183,
          3.899090909090909,
          4.08,
          4.260909090909091,
          4.441818181818181,
          4.622727272727272,
          4.803636363636363,
          4.984545454545454,
          5.165454545454545,
          5.346363636363636,
          5.527272727272727,
          5.708181818181818,
          5.889090909090909,
          6.069999999999999,
          6.25090909090909,
          6.431818181818182,
          6.612727272727272,
          6.793636363636363,
          6.974545454545455,
          7.155454545454545,
          7.336363636363636,
          7.517272727272727,
          7.698181818181817,
          7.879090909090909,
          8.06,
          8.24090909090909,
          8.421818181818182,
          8.602727272727272,
          8.783636363636363,
          8.964545454545455,
          9.145454545454545,
          9.326363636363636,
          9.507272727272726,
          9.688181818181818,
          9.86909090909091,
          10.049999999999999,
          10.23090909090909,
          10.411818181818182,
          10.592727272727272,
          10.773636363636363,
          10.954545454545455,
          11.135454545454545,
          11.316363636363636,
          11.497272727272726,
          11.678181818181818,
          11.85909090909091,
          12.04,
          12.22090909090909,
          12.40181818181818,
          12.582727272727272,
          12.763636363636364,
          12.944545454545453,
          13.125454545454545,
          13.306363636363637,
          13.487272727272726,
          13.668181818181818,
          13.84909090909091,
          14.03,
          14.210909090909091,
          14.39181818181818,
          14.572727272727272,
          14.753636363636364,
          14.934545454545454,
          15.115454545454545,
          15.296363636363635,
          15.477272727272727,
          15.658181818181818,
          15.839090909090908,
          16.02,
          16.200909090909093,
          16.381818181818183,
          16.562727272727273,
          16.743636363636366,
          16.924545454545456,
          17.105454545454545,
          17.28636363636364,
          17.46727272727273,
          17.64818181818182,
          17.82909090909091,
          18.01
         ],
         "y": [
          1.1905755500473152,
          0.9935486546576888,
          0.8291274998322222,
          0.6919162013408215,
          0.5774118332521707,
          0.4818566533541904,
          0.4021147836093947,
          0.33556929861125084,
          0.2800363447463561,
          0.23369347167169824,
          0.195019824128316,
          0.16274623133875635,
          0.13581355604926063,
          0.11333793633814915,
          0.09458177951493434,
          0.07892955620368533,
          0.06586760023400738,
          0.05496725142342098,
          0.04587078804012097,
          0.03827968728531252,
          0.03194482853400427,
          0.026658317829531396,
          0.022246665332506944,
          0.018565091825423184,
          0.015492777426860999,
          0.01292889659018869,
          0.010789309265489166,
          0.009003799637063327,
          0.007513771818895611,
          0.006270326886665788,
          0.005232658139387406,
          0.004366711927240024,
          0.00364407009736979,
          0.0030410173823712254,
          0.0025377631255114413,
          0.0021177918016975724,
          0.0017673210199370252,
          0.0014748492203093735,
          0.0012307782220146246,
          0.0010270982354845227,
          0.0008571250014552868,
          0.0007152804305745453,
          0.0005969095446921191,
          0.0004981277123132748,
          0.00041569316487046745,
          0.0003469006101217487,
          0.0002894924513380921,
          0.000241584698719109,
          0.0002016051416381889,
          0.0001682417526873745,
          0.0001403996302739038,
          0.00011716506673392566,
          0.00009777556277024503,
          0.00008159480416418312,
          0.0000680917795608686,
          0.00005682335402676493,
          0.000047419726487904226,
          0.0000395722937989281,
          0.0000330235231725373,
          0.000027558500608237324,
          0.000022997877961301255,
          0.000019191987192685524,
          0.000016015928644547157,
          0.000013365472151054165,
          0.000011153636469367214,
          0.000009307834776415758,
          0.000007767492553930252,
          0.000006482059686774445,
          0.000005409351536699751,
          0.000004514164549780101,
          0.0000037671209652837285,
          0.0000031437047122643173,
          0.000002623456854449192,
          0.0000021893041799715256,
          0.0000018269989019686497,
          0.0000015246510824448613,
          0.0000012723384347387942,
          0.0000010617806993044341,
          8.860679066469115e-7,
          7.394336096935706e-7,
          6.170656436632924e-7,
          5.149482030542116e-7,
          4.297300531180689e-7,
          3.586145508569081e-7,
          2.992678663108719e-7,
          2.4974239219310944e-7,
          2.0841282837077873e-7,
          1.7392284364731163e-7,
          1.4514056442126545e-7,
          1.2112142947272404e-7,
          1.0107719186578185e-7,
          8.435005068836977e-8,
          7.039106369890332e-8,
          5.874213243770188e-8,
          4.9020968600340487e-8,
          4.090854830753864e-8,
          3.413864255261991e-8,
          2.848908024244854e-8,
          2.37744571070645e-8,
          1.9840051202968305e-8
         ]
        },
        {
         "mode": "lines",
         "name": "Theory - Localized Component",
         "showlegend": false,
         "type": "scatter",
         "x": [
          0.1,
          0.2809090909090909,
          0.4618181818181818,
          0.6427272727272727,
          0.8236363636363636,
          1.0045454545454546,
          1.1854545454545455,
          1.3663636363636364,
          1.5472727272727274,
          1.7281818181818183,
          1.9090909090909092,
          2.09,
          2.270909090909091,
          2.4518181818181817,
          2.632727272727273,
          2.813636363636364,
          2.9945454545454546,
          3.1754545454545453,
          3.3563636363636364,
          3.5372727272727276,
          3.7181818181818183,
          3.899090909090909,
          4.08,
          4.260909090909091,
          4.441818181818181,
          4.622727272727272,
          4.803636363636363,
          4.984545454545454,
          5.165454545454545,
          5.346363636363636,
          5.527272727272727,
          5.708181818181818,
          5.889090909090909,
          6.069999999999999,
          6.25090909090909,
          6.431818181818182,
          6.612727272727272,
          6.793636363636363,
          6.974545454545455,
          7.155454545454545,
          7.336363636363636,
          7.517272727272727,
          7.698181818181817,
          7.879090909090909,
          8.06,
          8.24090909090909,
          8.421818181818182,
          8.602727272727272,
          8.783636363636363,
          8.964545454545455,
          9.145454545454545,
          9.326363636363636,
          9.507272727272726,
          9.688181818181818,
          9.86909090909091,
          10.049999999999999,
          10.23090909090909,
          10.411818181818182,
          10.592727272727272,
          10.773636363636363,
          10.954545454545455,
          11.135454545454545,
          11.316363636363636,
          11.497272727272726,
          11.678181818181818,
          11.85909090909091,
          12.04,
          12.22090909090909,
          12.40181818181818,
          12.582727272727272,
          12.763636363636364,
          12.944545454545453,
          13.125454545454545,
          13.306363636363637,
          13.487272727272726,
          13.668181818181818,
          13.84909090909091,
          14.03,
          14.210909090909091,
          14.39181818181818,
          14.572727272727272,
          14.753636363636364,
          14.934545454545454,
          15.115454545454545,
          15.296363636363635,
          15.477272727272727,
          15.658181818181818,
          15.839090909090908,
          16.02,
          16.200909090909093,
          16.381818181818183,
          16.562727272727273,
          16.743636363636366,
          16.924545454545456,
          17.105454545454545,
          17.28636363636364,
          17.46727272727273,
          17.64818181818182,
          17.82909090909091,
          18.01
         ],
         "y": [
          0.06842898430087893,
          0.06507522814220783,
          0.06188584210369471,
          0.05885277028171317,
          0.05596835159855268,
          0.05322530045170254,
          0.05061668831152901,
          0.04813592622086408,
          0.04577674815230276,
          0.04353319518117164,
          0.04139960043419233,
          0.03937057477582212,
          0.03744099319611805,
          0.035605981865741924,
          0.03386090582540926,
          0.03220135727868781,
          0.030623144458574673,
          0.02912228103973097,
          0.027694976069630835,
          0.026337624393192458,
          0.025046797546705118,
          0.023819235098051738,
          0.022651836411353713,
          0.02154165281523665,
          0.020485880154935354,
          0.019481851709425756,
          0.018527031455693527,
          0.017619007663126036,
          0.01675548680184791,
          0.015934287749613727,
          0.015153336282625223,
          0.014410659836357765,
          0.013704382523162598,
          0.013032720394060225,
          0.012393976932756847,
          0.01178653877050245,
          0.011208871610966944,
          0.010659516354841199,
          0.010137085414374282,
          0.00964025920853805,
          0.009167782829966333,
          0.008718462875249952,
          0.008291164430581394,
          0.00788480820513527,
          0.007498367804944014,
          0.007130867140382944,
          0.006781377960716462,
          0.006449017509478008,
          0.006132946294761588,
          0.005832365968793024,
          0.005546517311425009,
          0.005274678312462567,
          0.0050161623479752365,
          0.004770316445989519,
          0.004536519637181092,
          0.004314181386400815,
          0.0041027401010728356,
          0.0039016617126972357,
          0.0037104383278743023,
          0.0035285869454431016,
          0.003355648236494088,
          0.003191185384174194,
          0.0030347829803539467,
          0.002886045976369781,
          0.002744598685191241,
          0.0026100838324927406,
          0.002482161654232995,
          0.0023605090384627753,
          0.0022448187091933173,
          0.002134798450263936,
          0.002030170367248502,
          0.0019306701855364122,
          0.001836046582815156,
          0.0017460605542684148,
          0.001660484808886277,
          0.0015791031953627417,
          0.0015017101561304322,
          0.0014281102081534656,
          0.0013581174491670627,
          0.0012915550881167296,
          0.0012282549986109609,
          0.0011680572942595726,
          0.001110809924825018,
          0.001056368292166632,
          0.0010045948850077426,
          0.0009553589316031128,
          0.0009085360694294266,
          0.000864008031064481,
          0.0008216623454616834,
          0.0007813920538653067,
          0.0007430954396489566,
          0.000706675771394856,
          0.000672041058565007,
          0.0006391038191471005,
          0.0006077808586882639,
          0.0005779930601585401,
          0.0005496651841133167,
          0.0005227256786499359,
          0.0004971064986784856,
          0.00047274293405025853
         ]
        }
       ],
       "layout": {
        "font": {
         "size": 20
        },
        "template": {
         "data": {
          "bar": [
           {
            "error_x": {
             "color": "#2a3f5f"
            },
            "error_y": {
             "color": "#2a3f5f"
            },
            "marker": {
             "line": {
              "color": "#E5ECF6",
              "width": 0.5
             },
             "pattern": {
              "fillmode": "overlay",
              "size": 10,
              "solidity": 0.2
             }
            },
            "type": "bar"
           }
          ],
          "barpolar": [
           {
            "marker": {
             "line": {
              "color": "#E5ECF6",
              "width": 0.5
             },
             "pattern": {
              "fillmode": "overlay",
              "size": 10,
              "solidity": 0.2
             }
            },
            "type": "barpolar"
           }
          ],
          "carpet": [
           {
            "aaxis": {
             "endlinecolor": "#2a3f5f",
             "gridcolor": "white",
             "linecolor": "white",
             "minorgridcolor": "white",
             "startlinecolor": "#2a3f5f"
            },
            "baxis": {
             "endlinecolor": "#2a3f5f",
             "gridcolor": "white",
             "linecolor": "white",
             "minorgridcolor": "white",
             "startlinecolor": "#2a3f5f"
            },
            "type": "carpet"
           }
          ],
          "choropleth": [
           {
            "colorbar": {
             "outlinewidth": 0,
             "ticks": ""
            },
            "type": "choropleth"
           }
          ],
          "contour": [
           {
            "colorbar": {
             "outlinewidth": 0,
             "ticks": ""
            },
            "colorscale": [
             [
              0,
              "#0d0887"
             ],
             [
              0.1111111111111111,
              "#46039f"
             ],
             [
              0.2222222222222222,
              "#7201a8"
             ],
             [
              0.3333333333333333,
              "#9c179e"
             ],
             [
              0.4444444444444444,
              "#bd3786"
             ],
             [
              0.5555555555555556,
              "#d8576b"
             ],
             [
              0.6666666666666666,
              "#ed7953"
             ],
             [
              0.7777777777777778,
              "#fb9f3a"
             ],
             [
              0.8888888888888888,
              "#fdca26"
             ],
             [
              1,
              "#f0f921"
             ]
            ],
            "type": "contour"
           }
          ],
          "contourcarpet": [
           {
            "colorbar": {
             "outlinewidth": 0,
             "ticks": ""
            },
            "type": "contourcarpet"
           }
          ],
          "heatmap": [
           {
            "colorbar": {
             "outlinewidth": 0,
             "ticks": ""
            },
            "colorscale": [
             [
              0,
              "#0d0887"
             ],
             [
              0.1111111111111111,
              "#46039f"
             ],
             [
              0.2222222222222222,
              "#7201a8"
             ],
             [
              0.3333333333333333,
              "#9c179e"
             ],
             [
              0.4444444444444444,
              "#bd3786"
             ],
             [
              0.5555555555555556,
              "#d8576b"
             ],
             [
              0.6666666666666666,
              "#ed7953"
             ],
             [
              0.7777777777777778,
              "#fb9f3a"
             ],
             [
              0.8888888888888888,
              "#fdca26"
             ],
             [
              1,
              "#f0f921"
             ]
            ],
            "type": "heatmap"
           }
          ],
          "heatmapgl": [
           {
            "colorbar": {
             "outlinewidth": 0,
             "ticks": ""
            },
            "colorscale": [
             [
              0,
              "#0d0887"
             ],
             [
              0.1111111111111111,
              "#46039f"
             ],
             [
              0.2222222222222222,
              "#7201a8"
             ],
             [
              0.3333333333333333,
              "#9c179e"
             ],
             [
              0.4444444444444444,
              "#bd3786"
             ],
             [
              0.5555555555555556,
              "#d8576b"
             ],
             [
              0.6666666666666666,
              "#ed7953"
             ],
             [
              0.7777777777777778,
              "#fb9f3a"
             ],
             [
              0.8888888888888888,
              "#fdca26"
             ],
             [
              1,
              "#f0f921"
             ]
            ],
            "type": "heatmapgl"
           }
          ],
          "histogram": [
           {
            "marker": {
             "pattern": {
              "fillmode": "overlay",
              "size": 10,
              "solidity": 0.2
             }
            },
            "type": "histogram"
           }
          ],
          "histogram2d": [
           {
            "colorbar": {
             "outlinewidth": 0,
             "ticks": ""
            },
            "colorscale": [
             [
              0,
              "#0d0887"
             ],
             [
              0.1111111111111111,
              "#46039f"
             ],
             [
              0.2222222222222222,
              "#7201a8"
             ],
             [
              0.3333333333333333,
              "#9c179e"
             ],
             [
              0.4444444444444444,
              "#bd3786"
             ],
             [
              0.5555555555555556,
              "#d8576b"
             ],
             [
              0.6666666666666666,
              "#ed7953"
             ],
             [
              0.7777777777777778,
              "#fb9f3a"
             ],
             [
              0.8888888888888888,
              "#fdca26"
             ],
             [
              1,
              "#f0f921"
             ]
            ],
            "type": "histogram2d"
           }
          ],
          "histogram2dcontour": [
           {
            "colorbar": {
             "outlinewidth": 0,
             "ticks": ""
            },
            "colorscale": [
             [
              0,
              "#0d0887"
             ],
             [
              0.1111111111111111,
              "#46039f"
             ],
             [
              0.2222222222222222,
              "#7201a8"
             ],
             [
              0.3333333333333333,
              "#9c179e"
             ],
             [
              0.4444444444444444,
              "#bd3786"
             ],
             [
              0.5555555555555556,
              "#d8576b"
             ],
             [
              0.6666666666666666,
              "#ed7953"
             ],
             [
              0.7777777777777778,
              "#fb9f3a"
             ],
             [
              0.8888888888888888,
              "#fdca26"
             ],
             [
              1,
              "#f0f921"
             ]
            ],
            "type": "histogram2dcontour"
           }
          ],
          "mesh3d": [
           {
            "colorbar": {
             "outlinewidth": 0,
             "ticks": ""
            },
            "type": "mesh3d"
           }
          ],
          "parcoords": [
           {
            "line": {
             "colorbar": {
              "outlinewidth": 0,
              "ticks": ""
             }
            },
            "type": "parcoords"
           }
          ],
          "pie": [
           {
            "automargin": true,
            "type": "pie"
           }
          ],
          "scatter": [
           {
            "fillpattern": {
             "fillmode": "overlay",
             "size": 10,
             "solidity": 0.2
            },
            "type": "scatter"
           }
          ],
          "scatter3d": [
           {
            "line": {
             "colorbar": {
              "outlinewidth": 0,
              "ticks": ""
             }
            },
            "marker": {
             "colorbar": {
              "outlinewidth": 0,
              "ticks": ""
             }
            },
            "type": "scatter3d"
           }
          ],
          "scattercarpet": [
           {
            "marker": {
             "colorbar": {
              "outlinewidth": 0,
              "ticks": ""
             }
            },
            "type": "scattercarpet"
           }
          ],
          "scattergeo": [
           {
            "marker": {
             "colorbar": {
              "outlinewidth": 0,
              "ticks": ""
             }
            },
            "type": "scattergeo"
           }
          ],
          "scattergl": [
           {
            "marker": {
             "colorbar": {
              "outlinewidth": 0,
              "ticks": ""
             }
            },
            "type": "scattergl"
           }
          ],
          "scattermapbox": [
           {
            "marker": {
             "colorbar": {
              "outlinewidth": 0,
              "ticks": ""
             }
            },
            "type": "scattermapbox"
           }
          ],
          "scatterpolar": [
           {
            "marker": {
             "colorbar": {
              "outlinewidth": 0,
              "ticks": ""
             }
            },
            "type": "scatterpolar"
           }
          ],
          "scatterpolargl": [
           {
            "marker": {
             "colorbar": {
              "outlinewidth": 0,
              "ticks": ""
             }
            },
            "type": "scatterpolargl"
           }
          ],
          "scatterternary": [
           {
            "marker": {
             "colorbar": {
              "outlinewidth": 0,
              "ticks": ""
             }
            },
            "type": "scatterternary"
           }
          ],
          "surface": [
           {
            "colorbar": {
             "outlinewidth": 0,
             "ticks": ""
            },
            "colorscale": [
             [
              0,
              "#0d0887"
             ],
             [
              0.1111111111111111,
              "#46039f"
             ],
             [
              0.2222222222222222,
              "#7201a8"
             ],
             [
              0.3333333333333333,
              "#9c179e"
             ],
             [
              0.4444444444444444,
              "#bd3786"
             ],
             [
              0.5555555555555556,
              "#d8576b"
             ],
             [
              0.6666666666666666,
              "#ed7953"
             ],
             [
              0.7777777777777778,
              "#fb9f3a"
             ],
             [
              0.8888888888888888,
              "#fdca26"
             ],
             [
              1,
              "#f0f921"
             ]
            ],
            "type": "surface"
           }
          ],
          "table": [
           {
            "cells": {
             "fill": {
              "color": "#EBF0F8"
             },
             "line": {
              "color": "white"
             }
            },
            "header": {
             "fill": {
              "color": "#C8D4E3"
             },
             "line": {
              "color": "white"
             }
            },
            "type": "table"
           }
          ]
         },
         "layout": {
          "annotationdefaults": {
           "arrowcolor": "#2a3f5f",
           "arrowhead": 0,
           "arrowwidth": 1
          },
          "autotypenumbers": "strict",
          "coloraxis": {
           "colorbar": {
            "outlinewidth": 0,
            "ticks": ""
           }
          },
          "colorscale": {
           "diverging": [
            [
             0,
             "#8e0152"
            ],
            [
             0.1,
             "#c51b7d"
            ],
            [
             0.2,
             "#de77ae"
            ],
            [
             0.3,
             "#f1b6da"
            ],
            [
             0.4,
             "#fde0ef"
            ],
            [
             0.5,
             "#f7f7f7"
            ],
            [
             0.6,
             "#e6f5d0"
            ],
            [
             0.7,
             "#b8e186"
            ],
            [
             0.8,
             "#7fbc41"
            ],
            [
             0.9,
             "#4d9221"
            ],
            [
             1,
             "#276419"
            ]
           ],
           "sequential": [
            [
             0,
             "#0d0887"
            ],
            [
             0.1111111111111111,
             "#46039f"
            ],
            [
             0.2222222222222222,
             "#7201a8"
            ],
            [
             0.3333333333333333,
             "#9c179e"
            ],
            [
             0.4444444444444444,
             "#bd3786"
            ],
            [
             0.5555555555555556,
             "#d8576b"
            ],
            [
             0.6666666666666666,
             "#ed7953"
            ],
            [
             0.7777777777777778,
             "#fb9f3a"
            ],
            [
             0.8888888888888888,
             "#fdca26"
            ],
            [
             1,
             "#f0f921"
            ]
           ],
           "sequentialminus": [
            [
             0,
             "#0d0887"
            ],
            [
             0.1111111111111111,
             "#46039f"
            ],
            [
             0.2222222222222222,
             "#7201a8"
            ],
            [
             0.3333333333333333,
             "#9c179e"
            ],
            [
             0.4444444444444444,
             "#bd3786"
            ],
            [
             0.5555555555555556,
             "#d8576b"
            ],
            [
             0.6666666666666666,
             "#ed7953"
            ],
            [
             0.7777777777777778,
             "#fb9f3a"
            ],
            [
             0.8888888888888888,
             "#fdca26"
            ],
            [
             1,
             "#f0f921"
            ]
           ]
          },
          "colorway": [
           "#636efa",
           "#EF553B",
           "#00cc96",
           "#ab63fa",
           "#FFA15A",
           "#19d3f3",
           "#FF6692",
           "#B6E880",
           "#FF97FF",
           "#FECB52"
          ],
          "font": {
           "color": "#2a3f5f"
          },
          "geo": {
           "bgcolor": "white",
           "lakecolor": "white",
           "landcolor": "#E5ECF6",
           "showlakes": true,
           "showland": true,
           "subunitcolor": "white"
          },
          "hoverlabel": {
           "align": "left"
          },
          "hovermode": "closest",
          "mapbox": {
           "style": "light"
          },
          "paper_bgcolor": "white",
          "plot_bgcolor": "#E5ECF6",
          "polar": {
           "angularaxis": {
            "gridcolor": "white",
            "linecolor": "white",
            "ticks": ""
           },
           "bgcolor": "#E5ECF6",
           "radialaxis": {
            "gridcolor": "white",
            "linecolor": "white",
            "ticks": ""
           }
          },
          "scene": {
           "xaxis": {
            "backgroundcolor": "#E5ECF6",
            "gridcolor": "white",
            "gridwidth": 2,
            "linecolor": "white",
            "showbackground": true,
            "ticks": "",
            "zerolinecolor": "white"
           },
           "yaxis": {
            "backgroundcolor": "#E5ECF6",
            "gridcolor": "white",
            "gridwidth": 2,
            "linecolor": "white",
            "showbackground": true,
            "ticks": "",
            "zerolinecolor": "white"
           },
           "zaxis": {
            "backgroundcolor": "#E5ECF6",
            "gridcolor": "white",
            "gridwidth": 2,
            "linecolor": "white",
            "showbackground": true,
            "ticks": "",
            "zerolinecolor": "white"
           }
          },
          "shapedefaults": {
           "line": {
            "color": "#2a3f5f"
           }
          },
          "ternary": {
           "aaxis": {
            "gridcolor": "white",
            "linecolor": "white",
            "ticks": ""
           },
           "baxis": {
            "gridcolor": "white",
            "linecolor": "white",
            "ticks": ""
           },
           "bgcolor": "#E5ECF6",
           "caxis": {
            "gridcolor": "white",
            "linecolor": "white",
            "ticks": ""
           }
          },
          "title": {
           "x": 0.05
          },
          "xaxis": {
           "automargin": true,
           "gridcolor": "white",
           "linecolor": "white",
           "ticks": "",
           "title": {
            "standoff": 15
           },
           "zerolinecolor": "white",
           "zerolinewidth": 2
          },
          "yaxis": {
           "automargin": true,
           "gridcolor": "white",
           "linecolor": "white",
           "ticks": "",
           "title": {
            "standoff": 15
           },
           "zerolinecolor": "white",
           "zerolinewidth": 2
          }
         }
        },
        "title": {
         "text": "$a/\\lambda=\\text{0.462 - Near gap}$"
        },
        "xaxis": {
         "title": {
          "text": "$\\Large{L'/a}$"
         },
         "type": "log"
        },
        "yaxis": {
         "exponentformat": "e",
         "range": [
          -1.5,
          0
         ],
         "showexponent": "all",
         "title": {
          "text": "$\\large{\\text{T(L)}}$"
         },
         "type": "log"
        }
       }
      },
      "text/html": [
       "<div>                            <div id=\"adefb1c3-4d34-4d66-9817-926abaf8f3db\" class=\"plotly-graph-div\" style=\"height:525px; width:100%;\"></div>            <script type=\"text/javascript\">                require([\"plotly\"], function(Plotly) {                    window.PLOTLYENV=window.PLOTLYENV || {};                                    if (document.getElementById(\"adefb1c3-4d34-4d66-9817-926abaf8f3db\")) {                    Plotly.newPlot(                        \"adefb1c3-4d34-4d66-9817-926abaf8f3db\",                        [{\"mode\":\"markers\",\"name\":\"Simulations\",\"showlegend\":true,\"x\":[0.1801,0.5403,0.9005000000000001,1.2607000000000002,1.6209,1.8010000000000002,2.7015000000000002,5.4030000000000005,9.005,12.607000000000001,16.209000000000003,18.01],\"y\":[0.6961408257484436,0.5158309936523438,0.27981942892074585,0.15129566192626953,0.07930485159158707,0.0729486420750618,0.029732778668403625,0.006764506921172142,0.002158605959266424,0.0007293744711205363,0.0004978634533472359,0.00022225036809686571],\"type\":\"scatter\"},{\"mode\":\"lines\",\"name\":\"Theory -Ballistic Component\",\"showlegend\":false,\"x\":[0.1,0.2809090909090909,0.4618181818181818,0.6427272727272727,0.8236363636363636,1.0045454545454546,1.1854545454545455,1.3663636363636364,1.5472727272727274,1.7281818181818183,1.9090909090909092,2.09,2.270909090909091,2.4518181818181817,2.632727272727273,2.813636363636364,2.9945454545454546,3.1754545454545453,3.3563636363636364,3.5372727272727276,3.7181818181818183,3.899090909090909,4.08,4.260909090909091,4.441818181818181,4.622727272727272,4.803636363636363,4.984545454545454,5.165454545454545,5.346363636363636,5.527272727272727,5.708181818181818,5.889090909090909,6.069999999999999,6.25090909090909,6.431818181818182,6.612727272727272,6.793636363636363,6.974545454545455,7.155454545454545,7.336363636363636,7.517272727272727,7.698181818181817,7.879090909090909,8.06,8.24090909090909,8.421818181818182,8.602727272727272,8.783636363636363,8.964545454545455,9.145454545454545,9.326363636363636,9.507272727272726,9.688181818181818,9.86909090909091,10.049999999999999,10.23090909090909,10.411818181818182,10.592727272727272,10.773636363636363,10.954545454545455,11.135454545454545,11.316363636363636,11.497272727272726,11.678181818181818,11.85909090909091,12.04,12.22090909090909,12.40181818181818,12.582727272727272,12.763636363636364,12.944545454545453,13.125454545454545,13.306363636363637,13.487272727272726,13.668181818181818,13.84909090909091,14.03,14.210909090909091,14.39181818181818,14.572727272727272,14.753636363636364,14.934545454545454,15.115454545454545,15.296363636363635,15.477272727272727,15.658181818181818,15.839090909090908,16.02,16.200909090909093,16.381818181818183,16.562727272727273,16.743636363636366,16.924545454545456,17.105454545454545,17.28636363636364,17.46727272727273,17.64818181818182,17.82909090909091,18.01],\"y\":[1.1905755500473152,0.9935486546576888,0.8291274998322222,0.6919162013408215,0.5774118332521707,0.4818566533541904,0.4021147836093947,0.33556929861125084,0.2800363447463561,0.23369347167169824,0.195019824128316,0.16274623133875635,0.13581355604926063,0.11333793633814915,0.09458177951493434,0.07892955620368533,0.06586760023400738,0.05496725142342098,0.04587078804012097,0.03827968728531252,0.03194482853400427,0.026658317829531396,0.022246665332506944,0.018565091825423184,0.015492777426860999,0.01292889659018869,0.010789309265489166,0.009003799637063327,0.007513771818895611,0.006270326886665788,0.005232658139387406,0.004366711927240024,0.00364407009736979,0.0030410173823712254,0.0025377631255114413,0.0021177918016975724,0.0017673210199370252,0.0014748492203093735,0.0012307782220146246,0.0010270982354845227,0.0008571250014552868,0.0007152804305745453,0.0005969095446921191,0.0004981277123132748,0.00041569316487046745,0.0003469006101217487,0.0002894924513380921,0.000241584698719109,0.0002016051416381889,0.0001682417526873745,0.0001403996302739038,0.00011716506673392566,9.777556277024503e-05,8.159480416418312e-05,6.80917795608686e-05,5.682335402676493e-05,4.7419726487904226e-05,3.95722937989281e-05,3.30235231725373e-05,2.7558500608237324e-05,2.2997877961301255e-05,1.9191987192685524e-05,1.6015928644547157e-05,1.3365472151054165e-05,1.1153636469367214e-05,9.307834776415758e-06,7.767492553930252e-06,6.482059686774445e-06,5.409351536699751e-06,4.514164549780101e-06,3.7671209652837285e-06,3.1437047122643173e-06,2.623456854449192e-06,2.1893041799715256e-06,1.8269989019686497e-06,1.5246510824448613e-06,1.2723384347387942e-06,1.0617806993044341e-06,8.860679066469115e-07,7.394336096935706e-07,6.170656436632924e-07,5.149482030542116e-07,4.297300531180689e-07,3.586145508569081e-07,2.992678663108719e-07,2.4974239219310944e-07,2.0841282837077873e-07,1.7392284364731163e-07,1.4514056442126545e-07,1.2112142947272404e-07,1.0107719186578185e-07,8.435005068836977e-08,7.039106369890332e-08,5.874213243770188e-08,4.9020968600340487e-08,4.090854830753864e-08,3.413864255261991e-08,2.848908024244854e-08,2.37744571070645e-08,1.9840051202968305e-08],\"type\":\"scatter\"},{\"mode\":\"lines\",\"name\":\"Theory - Localized Component\",\"showlegend\":false,\"x\":[0.1,0.2809090909090909,0.4618181818181818,0.6427272727272727,0.8236363636363636,1.0045454545454546,1.1854545454545455,1.3663636363636364,1.5472727272727274,1.7281818181818183,1.9090909090909092,2.09,2.270909090909091,2.4518181818181817,2.632727272727273,2.813636363636364,2.9945454545454546,3.1754545454545453,3.3563636363636364,3.5372727272727276,3.7181818181818183,3.899090909090909,4.08,4.260909090909091,4.441818181818181,4.622727272727272,4.803636363636363,4.984545454545454,5.165454545454545,5.346363636363636,5.527272727272727,5.708181818181818,5.889090909090909,6.069999999999999,6.25090909090909,6.431818181818182,6.612727272727272,6.793636363636363,6.974545454545455,7.155454545454545,7.336363636363636,7.517272727272727,7.698181818181817,7.879090909090909,8.06,8.24090909090909,8.421818181818182,8.602727272727272,8.783636363636363,8.964545454545455,9.145454545454545,9.326363636363636,9.507272727272726,9.688181818181818,9.86909090909091,10.049999999999999,10.23090909090909,10.411818181818182,10.592727272727272,10.773636363636363,10.954545454545455,11.135454545454545,11.316363636363636,11.497272727272726,11.678181818181818,11.85909090909091,12.04,12.22090909090909,12.40181818181818,12.582727272727272,12.763636363636364,12.944545454545453,13.125454545454545,13.306363636363637,13.487272727272726,13.668181818181818,13.84909090909091,14.03,14.210909090909091,14.39181818181818,14.572727272727272,14.753636363636364,14.934545454545454,15.115454545454545,15.296363636363635,15.477272727272727,15.658181818181818,15.839090909090908,16.02,16.200909090909093,16.381818181818183,16.562727272727273,16.743636363636366,16.924545454545456,17.105454545454545,17.28636363636364,17.46727272727273,17.64818181818182,17.82909090909091,18.01],\"y\":[0.06842898430087893,0.06507522814220783,0.06188584210369471,0.05885277028171317,0.05596835159855268,0.05322530045170254,0.05061668831152901,0.04813592622086408,0.04577674815230276,0.04353319518117164,0.04139960043419233,0.03937057477582212,0.03744099319611805,0.035605981865741924,0.03386090582540926,0.03220135727868781,0.030623144458574673,0.02912228103973097,0.027694976069630835,0.026337624393192458,0.025046797546705118,0.023819235098051738,0.022651836411353713,0.02154165281523665,0.020485880154935354,0.019481851709425756,0.018527031455693527,0.017619007663126036,0.01675548680184791,0.015934287749613727,0.015153336282625223,0.014410659836357765,0.013704382523162598,0.013032720394060225,0.012393976932756847,0.01178653877050245,0.011208871610966944,0.010659516354841199,0.010137085414374282,0.00964025920853805,0.009167782829966333,0.008718462875249952,0.008291164430581394,0.00788480820513527,0.007498367804944014,0.007130867140382944,0.006781377960716462,0.006449017509478008,0.006132946294761588,0.005832365968793024,0.005546517311425009,0.005274678312462567,0.0050161623479752365,0.004770316445989519,0.004536519637181092,0.004314181386400815,0.0041027401010728356,0.0039016617126972357,0.0037104383278743023,0.0035285869454431016,0.003355648236494088,0.003191185384174194,0.0030347829803539467,0.002886045976369781,0.002744598685191241,0.0026100838324927406,0.002482161654232995,0.0023605090384627753,0.0022448187091933173,0.002134798450263936,0.002030170367248502,0.0019306701855364122,0.001836046582815156,0.0017460605542684148,0.001660484808886277,0.0015791031953627417,0.0015017101561304322,0.0014281102081534656,0.0013581174491670627,0.0012915550881167296,0.0012282549986109609,0.0011680572942595726,0.001110809924825018,0.001056368292166632,0.0010045948850077426,0.0009553589316031128,0.0009085360694294266,0.000864008031064481,0.0008216623454616834,0.0007813920538653067,0.0007430954396489566,0.000706675771394856,0.000672041058565007,0.0006391038191471005,0.0006077808586882639,0.0005779930601585401,0.0005496651841133167,0.0005227256786499359,0.0004971064986784856,0.00047274293405025853],\"type\":\"scatter\"}],                        {\"template\":{\"data\":{\"histogram2dcontour\":[{\"type\":\"histogram2dcontour\",\"colorbar\":{\"outlinewidth\":0,\"ticks\":\"\"},\"colorscale\":[[0.0,\"#0d0887\"],[0.1111111111111111,\"#46039f\"],[0.2222222222222222,\"#7201a8\"],[0.3333333333333333,\"#9c179e\"],[0.4444444444444444,\"#bd3786\"],[0.5555555555555556,\"#d8576b\"],[0.6666666666666666,\"#ed7953\"],[0.7777777777777778,\"#fb9f3a\"],[0.8888888888888888,\"#fdca26\"],[1.0,\"#f0f921\"]]}],\"choropleth\":[{\"type\":\"choropleth\",\"colorbar\":{\"outlinewidth\":0,\"ticks\":\"\"}}],\"histogram2d\":[{\"type\":\"histogram2d\",\"colorbar\":{\"outlinewidth\":0,\"ticks\":\"\"},\"colorscale\":[[0.0,\"#0d0887\"],[0.1111111111111111,\"#46039f\"],[0.2222222222222222,\"#7201a8\"],[0.3333333333333333,\"#9c179e\"],[0.4444444444444444,\"#bd3786\"],[0.5555555555555556,\"#d8576b\"],[0.6666666666666666,\"#ed7953\"],[0.7777777777777778,\"#fb9f3a\"],[0.8888888888888888,\"#fdca26\"],[1.0,\"#f0f921\"]]}],\"heatmap\":[{\"type\":\"heatmap\",\"colorbar\":{\"outlinewidth\":0,\"ticks\":\"\"},\"colorscale\":[[0.0,\"#0d0887\"],[0.1111111111111111,\"#46039f\"],[0.2222222222222222,\"#7201a8\"],[0.3333333333333333,\"#9c179e\"],[0.4444444444444444,\"#bd3786\"],[0.5555555555555556,\"#d8576b\"],[0.6666666666666666,\"#ed7953\"],[0.7777777777777778,\"#fb9f3a\"],[0.8888888888888888,\"#fdca26\"],[1.0,\"#f0f921\"]]}],\"heatmapgl\":[{\"type\":\"heatmapgl\",\"colorbar\":{\"outlinewidth\":0,\"ticks\":\"\"},\"colorscale\":[[0.0,\"#0d0887\"],[0.1111111111111111,\"#46039f\"],[0.2222222222222222,\"#7201a8\"],[0.3333333333333333,\"#9c179e\"],[0.4444444444444444,\"#bd3786\"],[0.5555555555555556,\"#d8576b\"],[0.6666666666666666,\"#ed7953\"],[0.7777777777777778,\"#fb9f3a\"],[0.8888888888888888,\"#fdca26\"],[1.0,\"#f0f921\"]]}],\"contourcarpet\":[{\"type\":\"contourcarpet\",\"colorbar\":{\"outlinewidth\":0,\"ticks\":\"\"}}],\"contour\":[{\"type\":\"contour\",\"colorbar\":{\"outlinewidth\":0,\"ticks\":\"\"},\"colorscale\":[[0.0,\"#0d0887\"],[0.1111111111111111,\"#46039f\"],[0.2222222222222222,\"#7201a8\"],[0.3333333333333333,\"#9c179e\"],[0.4444444444444444,\"#bd3786\"],[0.5555555555555556,\"#d8576b\"],[0.6666666666666666,\"#ed7953\"],[0.7777777777777778,\"#fb9f3a\"],[0.8888888888888888,\"#fdca26\"],[1.0,\"#f0f921\"]]}],\"surface\":[{\"type\":\"surface\",\"colorbar\":{\"outlinewidth\":0,\"ticks\":\"\"},\"colorscale\":[[0.0,\"#0d0887\"],[0.1111111111111111,\"#46039f\"],[0.2222222222222222,\"#7201a8\"],[0.3333333333333333,\"#9c179e\"],[0.4444444444444444,\"#bd3786\"],[0.5555555555555556,\"#d8576b\"],[0.6666666666666666,\"#ed7953\"],[0.7777777777777778,\"#fb9f3a\"],[0.8888888888888888,\"#fdca26\"],[1.0,\"#f0f921\"]]}],\"mesh3d\":[{\"type\":\"mesh3d\",\"colorbar\":{\"outlinewidth\":0,\"ticks\":\"\"}}],\"scatter\":[{\"fillpattern\":{\"fillmode\":\"overlay\",\"size\":10,\"solidity\":0.2},\"type\":\"scatter\"}],\"parcoords\":[{\"type\":\"parcoords\",\"line\":{\"colorbar\":{\"outlinewidth\":0,\"ticks\":\"\"}}}],\"scatterpolargl\":[{\"type\":\"scatterpolargl\",\"marker\":{\"colorbar\":{\"outlinewidth\":0,\"ticks\":\"\"}}}],\"bar\":[{\"error_x\":{\"color\":\"#2a3f5f\"},\"error_y\":{\"color\":\"#2a3f5f\"},\"marker\":{\"line\":{\"color\":\"#E5ECF6\",\"width\":0.5},\"pattern\":{\"fillmode\":\"overlay\",\"size\":10,\"solidity\":0.2}},\"type\":\"bar\"}],\"scattergeo\":[{\"type\":\"scattergeo\",\"marker\":{\"colorbar\":{\"outlinewidth\":0,\"ticks\":\"\"}}}],\"scatterpolar\":[{\"type\":\"scatterpolar\",\"marker\":{\"colorbar\":{\"outlinewidth\":0,\"ticks\":\"\"}}}],\"histogram\":[{\"marker\":{\"pattern\":{\"fillmode\":\"overlay\",\"size\":10,\"solidity\":0.2}},\"type\":\"histogram\"}],\"scattergl\":[{\"type\":\"scattergl\",\"marker\":{\"colorbar\":{\"outlinewidth\":0,\"ticks\":\"\"}}}],\"scatter3d\":[{\"type\":\"scatter3d\",\"line\":{\"colorbar\":{\"outlinewidth\":0,\"ticks\":\"\"}},\"marker\":{\"colorbar\":{\"outlinewidth\":0,\"ticks\":\"\"}}}],\"scattermapbox\":[{\"type\":\"scattermapbox\",\"marker\":{\"colorbar\":{\"outlinewidth\":0,\"ticks\":\"\"}}}],\"scatterternary\":[{\"type\":\"scatterternary\",\"marker\":{\"colorbar\":{\"outlinewidth\":0,\"ticks\":\"\"}}}],\"scattercarpet\":[{\"type\":\"scattercarpet\",\"marker\":{\"colorbar\":{\"outlinewidth\":0,\"ticks\":\"\"}}}],\"carpet\":[{\"aaxis\":{\"endlinecolor\":\"#2a3f5f\",\"gridcolor\":\"white\",\"linecolor\":\"white\",\"minorgridcolor\":\"white\",\"startlinecolor\":\"#2a3f5f\"},\"baxis\":{\"endlinecolor\":\"#2a3f5f\",\"gridcolor\":\"white\",\"linecolor\":\"white\",\"minorgridcolor\":\"white\",\"startlinecolor\":\"#2a3f5f\"},\"type\":\"carpet\"}],\"table\":[{\"cells\":{\"fill\":{\"color\":\"#EBF0F8\"},\"line\":{\"color\":\"white\"}},\"header\":{\"fill\":{\"color\":\"#C8D4E3\"},\"line\":{\"color\":\"white\"}},\"type\":\"table\"}],\"barpolar\":[{\"marker\":{\"line\":{\"color\":\"#E5ECF6\",\"width\":0.5},\"pattern\":{\"fillmode\":\"overlay\",\"size\":10,\"solidity\":0.2}},\"type\":\"barpolar\"}],\"pie\":[{\"automargin\":true,\"type\":\"pie\"}]},\"layout\":{\"autotypenumbers\":\"strict\",\"colorway\":[\"#636efa\",\"#EF553B\",\"#00cc96\",\"#ab63fa\",\"#FFA15A\",\"#19d3f3\",\"#FF6692\",\"#B6E880\",\"#FF97FF\",\"#FECB52\"],\"font\":{\"color\":\"#2a3f5f\"},\"hovermode\":\"closest\",\"hoverlabel\":{\"align\":\"left\"},\"paper_bgcolor\":\"white\",\"plot_bgcolor\":\"#E5ECF6\",\"polar\":{\"bgcolor\":\"#E5ECF6\",\"angularaxis\":{\"gridcolor\":\"white\",\"linecolor\":\"white\",\"ticks\":\"\"},\"radialaxis\":{\"gridcolor\":\"white\",\"linecolor\":\"white\",\"ticks\":\"\"}},\"ternary\":{\"bgcolor\":\"#E5ECF6\",\"aaxis\":{\"gridcolor\":\"white\",\"linecolor\":\"white\",\"ticks\":\"\"},\"baxis\":{\"gridcolor\":\"white\",\"linecolor\":\"white\",\"ticks\":\"\"},\"caxis\":{\"gridcolor\":\"white\",\"linecolor\":\"white\",\"ticks\":\"\"}},\"coloraxis\":{\"colorbar\":{\"outlinewidth\":0,\"ticks\":\"\"}},\"colorscale\":{\"sequential\":[[0.0,\"#0d0887\"],[0.1111111111111111,\"#46039f\"],[0.2222222222222222,\"#7201a8\"],[0.3333333333333333,\"#9c179e\"],[0.4444444444444444,\"#bd3786\"],[0.5555555555555556,\"#d8576b\"],[0.6666666666666666,\"#ed7953\"],[0.7777777777777778,\"#fb9f3a\"],[0.8888888888888888,\"#fdca26\"],[1.0,\"#f0f921\"]],\"sequentialminus\":[[0.0,\"#0d0887\"],[0.1111111111111111,\"#46039f\"],[0.2222222222222222,\"#7201a8\"],[0.3333333333333333,\"#9c179e\"],[0.4444444444444444,\"#bd3786\"],[0.5555555555555556,\"#d8576b\"],[0.6666666666666666,\"#ed7953\"],[0.7777777777777778,\"#fb9f3a\"],[0.8888888888888888,\"#fdca26\"],[1.0,\"#f0f921\"]],\"diverging\":[[0,\"#8e0152\"],[0.1,\"#c51b7d\"],[0.2,\"#de77ae\"],[0.3,\"#f1b6da\"],[0.4,\"#fde0ef\"],[0.5,\"#f7f7f7\"],[0.6,\"#e6f5d0\"],[0.7,\"#b8e186\"],[0.8,\"#7fbc41\"],[0.9,\"#4d9221\"],[1,\"#276419\"]]},\"xaxis\":{\"gridcolor\":\"white\",\"linecolor\":\"white\",\"ticks\":\"\",\"title\":{\"standoff\":15},\"zerolinecolor\":\"white\",\"automargin\":true,\"zerolinewidth\":2},\"yaxis\":{\"gridcolor\":\"white\",\"linecolor\":\"white\",\"ticks\":\"\",\"title\":{\"standoff\":15},\"zerolinecolor\":\"white\",\"automargin\":true,\"zerolinewidth\":2},\"scene\":{\"xaxis\":{\"backgroundcolor\":\"#E5ECF6\",\"gridcolor\":\"white\",\"linecolor\":\"white\",\"showbackground\":true,\"ticks\":\"\",\"zerolinecolor\":\"white\",\"gridwidth\":2},\"yaxis\":{\"backgroundcolor\":\"#E5ECF6\",\"gridcolor\":\"white\",\"linecolor\":\"white\",\"showbackground\":true,\"ticks\":\"\",\"zerolinecolor\":\"white\",\"gridwidth\":2},\"zaxis\":{\"backgroundcolor\":\"#E5ECF6\",\"gridcolor\":\"white\",\"linecolor\":\"white\",\"showbackground\":true,\"ticks\":\"\",\"zerolinecolor\":\"white\",\"gridwidth\":2}},\"shapedefaults\":{\"line\":{\"color\":\"#2a3f5f\"}},\"annotationdefaults\":{\"arrowcolor\":\"#2a3f5f\",\"arrowhead\":0,\"arrowwidth\":1},\"geo\":{\"bgcolor\":\"white\",\"landcolor\":\"#E5ECF6\",\"subunitcolor\":\"white\",\"showland\":true,\"showlakes\":true,\"lakecolor\":\"white\"},\"title\":{\"x\":0.05},\"mapbox\":{\"style\":\"light\"}}},\"yaxis\":{\"type\":\"log\",\"title\":{\"text\":\"$\\\\large{\\\\text{T(L)}}$\"},\"range\":[-1.5,0],\"showexponent\":\"all\",\"exponentformat\":\"e\"},\"xaxis\":{\"type\":\"log\",\"title\":{\"text\":\"$\\\\Large{L'\\u002fa}$\"}},\"title\":{\"text\":\"$a\\u002f\\\\lambda=\\\\text{0.462 - Near gap}$\"},\"font\":{\"size\":20}},                        {\"responsive\": true}                    ).then(function(){\n",
       "                            \n",
       "var gd = document.getElementById('adefb1c3-4d34-4d66-9817-926abaf8f3db');\n",
       "var x = new MutationObserver(function (mutations, observer) {{\n",
       "        var display = window.getComputedStyle(gd).display;\n",
       "        if (!display || display === 'none') {{\n",
       "            console.log([gd, 'removed!']);\n",
       "            Plotly.purge(gd);\n",
       "            observer.disconnect();\n",
       "        }}\n",
       "}});\n",
       "\n",
       "// Listen for the removal of the full notebook cells\n",
       "var notebookContainer = gd.closest('#notebook-container');\n",
       "if (notebookContainer) {{\n",
       "    x.observe(notebookContainer, {childList: true});\n",
       "}}\n",
       "\n",
       "// Listen for the clearing of the current output cell\n",
       "var outputEl = gd.closest('.output');\n",
       "if (outputEl) {{\n",
       "    x.observe(outputEl, {childList: true});\n",
       "}}\n",
       "\n",
       "                        })                };                });            </script>        </div>"
      ]
     },
     "metadata": {},
     "output_type": "display_data"
    },
    {
     "data": {
      "application/vnd.plotly.v1+json": {
       "config": {
        "plotlyServerURL": "https://plot.ly"
       },
       "data": [
        {
         "mode": "markers",
         "name": "Simulations",
         "showlegend": true,
         "type": "scatter",
         "x": [
          0.1801,
          0.5403,
          0.9005000000000001,
          1.2607000000000002,
          1.6209,
          1.8010000000000002,
          2.7015000000000002,
          5.4030000000000005,
          9.005,
          12.607000000000001,
          16.209000000000003,
          18.01
         ],
         "y": [
          0.7061256170272827,
          0.49340948462486267,
          0.2892386317253113,
          0.14051352441310883,
          0.05413523316383362,
          0.040656235069036484,
          0.004350507166236639,
          0.000018707049093791284,
          0.0000020254165065125562,
          0.0000039121910049289,
          0.00000609867811363074,
          0.000006618888619414065
         ]
        },
        {
         "mode": "lines",
         "name": "Theory -Ballistic Component",
         "showlegend": false,
         "type": "scatter",
         "x": [
          0.1,
          0.2809090909090909,
          0.4618181818181818,
          0.6427272727272727,
          0.8236363636363636,
          1.0045454545454546,
          1.1854545454545455,
          1.3663636363636364,
          1.5472727272727274,
          1.7281818181818183,
          1.9090909090909092,
          2.09,
          2.270909090909091,
          2.4518181818181817,
          2.632727272727273,
          2.813636363636364,
          2.9945454545454546,
          3.1754545454545453,
          3.3563636363636364,
          3.5372727272727276,
          3.7181818181818183,
          3.899090909090909,
          4.08,
          4.260909090909091,
          4.441818181818181,
          4.622727272727272,
          4.803636363636363,
          4.984545454545454,
          5.165454545454545,
          5.346363636363636,
          5.527272727272727,
          5.708181818181818,
          5.889090909090909,
          6.069999999999999,
          6.25090909090909,
          6.431818181818182,
          6.612727272727272,
          6.793636363636363,
          6.974545454545455,
          7.155454545454545,
          7.336363636363636,
          7.517272727272727,
          7.698181818181817,
          7.879090909090909,
          8.06,
          8.24090909090909,
          8.421818181818182,
          8.602727272727272,
          8.783636363636363,
          8.964545454545455,
          9.145454545454545,
          9.326363636363636,
          9.507272727272726,
          9.688181818181818,
          9.86909090909091,
          10.049999999999999,
          10.23090909090909,
          10.411818181818182,
          10.592727272727272,
          10.773636363636363,
          10.954545454545455,
          11.135454545454545,
          11.316363636363636,
          11.497272727272726,
          11.678181818181818,
          11.85909090909091,
          12.04,
          12.22090909090909,
          12.40181818181818,
          12.582727272727272,
          12.763636363636364,
          12.944545454545453,
          13.125454545454545,
          13.306363636363637,
          13.487272727272726,
          13.668181818181818,
          13.84909090909091,
          14.03,
          14.210909090909091,
          14.39181818181818,
          14.572727272727272,
          14.753636363636364,
          14.934545454545454,
          15.115454545454545,
          15.296363636363635,
          15.477272727272727,
          15.658181818181818,
          15.839090909090908,
          16.02,
          16.200909090909093,
          16.381818181818183,
          16.562727272727273,
          16.743636363636366,
          16.924545454545456,
          17.105454545454545,
          17.28636363636364,
          17.46727272727273,
          17.64818181818182,
          17.82909090909091,
          18.01
         ],
         "y": [
          1.256718636161055,
          1.0487458021386715,
          0.8751901387117902,
          0.7303559903042005,
          0.6094902684328468,
          0.5086264674294233,
          0.4244544938099166,
          0.354212037422987,
          0.295593919454487,
          0.24667644232012595,
          0.20585425880211133,
          0.17178768863535393,
          0.14335875360755287,
          0.11963448835693521,
          0.09983632282131959,
          0.08331453154833451,
          0.0695269113581189,
          0.05802098761361104,
          0.04841916515346103,
          0.040406336578941,
          0.033719541230337845,
          0.028139335486727587,
          0.02348259118431289,
          0.019596485815724474,
          0.016353487283908834,
          0.013647168622976952,
          0.011388715335794119,
          0.00950401072801129,
          0.007931203586612035,
          0.006618678380369444,
          0.005523361369353374,
          0.004609307034308915,
          0.003846518436112556,
          0.00320996279250296,
          0.0026787499658176323,
          0.002235446901791882,
          0.001865505521044638,
          0.0015567852881043388,
          0.001299154789904326,
          0.0010841592485669963,
          0.0009047430570916917,
          0.0007550182322731312,
          0.0006300711860639034,
          0.0005258014741084568,
          0.00043878722958549346,
          0.00036617286623962365,
          0.0003055753653013194,
          0.00025500607087017063,
          0.000212805427284755,
          0.00017758851672556198,
          0.00014819960973356513,
          0.00012367423710803264,
          0.00010320753847970309,
          0.00008612784883997107,
          0.00007187465620313909,
          0.000059980207028251874,
          0.000050054155737232245,
          0.00004177075456553522,
          0.000034858163348789374,
          0.000029089528419806066,
          0.000024275537848040215,
          0.000020258208703390278,
          0.000016905702458133113,
          0.000014107998381668286,
          0.000011773282939887615,
          0.000009824936708438857,
          0.000008199019918037489,
          0.00000684217411381747,
          0.000005709871066516403,
          0.000004764951469212329,
          0.000003976405463355047,
          0.0000033183549740567794,
          0.0000027692044574741475,
          0.0000023109321899699437,
          0.0000019284988409669083,
          0.0000016093539203584647,
          0.000001343023903335394,
          0.0000011207685159324583,
          9.352939014606289e-7,
          7.805132546765467e-7,
          6.513470683112531e-7,
          5.435564365572234e-7,
          4.5360394495796165e-7,
          3.7853758146006966e-7,
          3.158938588836981e-7,
          2.636169695371711e-7,
          2.19991318835822e-7,
          1.8358522384994007e-7,
          1.5320392911133574e-7,
          1.2785039777676427e-7,
          1.0669259141388085e-7,
          8.903616461550143e-8,
          7.43016783488424e-8,
          6.200558423979644e-8,
          5.1744355744803847e-8,
          4.318124543573523e-8,
          3.603523380554324e-8,
          3.007180692258457e-8,
          2.5095260279679193e-8,
          2.0942276269799878e-8
         ]
        },
        {
         "mode": "lines",
         "name": "Theory - Localized Component",
         "showlegend": false,
         "type": "scatter",
         "x": [
          0.1,
          0.2809090909090909,
          0.4618181818181818,
          0.6427272727272727,
          0.8236363636363636,
          1.0045454545454546,
          1.1854545454545455,
          1.3663636363636364,
          1.5472727272727274,
          1.7281818181818183,
          1.9090909090909092,
          2.09,
          2.270909090909091,
          2.4518181818181817,
          2.632727272727273,
          2.813636363636364,
          2.9945454545454546,
          3.1754545454545453,
          3.3563636363636364,
          3.5372727272727276,
          3.7181818181818183,
          3.899090909090909,
          4.08,
          4.260909090909091,
          4.441818181818181,
          4.622727272727272,
          4.803636363636363,
          4.984545454545454,
          5.165454545454545,
          5.346363636363636,
          5.527272727272727,
          5.708181818181818,
          5.889090909090909,
          6.069999999999999,
          6.25090909090909,
          6.431818181818182,
          6.612727272727272,
          6.793636363636363,
          6.974545454545455,
          7.155454545454545,
          7.336363636363636,
          7.517272727272727,
          7.698181818181817,
          7.879090909090909,
          8.06,
          8.24090909090909,
          8.421818181818182,
          8.602727272727272,
          8.783636363636363,
          8.964545454545455,
          9.145454545454545,
          9.326363636363636,
          9.507272727272726,
          9.688181818181818,
          9.86909090909091,
          10.049999999999999,
          10.23090909090909,
          10.411818181818182,
          10.592727272727272,
          10.773636363636363,
          10.954545454545455,
          11.135454545454545,
          11.316363636363636,
          11.497272727272726,
          11.678181818181818,
          11.85909090909091,
          12.04,
          12.22090909090909,
          12.40181818181818,
          12.582727272727272,
          12.763636363636364,
          12.944545454545453,
          13.125454545454545,
          13.306363636363637,
          13.487272727272726,
          13.668181818181818,
          13.84909090909091,
          14.03,
          14.210909090909091,
          14.39181818181818,
          14.572727272727272,
          14.753636363636364,
          14.934545454545454,
          15.115454545454545,
          15.296363636363635,
          15.477272727272727,
          15.658181818181818,
          15.839090909090908,
          16.02,
          16.200909090909093,
          16.381818181818183,
          16.562727272727273,
          16.743636363636366,
          16.924545454545456,
          17.105454545454545,
          17.28636363636364,
          17.46727272727273,
          17.64818181818182,
          17.82909090909091,
          18.01
         ],
         "y": [
          0.014226908837633405,
          0.013731092531338692,
          0.013252555720709085,
          0.012790696204956408,
          0.012344932770351157,
          0.011914704458810906,
          0.011499469861978875,
          0.011098706439904247,
          0.010711909863466913,
          0.010338593379719093,
          0.009978287199345199,
          0.009630537905469064,
          0.00929490788306462,
          0.008970974768251936,
          0.008658330916785629,
          0.008356582891066777,
          0.008065350965032761,
          0.007784268646302007,
          0.007512982214972261,
          0.00725115027849202,
          0.00699844334204497,
          0.006754543393906779,
          0.006519143505252448,
          0.006291947443910629,
          0.00607266930157882,
          0.005861033134030358,
          0.00565677261386038,
          0.005459630695333831,
          0.005269359290913702,
          0.005085718959062446,
          0.0049084786029237205,
          0.0047374151795052345,
          0.004572313418996765,
          0.004412965553870089,
          0.004259171057419964,
          0.0041107363914170995,
          0.0039674747625555815,
          0.0038292058873882462,
          0.0036957557654541946,
          0.0035669564603129584,
          0.003442645888209748,
          0.0033226676141058444,
          0.0032068706548174578,
          0.0030951092890153134,
          0.0029872428738458665,
          0.0028831356679433766,
          0.002782656660610114,
          0.0026856794069497476,
          0.0025920818687464233,
          0.0025017462608893097,
          0.002414558903149336,
          0.002330410077121597,
          0.0022491938881534102,
          0.0021708081320842526,
          0.0020951541666298997,
          0.002022136787248898,
          0.0019516641073351639,
          0.0018836474425859536,
          0.0018180011993996644,
          0.0017546427671630486,
          0.0016934924142922815,
          0.0016344731878970569,
          0.0015775108169414508,
          0.0015225336187796913,
          0.0014694724089492042,
          0.0014182604141074358,
          0.0013688331880028703,
          0.0013211285303745093,
          0.001275086408677762,
          0.001230648882538221,
          0.0011877600308382815,
          0.0011463658813448282,
          0.0011064143427894418,
          0.001067855139315653,
          0.0010306397472107447,
          0.000994721333842493,
          0.0009600546987239974,
          0.0009265962166324376,
          0.0008943037827101735,
          0.0008631367594791097,
          0.0008330559257016361,
          0.0008040234270237983,
          0.000776002728338583,
          0.0007489585678093685,
          0.0007228569124956912,
          0.0006976649155254742,
          0.0006733508747598347,
          0.0006498841928984453,
          0.0006272353389752463,
          0.0006053758111960581,
          0.0005842781010713251,
          0.0005639156587988503,
          0.0005442628598529683,
          0.0005252949727381042,
          0.000506988127866136,
          0.0004893192875184053,
          0.00047226621685456804,
          0.000455807455931801,
          0.00043992229269916084,
          0.000424590736933103
         ]
        }
       ],
       "layout": {
        "font": {
         "size": 20
        },
        "template": {
         "data": {
          "bar": [
           {
            "error_x": {
             "color": "#2a3f5f"
            },
            "error_y": {
             "color": "#2a3f5f"
            },
            "marker": {
             "line": {
              "color": "#E5ECF6",
              "width": 0.5
             },
             "pattern": {
              "fillmode": "overlay",
              "size": 10,
              "solidity": 0.2
             }
            },
            "type": "bar"
           }
          ],
          "barpolar": [
           {
            "marker": {
             "line": {
              "color": "#E5ECF6",
              "width": 0.5
             },
             "pattern": {
              "fillmode": "overlay",
              "size": 10,
              "solidity": 0.2
             }
            },
            "type": "barpolar"
           }
          ],
          "carpet": [
           {
            "aaxis": {
             "endlinecolor": "#2a3f5f",
             "gridcolor": "white",
             "linecolor": "white",
             "minorgridcolor": "white",
             "startlinecolor": "#2a3f5f"
            },
            "baxis": {
             "endlinecolor": "#2a3f5f",
             "gridcolor": "white",
             "linecolor": "white",
             "minorgridcolor": "white",
             "startlinecolor": "#2a3f5f"
            },
            "type": "carpet"
           }
          ],
          "choropleth": [
           {
            "colorbar": {
             "outlinewidth": 0,
             "ticks": ""
            },
            "type": "choropleth"
           }
          ],
          "contour": [
           {
            "colorbar": {
             "outlinewidth": 0,
             "ticks": ""
            },
            "colorscale": [
             [
              0,
              "#0d0887"
             ],
             [
              0.1111111111111111,
              "#46039f"
             ],
             [
              0.2222222222222222,
              "#7201a8"
             ],
             [
              0.3333333333333333,
              "#9c179e"
             ],
             [
              0.4444444444444444,
              "#bd3786"
             ],
             [
              0.5555555555555556,
              "#d8576b"
             ],
             [
              0.6666666666666666,
              "#ed7953"
             ],
             [
              0.7777777777777778,
              "#fb9f3a"
             ],
             [
              0.8888888888888888,
              "#fdca26"
             ],
             [
              1,
              "#f0f921"
             ]
            ],
            "type": "contour"
           }
          ],
          "contourcarpet": [
           {
            "colorbar": {
             "outlinewidth": 0,
             "ticks": ""
            },
            "type": "contourcarpet"
           }
          ],
          "heatmap": [
           {
            "colorbar": {
             "outlinewidth": 0,
             "ticks": ""
            },
            "colorscale": [
             [
              0,
              "#0d0887"
             ],
             [
              0.1111111111111111,
              "#46039f"
             ],
             [
              0.2222222222222222,
              "#7201a8"
             ],
             [
              0.3333333333333333,
              "#9c179e"
             ],
             [
              0.4444444444444444,
              "#bd3786"
             ],
             [
              0.5555555555555556,
              "#d8576b"
             ],
             [
              0.6666666666666666,
              "#ed7953"
             ],
             [
              0.7777777777777778,
              "#fb9f3a"
             ],
             [
              0.8888888888888888,
              "#fdca26"
             ],
             [
              1,
              "#f0f921"
             ]
            ],
            "type": "heatmap"
           }
          ],
          "heatmapgl": [
           {
            "colorbar": {
             "outlinewidth": 0,
             "ticks": ""
            },
            "colorscale": [
             [
              0,
              "#0d0887"
             ],
             [
              0.1111111111111111,
              "#46039f"
             ],
             [
              0.2222222222222222,
              "#7201a8"
             ],
             [
              0.3333333333333333,
              "#9c179e"
             ],
             [
              0.4444444444444444,
              "#bd3786"
             ],
             [
              0.5555555555555556,
              "#d8576b"
             ],
             [
              0.6666666666666666,
              "#ed7953"
             ],
             [
              0.7777777777777778,
              "#fb9f3a"
             ],
             [
              0.8888888888888888,
              "#fdca26"
             ],
             [
              1,
              "#f0f921"
             ]
            ],
            "type": "heatmapgl"
           }
          ],
          "histogram": [
           {
            "marker": {
             "pattern": {
              "fillmode": "overlay",
              "size": 10,
              "solidity": 0.2
             }
            },
            "type": "histogram"
           }
          ],
          "histogram2d": [
           {
            "colorbar": {
             "outlinewidth": 0,
             "ticks": ""
            },
            "colorscale": [
             [
              0,
              "#0d0887"
             ],
             [
              0.1111111111111111,
              "#46039f"
             ],
             [
              0.2222222222222222,
              "#7201a8"
             ],
             [
              0.3333333333333333,
              "#9c179e"
             ],
             [
              0.4444444444444444,
              "#bd3786"
             ],
             [
              0.5555555555555556,
              "#d8576b"
             ],
             [
              0.6666666666666666,
              "#ed7953"
             ],
             [
              0.7777777777777778,
              "#fb9f3a"
             ],
             [
              0.8888888888888888,
              "#fdca26"
             ],
             [
              1,
              "#f0f921"
             ]
            ],
            "type": "histogram2d"
           }
          ],
          "histogram2dcontour": [
           {
            "colorbar": {
             "outlinewidth": 0,
             "ticks": ""
            },
            "colorscale": [
             [
              0,
              "#0d0887"
             ],
             [
              0.1111111111111111,
              "#46039f"
             ],
             [
              0.2222222222222222,
              "#7201a8"
             ],
             [
              0.3333333333333333,
              "#9c179e"
             ],
             [
              0.4444444444444444,
              "#bd3786"
             ],
             [
              0.5555555555555556,
              "#d8576b"
             ],
             [
              0.6666666666666666,
              "#ed7953"
             ],
             [
              0.7777777777777778,
              "#fb9f3a"
             ],
             [
              0.8888888888888888,
              "#fdca26"
             ],
             [
              1,
              "#f0f921"
             ]
            ],
            "type": "histogram2dcontour"
           }
          ],
          "mesh3d": [
           {
            "colorbar": {
             "outlinewidth": 0,
             "ticks": ""
            },
            "type": "mesh3d"
           }
          ],
          "parcoords": [
           {
            "line": {
             "colorbar": {
              "outlinewidth": 0,
              "ticks": ""
             }
            },
            "type": "parcoords"
           }
          ],
          "pie": [
           {
            "automargin": true,
            "type": "pie"
           }
          ],
          "scatter": [
           {
            "fillpattern": {
             "fillmode": "overlay",
             "size": 10,
             "solidity": 0.2
            },
            "type": "scatter"
           }
          ],
          "scatter3d": [
           {
            "line": {
             "colorbar": {
              "outlinewidth": 0,
              "ticks": ""
             }
            },
            "marker": {
             "colorbar": {
              "outlinewidth": 0,
              "ticks": ""
             }
            },
            "type": "scatter3d"
           }
          ],
          "scattercarpet": [
           {
            "marker": {
             "colorbar": {
              "outlinewidth": 0,
              "ticks": ""
             }
            },
            "type": "scattercarpet"
           }
          ],
          "scattergeo": [
           {
            "marker": {
             "colorbar": {
              "outlinewidth": 0,
              "ticks": ""
             }
            },
            "type": "scattergeo"
           }
          ],
          "scattergl": [
           {
            "marker": {
             "colorbar": {
              "outlinewidth": 0,
              "ticks": ""
             }
            },
            "type": "scattergl"
           }
          ],
          "scattermapbox": [
           {
            "marker": {
             "colorbar": {
              "outlinewidth": 0,
              "ticks": ""
             }
            },
            "type": "scattermapbox"
           }
          ],
          "scatterpolar": [
           {
            "marker": {
             "colorbar": {
              "outlinewidth": 0,
              "ticks": ""
             }
            },
            "type": "scatterpolar"
           }
          ],
          "scatterpolargl": [
           {
            "marker": {
             "colorbar": {
              "outlinewidth": 0,
              "ticks": ""
             }
            },
            "type": "scatterpolargl"
           }
          ],
          "scatterternary": [
           {
            "marker": {
             "colorbar": {
              "outlinewidth": 0,
              "ticks": ""
             }
            },
            "type": "scatterternary"
           }
          ],
          "surface": [
           {
            "colorbar": {
             "outlinewidth": 0,
             "ticks": ""
            },
            "colorscale": [
             [
              0,
              "#0d0887"
             ],
             [
              0.1111111111111111,
              "#46039f"
             ],
             [
              0.2222222222222222,
              "#7201a8"
             ],
             [
              0.3333333333333333,
              "#9c179e"
             ],
             [
              0.4444444444444444,
              "#bd3786"
             ],
             [
              0.5555555555555556,
              "#d8576b"
             ],
             [
              0.6666666666666666,
              "#ed7953"
             ],
             [
              0.7777777777777778,
              "#fb9f3a"
             ],
             [
              0.8888888888888888,
              "#fdca26"
             ],
             [
              1,
              "#f0f921"
             ]
            ],
            "type": "surface"
           }
          ],
          "table": [
           {
            "cells": {
             "fill": {
              "color": "#EBF0F8"
             },
             "line": {
              "color": "white"
             }
            },
            "header": {
             "fill": {
              "color": "#C8D4E3"
             },
             "line": {
              "color": "white"
             }
            },
            "type": "table"
           }
          ]
         },
         "layout": {
          "annotationdefaults": {
           "arrowcolor": "#2a3f5f",
           "arrowhead": 0,
           "arrowwidth": 1
          },
          "autotypenumbers": "strict",
          "coloraxis": {
           "colorbar": {
            "outlinewidth": 0,
            "ticks": ""
           }
          },
          "colorscale": {
           "diverging": [
            [
             0,
             "#8e0152"
            ],
            [
             0.1,
             "#c51b7d"
            ],
            [
             0.2,
             "#de77ae"
            ],
            [
             0.3,
             "#f1b6da"
            ],
            [
             0.4,
             "#fde0ef"
            ],
            [
             0.5,
             "#f7f7f7"
            ],
            [
             0.6,
             "#e6f5d0"
            ],
            [
             0.7,
             "#b8e186"
            ],
            [
             0.8,
             "#7fbc41"
            ],
            [
             0.9,
             "#4d9221"
            ],
            [
             1,
             "#276419"
            ]
           ],
           "sequential": [
            [
             0,
             "#0d0887"
            ],
            [
             0.1111111111111111,
             "#46039f"
            ],
            [
             0.2222222222222222,
             "#7201a8"
            ],
            [
             0.3333333333333333,
             "#9c179e"
            ],
            [
             0.4444444444444444,
             "#bd3786"
            ],
            [
             0.5555555555555556,
             "#d8576b"
            ],
            [
             0.6666666666666666,
             "#ed7953"
            ],
            [
             0.7777777777777778,
             "#fb9f3a"
            ],
            [
             0.8888888888888888,
             "#fdca26"
            ],
            [
             1,
             "#f0f921"
            ]
           ],
           "sequentialminus": [
            [
             0,
             "#0d0887"
            ],
            [
             0.1111111111111111,
             "#46039f"
            ],
            [
             0.2222222222222222,
             "#7201a8"
            ],
            [
             0.3333333333333333,
             "#9c179e"
            ],
            [
             0.4444444444444444,
             "#bd3786"
            ],
            [
             0.5555555555555556,
             "#d8576b"
            ],
            [
             0.6666666666666666,
             "#ed7953"
            ],
            [
             0.7777777777777778,
             "#fb9f3a"
            ],
            [
             0.8888888888888888,
             "#fdca26"
            ],
            [
             1,
             "#f0f921"
            ]
           ]
          },
          "colorway": [
           "#636efa",
           "#EF553B",
           "#00cc96",
           "#ab63fa",
           "#FFA15A",
           "#19d3f3",
           "#FF6692",
           "#B6E880",
           "#FF97FF",
           "#FECB52"
          ],
          "font": {
           "color": "#2a3f5f"
          },
          "geo": {
           "bgcolor": "white",
           "lakecolor": "white",
           "landcolor": "#E5ECF6",
           "showlakes": true,
           "showland": true,
           "subunitcolor": "white"
          },
          "hoverlabel": {
           "align": "left"
          },
          "hovermode": "closest",
          "mapbox": {
           "style": "light"
          },
          "paper_bgcolor": "white",
          "plot_bgcolor": "#E5ECF6",
          "polar": {
           "angularaxis": {
            "gridcolor": "white",
            "linecolor": "white",
            "ticks": ""
           },
           "bgcolor": "#E5ECF6",
           "radialaxis": {
            "gridcolor": "white",
            "linecolor": "white",
            "ticks": ""
           }
          },
          "scene": {
           "xaxis": {
            "backgroundcolor": "#E5ECF6",
            "gridcolor": "white",
            "gridwidth": 2,
            "linecolor": "white",
            "showbackground": true,
            "ticks": "",
            "zerolinecolor": "white"
           },
           "yaxis": {
            "backgroundcolor": "#E5ECF6",
            "gridcolor": "white",
            "gridwidth": 2,
            "linecolor": "white",
            "showbackground": true,
            "ticks": "",
            "zerolinecolor": "white"
           },
           "zaxis": {
            "backgroundcolor": "#E5ECF6",
            "gridcolor": "white",
            "gridwidth": 2,
            "linecolor": "white",
            "showbackground": true,
            "ticks": "",
            "zerolinecolor": "white"
           }
          },
          "shapedefaults": {
           "line": {
            "color": "#2a3f5f"
           }
          },
          "ternary": {
           "aaxis": {
            "gridcolor": "white",
            "linecolor": "white",
            "ticks": ""
           },
           "baxis": {
            "gridcolor": "white",
            "linecolor": "white",
            "ticks": ""
           },
           "bgcolor": "#E5ECF6",
           "caxis": {
            "gridcolor": "white",
            "linecolor": "white",
            "ticks": ""
           }
          },
          "title": {
           "x": 0.05
          },
          "xaxis": {
           "automargin": true,
           "gridcolor": "white",
           "linecolor": "white",
           "ticks": "",
           "title": {
            "standoff": 15
           },
           "zerolinecolor": "white",
           "zerolinewidth": 2
          },
          "yaxis": {
           "automargin": true,
           "gridcolor": "white",
           "linecolor": "white",
           "ticks": "",
           "title": {
            "standoff": 15
           },
           "zerolinecolor": "white",
           "zerolinewidth": 2
          }
         }
        },
        "title": {
         "text": "$a/\\lambda=\\text{0.471 - PGB}$"
        },
        "xaxis": {
         "title": {
          "text": "$\\Large{L'/a}$"
         },
         "type": "log"
        },
        "yaxis": {
         "exponentformat": "e",
         "range": [
          -1.5,
          0
         ],
         "showexponent": "all",
         "title": {
          "text": "$\\large{\\text{T(L)}}$"
         },
         "type": "log"
        }
       }
      },
      "text/html": [
       "<div>                            <div id=\"ae90ec11-8b57-46d7-be40-f5fd28bcca29\" class=\"plotly-graph-div\" style=\"height:525px; width:100%;\"></div>            <script type=\"text/javascript\">                require([\"plotly\"], function(Plotly) {                    window.PLOTLYENV=window.PLOTLYENV || {};                                    if (document.getElementById(\"ae90ec11-8b57-46d7-be40-f5fd28bcca29\")) {                    Plotly.newPlot(                        \"ae90ec11-8b57-46d7-be40-f5fd28bcca29\",                        [{\"mode\":\"markers\",\"name\":\"Simulations\",\"showlegend\":true,\"x\":[0.1801,0.5403,0.9005000000000001,1.2607000000000002,1.6209,1.8010000000000002,2.7015000000000002,5.4030000000000005,9.005,12.607000000000001,16.209000000000003,18.01],\"y\":[0.7061256170272827,0.49340948462486267,0.2892386317253113,0.14051352441310883,0.05413523316383362,0.040656235069036484,0.004350507166236639,1.8707049093791284e-05,2.0254165065125562e-06,3.9121910049289e-06,6.09867811363074e-06,6.618888619414065e-06],\"type\":\"scatter\"},{\"mode\":\"lines\",\"name\":\"Theory -Ballistic Component\",\"showlegend\":false,\"x\":[0.1,0.2809090909090909,0.4618181818181818,0.6427272727272727,0.8236363636363636,1.0045454545454546,1.1854545454545455,1.3663636363636364,1.5472727272727274,1.7281818181818183,1.9090909090909092,2.09,2.270909090909091,2.4518181818181817,2.632727272727273,2.813636363636364,2.9945454545454546,3.1754545454545453,3.3563636363636364,3.5372727272727276,3.7181818181818183,3.899090909090909,4.08,4.260909090909091,4.441818181818181,4.622727272727272,4.803636363636363,4.984545454545454,5.165454545454545,5.346363636363636,5.527272727272727,5.708181818181818,5.889090909090909,6.069999999999999,6.25090909090909,6.431818181818182,6.612727272727272,6.793636363636363,6.974545454545455,7.155454545454545,7.336363636363636,7.517272727272727,7.698181818181817,7.879090909090909,8.06,8.24090909090909,8.421818181818182,8.602727272727272,8.783636363636363,8.964545454545455,9.145454545454545,9.326363636363636,9.507272727272726,9.688181818181818,9.86909090909091,10.049999999999999,10.23090909090909,10.411818181818182,10.592727272727272,10.773636363636363,10.954545454545455,11.135454545454545,11.316363636363636,11.497272727272726,11.678181818181818,11.85909090909091,12.04,12.22090909090909,12.40181818181818,12.582727272727272,12.763636363636364,12.944545454545453,13.125454545454545,13.306363636363637,13.487272727272726,13.668181818181818,13.84909090909091,14.03,14.210909090909091,14.39181818181818,14.572727272727272,14.753636363636364,14.934545454545454,15.115454545454545,15.296363636363635,15.477272727272727,15.658181818181818,15.839090909090908,16.02,16.200909090909093,16.381818181818183,16.562727272727273,16.743636363636366,16.924545454545456,17.105454545454545,17.28636363636364,17.46727272727273,17.64818181818182,17.82909090909091,18.01],\"y\":[1.256718636161055,1.0487458021386715,0.8751901387117902,0.7303559903042005,0.6094902684328468,0.5086264674294233,0.4244544938099166,0.354212037422987,0.295593919454487,0.24667644232012595,0.20585425880211133,0.17178768863535393,0.14335875360755287,0.11963448835693521,0.09983632282131959,0.08331453154833451,0.0695269113581189,0.05802098761361104,0.04841916515346103,0.040406336578941,0.033719541230337845,0.028139335486727587,0.02348259118431289,0.019596485815724474,0.016353487283908834,0.013647168622976952,0.011388715335794119,0.00950401072801129,0.007931203586612035,0.006618678380369444,0.005523361369353374,0.004609307034308915,0.003846518436112556,0.00320996279250296,0.0026787499658176323,0.002235446901791882,0.001865505521044638,0.0015567852881043388,0.001299154789904326,0.0010841592485669963,0.0009047430570916917,0.0007550182322731312,0.0006300711860639034,0.0005258014741084568,0.00043878722958549346,0.00036617286623962365,0.0003055753653013194,0.00025500607087017063,0.000212805427284755,0.00017758851672556198,0.00014819960973356513,0.00012367423710803264,0.00010320753847970309,8.612784883997107e-05,7.187465620313909e-05,5.9980207028251874e-05,5.0054155737232245e-05,4.177075456553522e-05,3.4858163348789374e-05,2.9089528419806066e-05,2.4275537848040215e-05,2.0258208703390278e-05,1.6905702458133113e-05,1.4107998381668286e-05,1.1773282939887615e-05,9.824936708438857e-06,8.199019918037489e-06,6.84217411381747e-06,5.709871066516403e-06,4.764951469212329e-06,3.976405463355047e-06,3.3183549740567794e-06,2.7692044574741475e-06,2.3109321899699437e-06,1.9284988409669083e-06,1.6093539203584647e-06,1.343023903335394e-06,1.1207685159324583e-06,9.352939014606289e-07,7.805132546765467e-07,6.513470683112531e-07,5.435564365572234e-07,4.5360394495796165e-07,3.7853758146006966e-07,3.158938588836981e-07,2.636169695371711e-07,2.19991318835822e-07,1.8358522384994007e-07,1.5320392911133574e-07,1.2785039777676427e-07,1.0669259141388085e-07,8.903616461550143e-08,7.43016783488424e-08,6.200558423979644e-08,5.1744355744803847e-08,4.318124543573523e-08,3.603523380554324e-08,3.007180692258457e-08,2.5095260279679193e-08,2.0942276269799878e-08],\"type\":\"scatter\"},{\"mode\":\"lines\",\"name\":\"Theory - Localized Component\",\"showlegend\":false,\"x\":[0.1,0.2809090909090909,0.4618181818181818,0.6427272727272727,0.8236363636363636,1.0045454545454546,1.1854545454545455,1.3663636363636364,1.5472727272727274,1.7281818181818183,1.9090909090909092,2.09,2.270909090909091,2.4518181818181817,2.632727272727273,2.813636363636364,2.9945454545454546,3.1754545454545453,3.3563636363636364,3.5372727272727276,3.7181818181818183,3.899090909090909,4.08,4.260909090909091,4.441818181818181,4.622727272727272,4.803636363636363,4.984545454545454,5.165454545454545,5.346363636363636,5.527272727272727,5.708181818181818,5.889090909090909,6.069999999999999,6.25090909090909,6.431818181818182,6.612727272727272,6.793636363636363,6.974545454545455,7.155454545454545,7.336363636363636,7.517272727272727,7.698181818181817,7.879090909090909,8.06,8.24090909090909,8.421818181818182,8.602727272727272,8.783636363636363,8.964545454545455,9.145454545454545,9.326363636363636,9.507272727272726,9.688181818181818,9.86909090909091,10.049999999999999,10.23090909090909,10.411818181818182,10.592727272727272,10.773636363636363,10.954545454545455,11.135454545454545,11.316363636363636,11.497272727272726,11.678181818181818,11.85909090909091,12.04,12.22090909090909,12.40181818181818,12.582727272727272,12.763636363636364,12.944545454545453,13.125454545454545,13.306363636363637,13.487272727272726,13.668181818181818,13.84909090909091,14.03,14.210909090909091,14.39181818181818,14.572727272727272,14.753636363636364,14.934545454545454,15.115454545454545,15.296363636363635,15.477272727272727,15.658181818181818,15.839090909090908,16.02,16.200909090909093,16.381818181818183,16.562727272727273,16.743636363636366,16.924545454545456,17.105454545454545,17.28636363636364,17.46727272727273,17.64818181818182,17.82909090909091,18.01],\"y\":[0.014226908837633405,0.013731092531338692,0.013252555720709085,0.012790696204956408,0.012344932770351157,0.011914704458810906,0.011499469861978875,0.011098706439904247,0.010711909863466913,0.010338593379719093,0.009978287199345199,0.009630537905469064,0.00929490788306462,0.008970974768251936,0.008658330916785629,0.008356582891066777,0.008065350965032761,0.007784268646302007,0.007512982214972261,0.00725115027849202,0.00699844334204497,0.006754543393906779,0.006519143505252448,0.006291947443910629,0.00607266930157882,0.005861033134030358,0.00565677261386038,0.005459630695333831,0.005269359290913702,0.005085718959062446,0.0049084786029237205,0.0047374151795052345,0.004572313418996765,0.004412965553870089,0.004259171057419964,0.0041107363914170995,0.0039674747625555815,0.0038292058873882462,0.0036957557654541946,0.0035669564603129584,0.003442645888209748,0.0033226676141058444,0.0032068706548174578,0.0030951092890153134,0.0029872428738458665,0.0028831356679433766,0.002782656660610114,0.0026856794069497476,0.0025920818687464233,0.0025017462608893097,0.002414558903149336,0.002330410077121597,0.0022491938881534102,0.0021708081320842526,0.0020951541666298997,0.002022136787248898,0.0019516641073351639,0.0018836474425859536,0.0018180011993996644,0.0017546427671630486,0.0016934924142922815,0.0016344731878970569,0.0015775108169414508,0.0015225336187796913,0.0014694724089492042,0.0014182604141074358,0.0013688331880028703,0.0013211285303745093,0.001275086408677762,0.001230648882538221,0.0011877600308382815,0.0011463658813448282,0.0011064143427894418,0.001067855139315653,0.0010306397472107447,0.000994721333842493,0.0009600546987239974,0.0009265962166324376,0.0008943037827101735,0.0008631367594791097,0.0008330559257016361,0.0008040234270237983,0.000776002728338583,0.0007489585678093685,0.0007228569124956912,0.0006976649155254742,0.0006733508747598347,0.0006498841928984453,0.0006272353389752463,0.0006053758111960581,0.0005842781010713251,0.0005639156587988503,0.0005442628598529683,0.0005252949727381042,0.000506988127866136,0.0004893192875184053,0.00047226621685456804,0.000455807455931801,0.00043992229269916084,0.000424590736933103],\"type\":\"scatter\"}],                        {\"template\":{\"data\":{\"histogram2dcontour\":[{\"type\":\"histogram2dcontour\",\"colorbar\":{\"outlinewidth\":0,\"ticks\":\"\"},\"colorscale\":[[0.0,\"#0d0887\"],[0.1111111111111111,\"#46039f\"],[0.2222222222222222,\"#7201a8\"],[0.3333333333333333,\"#9c179e\"],[0.4444444444444444,\"#bd3786\"],[0.5555555555555556,\"#d8576b\"],[0.6666666666666666,\"#ed7953\"],[0.7777777777777778,\"#fb9f3a\"],[0.8888888888888888,\"#fdca26\"],[1.0,\"#f0f921\"]]}],\"choropleth\":[{\"type\":\"choropleth\",\"colorbar\":{\"outlinewidth\":0,\"ticks\":\"\"}}],\"histogram2d\":[{\"type\":\"histogram2d\",\"colorbar\":{\"outlinewidth\":0,\"ticks\":\"\"},\"colorscale\":[[0.0,\"#0d0887\"],[0.1111111111111111,\"#46039f\"],[0.2222222222222222,\"#7201a8\"],[0.3333333333333333,\"#9c179e\"],[0.4444444444444444,\"#bd3786\"],[0.5555555555555556,\"#d8576b\"],[0.6666666666666666,\"#ed7953\"],[0.7777777777777778,\"#fb9f3a\"],[0.8888888888888888,\"#fdca26\"],[1.0,\"#f0f921\"]]}],\"heatmap\":[{\"type\":\"heatmap\",\"colorbar\":{\"outlinewidth\":0,\"ticks\":\"\"},\"colorscale\":[[0.0,\"#0d0887\"],[0.1111111111111111,\"#46039f\"],[0.2222222222222222,\"#7201a8\"],[0.3333333333333333,\"#9c179e\"],[0.4444444444444444,\"#bd3786\"],[0.5555555555555556,\"#d8576b\"],[0.6666666666666666,\"#ed7953\"],[0.7777777777777778,\"#fb9f3a\"],[0.8888888888888888,\"#fdca26\"],[1.0,\"#f0f921\"]]}],\"heatmapgl\":[{\"type\":\"heatmapgl\",\"colorbar\":{\"outlinewidth\":0,\"ticks\":\"\"},\"colorscale\":[[0.0,\"#0d0887\"],[0.1111111111111111,\"#46039f\"],[0.2222222222222222,\"#7201a8\"],[0.3333333333333333,\"#9c179e\"],[0.4444444444444444,\"#bd3786\"],[0.5555555555555556,\"#d8576b\"],[0.6666666666666666,\"#ed7953\"],[0.7777777777777778,\"#fb9f3a\"],[0.8888888888888888,\"#fdca26\"],[1.0,\"#f0f921\"]]}],\"contourcarpet\":[{\"type\":\"contourcarpet\",\"colorbar\":{\"outlinewidth\":0,\"ticks\":\"\"}}],\"contour\":[{\"type\":\"contour\",\"colorbar\":{\"outlinewidth\":0,\"ticks\":\"\"},\"colorscale\":[[0.0,\"#0d0887\"],[0.1111111111111111,\"#46039f\"],[0.2222222222222222,\"#7201a8\"],[0.3333333333333333,\"#9c179e\"],[0.4444444444444444,\"#bd3786\"],[0.5555555555555556,\"#d8576b\"],[0.6666666666666666,\"#ed7953\"],[0.7777777777777778,\"#fb9f3a\"],[0.8888888888888888,\"#fdca26\"],[1.0,\"#f0f921\"]]}],\"surface\":[{\"type\":\"surface\",\"colorbar\":{\"outlinewidth\":0,\"ticks\":\"\"},\"colorscale\":[[0.0,\"#0d0887\"],[0.1111111111111111,\"#46039f\"],[0.2222222222222222,\"#7201a8\"],[0.3333333333333333,\"#9c179e\"],[0.4444444444444444,\"#bd3786\"],[0.5555555555555556,\"#d8576b\"],[0.6666666666666666,\"#ed7953\"],[0.7777777777777778,\"#fb9f3a\"],[0.8888888888888888,\"#fdca26\"],[1.0,\"#f0f921\"]]}],\"mesh3d\":[{\"type\":\"mesh3d\",\"colorbar\":{\"outlinewidth\":0,\"ticks\":\"\"}}],\"scatter\":[{\"fillpattern\":{\"fillmode\":\"overlay\",\"size\":10,\"solidity\":0.2},\"type\":\"scatter\"}],\"parcoords\":[{\"type\":\"parcoords\",\"line\":{\"colorbar\":{\"outlinewidth\":0,\"ticks\":\"\"}}}],\"scatterpolargl\":[{\"type\":\"scatterpolargl\",\"marker\":{\"colorbar\":{\"outlinewidth\":0,\"ticks\":\"\"}}}],\"bar\":[{\"error_x\":{\"color\":\"#2a3f5f\"},\"error_y\":{\"color\":\"#2a3f5f\"},\"marker\":{\"line\":{\"color\":\"#E5ECF6\",\"width\":0.5},\"pattern\":{\"fillmode\":\"overlay\",\"size\":10,\"solidity\":0.2}},\"type\":\"bar\"}],\"scattergeo\":[{\"type\":\"scattergeo\",\"marker\":{\"colorbar\":{\"outlinewidth\":0,\"ticks\":\"\"}}}],\"scatterpolar\":[{\"type\":\"scatterpolar\",\"marker\":{\"colorbar\":{\"outlinewidth\":0,\"ticks\":\"\"}}}],\"histogram\":[{\"marker\":{\"pattern\":{\"fillmode\":\"overlay\",\"size\":10,\"solidity\":0.2}},\"type\":\"histogram\"}],\"scattergl\":[{\"type\":\"scattergl\",\"marker\":{\"colorbar\":{\"outlinewidth\":0,\"ticks\":\"\"}}}],\"scatter3d\":[{\"type\":\"scatter3d\",\"line\":{\"colorbar\":{\"outlinewidth\":0,\"ticks\":\"\"}},\"marker\":{\"colorbar\":{\"outlinewidth\":0,\"ticks\":\"\"}}}],\"scattermapbox\":[{\"type\":\"scattermapbox\",\"marker\":{\"colorbar\":{\"outlinewidth\":0,\"ticks\":\"\"}}}],\"scatterternary\":[{\"type\":\"scatterternary\",\"marker\":{\"colorbar\":{\"outlinewidth\":0,\"ticks\":\"\"}}}],\"scattercarpet\":[{\"type\":\"scattercarpet\",\"marker\":{\"colorbar\":{\"outlinewidth\":0,\"ticks\":\"\"}}}],\"carpet\":[{\"aaxis\":{\"endlinecolor\":\"#2a3f5f\",\"gridcolor\":\"white\",\"linecolor\":\"white\",\"minorgridcolor\":\"white\",\"startlinecolor\":\"#2a3f5f\"},\"baxis\":{\"endlinecolor\":\"#2a3f5f\",\"gridcolor\":\"white\",\"linecolor\":\"white\",\"minorgridcolor\":\"white\",\"startlinecolor\":\"#2a3f5f\"},\"type\":\"carpet\"}],\"table\":[{\"cells\":{\"fill\":{\"color\":\"#EBF0F8\"},\"line\":{\"color\":\"white\"}},\"header\":{\"fill\":{\"color\":\"#C8D4E3\"},\"line\":{\"color\":\"white\"}},\"type\":\"table\"}],\"barpolar\":[{\"marker\":{\"line\":{\"color\":\"#E5ECF6\",\"width\":0.5},\"pattern\":{\"fillmode\":\"overlay\",\"size\":10,\"solidity\":0.2}},\"type\":\"barpolar\"}],\"pie\":[{\"automargin\":true,\"type\":\"pie\"}]},\"layout\":{\"autotypenumbers\":\"strict\",\"colorway\":[\"#636efa\",\"#EF553B\",\"#00cc96\",\"#ab63fa\",\"#FFA15A\",\"#19d3f3\",\"#FF6692\",\"#B6E880\",\"#FF97FF\",\"#FECB52\"],\"font\":{\"color\":\"#2a3f5f\"},\"hovermode\":\"closest\",\"hoverlabel\":{\"align\":\"left\"},\"paper_bgcolor\":\"white\",\"plot_bgcolor\":\"#E5ECF6\",\"polar\":{\"bgcolor\":\"#E5ECF6\",\"angularaxis\":{\"gridcolor\":\"white\",\"linecolor\":\"white\",\"ticks\":\"\"},\"radialaxis\":{\"gridcolor\":\"white\",\"linecolor\":\"white\",\"ticks\":\"\"}},\"ternary\":{\"bgcolor\":\"#E5ECF6\",\"aaxis\":{\"gridcolor\":\"white\",\"linecolor\":\"white\",\"ticks\":\"\"},\"baxis\":{\"gridcolor\":\"white\",\"linecolor\":\"white\",\"ticks\":\"\"},\"caxis\":{\"gridcolor\":\"white\",\"linecolor\":\"white\",\"ticks\":\"\"}},\"coloraxis\":{\"colorbar\":{\"outlinewidth\":0,\"ticks\":\"\"}},\"colorscale\":{\"sequential\":[[0.0,\"#0d0887\"],[0.1111111111111111,\"#46039f\"],[0.2222222222222222,\"#7201a8\"],[0.3333333333333333,\"#9c179e\"],[0.4444444444444444,\"#bd3786\"],[0.5555555555555556,\"#d8576b\"],[0.6666666666666666,\"#ed7953\"],[0.7777777777777778,\"#fb9f3a\"],[0.8888888888888888,\"#fdca26\"],[1.0,\"#f0f921\"]],\"sequentialminus\":[[0.0,\"#0d0887\"],[0.1111111111111111,\"#46039f\"],[0.2222222222222222,\"#7201a8\"],[0.3333333333333333,\"#9c179e\"],[0.4444444444444444,\"#bd3786\"],[0.5555555555555556,\"#d8576b\"],[0.6666666666666666,\"#ed7953\"],[0.7777777777777778,\"#fb9f3a\"],[0.8888888888888888,\"#fdca26\"],[1.0,\"#f0f921\"]],\"diverging\":[[0,\"#8e0152\"],[0.1,\"#c51b7d\"],[0.2,\"#de77ae\"],[0.3,\"#f1b6da\"],[0.4,\"#fde0ef\"],[0.5,\"#f7f7f7\"],[0.6,\"#e6f5d0\"],[0.7,\"#b8e186\"],[0.8,\"#7fbc41\"],[0.9,\"#4d9221\"],[1,\"#276419\"]]},\"xaxis\":{\"gridcolor\":\"white\",\"linecolor\":\"white\",\"ticks\":\"\",\"title\":{\"standoff\":15},\"zerolinecolor\":\"white\",\"automargin\":true,\"zerolinewidth\":2},\"yaxis\":{\"gridcolor\":\"white\",\"linecolor\":\"white\",\"ticks\":\"\",\"title\":{\"standoff\":15},\"zerolinecolor\":\"white\",\"automargin\":true,\"zerolinewidth\":2},\"scene\":{\"xaxis\":{\"backgroundcolor\":\"#E5ECF6\",\"gridcolor\":\"white\",\"linecolor\":\"white\",\"showbackground\":true,\"ticks\":\"\",\"zerolinecolor\":\"white\",\"gridwidth\":2},\"yaxis\":{\"backgroundcolor\":\"#E5ECF6\",\"gridcolor\":\"white\",\"linecolor\":\"white\",\"showbackground\":true,\"ticks\":\"\",\"zerolinecolor\":\"white\",\"gridwidth\":2},\"zaxis\":{\"backgroundcolor\":\"#E5ECF6\",\"gridcolor\":\"white\",\"linecolor\":\"white\",\"showbackground\":true,\"ticks\":\"\",\"zerolinecolor\":\"white\",\"gridwidth\":2}},\"shapedefaults\":{\"line\":{\"color\":\"#2a3f5f\"}},\"annotationdefaults\":{\"arrowcolor\":\"#2a3f5f\",\"arrowhead\":0,\"arrowwidth\":1},\"geo\":{\"bgcolor\":\"white\",\"landcolor\":\"#E5ECF6\",\"subunitcolor\":\"white\",\"showland\":true,\"showlakes\":true,\"lakecolor\":\"white\"},\"title\":{\"x\":0.05},\"mapbox\":{\"style\":\"light\"}}},\"yaxis\":{\"type\":\"log\",\"title\":{\"text\":\"$\\\\large{\\\\text{T(L)}}$\"},\"range\":[-1.5,0],\"showexponent\":\"all\",\"exponentformat\":\"e\"},\"xaxis\":{\"type\":\"log\",\"title\":{\"text\":\"$\\\\Large{L'\\u002fa}$\"}},\"title\":{\"text\":\"$a\\u002f\\\\lambda=\\\\text{0.471 - PGB}$\"},\"font\":{\"size\":20}},                        {\"responsive\": true}                    ).then(function(){\n",
       "                            \n",
       "var gd = document.getElementById('ae90ec11-8b57-46d7-be40-f5fd28bcca29');\n",
       "var x = new MutationObserver(function (mutations, observer) {{\n",
       "        var display = window.getComputedStyle(gd).display;\n",
       "        if (!display || display === 'none') {{\n",
       "            console.log([gd, 'removed!']);\n",
       "            Plotly.purge(gd);\n",
       "            observer.disconnect();\n",
       "        }}\n",
       "}});\n",
       "\n",
       "// Listen for the removal of the full notebook cells\n",
       "var notebookContainer = gd.closest('#notebook-container');\n",
       "if (notebookContainer) {{\n",
       "    x.observe(notebookContainer, {childList: true});\n",
       "}}\n",
       "\n",
       "// Listen for the clearing of the current output cell\n",
       "var outputEl = gd.closest('.output');\n",
       "if (outputEl) {{\n",
       "    x.observe(outputEl, {childList: true});\n",
       "}}\n",
       "\n",
       "                        })                };                });            </script>        </div>"
      ]
     },
     "metadata": {},
     "output_type": "display_data"
    }
   ],
   "source": [
    "\n",
    "frequencies_labels = np.array([\"SAL\",\"Near gap\",\"PGB\"])\n",
    "l = [1.12,0.76,0.72]\n",
    "xi = [8,3.6,5.1]\n",
    "T0 = [1.,0.22,0.055]\n",
    "z0 = 3.25\n",
    "\n",
    "\n",
    "for j, nu in enumerate(frequencies_check):\n",
    "    fig = go.Figure()\n",
    "    Ls = np.linspace(0.1,18.01,100)\n",
    "    fig.add_trace(go.Scatter(x=np.array(slices)*18.01, y=np.array(transmission_total_l)[:,j],\n",
    "                                    mode='markers'\n",
    "                                    ,showlegend =True,name=\"Simulations\"\n",
    "                            ))\n",
    "    fig.add_trace(go.Scatter(x=Ls, y=np.exp(-Ls)/(l[j]),\n",
    "                                    mode='lines'\n",
    "                                    ,showlegend =False,name=\"Theory -Ballistic Component\"\n",
    "                            ))\n",
    "    \n",
    "    fig.add_trace(go.Scatter(x=Ls, y=Td(Ls,T0[j],xi[j],l[j]),\n",
    "                                    mode='lines'\n",
    "                                    ,showlegend =False,name=\"Theory - Localized Component\"\n",
    "                            ))\n",
    "    \n",
    "    \n",
    "    \n",
    "    \n",
    "    \n",
    "   \n",
    "    if not os.path.exists(store_path):\n",
    "            os.makedirs(store_path)\n",
    "            print(f\"Folder '{store_path}' created successfully.\")\n",
    "      \n",
    "      \n",
    "\n",
    "    fig.update_yaxes(type=\"log\")\n",
    "    fig.update_xaxes(type=\"log\")\n",
    "    fig.update_layout(\n",
    "                title=dict(text=f'$a/\\lambda=\\\\text{{{nu} - {frequencies_labels[j]}}}$'),\n",
    "                xaxis_title=r\"$\\Large{L'/a}$\",\n",
    "                yaxis_title=r'$\\large{\\text{T(L)}}$',\n",
    "                yaxis_range=[-1.5,0],\n",
    "                font=dict(size=20),\n",
    "                yaxis = dict(\n",
    "                    showexponent = 'all',\n",
    "                    exponentformat = 'e'\n",
    "                    )\n",
    "                \n",
    "                )\n",
    "    fig.write_image(f'{store_path}/T(L)_Monitor_Right_nu_{nu}-{frequencies_labels[j]}.png',format=\"png\", engine=\"kaleido\")\n",
    "    fig.show()\n"
   ]
  },
  {
   "cell_type": "code",
   "execution_count": null,
   "metadata": {},
   "outputs": [],
   "source": [
    "for path_direction in [\n",
    "                       \"RCP Sample 1 Slices SAL Gap Formation/z_incidence\"\n",
    "                      \n",
    "                       ]:\n",
    "\n",
    "      folder_path = f\"data/{path_direction}\"\n",
    "\n",
    "      \n",
    "      for i,filename in enumerate(natsorted(os.listdir(folder_path))):\n",
    "            print(filename)\n",
    "            \n",
    "            if not Path(filename).suffix==\".txt\":\n",
    "                  continue\n",
    "            \n",
    "            if os.path.isfile(os.path.join(folder_path, filename)):\n",
    "                plt.figure(figsize=(15, 10))\n",
    "                file=os.path.join(folder_path, filename)\n",
    "                structure_1 = AM.loadFromFile(key = tidy3dAPI, file_path=file)\n",
    "                print(structure_1.__str__())\n",
    "                sim_data, sim_data0 = structure_1.sim_data, structure_1.sim_data0\n",
    "                transmission0 = sim_data0['flux1'].flux\n",
    "                transmission = sim_data['flux1'].flux\n",
    "                transmission_normalized = transmission / transmission0\n",
    "                transmission_flux_right = sim_data['flux1'].flux\n",
    "                transmission_flux_left = sim_data['flux2'].flux\n",
    "                monitor_lambdas = td.C_0/np.array(np.array(sim_data.simulation.monitors)[0].freqs)\n",
    "                plt.plot(a/monitor_lambdas, np.log10(transmission_flux_left/transmission0), label='Left Monitor')\n",
    "                plt.plot(a/monitor_lambdas, np.log10(transmission_flux_right/transmission0), label='Right Monitor')\n",
    "                plt.xlabel(r'$\\nu$')\n",
    "                plt.ylabel('T')\n",
    "                plt.legend()\n",
    "                plt.grid()\n",
    "                if not os.path.exists(store_path+'/convergence_tests'):\n",
    "                  os.makedirs(store_path+'/convergence_tests')\n",
    "                  print(f\"Folder '{store_path+'/convergence_tests'}' created successfully.\")\n",
    "                plt.title(f\"L={slices[i]}\")\n",
    "                plt.savefig(f'{store_path+'/convergence_tests'}/Convergence test L={slices[i]} 18.01a.pdf', format='pdf')\n",
    "                plt.show()\n",
    "\n",
    "               \n",
    "\n"
   ]
  },
  {
   "cell_type": "code",
   "execution_count": null,
   "metadata": {},
   "outputs": [],
   "source": [
    "store_path = f\"output/anderson/Plots_for_Report_20240613\"\n",
    "\n",
    "for path_direction in [\n",
    "                       \"RCP Sample 1 Long Run With Monitors/z_incidence\"\n",
    "                       ]:\n",
    "\n",
    "      folder_path = f\"data/{path_direction}\"\n",
    "\n",
    "      \n",
    "      for i,filename in enumerate(natsorted(os.listdir(folder_path))):\n",
    "            print(filename)\n",
    "            \n",
    "            if not Path(filename).suffix==\".txt\":\n",
    "                  continue\n",
    "            \n",
    "            if os.path.isfile(os.path.join(folder_path, filename)):\n",
    "                plt.figure(figsize=(15, 10))\n",
    "                file=os.path.join(folder_path, filename)\n",
    "                structure_1 = AM.loadFromFile(key = tidy3dAPI, file_path=file)\n",
    "                print(structure_1.__str__())\n",
    "                sim_data, sim_data0 = structure_1.sim_data, structure_1.sim_data0\n",
    "                transmission0 = sim_data0['flux1'].flux\n",
    "                transmission = sim_data['flux1'].flux\n",
    "                transmission_normalized = transmission / transmission0\n",
    "                transmission_flux_right = sim_data['flux1'].flux\n",
    "                transmission_flux_left = sim_data['flux2'].flux\n",
    "                monitor_lambdas = td.C_0/np.array(np.array(sim_data.simulation.monitors)[0].freqs)\n",
    "                plt.plot(1/monitor_lambdas, np.log10(transmission_flux_left/transmission0), label='Left Monitor')\n",
    "                plt.plot(1/monitor_lambdas, np.log10(transmission_flux_right/transmission0), label='Right Monitor')\n",
    "                plt.xlabel(r'$\\nu$')\n",
    "                plt.ylabel('T')\n",
    "                plt.legend()\n",
    "                plt.grid()\n",
    "                if not os.path.exists(store_path):\n",
    "                  os.makedirs(store_path)\n",
    "                  print(f\"Folder '{store_path}' created successfully.\")\n",
    "                plt.title(f\"Convergence 18.01a Sample 1\")\n",
    "                plt.savefig(f'{store_path}/Convergence test L=18.01a.pdf', format='pdf')\n",
    "                plt.show()\n",
    "\n",
    "               \n",
    "\n"
   ]
  },
  {
   "cell_type": "code",
   "execution_count": null,
   "metadata": {},
   "outputs": [],
   "source": [
    "print(structure_1.__str__())"
   ]
  },
  {
   "cell_type": "code",
   "execution_count": null,
   "metadata": {},
   "outputs": [],
   "source": [
    "1/structure_1.monitor_lambdas"
   ]
  },
  {
   "cell_type": "code",
   "execution_count": null,
   "metadata": {},
   "outputs": [],
   "source": [
    "sim_data.simulation.run_time*structure_1.fwidth"
   ]
  },
  {
   "cell_type": "code",
   "execution_count": null,
   "metadata": {},
   "outputs": [],
   "source": [
    "store_path = f\"output/anderson/Plots_for_Report_20240613\"\n",
    "\n",
    "for path_direction in [\n",
    "                       \"RCP Long Run Resolution 45/z_incidence\"\n",
    "                       ]:\n",
    "\n",
    "      folder_path = f\"data/{path_direction}\"\n",
    "\n",
    "      \n",
    "      for i,filename in enumerate(natsorted(os.listdir(folder_path))):\n",
    "            print(filename)\n",
    "            \n",
    "            if not Path(filename).suffix==\".txt\":\n",
    "                  continue\n",
    "            \n",
    "            if os.path.isfile(os.path.join(folder_path, filename)):\n",
    "                plt.figure(figsize=(15, 10))\n",
    "                file=os.path.join(folder_path, filename)\n",
    "                structure_1 = AM.loadFromFile(key = tidy3dAPI, file_path=file)\n",
    "                print(structure_1.__str__())\n",
    "                sim_data, sim_data0 = structure_1.sim_data, structure_1.sim_data0\n",
    "                transmission0 = sim_data0['flux1'].flux\n",
    "                transmission = sim_data['flux1'].flux\n",
    "                transmission_normalized = transmission / transmission0\n",
    "                transmission_flux_right = sim_data['flux1'].flux\n",
    "                transmission_flux_left = sim_data['flux2'].flux\n",
    "                monitor_lambdas = td.C_0/np.array(np.array(sim_data.simulation.monitors)[0].freqs)\n",
    "                print((1e-1/structure_1.monitor_lambdas[0],1e-1/structure_1.monitor_lambdas[-1]))\n",
    "                plt.plot(1e-1/monitor_lambdas, np.log10(transmission_flux_left/transmission0), label='Left Monitor')\n",
    "                plt.plot(1e-1/monitor_lambdas, np.log10(transmission_flux_right/transmission0), label='Right Monitor')\n",
    "                plt.xlabel(r'$\\nu$')\n",
    "                plt.ylabel('T')\n",
    "                plt.legend()\n",
    "                plt.grid()\n",
    "                if not os.path.exists(store_path):\n",
    "                  os.makedirs(store_path)\n",
    "                  print(f\"Folder '{store_path}' created successfully.\")\n",
    "                plt.title(f\"Convergence 18.01a Sample 1\")\n",
    "                plt.savefig(f'{store_path}/Convergence test {structure_1.run_time} runtime res {structure_1.resolution}  L=18.01a.pdf', format='pdf')\n",
    "                plt.show()\n",
    "\n",
    "               \n",
    "\n"
   ]
  },
  {
   "cell_type": "code",
   "execution_count": null,
   "metadata": {},
   "outputs": [],
   "source": []
  }
 ],
 "metadata": {
  "kernelspec": {
   "display_name": "Python 3",
   "language": "python",
   "name": "python3"
  },
  "language_info": {
   "codemirror_mode": {
    "name": "ipython",
    "version": 3
   },
   "file_extension": ".py",
   "mimetype": "text/x-python",
   "name": "python",
   "nbconvert_exporter": "python",
   "pygments_lexer": "ipython3",
   "version": "3.12.4"
  }
 },
 "nbformat": 4,
 "nbformat_minor": 2
}
