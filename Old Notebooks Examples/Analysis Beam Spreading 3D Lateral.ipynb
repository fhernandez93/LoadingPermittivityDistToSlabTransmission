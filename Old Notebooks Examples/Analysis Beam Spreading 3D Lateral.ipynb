{
 "cells": [
  {
   "cell_type": "code",
   "execution_count": 1,
   "metadata": {},
   "outputs": [],
   "source": [
    "%load_ext autoreload\n",
    "%autoreload 2\n",
    "%matplotlib inline\n",
    "import scipy.io as sio\n",
    "from dataclasses import dataclass\n",
    "from typing import List, Tuple\n",
    "import os\n",
    "from dotenv import load_dotenv\n",
    "load_dotenv()\n",
    "import tidy3d as td\n",
    "from tidy3d import web\n",
    "import numpy as np\n",
    "from pathlib import Path\n",
    "import matplotlib.pyplot as plt\n",
    "import AutomationModule as AM\n",
    "from scipy.optimize import curve_fit\n",
    "from natsort import natsorted\n",
    "import numpy as np\n",
    "import matplotlib.animation as animation\n",
    "import xarray as xr\n",
    "import imageio\n",
    "import matplotlib\n",
    "\n",
    "tidy3dAPI = os.environ[\"API_TIDY3D_KEY\"]"
   ]
  },
  {
   "cell_type": "code",
   "execution_count": 2,
   "metadata": {},
   "outputs": [
    {
     "name": "stdout",
     "output_type": "stream",
     "text": [
      "Configured successfully.\n",
      "output/data/Time Monitors Planewave RCP Tight pulse 0.39 - 0.43 nu 18x18x18/z_incidence/RCP_d_t_Localization 0.31 - 0.35 - Sample_0 Perm Background 13 400 absorbers.txt/Data\n"
     ]
    },
    {
     "data": {
      "text/html": [
       "<pre style=\"white-space:pre;overflow-x:auto;line-height:normal;font-family:Menlo,'DejaVu Sans Mono',consolas,'Courier New',monospace\"><span style=\"color: #7fbfbf; text-decoration-color: #7fbfbf\">14:07:40 W. Europe Daylight Time </span>Unable to download                             \n",
       "<span style=\"color: #7fbfbf; text-decoration-color: #7fbfbf\">                                 </span><span style=\"color: #008000; text-decoration-color: #008000\">'output/simulation_data.hdf5.gz'</span>.              \n",
       "</pre>\n"
      ],
      "text/plain": [
       "\u001b[2;36m14:07:40 W. Europe Daylight Time\u001b[0m\u001b[2;36m \u001b[0mUnable to download                             \n",
       "\u001b[2;36m                                 \u001b[0m\u001b[32m'output/simulation_data.hdf5.gz'\u001b[0m.              \n"
      ]
     },
     "metadata": {},
     "output_type": "display_data"
    },
    {
     "data": {
      "application/vnd.jupyter.widget-view+json": {
       "model_id": "7a2f1339cad744568c16265eecd71a97",
       "version_major": 2,
       "version_minor": 0
      },
      "text/plain": [
       "Output()"
      ]
     },
     "metadata": {},
     "output_type": "display_data"
    },
    {
     "data": {
      "text/html": [
       "<pre style=\"white-space:pre;overflow-x:auto;line-height:normal;font-family:Menlo,'DejaVu Sans Mono',consolas,'Courier New',monospace\"></pre>\n"
      ],
      "text/plain": []
     },
     "metadata": {},
     "output_type": "display_data"
    },
    {
     "data": {
      "text/html": [
       "<pre style=\"white-space:pre;overflow-x:auto;line-height:normal;font-family:Menlo,'DejaVu Sans Mono',consolas,'Courier New',monospace\">\n",
       "</pre>\n"
      ],
      "text/plain": [
       "\n"
      ]
     },
     "metadata": {},
     "output_type": "display_data"
    },
    {
     "data": {
      "text/html": [
       "<pre style=\"white-space:pre;overflow-x:auto;line-height:normal;font-family:Menlo,'DejaVu Sans Mono',consolas,'Courier New',monospace\"><span style=\"color: #7fbfbf; text-decoration-color: #7fbfbf\">14:07:42 W. Europe Daylight Time </span>loading simulation from output/data/Time       \n",
       "<span style=\"color: #7fbfbf; text-decoration-color: #7fbfbf\">                                 </span>Monitors Planewave RCP Tight pulse <span style=\"color: #008080; text-decoration-color: #008080; font-weight: bold\">0.39</span> - <span style=\"color: #008080; text-decoration-color: #008080; font-weight: bold\">0.43</span> \n",
       "<span style=\"color: #7fbfbf; text-decoration-color: #7fbfbf\">                                 </span>nu 18x18x18/z_incidence/RCP_d_t_Localization   \n",
       "<span style=\"color: #7fbfbf; text-decoration-color: #7fbfbf\">                                 </span><span style=\"color: #008080; text-decoration-color: #008080; font-weight: bold\">0.31</span> - <span style=\"color: #008080; text-decoration-color: #008080; font-weight: bold\">0.35</span> - Sample_0 Perm Background <span style=\"color: #008080; text-decoration-color: #008080; font-weight: bold\">13</span> <span style=\"color: #008080; text-decoration-color: #008080; font-weight: bold\">400</span>  \n",
       "<span style=\"color: #7fbfbf; text-decoration-color: #7fbfbf\">                                 </span>absorbers.txt/Data_0.hdf5                      \n",
       "</pre>\n"
      ],
      "text/plain": [
       "\u001b[2;36m14:07:42 W. Europe Daylight Time\u001b[0m\u001b[2;36m \u001b[0mloading simulation from output/data/Time       \n",
       "\u001b[2;36m                                 \u001b[0mMonitors Planewave RCP Tight pulse \u001b[1;36m0.39\u001b[0m - \u001b[1;36m0.43\u001b[0m \n",
       "\u001b[2;36m                                 \u001b[0mnu 18x18x18/z_incidence/RCP_d_t_Localization   \n",
       "\u001b[2;36m                                 \u001b[0m\u001b[1;36m0.31\u001b[0m - \u001b[1;36m0.35\u001b[0m - Sample_0 Perm Background \u001b[1;36m13\u001b[0m \u001b[1;36m400\u001b[0m  \n",
       "\u001b[2;36m                                 \u001b[0mabsorbers.txt/Data_0.hdf5                      \n"
      ]
     },
     "metadata": {},
     "output_type": "display_data"
    },
    {
     "data": {
      "text/html": [
       "<pre style=\"white-space:pre;overflow-x:auto;line-height:normal;font-family:Menlo,'DejaVu Sans Mono',consolas,'Courier New',monospace\"><span style=\"color: #7fbfbf; text-decoration-color: #7fbfbf\">                                 </span><span style=\"color: #800000; text-decoration-color: #800000\">WARNING: updating Simulation from </span><span style=\"color: #008080; text-decoration-color: #008080; font-weight: bold\">2.5</span><span style=\"color: #800000; text-decoration-color: #800000\"> to </span><span style=\"color: #008080; text-decoration-color: #008080; font-weight: bold\">2.7</span><span style=\"color: #800000; text-decoration-color: #800000\">   </span>\n",
       "</pre>\n"
      ],
      "text/plain": [
       "\u001b[2;36m                                \u001b[0m\u001b[2;36m \u001b[0m\u001b[31mWARNING: updating Simulation from \u001b[0m\u001b[1;36m2.5\u001b[0m\u001b[31m to \u001b[0m\u001b[1;36m2.7\u001b[0m\u001b[31m   \u001b[0m\n"
      ]
     },
     "metadata": {},
     "output_type": "display_data"
    },
    {
     "data": {
      "text/html": [
       "<pre style=\"white-space:pre;overflow-x:auto;line-height:normal;font-family:Menlo,'DejaVu Sans Mono',consolas,'Courier New',monospace\"><span style=\"color: #7fbfbf; text-decoration-color: #7fbfbf\">                                 </span><span style=\"color: #800000; text-decoration-color: #800000\">WARNING: Simulation final field decay value of </span>\n",
       "<span style=\"color: #7fbfbf; text-decoration-color: #7fbfbf\">                                 </span><span style=\"color: #008080; text-decoration-color: #008080; font-weight: bold\">4.87e-15</span><span style=\"color: #800000; text-decoration-color: #800000\"> is greater than the simulation shutoff</span>\n",
       "<span style=\"color: #7fbfbf; text-decoration-color: #7fbfbf\">                                 </span><span style=\"color: #800000; text-decoration-color: #800000\">threshold of </span><span style=\"color: #008080; text-decoration-color: #008080; font-weight: bold\">1e-20</span><span style=\"color: #800000; text-decoration-color: #800000\">. Consider running the       </span>\n",
       "<span style=\"color: #7fbfbf; text-decoration-color: #7fbfbf\">                                 </span><span style=\"color: #800000; text-decoration-color: #800000\">simulation again with a larger </span><span style=\"color: #008000; text-decoration-color: #008000\">'run_time'</span><span style=\"color: #800000; text-decoration-color: #800000\">      </span>\n",
       "<span style=\"color: #7fbfbf; text-decoration-color: #7fbfbf\">                                 </span><span style=\"color: #800000; text-decoration-color: #800000\">duration for more accurate results.            </span>\n",
       "</pre>\n"
      ],
      "text/plain": [
       "\u001b[2;36m                                \u001b[0m\u001b[2;36m \u001b[0m\u001b[31mWARNING: Simulation final field decay value of \u001b[0m\n",
       "\u001b[2;36m                                 \u001b[0m\u001b[1;36m4.87e-15\u001b[0m\u001b[31m is greater than the simulation shutoff\u001b[0m\n",
       "\u001b[2;36m                                 \u001b[0m\u001b[31mthreshold of \u001b[0m\u001b[1;36m1e-20\u001b[0m\u001b[31m. Consider running the       \u001b[0m\n",
       "\u001b[2;36m                                 \u001b[0m\u001b[31msimulation again with a larger \u001b[0m\u001b[32m'run_time'\u001b[0m\u001b[31m      \u001b[0m\n",
       "\u001b[2;36m                                 \u001b[0m\u001b[31mduration for more accurate results.            \u001b[0m\n"
      ]
     },
     "metadata": {},
     "output_type": "display_data"
    },
    {
     "data": {
      "application/vnd.jupyter.widget-view+json": {
       "model_id": "f1f3b48c261a4b2a908ed15803e57867",
       "version_major": 2,
       "version_minor": 0
      },
      "text/plain": [
       "Output()"
      ]
     },
     "metadata": {},
     "output_type": "display_data"
    },
    {
     "data": {
      "text/html": [
       "<pre style=\"white-space:pre;overflow-x:auto;line-height:normal;font-family:Menlo,'DejaVu Sans Mono',consolas,'Courier New',monospace\"></pre>\n"
      ],
      "text/plain": []
     },
     "metadata": {},
     "output_type": "display_data"
    },
    {
     "data": {
      "text/html": [
       "<pre style=\"white-space:pre;overflow-x:auto;line-height:normal;font-family:Menlo,'DejaVu Sans Mono',consolas,'Courier New',monospace\">\n",
       "</pre>\n"
      ],
      "text/plain": [
       "\n"
      ]
     },
     "metadata": {},
     "output_type": "display_data"
    },
    {
     "data": {
      "text/html": [
       "<pre style=\"white-space:pre;overflow-x:auto;line-height:normal;font-family:Menlo,'DejaVu Sans Mono',consolas,'Courier New',monospace\"><span style=\"color: #7fbfbf; text-decoration-color: #7fbfbf\">14:12:14 W. Europe Daylight Time </span>loading simulation from output/data/Time       \n",
       "<span style=\"color: #7fbfbf; text-decoration-color: #7fbfbf\">                                 </span>Monitors Planewave RCP Tight pulse <span style=\"color: #008080; text-decoration-color: #008080; font-weight: bold\">0.39</span> - <span style=\"color: #008080; text-decoration-color: #008080; font-weight: bold\">0.43</span> \n",
       "<span style=\"color: #7fbfbf; text-decoration-color: #7fbfbf\">                                 </span>nu 18x18x18/z_incidence/RCP_d_t_Localization   \n",
       "<span style=\"color: #7fbfbf; text-decoration-color: #7fbfbf\">                                 </span><span style=\"color: #008080; text-decoration-color: #008080; font-weight: bold\">0.31</span> - <span style=\"color: #008080; text-decoration-color: #008080; font-weight: bold\">0.35</span> - Sample_0 Perm Background <span style=\"color: #008080; text-decoration-color: #008080; font-weight: bold\">13</span> <span style=\"color: #008080; text-decoration-color: #008080; font-weight: bold\">400</span>  \n",
       "<span style=\"color: #7fbfbf; text-decoration-color: #7fbfbf\">                                 </span>absorbers.txt/Data.hdf5                        \n",
       "</pre>\n"
      ],
      "text/plain": [
       "\u001b[2;36m14:12:14 W. Europe Daylight Time\u001b[0m\u001b[2;36m \u001b[0mloading simulation from output/data/Time       \n",
       "\u001b[2;36m                                 \u001b[0mMonitors Planewave RCP Tight pulse \u001b[1;36m0.39\u001b[0m - \u001b[1;36m0.43\u001b[0m \n",
       "\u001b[2;36m                                 \u001b[0mnu 18x18x18/z_incidence/RCP_d_t_Localization   \n",
       "\u001b[2;36m                                 \u001b[0m\u001b[1;36m0.31\u001b[0m - \u001b[1;36m0.35\u001b[0m - Sample_0 Perm Background \u001b[1;36m13\u001b[0m \u001b[1;36m400\u001b[0m  \n",
       "\u001b[2;36m                                 \u001b[0mabsorbers.txt/Data.hdf5                        \n"
      ]
     },
     "metadata": {},
     "output_type": "display_data"
    },
    {
     "data": {
      "text/html": [
       "<pre style=\"white-space:pre;overflow-x:auto;line-height:normal;font-family:Menlo,'DejaVu Sans Mono',consolas,'Courier New',monospace\"><span style=\"color: #7fbfbf; text-decoration-color: #7fbfbf\">14:12:30 W. Europe Daylight Time </span><span style=\"color: #800000; text-decoration-color: #800000\">WARNING: Simulation final field decay value of </span>\n",
       "<span style=\"color: #7fbfbf; text-decoration-color: #7fbfbf\">                                 </span><span style=\"color: #008080; text-decoration-color: #008080; font-weight: bold\">1.39e-10</span><span style=\"color: #800000; text-decoration-color: #800000\"> is greater than the simulation shutoff</span>\n",
       "<span style=\"color: #7fbfbf; text-decoration-color: #7fbfbf\">                                 </span><span style=\"color: #800000; text-decoration-color: #800000\">threshold of </span><span style=\"color: #008080; text-decoration-color: #008080; font-weight: bold\">1e-20</span><span style=\"color: #800000; text-decoration-color: #800000\">. Consider running the       </span>\n",
       "<span style=\"color: #7fbfbf; text-decoration-color: #7fbfbf\">                                 </span><span style=\"color: #800000; text-decoration-color: #800000\">simulation again with a larger </span><span style=\"color: #008000; text-decoration-color: #008000\">'run_time'</span><span style=\"color: #800000; text-decoration-color: #800000\">      </span>\n",
       "<span style=\"color: #7fbfbf; text-decoration-color: #7fbfbf\">                                 </span><span style=\"color: #800000; text-decoration-color: #800000\">duration for more accurate results.            </span>\n",
       "</pre>\n"
      ],
      "text/plain": [
       "\u001b[2;36m14:12:30 W. Europe Daylight Time\u001b[0m\u001b[2;36m \u001b[0m\u001b[31mWARNING: Simulation final field decay value of \u001b[0m\n",
       "\u001b[2;36m                                 \u001b[0m\u001b[1;36m1.39e-10\u001b[0m\u001b[31m is greater than the simulation shutoff\u001b[0m\n",
       "\u001b[2;36m                                 \u001b[0m\u001b[31mthreshold of \u001b[0m\u001b[1;36m1e-20\u001b[0m\u001b[31m. Consider running the       \u001b[0m\n",
       "\u001b[2;36m                                 \u001b[0m\u001b[31msimulation again with a larger \u001b[0m\u001b[32m'run_time'\u001b[0m\u001b[31m      \u001b[0m\n",
       "\u001b[2;36m                                 \u001b[0m\u001b[31mduration for more accurate results.            \u001b[0m\n"
      ]
     },
     "metadata": {},
     "output_type": "display_data"
    }
   ],
   "source": [
    "import AutomationModule as AM\n",
    "#structure_1 = AM.loadFromFile(key = tidy3dAPI, file_path=\"data/Beam Spreading RCP Tight pulse 0.31 - 0.35 nu 72x72x16 Absorbers/z_incidence/RCP_d_t_Localization 0.31 - 0.35 - Sample_0.txt\")\n",
    "#structure_1 = AM.loadFromFile(key = tidy3dAPI, file_path=\"data/Beam Spreading RCP Tight pulse 0.39 - 0.43 nu 72x72x16 Absorbers/z_incidence/RCP_d_t_Localization 0.39 - 0.43 - Sample_0.txt\")\n",
    "#structure_1 = AM.loadFromFile(key = tidy3dAPI, file_path=\"data/Beam Spreading RCP Tight pulse 0.39 - 0.43 nu 72x72x16 Absorbers/z_incidence/RCP_d_t_Localization 0.39 - 0.43 - Sample_0 Flux Time Monitor Only.txt\")\n",
    "#structure_1 = AM.loadFromFile(key = tidy3dAPI, file_path=\"data/Beam Spreading RCP Tight pulse 0.39 - 0.43 nu 72x72x16 Absorbers/z_incidence/RCP_d_t_Localization 0.39 - 0.43 - Sample_0 Gaussian Beam.txt\")\n",
    "#structure_1 = AM.loadFromFile(key = tidy3dAPI, file_path=\"data/Beam Spreading RCP Tight pulse 0.39 - 0.43 nu 72x72x16 Absorbers/z_incidence/RCP_d_t_Localization 0.39 - 0.43 - Sample_0 Perm Background 13.txt\")\n",
    "#structure_1 = AM.loadFromFile(key = tidy3dAPI, file_path=\"data/Time Monitors Planewave RCP Tight pulse 0.39 - 0.43 nu 18x18x18/z_incidence/RCP_d_t_Localization 0.39 - 0.43 - Sample_0 Perm Background 13.txt\")\n",
    "#structure_1 = AM.loadFromFile(key = tidy3dAPI, file_path=\"data/Time Monitors Planewave RCP Tight pulse 0.39 - 0.43 nu 18x18x18/z_incidence/RCP_d_t_Localization 0.31 - 0.35 - Sample_0 Perm Background 13.txt\")\n",
    "#structure_1 = AM.loadFromFile(key = tidy3dAPI, file_path=\"data/Time Monitors Planewave RCP Tight pulse 0.39 - 0.43 nu 18x18x18/z_incidence/RCP_d_t_Localization 0.31 - 0.35 - Sample_0 Perm Background 13 300 absorbers.txt\")\n",
    "structure_1 = AM.loadFromFile(key = tidy3dAPI, file_path=\"data/Time Monitors Planewave RCP Tight pulse 0.39 - 0.43 nu 18x18x18/z_incidence/RCP_d_t_Localization 0.31 - 0.35 - Sample_0 Perm Background 13 400 absorbers.txt\")\n",
    "\n",
    "\n",
    "\n"
   ]
  },
  {
   "cell_type": "code",
   "execution_count": 3,
   "metadata": {},
   "outputs": [],
   "source": [
    "def create_movie(field_time_out, monitor_lambdas,name='',type='t',log=False,path=\"\",frames_per_second=1,rem_frames=False, normalize=True, a=5/3):\n",
    "    frames = []\n",
    "\n",
    "    max_values = field_time_out.max(axis=(0,1,2)) if normalize else 1\n",
    "\n",
    "    field_time_out = field_time_out/max_values\n",
    "    field_time_out['x'] = field_time_out['x']/a\n",
    "    field_time_out['y'] = field_time_out['y']/a\n",
    "    field_time_out['z'] = field_time_out['z']/a\n",
    "\n",
    "\n",
    "    if log:\n",
    "        field_log = np.log10((field_time_out))\n",
    "        folder_pics = \"logPics\"\n",
    "        \n",
    "    else:\n",
    "        field_log = ((field_time_out))\n",
    "        folder_pics = \"linPics\"\n",
    "\n",
    "    if not os.path.exists(f'{path}/{folder_pics}'):\n",
    "            os.makedirs(f'{path}/{folder_pics}')\n",
    "            print(f\"Folder {path}/{folder_pics} created successfully.\")\n",
    "\n",
    "    for i, time in enumerate(field_time_out.t):\n",
    "        if os.path.isfile(f'{path}/{folder_pics}/frame_{i}.png'):\n",
    "            frames.append(f'{path}/{folder_pics}/frame_{i}.png')\n",
    "            continue\n",
    "        try:\n",
    "            #fig, ax = plt.subplots(figsize=(14/2, 18/2))\n",
    "            fig, ax = plt.subplots(figsize=(12, 6))\n",
    "            if type==\"t\":\n",
    "                pcolormesh = (field_log).isel(t=i).squeeze().plot.pcolormesh(ax=ax,cmap=\"rainbow\")\n",
    "            else:\n",
    "                pcolormesh = (field_log).isel(f=i).squeeze().plot.pcolormesh(ax=ax,cmap=\"rainbow\")\n",
    "\n",
    "            ax.set_aspect('auto', adjustable='box')\n",
    "            #plt.ylim(-50,50)\n",
    "            try:\n",
    "                plt.title(f'Time: {str(np.array(field_time_out['t'][()][i])*1e12)} ps')\n",
    "            except:\n",
    "                plt.title(f'$\\\\nu$: {(1/np.array(td.C_0/field_time_out['f'][()][i])):.4g}')\n",
    "\n",
    "\n",
    "            # Save the frame\n",
    "            plt.savefig(f'{path}/{folder_pics}/frame_{i}.png')\n",
    "            plt.close(fig)\n",
    "            frames.append(f'{path}/{folder_pics}/frame_{i}.png')\n",
    "        except:\n",
    "            break\n",
    "        \n",
    "\n",
    "    name_movie = f'{path}/{name}.mp4' if name else f'output/anderson/d(t) analysis/Diameter d(t) at output of the structure Range - {monitor_lambdas[0]:.3g} - {monitor_lambdas[-1]:.3g}.mp4'\n",
    "    with imageio.get_writer(name_movie, fps=frames_per_second) as writer:\n",
    "        for frame in frames:\n",
    "            image = imageio.imread(frame)\n",
    "            writer.append_data(image)\n",
    "\n",
    "    # Optionally, remove the individual frames if no longer needed\n",
    "    if rem_frames:\n",
    "        for frame in frames:\n",
    "            os.remove(frame)\n",
    "    \n",
    "    return False"
   ]
  },
  {
   "cell_type": "code",
   "execution_count": 4,
   "metadata": {},
   "outputs": [],
   "source": [
    "a=5/3\n",
    "#lambdas =  a/np.array([0.39,0.43])\n",
    "lambdas =  a/np.array([0.31,0.35])"
   ]
  },
  {
   "cell_type": "code",
   "execution_count": 5,
   "metadata": {},
   "outputs": [
    {
     "data": {
      "text/plain": [
       "(1, 366, 446, 2364)"
      ]
     },
     "execution_count": 5,
     "metadata": {},
     "output_type": "execute_result"
    }
   ],
   "source": [
    "\n",
    "#field_time_out = structure_1.sim_data.get_intensity(\"time_monitorFieldOut\")\n",
    "field_time_out = structure_1.sim_data.get_intensity(\"time_monitorFieldLateral\")\n",
    "\n",
    "#del structure_1\n",
    "np.shape(field_time_out)"
   ]
  },
  {
   "cell_type": "code",
   "execution_count": 6,
   "metadata": {},
   "outputs": [
    {
     "name": "stdout",
     "output_type": "stream",
     "text": [
      "Folder output/3D SHU/Beam Spreading/linPics created successfully.\n"
     ]
    },
    {
     "name": "stderr",
     "output_type": "stream",
     "text": [
      "C:\\Users\\HernandF\\AppData\\Local\\Temp\\ipykernel_26940\\2267713393.py:55: DeprecationWarning: Starting with ImageIO v3 the behavior of this function will switch to that of iio.v3.imread. To keep the current behavior (and make this warning disappear) use `import imageio.v2 as imageio` or call `imageio.v2.imread` directly.\n",
      "  image = imageio.imread(frame)\n",
      "IMAGEIO FFMPEG_WRITER WARNING: input image is not divisible by macro_block_size=16, resizing from (1200, 600) to (1200, 608) to ensure video compatibility with most codecs and players. To prevent resizing, make your input image divisible by the macro_block_size or set the macro_block_size to 1 (risking incompatibility).\n"
     ]
    },
    {
     "data": {
      "text/plain": [
       "False"
      ]
     },
     "execution_count": 6,
     "metadata": {},
     "output_type": "execute_result"
    }
   ],
   "source": [
    "font = {\n",
    "        'weight' : 'bold',\n",
    "        'size'   : 6}\n",
    "\n",
    "matplotlib.rc('font', **font)\n",
    "create_movie(field_time_out,a/lambdas,name=f\"timemonitor {a/lambdas[0]:.3g} - {a/lambdas[-1]:.3g}\",type=\"t\",log=False,path=f\"output/3D SHU/Beam Spreading\",frames_per_second=10,normalize=True)"
   ]
  },
  {
   "cell_type": "code",
   "execution_count": 7,
   "metadata": {},
   "outputs": [
    {
     "name": "stderr",
     "output_type": "stream",
     "text": [
      "c:\\Users\\HernandF\\AppData\\Local\\Programs\\Python\\Python312\\Lib\\site-packages\\xarray\\core\\computation.py:821: RuntimeWarning: divide by zero encountered in log10\n",
      "  result_data = func(*input_data)\n"
     ]
    },
    {
     "name": "stdout",
     "output_type": "stream",
     "text": [
      "Folder output/3D SHU/Beam Spreading/logPics created successfully.\n"
     ]
    },
    {
     "name": "stderr",
     "output_type": "stream",
     "text": [
      "C:\\Users\\HernandF\\AppData\\Local\\Temp\\ipykernel_26940\\2267713393.py:55: DeprecationWarning: Starting with ImageIO v3 the behavior of this function will switch to that of iio.v3.imread. To keep the current behavior (and make this warning disappear) use `import imageio.v2 as imageio` or call `imageio.v2.imread` directly.\n",
      "  image = imageio.imread(frame)\n",
      "IMAGEIO FFMPEG_WRITER WARNING: input image is not divisible by macro_block_size=16, resizing from (1200, 600) to (1200, 608) to ensure video compatibility with most codecs and players. To prevent resizing, make your input image divisible by the macro_block_size or set the macro_block_size to 1 (risking incompatibility).\n"
     ]
    },
    {
     "data": {
      "text/plain": [
       "False"
      ]
     },
     "execution_count": 7,
     "metadata": {},
     "output_type": "execute_result"
    }
   ],
   "source": [
    "create_movie(field_time_out,a/lambdas,name=f\"timemonitorlog {a/lambdas[0]:.3g} - {a/lambdas[-1]:.3g}\",type=\"t\",log=True,path=f\"output/3D SHU/Beam Spreading\",frames_per_second=10, normalize = True)\n"
   ]
  },
  {
   "cell_type": "code",
   "execution_count": 9,
   "metadata": {},
   "outputs": [
    {
     "data": {
      "image/png": "[encoded data removed]",
      "text/plain": [
       "<Figure size 640x480 with 1 Axes>"
      ]
     },
     "metadata": {},
     "output_type": "display_data"
    }
   ],
   "source": [
    "flux_t = structure_1.sim_data[\"time_monitorT\"].flux\n",
    "times = flux_t['t'][:]*1e12\n",
    "# flux_t2 = structure_2.sim_data[\"time_monitorT\"].flux\n",
    "# times2 = flux_t2['t'][:]*1e12\n",
    "\n",
    "\n",
    "plt.plot(times,(flux_t/np.max(flux_t)))\n",
    "# plt.plot(times2,(flux_t2/np.max(flux_t2)))\n",
    "plt.yscale(\"log\")\n"
   ]
  },
  {
   "cell_type": "code",
   "execution_count": null,
   "metadata": {},
   "outputs": [],
   "source": []
  }
 ],
 "metadata": {
  "kernelspec": {
   "display_name": "Python 3",
   "language": "python",
   "name": "python3"
  },
  "language_info": {
   "codemirror_mode": {
    "name": "ipython",
    "version": 3
   },
   "file_extension": ".py",
   "mimetype": "text/x-python",
   "name": "python",
   "nbconvert_exporter": "python",
   "pygments_lexer": "ipython3",
   "version": "3.12.4"
  }
 },
 "nbformat": 4,
 "nbformat_minor": 2
}
