{
 "cells": [
  {
   "cell_type": "code",
   "execution_count": null,
   "metadata": {},
   "outputs": [],
   "source": [
    "%load_ext autoreload\n",
    "%autoreload 2\n",
    "%matplotlib inline\n",
    "import scipy.io as sio\n",
    "from dataclasses import dataclass\n",
    "from typing import List, Tuple\n",
    "import os\n",
    "from dotenv import load_dotenv\n",
    "load_dotenv()\n",
    "import tidy3d as td\n",
    "from tidy3d import web\n",
    "import numpy as np\n",
    "from pathlib import Path\n",
    "import matplotlib.pyplot as plt\n",
    "import AutomationModule as AM\n",
    "from scipy.optimize import curve_fit\n",
    "from natsort import natsorted\n",
    "import numpy as np\n",
    "import matplotlib.animation as animation\n",
    "import xarray as xr\n",
    "import imageio\n",
    "import matplotlib\n",
    "\n",
    "\n",
    "\n",
    "tidy3dAPI = os.environ[\"API_TIDY3D_KEY\"]"
   ]
  },
  {
   "cell_type": "code",
   "execution_count": null,
   "metadata": {},
   "outputs": [],
   "source": [
    "a=1\n",
    "fluxes = []\n",
    "\n",
    "for s,path_direction in enumerate([\n",
    "                        \"PNAS Test 2D Structures T(t) Samples N 480 xi 0.45 Localization/z_incidence\",\n",
    "                        \"PNAS Test 2D Structures T(t) Samples N 480 xi 0.45 Diffusion/z_incidence\",\n",
    "                        \n",
    "                        #\"PNAS Test 2D Structures T(t) Samples N 480 xi 0.2 Localization 100 Runtime/z_incidence\",\n",
    "                        #\"PNAS Test 2D Structures T(t) Samples N 480 xi 0.2 Diffusion/z_incidence\"\n",
    "                       ]):\n",
    "\n",
    "      folder_path = f\"data/{path_direction}\"\n",
    "      \n",
    "      for i,filename in enumerate(natsorted(os.listdir(folder_path))):\n",
    "            print(filename)\n",
    "            if i in [2,9]:\n",
    "                  continue\n",
    "            if not Path(filename).suffix==\".txt\":\n",
    "                  continue\n",
    "            \n",
    "            if os.path.isfile(os.path.join(folder_path, filename)):\n",
    "                file=os.path.join(folder_path, filename)\n",
    "                structure_1 = AM.loadFromFile(key = tidy3dAPI, file_path=file)\n",
    "                #print(structure_1.__str__())\n",
    "                sim_data = structure_1.sim_data\n",
    "                flux_t = sim_data[\"time_monitorT\"].flux\n",
    "                times = flux_t['t']\n",
    "                max_index = np.argmax(flux_t.values)\n",
    "                monitor_lambdas = td.C_0/np.array(np.array(sim_data.simulation.monitors)[0].freqs)\n",
    "                flux_item = {\n",
    "                      \"flux_t\":flux_t,\n",
    "                      \"times\":times,\n",
    "                      \"monitor_lambdas\":monitor_lambdas,\n",
    "                      \"max_index\":max_index,\n",
    "                      \"type\":\"Localization\" if s == 0 else \"Diffusive\"\n",
    "                }\n",
    "\n",
    "                fluxes += [flux_item]\n",
    "                \n",
    "                plt.plot(times[:]*1e12,np.log(flux_t[:]/np.max(flux_t)),\"o\",label=f\"$\\\\nu$: {1/monitor_lambdas[0]:.3g} - {1/monitor_lambdas[-1]:.3g}\")\n",
    "      \n",
    "\n",
    "                \n",
    "\n",
    "      plt.ylabel(\"Log(T(t))\")\n",
    "      plt.xlabel(\"Time[ps]\")\n",
    "      plt.title(\"Average transmission T(t)\")\n",
    "      plt.legend()\n",
    "      plt.grid()\n",
    "      plt.show()\n"
   ]
  },
  {
   "cell_type": "code",
   "execution_count": null,
   "metadata": {},
   "outputs": [],
   "source": [
    "fluxes_loc =([np.array(item[\"flux_t\"]) for item in fluxes if item[\"type\"]==\"Localization\"])\n",
    "fluxes_diff = ([np.array(item[\"flux_t\"]) for item in fluxes if item[\"type\"]==\"Diffusive\"])\n",
    "times_diff = fluxes[-2][\"times\"]\n",
    "times_loc = fluxes[0][\"times\"]\n",
    "monitor_lambdas_diff=fluxes[-1][\"monitor_lambdas\"]\n",
    "monitor_lambdas_loc=fluxes[0][\"monitor_lambdas\"]"
   ]
  },
  {
   "cell_type": "code",
   "execution_count": null,
   "metadata": {},
   "outputs": [],
   "source": [
    "loc = np.abs((np.mean(fluxes_loc,axis=0)))\n",
    "max_index = np.argmax(loc)\n",
    "diff = np.abs(np.mean(fluxes_diff,axis=0))\n",
    "max_index_diff = np.argmax(diff)"
   ]
  },
  {
   "cell_type": "code",
   "execution_count": null,
   "metadata": {},
   "outputs": [],
   "source": [
    "def moving_average(x, w=3):\n",
    "    return np.convolve(x, np.ones(w), 'valid') / w"
   ]
  },
  {
   "cell_type": "code",
   "execution_count": null,
   "metadata": {},
   "outputs": [],
   "source": [
    "bad_loc_data_log = np.where(np.isnan(np.log(loc)))\n",
    "cleaned_loc_data_log = np.delete(loc,bad_loc_data_log)\n",
    "cleaned_loc_data_time = np.delete(times_loc,bad_loc_data_log)"
   ]
  },
  {
   "cell_type": "code",
   "execution_count": null,
   "metadata": {},
   "outputs": [],
   "source": [
    "bad_diff_data_log = np.where(np.isnan(np.log(diff)))\n",
    "cleaned_diff_data_log = np.delete(diff,bad_diff_data_log)\n",
    "cleaned_diff_data_time = np.delete(times_diff,bad_diff_data_log)"
   ]
  },
  {
   "cell_type": "code",
   "execution_count": null,
   "metadata": {},
   "outputs": [],
   "source": [
    "loc_moving_avg = moving_average((cleaned_loc_data_log),25)\n",
    "diff_moving_avg = moving_average((cleaned_diff_data_log),50)"
   ]
  },
  {
   "cell_type": "code",
   "execution_count": null,
   "metadata": {},
   "outputs": [],
   "source": [
    "font = {\n",
    "        'weight' : 'bold',\n",
    "        'size'   : 27}\n",
    "\n",
    "matplotlib.rc('font', **font)"
   ]
  },
  {
   "cell_type": "code",
   "execution_count": null,
   "metadata": {},
   "outputs": [],
   "source": [
    "plt.figure(figsize=(15, 10))\n",
    "times_avg=np.array(cleaned_loc_data_time[max_index+24:]*1e12)\n",
    "loc_avg=np.log(loc_moving_avg[max_index:]/np.max(loc_moving_avg[max_index:]))\n",
    "plt.plot(times_loc[max_index:]*1e12,np.log((loc[max_index:])/np.max((loc[max_index:]))),\"o\",label=f\"$\\\\nu$: {1/monitor_lambdas_loc[0]:.3g} - {1/monitor_lambdas_loc[-1]:.3g}\")\n",
    "plt.plot(times_avg,loc_avg,label=f\"Moving Average\")\n",
    "plt.ylabel(\"Log(T(t))\")\n",
    "plt.xlabel(\"Time[ps]\")\n",
    "plt.title(\"Average transmission T(t)\")\n",
    "plt.legend()\n",
    "plt.show()"
   ]
  },
  {
   "cell_type": "code",
   "execution_count": null,
   "metadata": {},
   "outputs": [],
   "source": [
    "plt.figure(figsize=(15, 10))\n",
    "times_diff_avg=np.array(times_diff[max_index_diff+49:]*1e12)\n",
    "diff_avg=np.log(diff_moving_avg[max_index_diff:]/np.max(diff_moving_avg[max_index_diff:]))\n",
    "plt.plot(times_diff[max_index_diff:]*1e12,np.log(diff[max_index_diff:]/np.max(diff[max_index_diff:])),\"o\",label=f\"$\\\\nu$: {1/monitor_lambdas_diff[0]:.3g} - {1/monitor_lambdas_diff[-1]:.3g}\")\n",
    "plt.plot(times_diff_avg,diff_avg,label=f\"Moving Average\")\n",
    "plt.ylabel(\"Log(T(t))\")\n",
    "plt.xlabel(\"Time[ps]\")\n",
    "plt.title(\"Average transmission T(t)\")\n",
    "plt.legend()\n",
    "plt.show()"
   ]
  },
  {
   "cell_type": "code",
   "execution_count": null,
   "metadata": {},
   "outputs": [],
   "source": [
    "import jax\n",
    "import jax.numpy as jnp\n",
    "from jaxopt import ScipyMinimize\n",
    "import jaxopt\n",
    "import matplotlib.pyplot as plt\n",
    "jax.config.update(\"jax_enable_x64\", True)"
   ]
  },
  {
   "cell_type": "code",
   "execution_count": null,
   "metadata": {},
   "outputs": [],
   "source": [
    "def diffussive(t,A):\n",
    "    B = jnp.exp(-A*t)\n",
    "    return jnp.log(B/jnp.max(B))"
   ]
  },
  {
   "cell_type": "code",
   "execution_count": null,
   "metadata": {},
   "outputs": [],
   "source": [
    "#Anderson\n",
    "Db = lambda l_var:3e2*l_var/3\n",
    "\n",
    "\n",
    "def alpha_star(Db,xi,L):\n",
    "    return (Db/xi**2)*jnp.exp(-L/xi)\n",
    "\n",
    "def trans_t(t,alpha,td,p=0.5,s=0.85): \n",
    "    \n",
    "    B = (alpha*td)**(s+1)*jnp.exp(-alpha*t+1)*(t*alpha)**-(p+1)\n",
    "    #B =(s+1)*jnp.log(alpha*td) + (1-alpha*td) -(p+1)*jnp.log(alpha*t)\n",
    "    return np.log(B/np.max(B))\n",
    "\n",
    "\n",
    "def trans_t_1(t,alpha,p): \n",
    "    \n",
    "    B = -p*jnp.log(t)-alpha*t\n",
    "\n",
    "    return (B)\n",
    "\n",
    "def transmission_anderson_func_jax(t,l,nu,L,td,s=0.85,p=0.5):\n",
    "    Db_calculated = Db(l)\n",
    "    k =  2*jnp.pi*(nu/(a))\n",
    "    xi = 6*l*(k*l)**2/(1-(k*l)**4)\n",
    "    print(xi/a)\n",
    "    alpha= alpha_star(Db_calculated,xi,L)\n",
    "    transmission = trans_t(t,alpha,td,p,s)\n",
    "    return transmission\n",
    "def transmission_anderson_func_jax_1(t,l,nu,L,td,s=0.85,p=0.5):\n",
    "    Db_calculated = Db(l)\n",
    "    k =  2*jnp.pi*(nu/(a))\n",
    "    xi = 6*l*(k*l)**2/(1-(k*l)**4)\n",
    "    alpha= alpha_star(Db_calculated,xi,L)\n",
    "    transmission = trans_t_1(t,alpha,td,p,s)\n",
    "    return transmission"
   ]
  },
  {
   "cell_type": "code",
   "execution_count": null,
   "metadata": {},
   "outputs": [],
   "source": [
    "plt.figure(figsize=(15, 10))\n",
    "model = lambda params,t: trans_t_1(t,params[0],params[1])\n",
    "def loss_fn(params):\n",
    " y_pred = model(params, times_avg)\n",
    " return jnp.mean((y_pred - (loc_avg))**2)\n",
    "\n",
    "initial_params = jnp.array([0.5,0.85], dtype=jnp.float32)\n",
    "optimizer = jaxopt.BFGS(fun=loss_fn,maxiter=20000)\n",
    "# Optimize the parameters\n",
    "result = optimizer.run(initial_params)\n",
    "optimal_params = result.params\n",
    "\n",
    "print(\"Anderson: \",optimal_params)\n",
    "\n",
    "transmission_anderson = trans_t_1(times_avg,optimal_params[0],optimal_params[1])\n",
    "plt.plot(times_avg,transmission_anderson,label=\"Anderson Fitted\")\n",
    "\n",
    "\n",
    "#####################Diff#########################\n",
    "model = lambda params,t: diffussive(t,params[0])\n",
    "def loss_fn(params):\n",
    " y_pred = model(params, times_avg[:])\n",
    " return jnp.mean((y_pred - loc_avg[:])**2)\n",
    "\n",
    "initial_params = jnp.array([0.5], dtype=jnp.float32)\n",
    "optimizer = jaxopt.BFGS(fun=loss_fn,maxiter=15000)\n",
    "\n",
    "# Optimize the parameters\n",
    "result = optimizer.run(initial_params)\n",
    "optimal_params = result.params\n",
    "\n",
    "print(\"Diff: \",optimal_params)\n",
    "\n",
    "transmission_diff = diffussive(times_avg,optimal_params[0])\n",
    "plt.plot(times_avg,transmission_diff,label=\"Exponential Fit\")\n",
    "\n",
    "#################################################\n",
    "\n",
    "\n",
    "\n",
    "\n",
    "\n",
    "plt.plot(times_avg,loc_avg,label=f\"Moving Average\")\n",
    "plt.ylabel(\"Log(T(t))\")\n",
    "plt.xlabel(\"Time[ps]\")\n",
    "plt.legend()\n",
    "plt.title(\"Average transmission T(t)\")\n",
    "plt.grid()\n",
    "plt.show()"
   ]
  },
  {
   "cell_type": "code",
   "execution_count": null,
   "metadata": {},
   "outputs": [],
   "source": [
    "plt.figure(figsize=(15, 10))\n",
    "indices = np.where(times_diff_avg<45)\n",
    "model = lambda params,t: diffussive(t,params[0])\n",
    "def loss_fn(params):\n",
    " y_pred = model(params, times_diff_avg[indices])\n",
    " return jnp.mean((y_pred - diff_avg[indices])**2)\n",
    "\n",
    "initial_params = jnp.array([0.5], dtype=jnp.float32)\n",
    "optimizer = jaxopt.BFGS(fun=loss_fn,maxiter=15000)\n",
    "\n",
    "# Optimize the parameters\n",
    "result = optimizer.run(initial_params)\n",
    "optimal_params = result.params\n",
    "\n",
    "print(\"Diff: \",optimal_params)\n",
    "\n",
    "transmission_diff = diffussive(times_diff_avg,optimal_params[0])\n",
    "plt.plot(times_diff_avg,transmission_diff,label=\"Diffusive Fitted\")\n",
    "plt.plot(times_diff_avg,diff_avg,label=f\"Moving Average\")\n",
    "plt.ylabel(\"Log(T(t))\")\n",
    "plt.xlabel(\"Time[ps]\")\n",
    "plt.title(\"Average transmission T(t)\")\n",
    "plt.legend()\n",
    "plt.grid()\n",
    "plt.show()"
   ]
  },
  {
   "cell_type": "code",
   "execution_count": null,
   "metadata": {},
   "outputs": [],
   "source": []
  }
 ],
 "metadata": {
  "kernelspec": {
   "display_name": "Python 3",
   "language": "python",
   "name": "python3"
  },
  "language_info": {
   "codemirror_mode": {
    "name": "ipython",
    "version": 3
   },
   "file_extension": ".py",
   "mimetype": "text/x-python",
   "name": "python",
   "nbconvert_exporter": "python",
   "pygments_lexer": "ipython3",
   "version": "3.12.4"
  }
 },
 "nbformat": 4,
 "nbformat_minor": 2
}
