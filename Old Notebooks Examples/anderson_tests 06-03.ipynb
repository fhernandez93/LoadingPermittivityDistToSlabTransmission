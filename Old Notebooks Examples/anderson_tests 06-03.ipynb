{
 "cells": [
  {
   "cell_type": "code",
   "execution_count": 1,
   "metadata": {},
   "outputs": [],
   "source": [
    "%load_ext autoreload\n",
    "%autoreload 2\n",
    "%matplotlib inline\n",
    "import scipy.io as sio\n",
    "from dataclasses import dataclass\n",
    "from typing import List, Tuple\n",
    "import os\n",
    "from dotenv import load_dotenv\n",
    "load_dotenv()\n",
    "import tidy3d as td\n",
    "from tidy3d import web\n",
    "import numpy as np\n",
    "from pathlib import Path\n",
    "import matplotlib.pyplot as plt\n",
    "import AutomationModule as AM"
   ]
  },
  {
   "cell_type": "code",
   "execution_count": 2,
   "metadata": {},
   "outputs": [],
   "source": [
    "tidy3dAPI = os.environ[\"API_TIDY3D_KEY\"]"
   ]
  },
  {
   "cell_type": "code",
   "execution_count": 3,
   "metadata": {},
   "outputs": [],
   "source": [
    "a = 5/3"
   ]
  },
  {
   "cell_type": "code",
   "execution_count": 4,
   "metadata": {},
   "outputs": [],
   "source": [
    "# lambdas = a/np.array([0.35,0.56]) #SAL\n",
    "# folder_path =\"d:\\phd stuff\\structures\\\\18.01a\\\\sample 1\"\n",
    "# project_name = \"RCP Sample 1 Slices SAL Gap Formation\"\n",
    "# postprocess_results = []\n",
    "# runtime = 300\n",
    "# min_steps_per_lambda = 20\n",
    "# for direction in [\"z\"]: \n",
    "#     for filename in os.listdir(folder_path):\n",
    "#      for cutting in [0.01,0.03,0.05,0.07,0.09]:\n",
    "#         print(filename)\n",
    "#         if not (Path(filename).suffix==\".h5\"):\n",
    "#             continue \n",
    "#         if os.path.isfile(os.path.join(folder_path, filename)):\n",
    "#             file=os.path.join(folder_path, filename)\n",
    "#             structure_1 = AM.loadAndRunStructure(key = tidy3dAPI, file_path=file\n",
    "#                                             ,direction=direction, lambda_range=lambdas,\n",
    "#                                             box_size=18.01*a,runtime=runtime,min_steps_per_lambda=min_steps_per_lambda,\n",
    "#                                            scaling=1,shuoff_condtion=1e-12, verbose=True, \n",
    "#                                            monitors=[\"flux\",\"time_monitor\"], freqs=600, \n",
    "#                                            cut_condition=cutting, source=\"planewave\"\n",
    "                                           \n",
    "                                           \n",
    "#                                            )\n",
    "           \n",
    "#             print(structure_1.__str__())\n",
    "#             structure_1.plot_sim_layout()\n",
    "#             results = structure_1.run_sim(folder_description=project_name,load=False,run_free=False, run=True,add_ref=True)\n",
    "#             #print(structure_1.estimate_cost())\n",
    "\n",
    "\n",
    "\n",
    "            \n"
   ]
  },
  {
   "cell_type": "code",
   "execution_count": 5,
   "metadata": {},
   "outputs": [],
   "source": [
    "# lambdas = a/np.array([0.416,0.419]) \n",
    "# folder_path =r\"d:/phd stuff/structures/18.01a/sample 2\"\n",
    "# project_name = r\"RCP 2 Tight pulse 36x36x(slicesx18a) 0.416-0.419 nu 10 times\"\n",
    "# runtime = 5\n",
    "# min_steps_per_lambda = 20\n",
    "# for direction in [\"z\"]: \n",
    "#     for filename in os.listdir(folder_path):\n",
    "#      for cutting in [0.7]:\n",
    "#         print(filename)\n",
    "#         if not (Path(filename).suffix==\".h5\"):\n",
    "#             continue \n",
    "#         if os.path.isfile(os.path.join(folder_path, filename)):\n",
    "#             file=os.path.join(folder_path, filename)\n",
    "#             structure_1 = AM.loadAndRunStructure(key = tidy3dAPI, file_path=file\n",
    "#                                             ,direction=direction, lambda_range=lambdas,\n",
    "#                                             box_size=18.01*a,runtime=runtime,min_steps_per_lambda=min_steps_per_lambda,\n",
    "#                                            scaling=1,shuoff_condtion=1e-20, verbose=True,\n",
    "#                                            monitors=[\"flux\",\"time_monitorFieldOut\"],\n",
    "#                                            freqs=3, \n",
    "#                                            cut_condition=cutting, source=\"tight\", \n",
    "#                                            multiplicate_size=True, multiplication_factor=7,\n",
    "#                                            width=0.20,\n",
    "#                                            tight_percentage=0.015\n",
    "#                                            )\n",
    "           \n",
    "#             # print(structure_1.__str__())\n",
    "#             # structure_1.plot_sim_layout()\n",
    "#             # results = structure_1.run_sim(folder_description=project_name,load=False,run_free=False, run=False,add_ref=False)\n"
   ]
  },
  {
   "cell_type": "code",
   "execution_count": 6,
   "metadata": {},
   "outputs": [],
   "source": [
    "# #Tight pulse near from gap slices\n",
    "\n",
    "# lambdas = a/np.array([0.416,0.419]) #SAL\n",
    "# folder_path =r\"d:\\phd stuff\\structures\\\\18.01a\"\n",
    "# project_name = r\"RCP Near Gap Tight pulse 36x36x(slicesx18a) 0.418 nu width 0.2\"\n",
    "# runtime = 10\n",
    "# min_steps_per_lambda = 25\n",
    "# for direction in [\"z\"]:   \n",
    "#     for filename in os.listdir(folder_path):\n",
    "#      for cutting in [0.7]:\n",
    "#         print(filename)\n",
    "#         if not (Path(filename).suffix==\".h5\"):\n",
    "#             continue \n",
    "#         if os.path.isfile(os.path.join(folder_path, filename)):\n",
    "#             file=os.path.join(folder_path, filename)\n",
    "#             structure_1 = AM.loadAndRunStructure(key = tidy3dAPI, file_path=file\n",
    "#                                             ,direction=direction, lambda_range=lambdas,\n",
    "#                                             box_size=18.01*a,runtime=runtime,min_steps_per_lambda=min_steps_per_lambda,\n",
    "#                                            scaling=1,shuoff_condtion=1e-20, verbose=True,\n",
    "#                                            monitors=[\"flux\",\"time_monitorFieldOut\",\"time_monitorFieldCenter\"],\n",
    "#                                            freqs=5, \n",
    "#                                            cut_condition=cutting, source=\"tight\", duplicate_size=True, width=0.2\n",
    "#                                            )\n",
    "           \n",
    "#             print(structure_1.__str__())\n",
    "#             structure_1.plot_sim_layout()\n",
    "#             break\n",
    "#             #results = structure_1.run_sim(folder_description=project_name,load=False,run_free=False, run=True,add_ref=True)\n"
   ]
  },
  {
   "cell_type": "code",
   "execution_count": 7,
   "metadata": {},
   "outputs": [],
   "source": [
    "# #Tight pulse near from gap slices\n",
    "\n",
    "# lambdas = a/np.array([0.21,0.22]) #Diffusive\n",
    "# folder_path =r\"d:\\phd stuff\\structures\\\\18.01a\"\n",
    "# project_name = r\"RCP Near Gap Tight pulse 36x36x(slicesx18a) 0.22 nu Regime\"\n",
    "# runtime = 25\n",
    "# min_steps_per_lambda = 20\n",
    "# for direction in [\"z\"]: \n",
    "#     for filename in os.listdir(folder_path):\n",
    "#      for cutting in [0.3]:\n",
    "#         print(filename)\n",
    "#         if not (Path(filename).suffix==\".h5\"):\n",
    "#             continue \n",
    "#         if os.path.isfile(os.path.join(folder_path, filename)):\n",
    "#             file=os.path.join(folder_path, filename)\n",
    "#             structure_1 = AM.loadAndRunStructure(key = tidy3dAPI, file_path=file\n",
    "#                                             ,direction=direction, lambda_range=lambdas,\n",
    "#                                             box_size=18.01*a,runtime=runtime,min_steps_per_lambda=min_steps_per_lambda,\n",
    "#                                            scaling=1,shuoff_condtion=1e-20, verbose=True,\n",
    "#                                            monitors=[\"flux\",\"time_monitorFieldOut\",\"time_monitorFieldCenter\"],\n",
    "#                                            freqs=5, \n",
    "#                                            cut_condition=cutting, source=\"tight\", duplicate_size=True, width=0.20\n",
    "#                                            )\n",
    "           \n",
    "#             print(structure_1.__str__())\n",
    "#             structure_1.plot_sim_layout()\n",
    "#             results = structure_1.run_sim(folder_description=project_name,load=False,run_free=False, run=True,add_ref=False)\n"
   ]
  },
  {
   "cell_type": "code",
   "execution_count": 8,
   "metadata": {},
   "outputs": [],
   "source": [
    "# #Whole pulse near from gap slices\n",
    "\n",
    "# lambdas = a/np.array([0.416,0.419]) #SAL\n",
    "# folder_path =r\"H:\\phd stuff\\structures\\\\18.01a\\\\sample 1\"\n",
    "# project_name = r\"RCP Sample 1 T_t slices nu 0.418 Res 30\"\n",
    "# runtime = 14\n",
    "# min_steps_per_lambda = 30\n",
    "# for direction in [\"z\"]: \n",
    "#     for filename in os.listdir(folder_path):\n",
    "#      for cutting in [0.7,0.9]:\n",
    "#         print(filename)\n",
    "#         if not (Path(filename).suffix==\".h5\"):\n",
    "#             continue \n",
    "#         if os.path.isfile(os.path.join(folder_path, filename)):\n",
    "#             file=os.path.join(folder_path, filename)\n",
    "#             structure_1 = AM.loadAndRunStructure(key = tidy3dAPI, file_path=file\n",
    "#                                             ,direction=direction, lambda_range=lambdas,\n",
    "#                                             box_size=18.01*a,runtime=runtime,min_steps_per_lambda=min_steps_per_lambda,\n",
    "#                                            scaling=1.0,shuoff_condtion=1e-20, verbose=True, width=0.15,\n",
    "#                                            monitors=[\"flux\",\"time_monitor\",\"time_monitorFieldOut\"],\n",
    "#                                            freqs=5, \n",
    "#                                            cut_condition=cutting, source=\"planewave\"\n",
    "                                           \n",
    "                                           \n",
    "#                                            )\n",
    "           \n",
    "#             print(structure_1.__str__())\n",
    "#             structure_1.plot_sim_layout()\n",
    "#             results = structure_1.run_sim(folder_description=project_name,load=False,run_free=False, run=True,add_ref=False)\n"
   ]
  },
  {
   "cell_type": "code",
   "execution_count": 9,
   "metadata": {},
   "outputs": [],
   "source": [
    "# #Whole pulse near from gap slices\n",
    "\n",
    "# lambdas = a/np.array([0.343,0.345]) #Diffusive\n",
    "# folder_path =r\"H:\\phd stuff\\structures\\\\18.01a\\\\sample 1\"\n",
    "# project_name = r\"RCP Sample 1 T_t slices nu 0.344 Res 30\"\n",
    "# runtime = 8\n",
    "# min_steps_per_lambda = 25\n",
    "# for direction in [\"z\"]: \n",
    "#     for filename in os.listdir(folder_path):\n",
    "#      for cutting in [0.7,0.9]:\n",
    "#         print(filename)\n",
    "#         if not (Path(filename).suffix==\".h5\"):\n",
    "#             continue \n",
    "#         if os.path.isfile(os.path.join(folder_path, filename)):\n",
    "#             file=os.path.join(folder_path, filename)\n",
    "#             structure_1 = AM.loadAndRunStructure(key = tidy3dAPI, file_path=file\n",
    "#                                             ,direction=direction, lambda_range=lambdas,\n",
    "#                                             box_size=18.01*a,runtime=runtime,min_steps_per_lambda=min_steps_per_lambda,\n",
    "#                                            scaling=1.0,shuoff_condtion=1e-20, verbose=True, width=0.15,\n",
    "#                                            monitors=[\"flux\",\"time_monitor\",\"time_monitorFieldOut\"],\n",
    "#                                            freqs=5, \n",
    "#                                            cut_condition=cutting, source=\"planewave\"\n",
    "                                           \n",
    "                                           \n",
    "#                                            )\n",
    "           \n",
    "#             print(structure_1.__str__())\n",
    "#             structure_1.plot_sim_layout()\n",
    "#             results = structure_1.run_sim(folder_description=project_name,load=False,run_free=False, run=True,add_ref=True)\n",
    "\n"
   ]
  },
  {
   "cell_type": "code",
   "execution_count": 10,
   "metadata": {},
   "outputs": [],
   "source": [
    "# #Whole pulse near from gap slices\n",
    "\n",
    "# lambdas = a/np.array([0.343,0.345]) #Diffusive\n",
    "# folder_path =r\"h:\\phd stuff\\structures\\\\18.01a\\\\sample 1\"\n",
    "# project_name = r\"RCP Sample 1 T_t slices nu 0.344\"\n",
    "# runtime = 4\n",
    "# min_steps_per_lambda = 25\n",
    "# for direction in [\"z\"]: \n",
    "#     for filename in os.listdir(folder_path):\n",
    "#      for cutting in [0.7]:\n",
    "#         print(filename)\n",
    "#         if not (Path(filename).suffix==\".h5\"):\n",
    "#             continue \n",
    "#         if os.path.isfile(os.path.join(folder_path, filename)):\n",
    "#             file=os.path.join(folder_path, filename)\n",
    "#             structure_1 = AM.loadAndRunStructure(key = tidy3dAPI, file_path=file\n",
    "#                                             ,direction=direction, lambda_range=lambdas,\n",
    "#                                             box_size=18.01*a,runtime=runtime,min_steps_per_lambda=min_steps_per_lambda,\n",
    "#                                            scaling=1.0,shuoff_condtion=1e-20, verbose=True, width=0.2,\n",
    "#                                            monitors=[\"flux\",\"time_monitor\",\"time_monitorFieldOut\"],\n",
    "#                                            freqs=5, \n",
    "#                                            cut_condition=cutting, source=\"planewave\"\n",
    "                                           \n",
    "                                           \n",
    "#                                            )\n",
    "           \n",
    "#             print(structure_1.__str__())\n",
    "#             structure_1.plot_sim_layout()\n",
    "#             #results = structure_1.run_sim(folder_description=project_name,load=False,run_free=False, run=True,add_ref=True)\n",
    "\n"
   ]
  },
  {
   "cell_type": "code",
   "execution_count": 11,
   "metadata": {},
   "outputs": [],
   "source": [
    "# #Whole pulse near from gap slices\n",
    "\n",
    "# lambdas = a/np.array([0.416,0.419]) #Diffusive\n",
    "# folder_path =r\"h:\\phd stuff\\structures\\\\18.01a\\\\sample 1\"\n",
    "# project_name = r\"RCP Sample 1 T_t No Structure\"\n",
    "# runtime = 6\n",
    "# min_steps_per_lambda = 25\n",
    "# for direction in [\"z\"]: \n",
    "#     for filename in os.listdir(folder_path):\n",
    "#      for cutting in [1.0]:\n",
    "#         print(filename)\n",
    "#         if not (Path(filename).suffix==\".h5\"):\n",
    "#             continue \n",
    "#         if os.path.isfile(os.path.join(folder_path, filename)):\n",
    "#             file=os.path.join(folder_path, filename)\n",
    "#             structure_1 = AM.loadAndRunStructure(key = tidy3dAPI, file_path=file\n",
    "#                                             ,direction=direction, lambda_range=lambdas,\n",
    "#                                             box_size=18.01*a,runtime=runtime,min_steps_per_lambda=min_steps_per_lambda,\n",
    "#                                            scaling=1.0,shuoff_condtion=1e-20, verbose=True, width=0.2,\n",
    "#                                            monitors=[\"flux\",\"time_monitor\",\"time_monitorFieldOut\"],\n",
    "#                                            freqs=5, \n",
    "#                                            cut_condition=cutting, source=\"planewave\"\n",
    "                                           \n",
    "                                           \n",
    "#                                            )\n",
    "           \n",
    "#             print(structure_1.__str__())\n",
    "#             structure_1.plot_sim_layout()\n",
    "#             #results = structure_1.run_sim(folder_description=project_name,load=False,run_free=False, run=True,add_ref=True)\n",
    "\n"
   ]
  },
  {
   "cell_type": "code",
   "execution_count": 12,
   "metadata": {},
   "outputs": [],
   "source": [
    "# #Whole pulse near from gap slices\n",
    "\n",
    "# lambdas = a/np.array([0.45,0.46]) #Diffusive\n",
    "# folder_path =r\"H:\\phd stuff\\structures\\\\18.01a\\\\sample 1\"\n",
    "# project_name = r\"RCP Sample 1 T_t slices nu 0.45 Res 30\"\n",
    "# runtime = 35\n",
    "# min_steps_per_lambda = 30\n",
    "# for direction in [\"z\"]: \n",
    "#     for filename in os.listdir(folder_path):\n",
    "#      for cutting in [1.0]:\n",
    "#         print(filename)\n",
    "#         if not (Path(filename).suffix==\".h5\"):\n",
    "#             continue \n",
    "#         if os.path.isfile(os.path.join(folder_path, filename)):\n",
    "#             file=os.path.join(folder_path, filename)\n",
    "#             structure_1 = AM.loadAndRunStructure(key = tidy3dAPI, file_path=file\n",
    "#                                             ,direction=direction, lambda_range=lambdas,\n",
    "#                                             box_size=18.01*a,runtime=runtime,min_steps_per_lambda=min_steps_per_lambda,\n",
    "#                                            scaling=1.0,shuoff_condtion=1e-20, verbose=True, width=0.15,\n",
    "#                                            monitors=[\"flux\",\"time_monitor\",\"time_monitorFieldOut\"],\n",
    "#                                            freqs=5, \n",
    "#                                            cut_condition=cutting, source=\"planewave\"\n",
    "                                           \n",
    "                                           \n",
    "#                                            )\n",
    "           \n",
    "#             print(structure_1.__str__())\n",
    "#             #structure_1.plot_sim_layout()\n",
    "#             results = structure_1.run_sim(folder_description=project_name,load=False,run_free=False, run=True,add_ref=True)\n",
    "\n"
   ]
  },
  {
   "cell_type": "code",
   "execution_count": 13,
   "metadata": {},
   "outputs": [],
   "source": [
    "# #Whole pulse near from gap slices\n",
    "\n",
    "# lambdas = a/np.array([0.502,0.504]) #Diffusive\n",
    "# folder_path =r\"H:\\phd stuff\\structures\\\\18.01a\\\\sample 1\"\n",
    "# project_name = r\"RCP Sample 1 T_t nu 0.5 Res 30\"\n",
    "# runtime = 5\n",
    "# min_steps_per_lambda = 30\n",
    "# for direction in [\"z\"]: \n",
    "#     for filename in os.listdir(folder_path):\n",
    "#      for cutting in [1.0]:\n",
    "#         print(filename)\n",
    "#         if not (Path(filename).suffix==\".h5\"):\n",
    "#             continue \n",
    "#         if os.path.isfile(os.path.join(folder_path, filename)):\n",
    "#             file=os.path.join(folder_path, filename)\n",
    "#             structure_1 = AM.loadAndRunStructure(key = tidy3dAPI, file_path=file\n",
    "#                                             ,direction=direction, lambda_range=lambdas,\n",
    "#                                             box_size=18.01*a,runtime=runtime,min_steps_per_lambda=min_steps_per_lambda,\n",
    "#                                            scaling=1.0,shuoff_condtion=1e-20, verbose=True, width=0.10,\n",
    "#                                            monitors=[\"flux\",\"time_monitor\"],\n",
    "#                                            freqs=5, \n",
    "#                                            cut_condition=cutting, source=\"planewave\"\n",
    "                                           \n",
    "                                           \n",
    "#                                            )\n",
    "           \n",
    "#             print(structure_1.__str__())\n",
    "#             #structure_1.plot_sim_layout()\n",
    "#             results = structure_1.run_sim(folder_description=project_name,load=False,run_free=False, run=True,add_ref=False)\n",
    "\n"
   ]
  },
  {
   "cell_type": "code",
   "execution_count": 14,
   "metadata": {},
   "outputs": [],
   "source": [
    "# #Whole pulse near from gap slices\n",
    "\n",
    "# lambdas = a/np.array([0.422,0.424]) \n",
    "# #folder_path =r\"H:\\phd stuff\\structures\\\\18.01a\\\\sample 1\"\n",
    "# folder_path=r\"H:\\phd stuff\\structures\\Abrahamh5\\240307\"\n",
    "# project_name = r\"RCP Sample 1 T_t nu 0.42 Res 30 Abrahamh5\"\n",
    "# runtime = 5\n",
    "# min_steps_per_lambda = 30\n",
    "# for direction in [\"z\"]: \n",
    "#     for filename in os.listdir(folder_path):\n",
    "#      for cutting in [1.0]:\n",
    "#         print(filename)\n",
    "#         if not (Path(filename).suffix==\".h5\"):\n",
    "#             continue \n",
    "#         if os.path.isfile(os.path.join(folder_path, filename)):\n",
    "#             file=os.path.join(folder_path, filename)\n",
    "#             structure_1 = AM.loadAndRunStructure(key = tidy3dAPI, file_path=file\n",
    "#                                             ,direction=direction, lambda_range=lambdas,\n",
    "#                                             box_size=18.01*a,runtime=runtime,min_steps_per_lambda=min_steps_per_lambda,\n",
    "#                                            scaling=1.0,shuoff_condtion=1e-20, verbose=True, width=0.10,\n",
    "#                                            monitors=[\"flux\",\"time_monitor\"],\n",
    "#                                            freqs=5, \n",
    "#                                            cut_condition=cutting, source=\"planewave\"\n",
    "                                           \n",
    "                                           \n",
    "#                                            )\n",
    "           \n",
    "#             print(structure_1.__str__())\n",
    "#             structure_1.plot_sim_layout()\n",
    "#             results = structure_1.run_sim(folder_description=project_name,load=False,run_free=False, run=True,add_ref=False)\n",
    "\n"
   ]
  },
  {
   "cell_type": "code",
   "execution_count": 15,
   "metadata": {},
   "outputs": [],
   "source": [
    "# #Tight pulse \n",
    "# a=5/3\n",
    "# lambdas =  a/np.array([0.422,0.424])\n",
    "# folder_path =r\"H:\\phd stuff\\structures\\\\18.01a\\\\sample 1\"\n",
    "# #folder_path=r\"H:\\phd stuff\\structures\\Abrahamh5\\240307\"\n",
    "# #folder_path=r\"H:\\phd stuff\\structures\\Abrahamh5\\4x4x1\"\n",
    "# project_name = r\"RCP Tight pulse 0.422 nu 90x90x11.7\"\n",
    "# runtime = 4\n",
    "# min_steps_per_lambda = 17\n",
    "# for direction in [\"z\"]: \n",
    "#     for filename in os.listdir(folder_path):\n",
    "#      for cutting in [0.65]:\n",
    "#         print(filename)\n",
    "#         if not (Path(filename).suffix==\".h5\"):\n",
    "#             continue \n",
    "#         if os.path.isfile(os.path.join(folder_path, filename)):\n",
    "#             file=os.path.join(folder_path, filename)\n",
    "#             structure_1 = AM.loadAndRunStructure(key = tidy3dAPI, file_path=file\n",
    "#                                             ,direction=direction, lambda_range=lambdas,\n",
    "#                                             box_size=18.01*a,runtime=runtime,min_steps_per_lambda=min_steps_per_lambda,\n",
    "#                                            scaling=1,shuoff_condtion=1e-20, verbose=True,\n",
    "#                                            monitors=[\"flux\",\"time_monitorFieldOut\",\"time_monitorFieldCenter\"],\n",
    "#                                            freqs=5, \n",
    "#                                            cut_condition=cutting, source=\"tight\", \n",
    "#                                            multiplicate_size=True, multiplication_factor=5,\n",
    "#                                            width=0.1,\n",
    "#                                            tight_percentage=0.05\n",
    "#                                            )\n",
    "           \n",
    "#             print(structure_1.__str__())\n",
    "#             structure_1.plot_sim_layout()\n",
    "#             results = structure_1.run_sim(folder_description=project_name,load=False,run_free=False, run=True,add_ref=False)\n"
   ]
  },
  {
   "cell_type": "code",
   "execution_count": 16,
   "metadata": {},
   "outputs": [],
   "source": [
    "# #Tight pulse \n",
    "# lambdas =  a/np.array([0.322,0.324])\n",
    "# folder_path =r\"H:\\phd stuff\\structures\\\\18.01a\\\\sample 1\"\n",
    "# project_name = r\"RCP Tight pulse 0.322 nu 90x90x11.7\"\n",
    "# runtime = 4\n",
    "# min_steps_per_lambda = 17\n",
    "# for direction in [\"z\"]: \n",
    "#     for filename in os.listdir(folder_path):\n",
    "#      for cutting in [0.65]:\n",
    "#         print(filename)\n",
    "#         if not (Path(filename).suffix==\".h5\"):\n",
    "#             continue \n",
    "#         if os.path.isfile(os.path.join(folder_path, filename)):\n",
    "#             file=os.path.join(folder_path, filename)\n",
    "#             structure_1 = AM.loadAndRunStructure(key = tidy3dAPI, file_path=file\n",
    "#                                             ,direction=direction, lambda_range=lambdas,\n",
    "#                                             box_size=18.01*a,runtime=runtime,min_steps_per_lambda=min_steps_per_lambda,\n",
    "#                                            scaling=1,shuoff_condtion=1e-20, verbose=True,\n",
    "#                                            monitors=[\"flux\",\"time_monitorFieldOut\",\"time_monitorFieldCenter\"],\n",
    "#                                            freqs=5, \n",
    "#                                            cut_condition=cutting, source=\"tight\", \n",
    "#                                            multiplicate_size=True, multiplication_factor=5,\n",
    "#                                            width=0.1,\n",
    "#                                            tight_percentage=0.05\n",
    "#                                            )\n",
    "           \n",
    "#             print(structure_1.__str__())\n",
    "#             structure_1.plot_sim_layout()\n",
    "#             results = structure_1.run_sim(folder_description=project_name,load=False,run_free=False, run=True,add_ref=False)"
   ]
  },
  {
   "cell_type": "code",
   "execution_count": 17,
   "metadata": {},
   "outputs": [],
   "source": [
    "# #Tight pulse \n",
    "# a=5/3\n",
    "# lambdas =  a/np.array([0.422,0.424])\n",
    "# folder_path =r\"H:\\phd stuff\\structures\\\\18.01a\\\\sample 1\"\n",
    "# project_name = r\"RCP Tight pulse 0.422 nu 90x90x18\"\n",
    "# runtime = 4\n",
    "# min_steps_per_lambda = 16\n",
    "# for direction in [\"z\"]: \n",
    "#     for filename in os.listdir(folder_path):\n",
    "#      for cutting in [1.0]:\n",
    "#         print(filename)\n",
    "#         if not (Path(filename).suffix==\".h5\"):\n",
    "#             continue \n",
    "#         if os.path.isfile(os.path.join(folder_path, filename)):\n",
    "#             file=os.path.join(folder_path, filename)\n",
    "#             structure_1 = AM.loadAndRunStructure(key = tidy3dAPI, file_path=file\n",
    "#                                             ,direction=direction, lambda_range=lambdas,\n",
    "#                                             box_size=18.01*a,runtime=runtime,min_steps_per_lambda=min_steps_per_lambda,\n",
    "#                                            scaling=1,shuoff_condtion=1e-20, verbose=True,\n",
    "#                                            monitors=[\"flux\",\"time_monitorFieldOut\",\"time_monitorFieldCenter\"],\n",
    "#                                            freqs=5, \n",
    "#                                            cut_condition=cutting, source=\"tight\", \n",
    "#                                            multiplicate_size=True, multiplication_factor=5,\n",
    "#                                            width=0.1,\n",
    "#                                            tight_percentage=0.05\n",
    "#                                            )\n",
    "           \n",
    "#             print(structure_1.__str__())\n",
    "#             structure_1.plot_sim_layout()\n",
    "#             results = structure_1.run_sim(folder_description=project_name,load=False,run_free=False, run=True,add_ref=False)\n"
   ]
  },
  {
   "cell_type": "code",
   "execution_count": 18,
   "metadata": {},
   "outputs": [],
   "source": [
    "# #Tight pulse \n",
    "# a=5/3\n",
    "# lambdas =  a/np.array([0.427,0.429])\n",
    "# folder_path =r\"H:\\phd stuff\\structures\\\\18.01a\\\\sample 1\"\n",
    "# project_name = r\"RCP Tight pulse 0.427 nu 90x90x18\"\n",
    "# runtime = 4\n",
    "# min_steps_per_lambda = 16\n",
    "# for direction in [\"z\"]: \n",
    "#     for filename in os.listdir(folder_path):\n",
    "#      for cutting in [1.0]:\n",
    "#         print(filename)\n",
    "#         if not (Path(filename).suffix==\".h5\"):\n",
    "#             continue \n",
    "#         if os.path.isfile(os.path.join(folder_path, filename)):\n",
    "#             file=os.path.join(folder_path, filename)\n",
    "#             structure_1 = AM.loadAndRunStructure(key = tidy3dAPI, file_path=file\n",
    "#                                             ,direction=direction, lambda_range=lambdas,\n",
    "#                                             box_size=18.01*a,runtime=runtime,min_steps_per_lambda=min_steps_per_lambda,\n",
    "#                                            scaling=1,shuoff_condtion=1e-20, verbose=True,\n",
    "#                                            monitors=[\"flux\",\"time_monitorFieldOut\",\"time_monitorFieldCenter\"],\n",
    "#                                            freqs=5, \n",
    "#                                            cut_condition=cutting, source=\"tight\", \n",
    "#                                            multiplicate_size=True, multiplication_factor=5,\n",
    "#                                            width=0.1,\n",
    "#                                            tight_percentage=0.05\n",
    "#                                            )\n",
    "           \n",
    "#             print(structure_1.__str__())\n",
    "#             structure_1.plot_sim_layout()\n",
    "#             results = structure_1.run_sim(folder_description=project_name,load=False,run_free=False, run=True,add_ref=False)\n"
   ]
  },
  {
   "cell_type": "code",
   "execution_count": 19,
   "metadata": {},
   "outputs": [],
   "source": [
    "# #Tight pulse \n",
    "# a=5/3\n",
    "# lambdas =  a/np.array([0.322,0.324])\n",
    "# folder_path =r\"H:\\phd stuff\\structures\\\\18.01a\\\\sample 1\"\n",
    "# project_name = r\"RCP Tight pulse 0.322 nu 90x90x18\"\n",
    "# runtime = 4\n",
    "# min_steps_per_lambda = 16\n",
    "# for direction in [\"z\"]: \n",
    "#     for filename in os.listdir(folder_path):\n",
    "#      for cutting in [1.0]:\n",
    "#         print(filename)\n",
    "#         if not (Path(filename).suffix==\".h5\"):\n",
    "#             continue \n",
    "#         if os.path.isfile(os.path.join(folder_path, filename)):\n",
    "#             file=os.path.join(folder_path, filename)\n",
    "#             structure_1 = AM.loadAndRunStructure(key = tidy3dAPI, file_path=file\n",
    "#                                             ,direction=direction, lambda_range=lambdas,\n",
    "#                                             box_size=18.01*a,runtime=runtime,min_steps_per_lambda=min_steps_per_lambda,\n",
    "#                                            scaling=1,shuoff_condtion=1e-20, verbose=True,\n",
    "#                                            monitors=[\"flux\",\"time_monitorFieldOut\",\"time_monitorFieldCenter\"],\n",
    "#                                            freqs=5, \n",
    "#                                            cut_condition=cutting, source=\"tight\", \n",
    "#                                            multiplicate_size=True, multiplication_factor=5,\n",
    "#                                            width=0.1,\n",
    "#                                            tight_percentage=0.05\n",
    "#                                            )\n",
    "           \n",
    "#             print(structure_1.__str__())\n",
    "#             #structure_1.plot_sim_layout()\n",
    "#             results = structure_1.run_sim(folder_description=project_name,load=False,run_free=False, run=True,add_ref=False)\n"
   ]
  },
  {
   "cell_type": "code",
   "execution_count": 20,
   "metadata": {},
   "outputs": [],
   "source": [
    "# #Tight pulse \n",
    "# a=5/3\n",
    "# lambdas =  a/np.array([0.322,0.324])\n",
    "# #lambdas =  a/np.array([0.427,0.429])\n",
    "# folder_path =r\"H:\\phd stuff\\structures\\\\18.01a\\\\sample 1\"\n",
    "# #project_name = r\"RCP Tight pulse 0.427 nu 90x90x18 No Structure\"\n",
    "# project_name = r\"RCP Tight pulse 0.322 nu 90x90x18 No Structure\"\n",
    "# runtime = 4\n",
    "# min_steps_per_lambda = 16\n",
    "# for direction in [\"z\"]: \n",
    "#     for filename in os.listdir(folder_path):\n",
    "#      for cutting in [1.0]:\n",
    "#         print(filename)\n",
    "#         if not (Path(filename).suffix==\".h5\"):\n",
    "#             continue \n",
    "#         if os.path.isfile(os.path.join(folder_path, filename)):\n",
    "#             file=os.path.join(folder_path, filename)\n",
    "#             structure_1 = AM.loadAndRunStructure(key = tidy3dAPI, file_path=file\n",
    "#                                             ,direction=direction, lambda_range=lambdas,\n",
    "#                                             box_size=18.01*a,runtime=runtime,min_steps_per_lambda=min_steps_per_lambda,\n",
    "#                                            scaling=1,shuoff_condtion=1e-20, verbose=True,\n",
    "#                                            monitors=[\"flux\",\"time_monitorFieldOut\",\"time_monitorFieldCenter\"],\n",
    "#                                            freqs=5, \n",
    "#                                            cut_condition=cutting, source=\"tight\", \n",
    "#                                            multiplicate_size=True, multiplication_factor=5,\n",
    "#                                            width=0.1,\n",
    "#                                            tight_percentage=0.05, ref_only=True\n",
    "#                                            )\n",
    "           \n",
    "#             print(structure_1.__str__())\n",
    "#             structure_1.plot_sim_layout()\n",
    "#             results = structure_1.run_sim(folder_description=project_name,load=False,run_free=False, run=True,add_ref=False)\n"
   ]
  },
  {
   "cell_type": "code",
   "execution_count": 21,
   "metadata": {},
   "outputs": [],
   "source": [
    "# #Tight pulse \n",
    "# a=5/3\n",
    "# lambdas =  a/np.array([0.427,0.429])\n",
    "# folder_path =r\"H:\\phd stuff\\structures\\\\18.01a\\\\sample 1\"\n",
    "# project_name = r\"RCP T(t) pulse 0.427 nu 18x18x18a No Structure\"\n",
    "# runtime = 20\n",
    "# min_steps_per_lambda = 30\n",
    "# for direction in [\"z\"]: \n",
    "#     for filename in os.listdir(folder_path):\n",
    "#      for cutting in [1.0]:\n",
    "#         print(filename)\n",
    "#         if not (Path(filename).suffix==\".h5\"):\n",
    "#             continue \n",
    "#         if os.path.isfile(os.path.join(folder_path, filename)):\n",
    "#             file=os.path.join(folder_path, filename)\n",
    "#             structure_1 = AM.loadAndRunStructure(key = tidy3dAPI, file_path=file\n",
    "#                                             ,direction=direction, lambda_range=lambdas,\n",
    "#                                             box_size=18.01*a,runtime=runtime,min_steps_per_lambda=min_steps_per_lambda,\n",
    "#                                            scaling=1,shuoff_condtion=1e-20, verbose=True,\n",
    "#                                            monitors=[\"flux\",\"time_monitor\"],\n",
    "#                                            freqs=10, \n",
    "#                                            cut_condition=cutting, source=\"planewave\", \n",
    "#                                            tight_percentage=0.05, ref_only=True\n",
    "#                                            )\n",
    "           \n",
    "#             print(structure_1.__str__())\n",
    "#             structure_1.plot_sim_layout()\n",
    "#             results = structure_1.run_sim(folder_description=project_name,load=False,run_free=False, run=True,add_ref=False)\n"
   ]
  },
  {
   "cell_type": "code",
   "execution_count": 22,
   "metadata": {},
   "outputs": [
    {
     "name": "stdout",
     "output_type": "stream",
     "text": [
      "01_Sample_600_res_L18.01_28ff_eps.h5\n",
      "Configured successfully.\n"
     ]
    }
   ],
   "source": [
    "#Tight pulse \n",
    "a=5/3\n",
    "lambdas =  a/np.array([0.31,0.35])\n",
    "folder_path =r\"H:\\phd stuff\\structures\\\\18.01a\\\\sample 1\"\n",
    "project_name = r\"Time Monitors Planewave RCP Tight pulse 0.39 - 0.43 nu 18x18x18\"\n",
    "runtime = 80\n",
    "min_steps_per_lambda = 17\n",
    "for direction in [\"z\"]: \n",
    "    for filename in os.listdir(folder_path):\n",
    "     for cutting in [1.0]:\n",
    "        print(filename)\n",
    "        if not (Path(filename).suffix==\".h5\"):\n",
    "            continue \n",
    "        if os.path.isfile(os.path.join(folder_path, filename)):\n",
    "            file=os.path.join(folder_path, filename)\n",
    "            structure_1 = AM.loadAndRunStructure(key = tidy3dAPI, file_path=file\n",
    "                                            ,direction=direction, lambda_range=lambdas,\n",
    "                                            box_size=18.01*a,runtime=runtime,min_steps_per_lambda=min_steps_per_lambda,\n",
    "                                           scaling=1,shuoff_condtion=1e-20, verbose=True,\n",
    "                                           monitors=[\"time_monitor\"],\n",
    "                                           freqs=200, \n",
    "                                           cut_condition=cutting, #source=\"tight\", \n",
    "                                           multiplicate_size=True, multiplication_factor=1,\n",
    "                                           width=0.15,\n",
    "                                           #tight_percentage=0.05, \n",
    "                                           ref_only=False\n",
    "                                           )"
   ]
  },
  {
   "cell_type": "code",
   "execution_count": 23,
   "metadata": {},
   "outputs": [
    {
     "name": "stdout",
     "output_type": "stream",
     "text": [
      "Simulation Parameters (wavelengths are expressed in um):\n",
      "Lx: 30 Ly: 30 Lz: 40.8\n",
      "lambda_range: 4.76 - 5.38 um \n",
      "lambdaw (pulse) 277.77777777777777 \n",
      "lambda0 5.050505050505051 \n",
      "Total runtime <= 74.12535448847824 ps \n",
      "dl (Cube Size) = 77.69088133628317 nm \n",
      "Time Steps = 472764\n",
      "Grid Points = 65.147025 million\n",
      "eps = 13\n"
     ]
    }
   ],
   "source": [
    "print(structure_1.__str__())\n"
   ]
  },
  {
   "cell_type": "code",
   "execution_count": 24,
   "metadata": {},
   "outputs": [],
   "source": [
    "sim = structure_1.sim\n",
    "boundaries= td.BoundarySpec(\n",
    "            #x=td.Boundary(plus=td.Absorber(num_layers=300),minus=td.Absorber(num_layers=300)),\n",
    "            #y=td.Boundary(plus=td.Absorber(num_layers=300),minus=td.Absorber(num_layers=300)),\n",
    "            z=td.Boundary(plus=td.Absorber(num_layers=400),minus=td.Absorber(num_layers=400)),\n",
    "            x=td.Boundary.periodic(),\n",
    "            y=td.Boundary.periodic()\n",
    "        )\n",
    "#Lx, Ly, Lz =structure_1.Lx+4,structure_1.Ly+4,structure_1.Lz+20\n",
    "Lx, Ly, Lz =structure_1.Lx,structure_1.Ly,structure_1.Lz+10\n",
    "\n",
    "\n",
    "slab= td.Structure(\n",
    "                    geometry=td.Box(\n",
    "                        center= (0,0,0),\n",
    "                        size=(\n",
    "                              structure_1.t_slab_x, \n",
    "                              structure_1.t_slab_y, \n",
    "                              structure_1.t_slab_z\n",
    "                              ),\n",
    "                    ),\n",
    "                    medium=structure_1.dielectric,\n",
    "                    name=f'slab{0}',\n",
    "                    )\n",
    "\n",
    "\n",
    "time_monitorFieldLateral = td.FieldTimeMonitor(\n",
    "                center = (0,0,0),\n",
    "                size = (0,Ly,Lz),\n",
    "                    start=0,\n",
    "                    stop=structure_1.t_stop,\n",
    "                    interval=200,\n",
    "                    fields=[\"Ex\", \"Ey\", \"Ez\"],\n",
    "                    name=\"time_monitorFieldLateral\",\n",
    "                )\n",
    "\n",
    "time_monitorFieldOut = td.FieldTimeMonitor(\n",
    "                center = (\n",
    "                            (structure_1.t_slab_x)*0.5 if structure_1.direction == \"x\" else 0, \n",
    "                            (structure_1.t_slab_y)*0.5 if structure_1.direction == \"y\" else 0, \n",
    "                            (structure_1.t_slab_z)*0.5 if structure_1.direction == \"z\" else 0\n",
    "                            ),\n",
    "                size = (\n",
    "                    0 if structure_1.direction == \"x\" else td.inf, \n",
    "                    0 if structure_1.direction == \"y\" else td.inf, \n",
    "                    0 if structure_1.direction == \"z\" else td.inf\n",
    "                    ),\n",
    "                    start=0,\n",
    "                    stop=structure_1.t_stop,\n",
    "                    interval=150,\n",
    "                    fields=[\"Ex\", \"Ey\", \"Ez\"],\n",
    "                    name=\"time_monitorFieldOut\",\n",
    "                    \n",
    "                )\n",
    "\n",
    "time_monitorT = td.FluxTimeMonitor(\n",
    "                    center=[\n",
    "                        (structure_1.Lx - structure_1.spacing)*0.5 if structure_1.direction == \"x\" else 0, \n",
    "                        (structure_1.Ly - structure_1.spacing)*0.5 if structure_1.direction == \"y\" else 0, \n",
    "                        (structure_1.Lz - structure_1.spacing)*0.5 if structure_1.direction == \"z\" else 0\n",
    "\n",
    "\n",
    "                        ],\n",
    "                    size=[\n",
    "                        structure_1.t_slab_x,structure_1.t_slab_y,0\n",
    "                        ],\n",
    "                    interval = 200,\n",
    "                    name=\"time_monitorT\",\n",
    "\n",
    "                )\n",
    "\n",
    "\n",
    "\n",
    "sim = sim.copy(update={'boundary_spec':boundaries,'size':[Lx,Ly,Lz],\"monitors\":[time_monitorT,time_monitorFieldLateral]})\n",
    "#sim = sim.copy(update={'boundary_spec':boundaries,'size':[Lx,Ly,Lz],\"monitors\":[time_monitorT,time_monitorFieldOut],\"structures\":[slab],\"medium\": td.Medium(permittivity=13)})\n",
    "#sim = sim.copy(update={'boundary_spec':boundaries,'size':[Lx,Ly,Lz],\"monitors\":list(sim.monitors)+[time_monitorFieldOut],\"structures\":[slab]})\n",
    "\n",
    "\n",
    "\n"
   ]
  },
  {
   "cell_type": "code",
   "execution_count": 25,
   "metadata": {},
   "outputs": [
    {
     "data": {
      "image/png": "[encoded data removed]",
      "text/plain": [
       "<Figure size 1600x800 with 2 Axes>"
      ]
     },
     "metadata": {},
     "output_type": "display_data"
    }
   ],
   "source": [
    "fig, ax = plt.subplots(1, tight_layout=True, figsize=(16, 8))\n",
    "freqs_plot = (structure_1.freq_range[0], structure_1.freq_range[1])\n",
    "sim.plot_eps(x=0, freq=freqs_plot[0], ax=ax)\n",
    "#sim.plot(x=0, ax=ax)\n",
    "plt.show()\n"
   ]
  },
  {
   "cell_type": "code",
   "execution_count": 26,
   "metadata": {},
   "outputs": [
    {
     "data": {
      "text/html": [
       "<pre style=\"white-space:pre;overflow-x:auto;line-height:normal;font-family:Menlo,'DejaVu Sans Mono',consolas,'Courier New',monospace\"><span style=\"color: #7fbfbf; text-decoration-color: #7fbfbf\">13:20:22 W. Europe Daylight Time </span>Created task <span style=\"color: #008000; text-decoration-color: #008000\">'RCP_d_t_Localization 0.31 - 0.35 </span>\n",
       "<span style=\"color: #7fbfbf; text-decoration-color: #7fbfbf\">                                 </span><span style=\"color: #008000; text-decoration-color: #008000\">- Sample_0 Perm Background 13 400 absorbers'</span>   \n",
       "<span style=\"color: #7fbfbf; text-decoration-color: #7fbfbf\">                                 </span>with task_id                                   \n",
       "<span style=\"color: #7fbfbf; text-decoration-color: #7fbfbf\">                                 </span><span style=\"color: #008000; text-decoration-color: #008000\">'fdve-223450a6-d01b-49fb-aa81-b987b77431c0'</span> and\n",
       "<span style=\"color: #7fbfbf; text-decoration-color: #7fbfbf\">                                 </span>task_type <span style=\"color: #008000; text-decoration-color: #008000\">'FDTD'</span>.                              \n",
       "</pre>\n"
      ],
      "text/plain": [
       "\u001b[2;36m13:20:22 W. Europe Daylight Time\u001b[0m\u001b[2;36m \u001b[0mCreated task \u001b[32m'RCP_d_t_Localization 0.31 - 0.35 \u001b[0m\n",
       "\u001b[2;36m                                 \u001b[0m\u001b[32m- Sample_0 Perm Background 13 400 absorbers'\u001b[0m   \n",
       "\u001b[2;36m                                 \u001b[0mwith task_id                                   \n",
       "\u001b[2;36m                                 \u001b[0m\u001b[32m'fdve-223450a6-d01b-49fb-aa81-b987b77431c0'\u001b[0m and\n",
       "\u001b[2;36m                                 \u001b[0mtask_type \u001b[32m'FDTD'\u001b[0m.                              \n"
      ]
     },
     "metadata": {},
     "output_type": "display_data"
    },
    {
     "data": {
      "text/html": [
       "<pre style=\"white-space:pre;overflow-x:auto;line-height:normal;font-family:Menlo,'DejaVu Sans Mono',consolas,'Courier New',monospace\"><span style=\"color: #7fbfbf; text-decoration-color: #7fbfbf\">                                 </span>View task using web UI at                      \n",
       "<span style=\"color: #7fbfbf; text-decoration-color: #7fbfbf\">                                 </span><a href=\"https://tidy3d.simulation.cloud/workbench?taskId=fdve-223450a6-d01b-49fb-aa81-b987b77431c0\" target=\"_blank\"><span style=\"color: #008000; text-decoration-color: #008000\">'https://tidy3d.simulation.cloud/workbench?task</span></a>\n",
       "<span style=\"color: #7fbfbf; text-decoration-color: #7fbfbf\">                                 </span><a href=\"https://tidy3d.simulation.cloud/workbench?taskId=fdve-223450a6-d01b-49fb-aa81-b987b77431c0\" target=\"_blank\"><span style=\"color: #008000; text-decoration-color: #008000\">Id=fdve-223450a6-d01b-49fb-aa81-b987b77431c0'</span></a>. \n",
       "</pre>\n"
      ],
      "text/plain": [
       "\u001b[2;36m                                \u001b[0m\u001b[2;36m \u001b[0mView task using web UI at                      \n",
       "\u001b[2;36m                                 \u001b[0m\u001b]8;id=961611;https://tidy3d.simulation.cloud/workbench?taskId=fdve-223450a6-d01b-49fb-aa81-b987b77431c0\u001b\\\u001b[32m'https://tidy3d.simulation.cloud/workbench?\u001b[0m\u001b]8;;\u001b\\\u001b]8;id=956918;https://tidy3d.simulation.cloud/workbench?taskId=fdve-223450a6-d01b-49fb-aa81-b987b77431c0\u001b\\\u001b[32mtask\u001b[0m\u001b]8;;\u001b\\\n",
       "\u001b[2;36m                                 \u001b[0m\u001b]8;id=956918;https://tidy3d.simulation.cloud/workbench?taskId=fdve-223450a6-d01b-49fb-aa81-b987b77431c0\u001b\\\u001b[32mId\u001b[0m\u001b]8;;\u001b\\\u001b]8;id=961611;https://tidy3d.simulation.cloud/workbench?taskId=fdve-223450a6-d01b-49fb-aa81-b987b77431c0\u001b\\\u001b[32m=\u001b[0m\u001b]8;;\u001b\\\u001b]8;id=354855;https://tidy3d.simulation.cloud/workbench?taskId=fdve-223450a6-d01b-49fb-aa81-b987b77431c0\u001b\\\u001b[32mfdve\u001b[0m\u001b]8;;\u001b\\\u001b]8;id=961611;https://tidy3d.simulation.cloud/workbench?taskId=fdve-223450a6-d01b-49fb-aa81-b987b77431c0\u001b\\\u001b[32m-223450a6-d01b-49fb-aa81-b987b77431c0'\u001b[0m\u001b]8;;\u001b\\. \n"
      ]
     },
     "metadata": {},
     "output_type": "display_data"
    },
    {
     "data": {
      "application/vnd.jupyter.widget-view+json": {
       "model_id": "77d2922f16404c68b1fcbb6bb666ce10",
       "version_major": 2,
       "version_minor": 0
      },
      "text/plain": [
       "Output()"
      ]
     },
     "metadata": {},
     "output_type": "display_data"
    },
    {
     "data": {
      "text/html": [
       "<pre style=\"white-space:pre;overflow-x:auto;line-height:normal;font-family:Menlo,'DejaVu Sans Mono',consolas,'Courier New',monospace\"></pre>\n"
      ],
      "text/plain": []
     },
     "metadata": {},
     "output_type": "display_data"
    },
    {
     "data": {
      "text/html": [
       "<pre style=\"white-space:pre;overflow-x:auto;line-height:normal;font-family:Menlo,'DejaVu Sans Mono',consolas,'Courier New',monospace\">\n",
       "</pre>\n"
      ],
      "text/plain": [
       "\n"
      ]
     },
     "metadata": {},
     "output_type": "display_data"
    },
    {
     "data": {
      "text/html": [
       "<pre style=\"white-space:pre;overflow-x:auto;line-height:normal;font-family:Menlo,'DejaVu Sans Mono',consolas,'Courier New',monospace\"><span style=\"color: #7fbfbf; text-decoration-color: #7fbfbf\">13:21:28 W. Europe Daylight Time </span>status = queued                                \n",
       "</pre>\n"
      ],
      "text/plain": [
       "\u001b[2;36m13:21:28 W. Europe Daylight Time\u001b[0m\u001b[2;36m \u001b[0mstatus = queued                                \n"
      ]
     },
     "metadata": {},
     "output_type": "display_data"
    },
    {
     "data": {
      "text/html": [
       "<pre style=\"white-space:pre;overflow-x:auto;line-height:normal;font-family:Menlo,'DejaVu Sans Mono',consolas,'Courier New',monospace\"><span style=\"color: #7fbfbf; text-decoration-color: #7fbfbf\">                                 </span>To cancel the simulation, use                  \n",
       "<span style=\"color: #7fbfbf; text-decoration-color: #7fbfbf\">                                 </span><span style=\"color: #008000; text-decoration-color: #008000\">'web.abort(task_id)'</span> or <span style=\"color: #008000; text-decoration-color: #008000\">'web.delete(task_id)'</span>  \n",
       "<span style=\"color: #7fbfbf; text-decoration-color: #7fbfbf\">                                 </span>or abort/delete the task in the web UI.        \n",
       "<span style=\"color: #7fbfbf; text-decoration-color: #7fbfbf\">                                 </span>Terminating the Python script will not stop the\n",
       "<span style=\"color: #7fbfbf; text-decoration-color: #7fbfbf\">                                 </span>job running on the cloud.                      \n",
       "</pre>\n"
      ],
      "text/plain": [
       "\u001b[2;36m                                \u001b[0m\u001b[2;36m \u001b[0mTo cancel the simulation, use                  \n",
       "\u001b[2;36m                                 \u001b[0m\u001b[32m'web.abort\u001b[0m\u001b[32m(\u001b[0m\u001b[32mtask_id\u001b[0m\u001b[32m)\u001b[0m\u001b[32m'\u001b[0m or \u001b[32m'web.delete\u001b[0m\u001b[32m(\u001b[0m\u001b[32mtask_id\u001b[0m\u001b[32m)\u001b[0m\u001b[32m'\u001b[0m  \n",
       "\u001b[2;36m                                 \u001b[0mor abort/delete the task in the web UI.        \n",
       "\u001b[2;36m                                 \u001b[0mTerminating the Python script will not stop the\n",
       "\u001b[2;36m                                 \u001b[0mjob running on the cloud.                      \n"
      ]
     },
     "metadata": {},
     "output_type": "display_data"
    },
    {
     "data": {
      "application/vnd.jupyter.widget-view+json": {
       "model_id": "19ccf3959c8844748747dc76a4f5450e",
       "version_major": 2,
       "version_minor": 0
      },
      "text/plain": [
       "Output()"
      ]
     },
     "metadata": {},
     "output_type": "display_data"
    },
    {
     "data": {
      "text/html": [
       "<pre style=\"white-space:pre;overflow-x:auto;line-height:normal;font-family:Menlo,'DejaVu Sans Mono',consolas,'Courier New',monospace\"><span style=\"color: #7fbfbf; text-decoration-color: #7fbfbf\">13:22:13 W. Europe Daylight Time </span>status = preprocess                            \n",
       "</pre>\n"
      ],
      "text/plain": [
       "\u001b[2;36m13:22:13 W. Europe Daylight Time\u001b[0m\u001b[2;36m \u001b[0mstatus = preprocess                            \n"
      ]
     },
     "metadata": {},
     "output_type": "display_data"
    },
    {
     "data": {
      "text/html": [
       "<pre style=\"white-space:pre;overflow-x:auto;line-height:normal;font-family:Menlo,'DejaVu Sans Mono',consolas,'Courier New',monospace\"></pre>\n"
      ],
      "text/plain": []
     },
     "metadata": {},
     "output_type": "display_data"
    },
    {
     "data": {
      "text/html": [
       "<pre style=\"white-space:pre;overflow-x:auto;line-height:normal;font-family:Menlo,'DejaVu Sans Mono',consolas,'Courier New',monospace\"><span style=\"color: #7fbfbf; text-decoration-color: #7fbfbf\">13:22:20 W. Europe Daylight Time </span>Maximum FlexCredit cost: <span style=\"color: #008080; text-decoration-color: #008080; font-weight: bold\">18.728</span>. Use           \n",
       "<span style=\"color: #7fbfbf; text-decoration-color: #7fbfbf\">                                 </span><span style=\"color: #008000; text-decoration-color: #008000\">'web.real_cost(task_id)'</span> to get the billed     \n",
       "<span style=\"color: #7fbfbf; text-decoration-color: #7fbfbf\">                                 </span>FlexCredit cost after a simulation run.        \n",
       "</pre>\n"
      ],
      "text/plain": [
       "\u001b[2;36m13:22:20 W. Europe Daylight Time\u001b[0m\u001b[2;36m \u001b[0mMaximum FlexCredit cost: \u001b[1;36m18.728\u001b[0m. Use           \n",
       "\u001b[2;36m                                 \u001b[0m\u001b[32m'web.real_cost\u001b[0m\u001b[32m(\u001b[0m\u001b[32mtask_id\u001b[0m\u001b[32m)\u001b[0m\u001b[32m'\u001b[0m to get the billed     \n",
       "\u001b[2;36m                                 \u001b[0mFlexCredit cost after a simulation run.        \n"
      ]
     },
     "metadata": {},
     "output_type": "display_data"
    },
    {
     "data": {
      "text/html": [
       "<pre style=\"white-space:pre;overflow-x:auto;line-height:normal;font-family:Menlo,'DejaVu Sans Mono',consolas,'Courier New',monospace\"><span style=\"color: #7fbfbf; text-decoration-color: #7fbfbf\">                                 </span>starting up solver                             \n",
       "</pre>\n"
      ],
      "text/plain": [
       "\u001b[2;36m                                \u001b[0m\u001b[2;36m \u001b[0mstarting up solver                             \n"
      ]
     },
     "metadata": {},
     "output_type": "display_data"
    },
    {
     "data": {
      "text/html": [
       "<pre style=\"white-space:pre;overflow-x:auto;line-height:normal;font-family:Menlo,'DejaVu Sans Mono',consolas,'Courier New',monospace\"><span style=\"color: #7fbfbf; text-decoration-color: #7fbfbf\">                                 </span>running solver                                 \n",
       "</pre>\n"
      ],
      "text/plain": [
       "\u001b[2;36m                                \u001b[0m\u001b[2;36m \u001b[0mrunning solver                                 \n"
      ]
     },
     "metadata": {},
     "output_type": "display_data"
    },
    {
     "data": {
      "application/vnd.jupyter.widget-view+json": {
       "model_id": "a2b8b58d382a42e6adc3d2fc99431ba2",
       "version_major": 2,
       "version_minor": 0
      },
      "text/plain": [
       "Output()"
      ]
     },
     "metadata": {},
     "output_type": "display_data"
    },
    {
     "data": {
      "text/html": [
       "<pre style=\"white-space:pre;overflow-x:auto;line-height:normal;font-family:Menlo,'DejaVu Sans Mono',consolas,'Courier New',monospace\"></pre>\n"
      ],
      "text/plain": []
     },
     "metadata": {},
     "output_type": "display_data"
    },
    {
     "data": {
      "text/html": [
       "<pre style=\"white-space:pre;overflow-x:auto;line-height:normal;font-family:Menlo,'DejaVu Sans Mono',consolas,'Courier New',monospace\">\n",
       "</pre>\n"
      ],
      "text/plain": [
       "\n"
      ]
     },
     "metadata": {},
     "output_type": "display_data"
    },
    {
     "data": {
      "application/vnd.jupyter.widget-view+json": {
       "model_id": "5aba9fb86f2a43199339d6870ce87b3d",
       "version_major": 2,
       "version_minor": 0
      },
      "text/plain": [
       "Output()"
      ]
     },
     "metadata": {},
     "output_type": "display_data"
    },
    {
     "data": {
      "text/html": [
       "<pre style=\"white-space:pre;overflow-x:auto;line-height:normal;font-family:Menlo,'DejaVu Sans Mono',consolas,'Courier New',monospace\"><span style=\"color: #7fbfbf; text-decoration-color: #7fbfbf\">13:38:13 W. Europe Daylight Time </span>status = postprocess                           \n",
       "</pre>\n"
      ],
      "text/plain": [
       "\u001b[2;36m13:38:13 W. Europe Daylight Time\u001b[0m\u001b[2;36m \u001b[0mstatus = postprocess                           \n"
      ]
     },
     "metadata": {},
     "output_type": "display_data"
    },
    {
     "data": {
      "text/html": [
       "<pre style=\"white-space:pre;overflow-x:auto;line-height:normal;font-family:Menlo,'DejaVu Sans Mono',consolas,'Courier New',monospace\"><span style=\"color: #7fbfbf; text-decoration-color: #7fbfbf\">13:39:59 W. Europe Daylight Time </span>status = success                               \n",
       "</pre>\n"
      ],
      "text/plain": [
       "\u001b[2;36m13:39:59 W. Europe Daylight Time\u001b[0m\u001b[2;36m \u001b[0mstatus = success                               \n"
      ]
     },
     "metadata": {},
     "output_type": "display_data"
    },
    {
     "data": {
      "text/html": [
       "<pre style=\"white-space:pre;overflow-x:auto;line-height:normal;font-family:Menlo,'DejaVu Sans Mono',consolas,'Courier New',monospace\"></pre>\n"
      ],
      "text/plain": []
     },
     "metadata": {},
     "output_type": "display_data"
    },
    {
     "data": {
      "text/html": [
       "<pre style=\"white-space:pre;overflow-x:auto;line-height:normal;font-family:Menlo,'DejaVu Sans Mono',consolas,'Courier New',monospace\"><span style=\"color: #7fbfbf; text-decoration-color: #7fbfbf\">                                 </span>View simulation result at                      \n",
       "<span style=\"color: #7fbfbf; text-decoration-color: #7fbfbf\">                                 </span><a href=\"https://tidy3d.simulation.cloud/workbench?taskId=fdve-223450a6-d01b-49fb-aa81-b987b77431c0\" target=\"_blank\"><span style=\"color: #000080; text-decoration-color: #000080; text-decoration: underline\">'https://tidy3d.simulation.cloud/workbench?task</span></a>\n",
       "<span style=\"color: #7fbfbf; text-decoration-color: #7fbfbf\">                                 </span><a href=\"https://tidy3d.simulation.cloud/workbench?taskId=fdve-223450a6-d01b-49fb-aa81-b987b77431c0\" target=\"_blank\"><span style=\"color: #000080; text-decoration-color: #000080; text-decoration: underline\">Id=fdve-223450a6-d01b-49fb-aa81-b987b77431c0'</span></a><span style=\"color: #000080; text-decoration-color: #000080; text-decoration: underline\">.</span> \n",
       "</pre>\n"
      ],
      "text/plain": [
       "\u001b[2;36m                                \u001b[0m\u001b[2;36m \u001b[0mView simulation result at                      \n",
       "\u001b[2;36m                                 \u001b[0m\u001b]8;id=818898;https://tidy3d.simulation.cloud/workbench?taskId=fdve-223450a6-d01b-49fb-aa81-b987b77431c0\u001b\\\u001b[4;34m'https://tidy3d.simulation.cloud/workbench?\u001b[0m\u001b]8;;\u001b\\\u001b]8;id=970935;https://tidy3d.simulation.cloud/workbench?taskId=fdve-223450a6-d01b-49fb-aa81-b987b77431c0\u001b\\\u001b[4;34mtask\u001b[0m\u001b]8;;\u001b\\\n",
       "\u001b[2;36m                                 \u001b[0m\u001b]8;id=970935;https://tidy3d.simulation.cloud/workbench?taskId=fdve-223450a6-d01b-49fb-aa81-b987b77431c0\u001b\\\u001b[4;34mId\u001b[0m\u001b]8;;\u001b\\\u001b]8;id=818898;https://tidy3d.simulation.cloud/workbench?taskId=fdve-223450a6-d01b-49fb-aa81-b987b77431c0\u001b\\\u001b[4;34m=\u001b[0m\u001b]8;;\u001b\\\u001b]8;id=764829;https://tidy3d.simulation.cloud/workbench?taskId=fdve-223450a6-d01b-49fb-aa81-b987b77431c0\u001b\\\u001b[4;34mfdve\u001b[0m\u001b]8;;\u001b\\\u001b]8;id=818898;https://tidy3d.simulation.cloud/workbench?taskId=fdve-223450a6-d01b-49fb-aa81-b987b77431c0\u001b\\\u001b[4;34m-223450a6-d01b-49fb-aa81-b987b77431c0'\u001b[0m\u001b]8;;\u001b\\\u001b[4;34m.\u001b[0m \n"
      ]
     },
     "metadata": {},
     "output_type": "display_data"
    }
   ],
   "source": [
    "if True:\n",
    "\n",
    "        sim_name = f\"RCP_d_t_Localization {a/lambdas[0]:.3g} - {a/lambdas[1]:.3g} - Sample_{0} Perm Background 13 400 absorbers\"\n",
    "        id =web.upload(sim, folder_name=project_name,task_name=sim_name, verbose=True)\n",
    "        web.start(task_id = id)\n",
    "        web.monitor(task_id=id,verbose=True)\n",
    "        ids = '\\n' + id\n",
    "        incidence_folder = \"z_incidence\"\n",
    "        file_path = f\"data/{project_name}/{incidence_folder}/{sim_name}.txt\"\n",
    "        # Check if the folder exists\n",
    "        if not os.path.exists( f\"data/{project_name}/{incidence_folder}\"):\n",
    "            os.makedirs(f\"data/{project_name}/{incidence_folder}\")\n",
    "            print(f\"Folder '{project_name}/{incidence_folder}' created successfully.\")\n",
    "\n",
    "        # Open file in write mode\n",
    "        with open(file_path, \"w\") as file:\n",
    "            # Write the string to the file\n",
    "            file.write(ids)"
   ]
  },
  {
   "cell_type": "code",
   "execution_count": 27,
   "metadata": {},
   "outputs": [],
   "source": [
    "# #Tight pulse \n",
    "# a=5/3\n",
    "# lambdas =  a/np.array([0.362,0.372])\n",
    "# folder_path =r\"H:\\phd stuff\\structures\\\\18.01a\\\\sample 1\"\n",
    "# project_name = r\"RCP Tight pulse 0.362-0.372 nu 72x72x18\"\n",
    "# runtime = 60\n",
    "# min_steps_per_lambda = 20\n",
    "# for direction in [\"z\"]: \n",
    "#     for filename in os.listdir(folder_path):\n",
    "#      for cutting in [1.0]:\n",
    "#         print(filename)\n",
    "#         if not (Path(filename).suffix==\".h5\"):\n",
    "#             continue \n",
    "#         if os.path.isfile(os.path.join(folder_path, filename)):\n",
    "#             file=os.path.join(folder_path, filename)\n",
    "#             structure_1 = AM.loadAndRunStructure(key = tidy3dAPI, file_path=file\n",
    "#                                             ,direction=direction, lambda_range=lambdas,\n",
    "#                                             box_size=18.01*a,runtime=runtime,min_steps_per_lambda=min_steps_per_lambda,\n",
    "#                                            scaling=1,shuoff_condtion=1e-20, verbose=True,\n",
    "#                                            monitors=[\"flux\",\"time_monitorFieldOut\",\"time_monitorFieldCenter\"],\n",
    "#                                            freqs=5, \n",
    "#                                            cut_condition=cutting, source=\"tight\", \n",
    "#                                            multiplicate_size=True, multiplication_factor=4,\n",
    "#                                            width=0.25,\n",
    "#                                            tight_percentage=0.05\n",
    "#                                            )\n",
    "           \n",
    "#             print(structure_1.__str__())\n",
    "#             #structure_1.plot_sim_layout()\n",
    "#             results = structure_1.run_sim(folder_description=project_name,load=False,run_free=False, run=True,add_ref=False)\n"
   ]
  },
  {
   "cell_type": "code",
   "execution_count": 28,
   "metadata": {},
   "outputs": [],
   "source": [
    "# #Tight pulse \n",
    "# a=5/3\n",
    "# lambdas =  a/np.array([0.432,0.442])\n",
    "# folder_path =r\"H:\\phd stuff\\structures\\\\18.01a\\\\sample 1\"\n",
    "# project_name = r\"RCP Tight pulse 0.432-0.442 nu 72x72x18\"\n",
    "# runtime = 55\n",
    "# min_steps_per_lambda = 20\n",
    "# for direction in [\"z\"]: \n",
    "#     for filename in os.listdir(folder_path):\n",
    "#      for cutting in [1.0]:\n",
    "#         print(filename)\n",
    "#         if not (Path(filename).suffix==\".h5\"):\n",
    "#             continue \n",
    "#         if os.path.isfile(os.path.join(folder_path, filename)):\n",
    "#             file=os.path.join(folder_path, filename)\n",
    "#             structure_1 = AM.loadAndRunStructure(key = tidy3dAPI, file_path=file\n",
    "#                                             ,direction=direction, lambda_range=lambdas,\n",
    "#                                             box_size=18.01*a,runtime=runtime,min_steps_per_lambda=min_steps_per_lambda,\n",
    "#                                            scaling=1,shuoff_condtion=1e-20, verbose=True,\n",
    "#                                            monitors=[\"flux\",\"time_monitorFieldOut\",\"time_monitorFieldCenter\"],\n",
    "#                                            freqs=5, \n",
    "#                                            cut_condition=cutting, source=\"tight\", \n",
    "#                                            multiplicate_size=True, multiplication_factor=4,\n",
    "#                                            width=0.25,\n",
    "#                                            tight_percentage=0.05\n",
    "#                                            )\n",
    "           \n",
    "#             print(structure_1.__str__())\n",
    "#             #structure_1.plot_sim_layout()\n",
    "#             results = structure_1.run_sim(folder_description=project_name,load=False,run_free=False, run=True,add_ref=False)\n"
   ]
  },
  {
   "cell_type": "code",
   "execution_count": null,
   "metadata": {},
   "outputs": [],
   "source": []
  }
 ],
 "metadata": {
  "kernelspec": {
   "display_name": "Python 3",
   "language": "python",
   "name": "python3"
  },
  "language_info": {
   "codemirror_mode": {
    "name": "ipython",
    "version": 3
   },
   "file_extension": ".py",
   "mimetype": "text/x-python",
   "name": "python",
   "nbconvert_exporter": "python",
   "pygments_lexer": "ipython3",
   "version": "3.12.4"
  }
 },
 "nbformat": 4,
 "nbformat_minor": 2
}
