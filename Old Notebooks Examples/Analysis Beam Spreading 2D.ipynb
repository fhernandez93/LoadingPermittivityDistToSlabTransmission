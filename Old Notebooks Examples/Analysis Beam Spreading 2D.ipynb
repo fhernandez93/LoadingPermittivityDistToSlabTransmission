{
 "cells": [
  {
   "cell_type": "code",
   "execution_count": null,
   "metadata": {},
   "outputs": [],
   "source": [
    "%load_ext autoreload\n",
    "%autoreload 2\n",
    "%matplotlib inline\n",
    "import scipy.io as sio\n",
    "from dataclasses import dataclass\n",
    "from typing import List, Tuple\n",
    "import os\n",
    "from dotenv import load_dotenv\n",
    "load_dotenv()\n",
    "import tidy3d as td\n",
    "from tidy3d import web\n",
    "import numpy as np\n",
    "from pathlib import Path\n",
    "import matplotlib.pyplot as plt\n",
    "import AutomationModule as AM\n",
    "from scipy.optimize import curve_fit\n",
    "from natsort import natsorted\n",
    "import numpy as np\n",
    "import matplotlib.animation as animation\n",
    "import xarray as xr\n",
    "import imageio\n",
    "import matplotlib\n",
    "import gc\n",
    "\n",
    "tidy3dAPI = os.environ[\"API_TIDY3D_KEY\"]"
   ]
  },
  {
   "cell_type": "code",
   "execution_count": null,
   "metadata": {},
   "outputs": [],
   "source": [
    "import AutomationModule as AM\n",
    "#structure_1 = AM.loadFromFile(key = tidy3dAPI, file_path=\"data/chi 0.3 N1000 Sample Beam Spreading Larger Space Absorber Conditions 2/z_incidence/pnas_d_t_Localization 0.12 - 0.15 - Sample_0.txt\")\n",
    "#structure_1 = AM.loadFromFile(key = tidy3dAPI, file_path=\"data/chi 0.3 N1000 Sample Beam Spreading Larger Space Absorber Conditions 2/z_incidence/pnas_d_t_Localization 0.28 - 0.31 - Sample_0.txt\")\n",
    "structure_1 = AM.loadFromFile(key = tidy3dAPI, file_path=\"data/chi 0.3 N1000 Sample Beam Spreading Larger Space Absorber Conditions/z_incidence/pnas_d_t_Localization 0.28 - 0.31 - Sample_0.txt\")"
   ]
  },
  {
   "cell_type": "code",
   "execution_count": null,
   "metadata": {},
   "outputs": [],
   "source": [
    "structure_1.sim_data.simulation.sources"
   ]
  },
  {
   "cell_type": "code",
   "execution_count": null,
   "metadata": {},
   "outputs": [],
   "source": [
    "def create_movie(field_time_out, monitor_lambdas,name='',type='t',log=False,path=\"\",frames_per_second=1,rem_frames=False, normalize=True):\n",
    "    frames = []\n",
    "\n",
    "    max_values = field_time_out.max(axis=(0,1,2)) if normalize else 1\n",
    "\n",
    "    field_time_out = field_time_out/max_values\n",
    "   \n",
    "\n",
    "    if log:\n",
    "        field_log = np.log10((field_time_out))\n",
    "        folder_pics = \"logPics\"\n",
    "        \n",
    "    else:\n",
    "        field_log = ((field_time_out))\n",
    "        folder_pics = \"linPics\"\n",
    "\n",
    "    if not os.path.exists(f'{path}/{folder_pics}'):\n",
    "            os.makedirs(f'{path}/{folder_pics}')\n",
    "            print(f\"Folder {path}/{folder_pics} created successfully.\")\n",
    "\n",
    "    for i, time in enumerate(field_time_out.t):\n",
    "        if os.path.isfile(f'{path}/{folder_pics}/frame_{i}.png'):\n",
    "            frames.append(f'{path}/{folder_pics}/frame_{i}.png')\n",
    "            continue\n",
    "        try:\n",
    "            fig, ax = plt.subplots(figsize=(14/2, 18/2))\n",
    "            if type==\"t\":\n",
    "                pcolormesh = (field_log).isel(t=i).squeeze().plot.pcolormesh(ax=ax,cmap=\"plasma\")\n",
    "            else:\n",
    "                pcolormesh = (field_log).isel(f=i).squeeze().plot.pcolormesh(ax=ax,cmap=\"plasma\")\n",
    "\n",
    "            ax.set_aspect('auto', adjustable='box')\n",
    "            plt.ylim(-50,50)\n",
    "            try:\n",
    "                plt.title(f'Time: {str(np.array(field_time_out['t'][()][i])*1e12)} ps')\n",
    "            except:\n",
    "                plt.title(f'$\\\\nu$: {(1/np.array(td.C_0/field_time_out['f'][()][i])):.4g}')\n",
    "\n",
    "\n",
    "            # Save the frame\n",
    "            plt.savefig(f'{path}/{folder_pics}/frame_{i}.png')\n",
    "            plt.close(fig)\n",
    "            frames.append(f'{path}/{folder_pics}/frame_{i}.png')\n",
    "        except:\n",
    "            break\n",
    "\n",
    "        fig.clf()\n",
    "        plt.close()\n",
    "        del pcolormesh\n",
    "        gc.collect()\n",
    "        \n",
    "\n",
    "    name_movie = f'{path}/{name}.mp4' if name else f'output/anderson/d(t) analysis/Diameter d(t) at output of the structure Range - {monitor_lambdas[0]:.3g} - {monitor_lambdas[-1]:.3g}.mp4'\n",
    "    with imageio.get_writer(name_movie, fps=frames_per_second) as writer:\n",
    "        for frame in frames:\n",
    "            image = imageio.imread(frame)\n",
    "            writer.append_data(image)\n",
    "\n",
    "    # Optionally, remove the individual frames if no longer needed\n",
    "    if rem_frames:\n",
    "        for frame in frames:\n",
    "            os.remove(frame)\n",
    "    \n",
    "    return False"
   ]
  },
  {
   "cell_type": "code",
   "execution_count": null,
   "metadata": {},
   "outputs": [],
   "source": [
    "a=1\n",
    "#lambdas =  a/np.array([0.12,0.15])\n",
    "lambdas =  a/np.array([0.28,0.31])"
   ]
  },
  {
   "cell_type": "code",
   "execution_count": null,
   "metadata": {},
   "outputs": [],
   "source": [
    "\n",
    "field_time_out = structure_1.sim_data.get_intensity(\"time_monitorFieldOut\")\n",
    "del structure_1\n"
   ]
  },
  {
   "cell_type": "code",
   "execution_count": null,
   "metadata": {},
   "outputs": [],
   "source": [
    "font = {\n",
    "        'weight' : 'bold',\n",
    "        'size'   : 6}\n",
    "\n",
    "matplotlib.rc('font', **font)\n",
    "create_movie(field_time_out,a/lambdas,name=f\"timemonitor {a/lambdas[0]:.3g} - {a/lambdas[-1]:.3g}\",type=\"t\",log=False,path=f\"output/2D SHU/Beam Spreading Chi 0.3 N10000\",frames_per_second=10)"
   ]
  },
  {
   "cell_type": "code",
   "execution_count": null,
   "metadata": {},
   "outputs": [],
   "source": [
    "create_movie(field_time_out,a/lambdas,name=f\"timemonitorlog {a/lambdas[0]:.3g} - {a/lambdas[-1]:.3g}\",type=\"t\",log=True,path=f\"output/2D SHU/Beam Spreading Chi 0.3 N10000\",frames_per_second=10)\n"
   ]
  },
  {
   "cell_type": "code",
   "execution_count": null,
   "metadata": {},
   "outputs": [],
   "source": []
  }
 ],
 "metadata": {
  "kernelspec": {
   "display_name": "Python 3",
   "language": "python",
   "name": "python3"
  },
  "language_info": {
   "codemirror_mode": {
    "name": "ipython",
    "version": 3
   },
   "file_extension": ".py",
   "mimetype": "text/x-python",
   "name": "python",
   "nbconvert_exporter": "python",
   "pygments_lexer": "ipython3",
   "version": "3.12.4"
  }
 },
 "nbformat": 4,
 "nbformat_minor": 2
}
