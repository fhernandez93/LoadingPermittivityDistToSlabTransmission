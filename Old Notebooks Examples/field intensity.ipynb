{
 "cells": [
  {
   "cell_type": "code",
   "execution_count": null,
   "metadata": {},
   "outputs": [],
   "source": [
    "import os\n",
    "from dotenv import load_dotenv\n",
    "load_dotenv()\n",
    "\n",
    "import matplotlib.pyplot as plt\n",
    "import AutomationModule as AM\n",
    "from tidy3d import web\n",
    "import tidy3d as td\n",
    "import numpy as np"
   ]
  },
  {
   "cell_type": "code",
   "execution_count": null,
   "metadata": {},
   "outputs": [],
   "source": [
    "tidy3dAPI = os.environ[\"API_TIDY3D_KEY\"]"
   ]
  },
  {
   "cell_type": "code",
   "execution_count": null,
   "metadata": {},
   "outputs": [],
   "source": [
    "#AM.loadFromFile(key = tidy3dAPI, file_path=\"data/RCP Sample 1 Long Run With Tight Pulse/z_incidence/01_Sample_600_res_L18.01_28ff_eps_eps_12.960000038146973_size_18_runtime_10_lambdaRange_2.25-1.95_incidence_z.txt\")"
   ]
  },
  {
   "cell_type": "code",
   "execution_count": null,
   "metadata": {},
   "outputs": [],
   "source": [
    "sim_data = td.SimulationData.from_hdf5(\"output/data/RCP Sample 1 Long Run With Tight Pulse/z_incidence/01_Sample_600_res_L18.01_28ff_eps_eps_12.960000038146973_size_18_runtime_10_lambdaRange_2.25-1.95_incidence_z.txt/Data.hdf5\")"
   ]
  },
  {
   "cell_type": "code",
   "execution_count": null,
   "metadata": {},
   "outputs": [],
   "source": [
    "field_time = sim_data.get_intensity(\"time_monitorField\")"
   ]
  },
  {
   "cell_type": "code",
   "execution_count": null,
   "metadata": {},
   "outputs": [],
   "source": [
    "sim_data = \"\""
   ]
  },
  {
   "cell_type": "code",
   "execution_count": null,
   "metadata": {},
   "outputs": [],
   "source": [
    "field_time_intensity = np.log10(field_time)"
   ]
  },
  {
   "cell_type": "code",
   "execution_count": null,
   "metadata": {},
   "outputs": [],
   "source": [
    "for i,time in enumerate(field_time['t']):\n",
    "    (field_time_intensity).isel(t=i,z=400).squeeze().plot.pcolormesh()\n",
    "    plt.show()\n",
    "\n",
    "\n"
   ]
  },
  {
   "cell_type": "code",
   "execution_count": null,
   "metadata": {},
   "outputs": [],
   "source": []
  }
 ],
 "metadata": {
  "kernelspec": {
   "display_name": "Python 3",
   "language": "python",
   "name": "python3"
  },
  "language_info": {
   "codemirror_mode": {
    "name": "ipython",
    "version": 3
   },
   "file_extension": ".py",
   "mimetype": "text/x-python",
   "name": "python",
   "nbconvert_exporter": "python",
   "pygments_lexer": "ipython3",
   "version": "3.12.3"
  }
 },
 "nbformat": 4,
 "nbformat_minor": 2
}
