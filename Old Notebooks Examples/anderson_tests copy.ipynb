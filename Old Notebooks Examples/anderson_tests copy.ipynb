{
 "cells": [
  {
   "cell_type": "code",
   "execution_count": null,
   "metadata": {},
   "outputs": [],
   "source": [
    "%load_ext autoreload\n",
    "%autoreload 2\n",
    "%matplotlib inline\n",
    "import scipy.io as sio\n",
    "from dataclasses import dataclass\n",
    "from typing import List, Tuple\n",
    "import os\n",
    "from dotenv import load_dotenv\n",
    "load_dotenv()\n",
    "import tidy3d as td\n",
    "from tidy3d import web\n",
    "import numpy as np\n",
    "from pathlib import Path\n",
    "import matplotlib.pyplot as plt\n",
    "import AutomationModule as AM"
   ]
  },
  {
   "cell_type": "code",
   "execution_count": null,
   "metadata": {},
   "outputs": [],
   "source": [
    "tidy3dAPI = os.environ[\"API_ABRAHAM\"]"
   ]
  },
  {
   "cell_type": "code",
   "execution_count": null,
   "metadata": {},
   "outputs": [],
   "source": [
    "folder_path =\"d:\\phd stuff\\structures\\\\18.01a\"\n",
    "project_name = \"chi_test\"\n",
    "postprocess_results = []\n",
    "runtime = 800\n",
    "min_steps_per_lambda = 45\n",
    "for direction in [\"z\"]: \n",
    "    for filename in os.listdir(folder_path):\n",
    "        print(filename)\n",
    "        if not (Path(filename).suffix==\".h5\"):\n",
    "            continue \n",
    "        if os.path.isfile(os.path.join(folder_path, filename)):\n",
    "            file=os.path.join(folder_path, filename)\n",
    "            structure_1 = AM.loadAndRunStructure(key = tidy3dAPI, file_path=file\n",
    "                                            ,direction=direction, lambda_range=[0.25,0.15],\n",
    "                                            box_size=1.801,runtime=runtime,min_steps_per_lambda=min_steps_per_lambda,\n",
    "                                           scaling=1,shuoff_condtion=1e-12, verbose=True, monitors=[\"flux\"])\n",
    "            \n",
    "           \n",
    "            print(structure_1.__str__())\n",
    "            structure_1.plot_sim_layout()\n",
    "            #print(structure_1.estimate_cost())\n",
    "            \n",
    "            results = structure_1.run_sim(folder_description=project_name,load=True,run_free=False)\n",
    "            \n",
    "\n",
    "            sim_data, sim_data0, task_name_def = results\n",
    "\n",
    "\n",
    "            \n"
   ]
  },
  {
   "cell_type": "code",
   "execution_count": null,
   "metadata": {},
   "outputs": [],
   "source": [
    " # #Plot flux\n",
    "#Retrieve the power flux through the monitor plane.\n",
    "transmission0 = sim_data0['flux1'].flux\n",
    "transmission = sim_data['flux1'].flux\n",
    "transmission_normalized = transmission / transmission0\n",
    "transmission_flux_right = sim_data['flux1'].flux\n",
    "transmission_flux_left = sim_data['flux2'].flux\n",
    "monitor_lambdas = td.C_0/np.array(np.array(sim_data.simulation.monitors)[0].freqs)\n",
    "plt.semilogy(monitor_lambdas, (transmission_flux_left/transmission0), label='Left Monitor')\n",
    "plt.semilogy(monitor_lambdas, (transmission_flux_right/transmission0), label='Right Monitor')\n",
    "plt.xlabel('$\\lambda (\\mu m)$')\n",
    "plt.ylabel('T')\n",
    "plt.legend()\n",
    "plt.grid()\n",
    "plt.show()"
   ]
  },
  {
   "cell_type": "code",
   "execution_count": null,
   "metadata": {},
   "outputs": [],
   "source": [
    "int_half = sim_data.get_intensity(\"time_monitorH\")\n",
    "int_end = sim_data.get_intensity(\"time_monitorFinal\")\n",
    "flux_f = sim_data[\"flux1\"].flux\n",
    "flux_t = sim_data[\"time_monitorT\"].flux"
   ]
  },
  {
   "cell_type": "code",
   "execution_count": null,
   "metadata": {},
   "outputs": [],
   "source": [
    "def take_log(intensity):\n",
    "        return np.log10(intensity / np.max(intensity)+1e-2)"
   ]
  },
  {
   "cell_type": "code",
   "execution_count": null,
   "metadata": {},
   "outputs": [],
   "source": [
    "#f, ((ax1, ax2)) = plt.subplots(1, 2, tight_layout=True)\n",
    "#flux_f.plot(ax=ax1)\n",
    "#flux_t.plot(ax=ax2)\n",
    "\n",
    "take_log(int_half).interp(z=0).squeeze().plot.pcolormesh()\n",
    "plt.show()\n",
    "take_log(int_end).interp(z=0).squeeze().plot.pcolormesh()\n",
    "plt.show()\n"
   ]
  },
  {
   "cell_type": "code",
   "execution_count": null,
   "metadata": {},
   "outputs": [],
   "source": [
    "fig = plt.figure()\n",
    "ax = plt.gca()\n",
    "ax.scatter(flux_t['t'],flux_t)\n",
    "plt.ylabel(\"Flux\")\n",
    "plt.xlabel(\"Time[ps]\")\n",
    "#plt.ylim(1e-17,1e-1)\n",
    "ax.set_yscale(\"log\")"
   ]
  },
  {
   "cell_type": "code",
   "execution_count": null,
   "metadata": {},
   "outputs": [],
   "source": []
  }
 ],
 "metadata": {
  "kernelspec": {
   "display_name": "Python 3",
   "language": "python",
   "name": "python3"
  },
  "language_info": {
   "codemirror_mode": {
    "name": "ipython",
    "version": 3
   },
   "file_extension": ".py",
   "mimetype": "text/x-python",
   "name": "python",
   "nbconvert_exporter": "python",
   "pygments_lexer": "ipython3",
   "version": "3.12.3"
  }
 },
 "nbformat": 4,
 "nbformat_minor": 2
}
