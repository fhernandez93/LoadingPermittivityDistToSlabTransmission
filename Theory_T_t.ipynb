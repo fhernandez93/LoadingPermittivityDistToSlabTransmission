{
 "cells": [
  {
   "cell_type": "code",
   "execution_count": null,
   "metadata": {},
   "outputs": [],
   "source": [
    "import numpy as np \n",
    "import matplotlib.pyplot as plt\n",
    "from numpy import empty\n"
   ]
  },
  {
   "cell_type": "code",
   "execution_count": null,
   "metadata": {},
   "outputs": [],
   "source": [
    "Db = lambda l:3e2*l/3\n",
    "a=5/3\n",
    "l = 1.12*a #fitted value \n",
    "z0 = 3.25*a\n",
    "nu = 0.418\n",
    "\n",
    "#Let's calculate  adjusted values\n",
    "k =  2*np.pi*(nu/(a))\n",
    "\n",
    "kl = k*l/4.1\n",
    "l_adjusted = kl/k\n",
    "Db1 = Db(l_adjusted)\n",
    "adjusted_xi = 6*l_adjusted*(k*l_adjusted)**2/(1-(k*l_adjusted)**4)"
   ]
  },
  {
   "cell_type": "code",
   "execution_count": null,
   "metadata": {},
   "outputs": [],
   "source": [
    "adjusted_xi"
   ]
  },
  {
   "cell_type": "code",
   "execution_count": null,
   "metadata": {},
   "outputs": [],
   "source": [
    "kl"
   ]
  },
  {
   "cell_type": "code",
   "execution_count": null,
   "metadata": {},
   "outputs": [],
   "source": [
    "#Anderson\n",
    "def alpha_star(Db,xi,L):\n",
    "    return (Db/xi**2)*np.exp(-L/xi)\n",
    "\n",
    "def trans_t(t,alpha,z0,L,D,td=1,p=0.5,s=0.85): \n",
    "    \n",
    "    A = ((L+2*z0)**2/np.pi**2)\n",
    "   \n",
    "\n",
    "    B = (alpha*td)**(s+1)*np.exp(-alpha*t+1)*(t*alpha)**-(p+1)\n",
    "\n",
    "    return B**(D*td/A)"
   ]
  },
  {
   "cell_type": "code",
   "execution_count": null,
   "metadata": {},
   "outputs": [],
   "source": [
    "times = np.linspace(2.1,150,200)\n",
    "for i in  np.array([0.3]):\n",
    "    plt.figure(figsize=(15, 10))\n",
    "    L = i*18.01*a\n",
    "    alpha = alpha_star(Db1,adjusted_xi,L)\n",
    "    transmission_anderson = [trans_t(t,alpha,z0,L,Db1,2.1) for t in times]\n",
    "    #transmission_diffusive = Db1/(np.pi*L**2)*((np.pi*L/(L+2*z0))**2)*np.sin(np.pi*L/(L+2*z0))*(np.exp(-(times)*np.pi**2*Db1/(L + 2*z0)**2))\n",
    "    transmission_diffusive = (np.exp(-(times)*(Db1)*(np.pi**2)/(L + 2*z0)**2))\n",
    "    plt.plot(times,(transmission_anderson/np.max(transmission_anderson)),\"o\", label=f\"Anderson\")\n",
    "    #plt.plot(times,(transmission_diffusive/np.max(transmission_diffusive)),\"o\", label=f\"Diffusive\")\n",
    "    plt.ylabel(\"Log(T(t))\")\n",
    "    plt.xlabel(\"Time\")\n",
    "    plt.title(f\"Theoretical values T(t) L'={i}L\")\n",
    "    plt.legend()\n",
    "    plt.yscale(\"log\")\n",
    "    plt.grid()\n",
    "    plt.show()\n",
    "    \n"
   ]
  },
  {
   "cell_type": "code",
   "execution_count": null,
   "metadata": {},
   "outputs": [],
   "source": []
  }
 ],
 "metadata": {
  "kernelspec": {
   "display_name": "Python 3",
   "language": "python",
   "name": "python3"
  },
  "language_info": {
   "codemirror_mode": {
    "name": "ipython",
    "version": 3
   },
   "file_extension": ".py",
   "mimetype": "text/x-python",
   "name": "python",
   "nbconvert_exporter": "python",
   "pygments_lexer": "ipython3",
   "version": "3.12.4"
  }
 },
 "nbformat": 4,
 "nbformat_minor": 2
}
